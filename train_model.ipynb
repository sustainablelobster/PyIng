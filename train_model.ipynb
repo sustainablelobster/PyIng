{
 "cells": [
  {
   "cell_type": "markdown",
   "metadata": {
    "collapsed": true,
    "pycharm": {
     "name": "#%% md\n"
    }
   },
   "source": [
    "# Ingredient Parsing using Tensorflow\n",
    "\n",
    "\n",
    "In this notebook I train and save a model for extracting relevant information from ingredient strings e.g. \"3 very ripe tomatoes\". The model is trained in tensorflow and using data from the NYTimes (see readme for link).\n",
    "\n",
    "The model has a single input but is trained to predict the position of the name of the ingredient in the string, the position of the unit, the quantity and also the number of decimals in the quantity.\n",
    "\n",
    "These 4 outputs are optimized simultaneously, with each seperate loss function combined before being fed into the Adam optimizer. I have had to adjust the relative weights of these loss functions in order to ensure the model does not overfit to a specific task.\n",
    "\n",
    "NOTE: Tensorflow version 2.5 has been used as this is compatible with TFLite 2.5. You will get errors saving the trained model if you do not use these versions.\n",
    "\n",
    "### Model Input: \n",
    "\n",
    "\"2 tablespoons and 1 teaspoon of white sugar\" -> \n",
    "Remove punctuation ->\n",
    "Word Vectorisation -> \n",
    "\n",
    "[3, 12, 456, 34, 2304, 304, 78, 6529, 489]\n",
    "\n",
    "Padding to longest sequence -> \n",
    "\n",
    "[3, 12, 456, 34, 2304, 304, 78, 6529, 489, 0, 0, 0, ..., 0]\n",
    "\n",
    "### Label:\n",
    "\n",
    "[\n",
    "\n",
    "    [\n",
    "        [0 0 0 0 0 0 1 1],      Ingredient Binary Mask\n",
    "        [0 0 0 0 1 0 0 0]       Unit Binary Mask\n",
    "    ],\n",
    "    [\n",
    "        7.0,                    Quantity Scalar\n",
    "    ],\n",
    "    \n",
    "    [\n",
    "        [1, 0, 0]               One hot array to indicate the number of decimal places\n",
    "    ]\n",
    "]\n",
    "\n",
    "\n",
    "### Model:\n",
    "\n",
    "Embedding Layer (pretrained Glove Embeddings)\n",
    "\n",
    "LSTM layers\n",
    "\n",
    "Dense Layers\n",
    "\n",
    "\n",
    "#### Model Tail 1:\n",
    "Loss: Binary Crossentropy\n",
    "\n",
    "Metrics: F1 score for unit and name seperatly\n",
    "\n",
    "Used as a binary classifier on the input ingredient sentence, where each word is classified for it being an ingredient or not an ingredient. The same is done for the unit and the outputs are stacked:\n",
    "\n",
    "Given \"2 tablespoons and 1 teaspoon of white sugar\" it will return [0 0 0 0 0 0 1 1] in the first row to indicate the ingredient and [0 0 0 0 1 0 0 0] in the second dimension to indicate unit.\n",
    "\n",
    "#### Model Tail 2:\n",
    "Loss: Huber Loss\n",
    "\n",
    "Metrics: MSE for the quantity \n",
    "\n",
    "Used for a regression on the embedding of the last dense layer, to predict the quantity of the ingredient. \n",
    "\n",
    "#### Model Tail 3:\n",
    "Loss: Categorical Cross-entropy\n",
    "\n",
    "Metrics: MSE for the quantity and range end seperatly\n",
    "\n",
    "Used to predict if the quantity is an integerm has one decimal place or 2 more decimal places - this is used to round the output appropriatly.\n",
    "\n",
    "## Data Loading\n",
    "\n"
   ]
  },
  {
   "cell_type": "code",
   "execution_count": 26,
   "metadata": {
    "pycharm": {
     "name": "#%%\n"
    }
   },
   "outputs": [
    {
     "name": "stdout",
     "output_type": "stream",
     "text": [
      "<class 'pandas.core.frame.DataFrame'>\n",
      "Int64Index: 179207 entries, 0 to 179206\n",
      "Data columns (total 5 columns):\n",
      " #   Column     Non-Null Count   Dtype \n",
      "---  ------     --------------   ----- \n",
      " 0   input      179063 non-null  object\n",
      " 1   name       178759 non-null  object\n",
      " 2   qty        179207 non-null  object\n",
      " 3   range_end  173986 non-null  object\n",
      " 4   unit       123082 non-null  object\n",
      "dtypes: object(5)\n",
      "memory usage: 8.2+ MB\n"
     ]
    }
   ],
   "source": [
    "import pandas as pd\n",
    "\n",
    "# Load in the labelled ingredient data provided by NYT\n",
    "\n",
    "ing_df = pd.read_csv(\"nyt-ingredients-snapshot-2015.csv\", index_col=\"index\", dtype={'input': object, \"name\": object, \"qty\": object, \"range_end\": object, \"unit\": object})\n",
    "\n",
    "# Drop the columns not needed\n",
    "ing_df.drop([\"comment\"], axis=1, inplace=True)\n",
    "ing_df.info()\n",
    "\n"
   ]
  },
  {
   "cell_type": "markdown",
   "metadata": {},
   "source": [
    "## Preprocessing\n",
    "\n",
    "A few bits of preprocessing need to happen to the data first\n",
    "\n",
    "1. Data Cleaning\n",
    "- Removing punctuation except for . and , as these are common and have contextual meaning\n",
    "- making . and , seperate words\n",
    "- Checking that for each row in the dataset the name of the ingredient and the unit are in the input (these are given seperately)\n",
    "- Removing null inputs (where there is no entry for the input and``  ingredient)\n",
    "- Dropping rows that dont have a quantity\n",
    "- replacing nan values in the unit column with 0's\n",
    "\n",
    "2. Creating labels\n",
    "- Converting the data to the relevant output (regexp)\n",
    "- Dropping rows that havent matched to the regexp or dont contain a label"
   ]
  },
  {
   "cell_type": "code",
   "execution_count": 27,
   "metadata": {
    "pycharm": {
     "name": "#%%\n"
    }
   },
   "outputs": [
    {
     "name": "stdout",
     "output_type": "stream",
     "text": [
      "After removing na values in the name an input, the length of the df is now 178668\n",
      "After removing rows where the name or the input contain commas or full stops, the length of the df is now 174983\n"
     ]
    }
   ],
   "source": [
    "import numpy as np\n",
    "import re\n",
    "# Check if the name column has any punctuation - It does have a few rows that have way too much information, I will remove these\n",
    "def check_if_punct(string: str):\n",
    "    b = True\n",
    "    punc_regexp = r\"[.,]\"\n",
    "    match = re.search(punc_regexp, string)\n",
    "    if match:\n",
    "        b = np.nan\n",
    "    return b\n",
    "\n",
    "# Remove rows that dont have the required fields\n",
    "ing_df.dropna(subset=['input', \"name\"], inplace=True)\n",
    "print(f\"After removing na values in the name an input, the length of the df is now {len(ing_df)}\")\n",
    "\n",
    "# Convert all the string columns to strings\n",
    "for col in ['input', 'name', 'unit', \"qty\"]:\n",
    "    ing_df[col] = ing_df[col].apply(str)\n",
    "    \n",
    "# Replace all na values in the qty column with 0\n",
    "ing_df[\"qty\"] = ing_df[\"qty\"].fillna(\"0\")\n",
    "ing_df[\"range_end\"] = ing_df[\"range_end\"].fillna(\"0\")\n",
    "\n",
    "ing_df['name_no_punct'] = ing_df['name'].apply(check_if_punct)\n",
    "\n",
    "# Remove rows that have punctuation in the\n",
    "ing_df.dropna(subset=[\"name_no_punct\"], inplace=True)\n",
    "print(f\"After removing rows where the name or the input contain commas or full stops, the length of the df is now {len(ing_df)}\")"
   ]
  },
  {
   "cell_type": "markdown",
   "metadata": {},
   "source": [
    "The above shows that the filter is working and that rows are being removed. It is also good to see that this filter does not drastically affect the number of rows.\n",
    "\n",
    "After all the filters have been compelted, then I will manually review subsets of the data to see if there are any further issues or things that have slipped through the net."
   ]
  },
  {
   "cell_type": "code",
   "execution_count": 28,
   "metadata": {
    "pycharm": {
     "name": "#%%\n"
    }
   },
   "outputs": [
    {
     "data": {
      "text/html": [
       "<div>\n",
       "<style scoped>\n",
       "    .dataframe tbody tr th:only-of-type {\n",
       "        vertical-align: middle;\n",
       "    }\n",
       "\n",
       "    .dataframe tbody tr th {\n",
       "        vertical-align: top;\n",
       "    }\n",
       "\n",
       "    .dataframe thead th {\n",
       "        text-align: right;\n",
       "    }\n",
       "</style>\n",
       "<table border=\"1\" class=\"dataframe\">\n",
       "  <thead>\n",
       "    <tr style=\"text-align: right;\">\n",
       "      <th></th>\n",
       "      <th>input</th>\n",
       "      <th>name</th>\n",
       "      <th>qty</th>\n",
       "      <th>range_end</th>\n",
       "      <th>unit</th>\n",
       "      <th>name_no_punct</th>\n",
       "      <th>input_parsed</th>\n",
       "      <th>name_parsed</th>\n",
       "      <th>unit_parsed</th>\n",
       "    </tr>\n",
       "    <tr>\n",
       "      <th>index</th>\n",
       "      <th></th>\n",
       "      <th></th>\n",
       "      <th></th>\n",
       "      <th></th>\n",
       "      <th></th>\n",
       "      <th></th>\n",
       "      <th></th>\n",
       "      <th></th>\n",
       "      <th></th>\n",
       "    </tr>\n",
       "  </thead>\n",
       "  <tbody>\n",
       "    <tr>\n",
       "      <th>0</th>\n",
       "      <td>1 1/4 cups cooked and pureed fresh butternut s...</td>\n",
       "      <td>butternut squash</td>\n",
       "      <td>1.25</td>\n",
       "      <td>0.0</td>\n",
       "      <td>cup</td>\n",
       "      <td>True</td>\n",
       "      <td>1 1 / 4 cups cooked and pureed fresh butternut...</td>\n",
       "      <td>butternut squash</td>\n",
       "      <td>cup</td>\n",
       "    </tr>\n",
       "    <tr>\n",
       "      <th>1</th>\n",
       "      <td>1 cup peeled and cooked fresh chestnuts (about...</td>\n",
       "      <td>chestnuts</td>\n",
       "      <td>1.0</td>\n",
       "      <td>0.0</td>\n",
       "      <td>cup</td>\n",
       "      <td>True</td>\n",
       "      <td>1 cup peeled and cooked fresh chestnuts about ...</td>\n",
       "      <td>chestnuts</td>\n",
       "      <td>cup</td>\n",
       "    </tr>\n",
       "    <tr>\n",
       "      <th>2</th>\n",
       "      <td>1 medium-size onion, peeled and chopped</td>\n",
       "      <td>onion</td>\n",
       "      <td>1.0</td>\n",
       "      <td>0.0</td>\n",
       "      <td>nan</td>\n",
       "      <td>True</td>\n",
       "      <td>1 medium size onion , peeled and chopped</td>\n",
       "      <td>onion</td>\n",
       "      <td>nan</td>\n",
       "    </tr>\n",
       "    <tr>\n",
       "      <th>3</th>\n",
       "      <td>2 stalks celery, chopped coarse</td>\n",
       "      <td>celery</td>\n",
       "      <td>2.0</td>\n",
       "      <td>0.0</td>\n",
       "      <td>stalk</td>\n",
       "      <td>True</td>\n",
       "      <td>2 stalks celery , chopped coarse</td>\n",
       "      <td>celery</td>\n",
       "      <td>stalk</td>\n",
       "    </tr>\n",
       "    <tr>\n",
       "      <th>4</th>\n",
       "      <td>1 1/2 tablespoons vegetable oil</td>\n",
       "      <td>vegetable oil</td>\n",
       "      <td>1.5</td>\n",
       "      <td>0.0</td>\n",
       "      <td>tablespoon</td>\n",
       "      <td>True</td>\n",
       "      <td>1 1 / 2 tablespoons vegetable oil</td>\n",
       "      <td>vegetable oil</td>\n",
       "      <td>tablespoon</td>\n",
       "    </tr>\n",
       "  </tbody>\n",
       "</table>\n",
       "</div>"
      ],
      "text/plain": [
       "                                                   input              name  \\\n",
       "index                                                                        \n",
       "0      1 1/4 cups cooked and pureed fresh butternut s...  butternut squash   \n",
       "1      1 cup peeled and cooked fresh chestnuts (about...         chestnuts   \n",
       "2                1 medium-size onion, peeled and chopped             onion   \n",
       "3                        2 stalks celery, chopped coarse            celery   \n",
       "4                        1 1/2 tablespoons vegetable oil     vegetable oil   \n",
       "\n",
       "        qty range_end        unit name_no_punct  \\\n",
       "index                                             \n",
       "0      1.25       0.0         cup          True   \n",
       "1       1.0       0.0         cup          True   \n",
       "2       1.0       0.0         nan          True   \n",
       "3       2.0       0.0       stalk          True   \n",
       "4       1.5       0.0  tablespoon          True   \n",
       "\n",
       "                                            input_parsed       name_parsed  \\\n",
       "index                                                                        \n",
       "0      1 1 / 4 cups cooked and pureed fresh butternut...  butternut squash   \n",
       "1      1 cup peeled and cooked fresh chestnuts about ...         chestnuts   \n",
       "2               1 medium size onion , peeled and chopped             onion   \n",
       "3                       2 stalks celery , chopped coarse            celery   \n",
       "4                      1 1 / 2 tablespoons vegetable oil     vegetable oil   \n",
       "\n",
       "      unit_parsed  \n",
       "index              \n",
       "0             cup  \n",
       "1             cup  \n",
       "2             nan  \n",
       "3           stalk  \n",
       "4      tablespoon  "
      ]
     },
     "execution_count": 28,
     "metadata": {},
     "output_type": "execute_result"
    }
   ],
   "source": [
    "import re\n",
    "\n",
    "# Preprocess the input\n",
    "\n",
    "def process_punctuation(string):\n",
    "    string = re.sub(r\"([,./])\", r\" \\g<1> \", string)\n",
    "    string = re.sub(r'[^\\w\\s.,/]', r\" \", string)\n",
    "    string = re.sub(r\"\\s+\", r\" \", string)\n",
    "    string = re.sub(\"(\\s$)|(^\\s)\", \"\", string)\n",
    "\n",
    "    string = string.lower()\n",
    "    # Remove trailing white space\n",
    "    if string[-1] == \" \":\n",
    "        string = string[:-1]\n",
    "    if string[0] == \" \":\n",
    "        string = string[1:]\n",
    "    return string\n",
    "\n",
    "\n",
    "for col in [\"input\", \"name\", \"unit\"]:\n",
    "    ing_df[col + '_parsed'] = ing_df[col].apply(process_punctuation)\n",
    "\n",
    "\n",
    "ing_df.head()"
   ]
  },
  {
   "cell_type": "markdown",
   "metadata": {},
   "source": [
    "In the above the string columns are processed to ensure they are all lower case and also to remove any punctuation. The only punctuation I am including is . and , as these are used regularly and provide useful contextual information. finally I am removing multiple whitespace characters."
   ]
  },
  {
   "cell_type": "code",
   "execution_count": 29,
   "metadata": {
    "pycharm": {
     "name": "#%%\n"
    }
   },
   "outputs": [
    {
     "data": {
      "text/html": [
       "<div>\n",
       "<style scoped>\n",
       "    .dataframe tbody tr th:only-of-type {\n",
       "        vertical-align: middle;\n",
       "    }\n",
       "\n",
       "    .dataframe tbody tr th {\n",
       "        vertical-align: top;\n",
       "    }\n",
       "\n",
       "    .dataframe thead th {\n",
       "        text-align: right;\n",
       "    }\n",
       "</style>\n",
       "<table border=\"1\" class=\"dataframe\">\n",
       "  <thead>\n",
       "    <tr style=\"text-align: right;\">\n",
       "      <th></th>\n",
       "      <th>input</th>\n",
       "      <th>name</th>\n",
       "      <th>qty</th>\n",
       "      <th>range_end</th>\n",
       "      <th>unit</th>\n",
       "      <th>name_no_punct</th>\n",
       "      <th>input_parsed</th>\n",
       "      <th>name_parsed</th>\n",
       "      <th>unit_parsed</th>\n",
       "      <th>check_name</th>\n",
       "    </tr>\n",
       "    <tr>\n",
       "      <th>index</th>\n",
       "      <th></th>\n",
       "      <th></th>\n",
       "      <th></th>\n",
       "      <th></th>\n",
       "      <th></th>\n",
       "      <th></th>\n",
       "      <th></th>\n",
       "      <th></th>\n",
       "      <th></th>\n",
       "      <th></th>\n",
       "    </tr>\n",
       "  </thead>\n",
       "  <tbody>\n",
       "    <tr>\n",
       "      <th>253</th>\n",
       "      <td>2 to 3 teaspoons minced jalapeño</td>\n",
       "      <td>jalapeños</td>\n",
       "      <td>2.0</td>\n",
       "      <td>3.0</td>\n",
       "      <td>teaspoon</td>\n",
       "      <td>True</td>\n",
       "      <td>2 to 3 teaspoons minced jalapeño</td>\n",
       "      <td>jalapeños</td>\n",
       "      <td>teaspoon</td>\n",
       "      <td>False</td>\n",
       "    </tr>\n",
       "    <tr>\n",
       "      <th>274</th>\n",
       "      <td>Salt and freshly ground black pepper to taste</td>\n",
       "      <td>Salt and black pepper</td>\n",
       "      <td>0.0</td>\n",
       "      <td>0.0</td>\n",
       "      <td>nan</td>\n",
       "      <td>True</td>\n",
       "      <td>salt and freshly ground black pepper to taste</td>\n",
       "      <td>salt and black pepper</td>\n",
       "      <td>nan</td>\n",
       "      <td>False</td>\n",
       "    </tr>\n",
       "    <tr>\n",
       "      <th>332</th>\n",
       "      <td>Salt and freshly ground black pepper</td>\n",
       "      <td>Salt and black pepper</td>\n",
       "      <td>0.0</td>\n",
       "      <td>0.0</td>\n",
       "      <td>nan</td>\n",
       "      <td>True</td>\n",
       "      <td>salt and freshly ground black pepper</td>\n",
       "      <td>salt and black pepper</td>\n",
       "      <td>nan</td>\n",
       "      <td>False</td>\n",
       "    </tr>\n",
       "    <tr>\n",
       "      <th>347</th>\n",
       "      <td>Salt and freshly ground black pepper</td>\n",
       "      <td>Salt and black pepper</td>\n",
       "      <td>0.0</td>\n",
       "      <td>0.0</td>\n",
       "      <td>nan</td>\n",
       "      <td>True</td>\n",
       "      <td>salt and freshly ground black pepper</td>\n",
       "      <td>salt and black pepper</td>\n",
       "      <td>nan</td>\n",
       "      <td>False</td>\n",
       "    </tr>\n",
       "    <tr>\n",
       "      <th>362</th>\n",
       "      <td>Salt and freshly ground pepper</td>\n",
       "      <td>Salt and pepper</td>\n",
       "      <td>0.0</td>\n",
       "      <td>0.0</td>\n",
       "      <td>nan</td>\n",
       "      <td>True</td>\n",
       "      <td>salt and freshly ground pepper</td>\n",
       "      <td>salt and pepper</td>\n",
       "      <td>nan</td>\n",
       "      <td>False</td>\n",
       "    </tr>\n",
       "  </tbody>\n",
       "</table>\n",
       "</div>"
      ],
      "text/plain": [
       "                                               input                   name  \\\n",
       "index                                                                         \n",
       "253                 2 to 3 teaspoons minced jalapeño              jalapeños   \n",
       "274    Salt and freshly ground black pepper to taste  Salt and black pepper   \n",
       "332             Salt and freshly ground black pepper  Salt and black pepper   \n",
       "347             Salt and freshly ground black pepper  Salt and black pepper   \n",
       "362                   Salt and freshly ground pepper        Salt and pepper   \n",
       "\n",
       "       qty range_end      unit name_no_punct  \\\n",
       "index                                          \n",
       "253    2.0       3.0  teaspoon          True   \n",
       "274    0.0       0.0       nan          True   \n",
       "332    0.0       0.0       nan          True   \n",
       "347    0.0       0.0       nan          True   \n",
       "362    0.0       0.0       nan          True   \n",
       "\n",
       "                                        input_parsed            name_parsed  \\\n",
       "index                                                                         \n",
       "253                 2 to 3 teaspoons minced jalapeño              jalapeños   \n",
       "274    salt and freshly ground black pepper to taste  salt and black pepper   \n",
       "332             salt and freshly ground black pepper  salt and black pepper   \n",
       "347             salt and freshly ground black pepper  salt and black pepper   \n",
       "362                   salt and freshly ground pepper        salt and pepper   \n",
       "\n",
       "      unit_parsed  check_name  \n",
       "index                          \n",
       "253      teaspoon       False  \n",
       "274           nan       False  \n",
       "332           nan       False  \n",
       "347           nan       False  \n",
       "362           nan       False  "
      ]
     },
     "execution_count": 29,
     "metadata": {},
     "output_type": "execute_result"
    }
   ],
   "source": [
    "import re\n",
    "# Check that the input column contains the ingredient name and also the unit if it has one\n",
    "def check_if_name_and_unit(input, name, unit):\n",
    "    name_regexp = f\"{name}\\w*\"\n",
    "    unit_regexp = f\"{unit}\\w*\"\n",
    "\n",
    "    match = re.search(name_regexp, input)\n",
    "\n",
    "    if not match:\n",
    "        return False\n",
    "    # Check that the unit isnt nan\n",
    "    if not unit==unit:\n",
    "        print(unit)\n",
    "        match = re.search(unit_regexp, input)\n",
    "        if not match:\n",
    "            return False\n",
    "    return True\n",
    "\n",
    "\n",
    "ing_df[\"check_name\"] = ing_df.apply(lambda x: check_if_name_and_unit(x['input_parsed'], x['name_parsed'], x['unit_parsed']), axis=1)\n",
    "ing_df.head()\n",
    "\n",
    "# Check a few of the entries where it is false\n",
    "ing_df[~ing_df[\"check_name\"]].head()"
   ]
  },
  {
   "cell_type": "markdown",
   "metadata": {},
   "source": [
    "In the above I confirm that the input column has the name and unit in it. This helps to sift out data containing errors.\n",
    "It also means sifting out data such as input = \"2 teaspoons of jalapeños\" where the name has been given as name = \"jalapeño\".\n",
    "It will remove this data, but I do not believe it will have a significant impact as whether the ingredient is plural or\n",
    "not it will still be in the same position in the word."
   ]
  },
  {
   "cell_type": "code",
   "execution_count": 30,
   "metadata": {
    "pycharm": {
     "name": "#%%\n"
    }
   },
   "outputs": [
    {
     "name": "stdout",
     "output_type": "stream",
     "text": [
      "After removing all the rows where the name and unit are not included in the input, it leaves 170302 rows\n"
     ]
    }
   ],
   "source": [
    "ing_df = ing_df[ing_df[\"check_name\"]]\n",
    "print(f\"After removing all the rows where the name and unit are not included in the input, it leaves {len(ing_df)} rows\")\n",
    "\n"
   ]
  },
  {
   "cell_type": "markdown",
   "metadata": {},
   "source": [
    "## Creating labels\n",
    "\n",
    "For the unit and ingredient labels, I wil need to convert \"2 tablespoons and 1 teaspoon of white sugar\" into [0 0 0 0 0 0 1 1] for instance.\n",
    "\n",
    "Now that the data is processed, this should not be too difficult."
   ]
  },
  {
   "cell_type": "code",
   "execution_count": 31,
   "metadata": {
    "pycharm": {
     "name": "#%%\n"
    }
   },
   "outputs": [
    {
     "data": {
      "text/html": [
       "<div>\n",
       "<style scoped>\n",
       "    .dataframe tbody tr th:only-of-type {\n",
       "        vertical-align: middle;\n",
       "    }\n",
       "\n",
       "    .dataframe tbody tr th {\n",
       "        vertical-align: top;\n",
       "    }\n",
       "\n",
       "    .dataframe thead th {\n",
       "        text-align: right;\n",
       "    }\n",
       "</style>\n",
       "<table border=\"1\" class=\"dataframe\">\n",
       "  <thead>\n",
       "    <tr style=\"text-align: right;\">\n",
       "      <th></th>\n",
       "      <th>input</th>\n",
       "      <th>name</th>\n",
       "      <th>qty</th>\n",
       "      <th>range_end</th>\n",
       "      <th>unit</th>\n",
       "      <th>name_no_punct</th>\n",
       "      <th>input_parsed</th>\n",
       "      <th>name_parsed</th>\n",
       "      <th>unit_parsed</th>\n",
       "      <th>check_name</th>\n",
       "      <th>name_label</th>\n",
       "      <th>unit_label</th>\n",
       "      <th>qty_integer</th>\n",
       "      <th>qty_decimal</th>\n",
       "      <th>qty_decimal_oh</th>\n",
       "    </tr>\n",
       "    <tr>\n",
       "      <th>index</th>\n",
       "      <th></th>\n",
       "      <th></th>\n",
       "      <th></th>\n",
       "      <th></th>\n",
       "      <th></th>\n",
       "      <th></th>\n",
       "      <th></th>\n",
       "      <th></th>\n",
       "      <th></th>\n",
       "      <th></th>\n",
       "      <th></th>\n",
       "      <th></th>\n",
       "      <th></th>\n",
       "      <th></th>\n",
       "      <th></th>\n",
       "    </tr>\n",
       "  </thead>\n",
       "  <tbody>\n",
       "    <tr>\n",
       "      <th>0</th>\n",
       "      <td>1 1/4 cups cooked and pureed fresh butternut s...</td>\n",
       "      <td>butternut squash</td>\n",
       "      <td>1.25</td>\n",
       "      <td>0.0</td>\n",
       "      <td>cup</td>\n",
       "      <td>True</td>\n",
       "      <td>1 1 / 4 cups cooked and pureed fresh butternut...</td>\n",
       "      <td>butternut squash</td>\n",
       "      <td>cup</td>\n",
       "      <td>True</td>\n",
       "      <td>[0, 0, 0, 0, 0, 0, 0, 0, 0, 1, 1, 0, 0, 0, 0, ...</td>\n",
       "      <td>[0, 0, 0, 0, 1, 0, 0, 0, 0, 0, 0, 0, 0, 0, 0, ...</td>\n",
       "      <td>False</td>\n",
       "      <td>2</td>\n",
       "      <td>[0.0, 0.0, 1.0]</td>\n",
       "    </tr>\n",
       "    <tr>\n",
       "      <th>1</th>\n",
       "      <td>1 cup peeled and cooked fresh chestnuts (about...</td>\n",
       "      <td>chestnuts</td>\n",
       "      <td>1.00</td>\n",
       "      <td>0.0</td>\n",
       "      <td>cup</td>\n",
       "      <td>True</td>\n",
       "      <td>1 cup peeled and cooked fresh chestnuts about ...</td>\n",
       "      <td>chestnuts</td>\n",
       "      <td>cup</td>\n",
       "      <td>True</td>\n",
       "      <td>[0, 0, 0, 0, 0, 0, 1, 0, 0, 0, 0, 0, 0, 0, 0, ...</td>\n",
       "      <td>[0, 1, 0, 0, 0, 0, 0, 0, 0, 0, 0, 0, 1, 0, 0, ...</td>\n",
       "      <td>True</td>\n",
       "      <td>0</td>\n",
       "      <td>[1.0, 0.0, 0.0]</td>\n",
       "    </tr>\n",
       "    <tr>\n",
       "      <th>2</th>\n",
       "      <td>1 medium-size onion, peeled and chopped</td>\n",
       "      <td>onion</td>\n",
       "      <td>1.00</td>\n",
       "      <td>0.0</td>\n",
       "      <td>nan</td>\n",
       "      <td>True</td>\n",
       "      <td>1 medium size onion , peeled and chopped</td>\n",
       "      <td>onion</td>\n",
       "      <td>nan</td>\n",
       "      <td>True</td>\n",
       "      <td>[0, 0, 0, 1, 0, 0, 0, 0]</td>\n",
       "      <td>[0, 0, 0, 0, 0, 0, 0, 0]</td>\n",
       "      <td>True</td>\n",
       "      <td>0</td>\n",
       "      <td>[1.0, 0.0, 0.0]</td>\n",
       "    </tr>\n",
       "    <tr>\n",
       "      <th>3</th>\n",
       "      <td>2 stalks celery, chopped coarse</td>\n",
       "      <td>celery</td>\n",
       "      <td>2.00</td>\n",
       "      <td>0.0</td>\n",
       "      <td>stalk</td>\n",
       "      <td>True</td>\n",
       "      <td>2 stalks celery , chopped coarse</td>\n",
       "      <td>celery</td>\n",
       "      <td>stalk</td>\n",
       "      <td>True</td>\n",
       "      <td>[0, 0, 1, 0, 0, 0]</td>\n",
       "      <td>[0, 1, 0, 0, 0, 0]</td>\n",
       "      <td>True</td>\n",
       "      <td>0</td>\n",
       "      <td>[1.0, 0.0, 0.0]</td>\n",
       "    </tr>\n",
       "    <tr>\n",
       "      <th>4</th>\n",
       "      <td>1 1/2 tablespoons vegetable oil</td>\n",
       "      <td>vegetable oil</td>\n",
       "      <td>1.50</td>\n",
       "      <td>0.0</td>\n",
       "      <td>tablespoon</td>\n",
       "      <td>True</td>\n",
       "      <td>1 1 / 2 tablespoons vegetable oil</td>\n",
       "      <td>vegetable oil</td>\n",
       "      <td>tablespoon</td>\n",
       "      <td>True</td>\n",
       "      <td>[0, 0, 0, 0, 0, 1, 1]</td>\n",
       "      <td>[0, 0, 0, 0, 1, 0, 0]</td>\n",
       "      <td>False</td>\n",
       "      <td>1</td>\n",
       "      <td>[0.0, 1.0, 0.0]</td>\n",
       "    </tr>\n",
       "  </tbody>\n",
       "</table>\n",
       "</div>"
      ],
      "text/plain": [
       "                                                   input              name  \\\n",
       "index                                                                        \n",
       "0      1 1/4 cups cooked and pureed fresh butternut s...  butternut squash   \n",
       "1      1 cup peeled and cooked fresh chestnuts (about...         chestnuts   \n",
       "2                1 medium-size onion, peeled and chopped             onion   \n",
       "3                        2 stalks celery, chopped coarse            celery   \n",
       "4                        1 1/2 tablespoons vegetable oil     vegetable oil   \n",
       "\n",
       "        qty range_end        unit name_no_punct  \\\n",
       "index                                             \n",
       "0      1.25       0.0         cup          True   \n",
       "1      1.00       0.0         cup          True   \n",
       "2      1.00       0.0         nan          True   \n",
       "3      2.00       0.0       stalk          True   \n",
       "4      1.50       0.0  tablespoon          True   \n",
       "\n",
       "                                            input_parsed       name_parsed  \\\n",
       "index                                                                        \n",
       "0      1 1 / 4 cups cooked and pureed fresh butternut...  butternut squash   \n",
       "1      1 cup peeled and cooked fresh chestnuts about ...         chestnuts   \n",
       "2               1 medium size onion , peeled and chopped             onion   \n",
       "3                       2 stalks celery , chopped coarse            celery   \n",
       "4                      1 1 / 2 tablespoons vegetable oil     vegetable oil   \n",
       "\n",
       "      unit_parsed  check_name  \\\n",
       "index                           \n",
       "0             cup        True   \n",
       "1             cup        True   \n",
       "2             nan        True   \n",
       "3           stalk        True   \n",
       "4      tablespoon        True   \n",
       "\n",
       "                                              name_label  \\\n",
       "index                                                      \n",
       "0      [0, 0, 0, 0, 0, 0, 0, 0, 0, 1, 1, 0, 0, 0, 0, ...   \n",
       "1      [0, 0, 0, 0, 0, 0, 1, 0, 0, 0, 0, 0, 0, 0, 0, ...   \n",
       "2                               [0, 0, 0, 1, 0, 0, 0, 0]   \n",
       "3                                     [0, 0, 1, 0, 0, 0]   \n",
       "4                                  [0, 0, 0, 0, 0, 1, 1]   \n",
       "\n",
       "                                              unit_label  qty_integer  \\\n",
       "index                                                                   \n",
       "0      [0, 0, 0, 0, 1, 0, 0, 0, 0, 0, 0, 0, 0, 0, 0, ...        False   \n",
       "1      [0, 1, 0, 0, 0, 0, 0, 0, 0, 0, 0, 0, 1, 0, 0, ...         True   \n",
       "2                               [0, 0, 0, 0, 0, 0, 0, 0]         True   \n",
       "3                                     [0, 1, 0, 0, 0, 0]         True   \n",
       "4                                  [0, 0, 0, 0, 1, 0, 0]        False   \n",
       "\n",
       "       qty_decimal   qty_decimal_oh  \n",
       "index                                \n",
       "0                2  [0.0, 0.0, 1.0]  \n",
       "1                0  [1.0, 0.0, 0.0]  \n",
       "2                0  [1.0, 0.0, 0.0]  \n",
       "3                0  [1.0, 0.0, 0.0]  \n",
       "4                1  [0.0, 1.0, 0.0]  "
      ]
     },
     "execution_count": 31,
     "metadata": {},
     "output_type": "execute_result"
    }
   ],
   "source": [
    "# Convert a string of multiple words into a binary array with 1 for each word in \n",
    "# Match is and 0 where any other words are.\n",
    "def create_label(inp, match):\n",
    "    match_regexp = f\"{match}\\w*\"\n",
    "    match_num_words = len(match.split(\" \"))                  \n",
    "    match_replaced = re.sub(match_regexp, \" MATCH \", inp)\n",
    "    match_replaced = re.sub(\"\\s+\", \" \" ,match_replaced)\n",
    "    match_replaced = re.sub(\"(\\s$)|(^\\s)\", \"\", match_replaced)\n",
    "    word_array = match_replaced.split(\" \")\n",
    "    label = []\n",
    "    for word in word_array:\n",
    "        if word == \"MATCH\":\n",
    "            label.extend([1]*match_num_words)\n",
    "        else:\n",
    "            label.append(0)\n",
    "    return label\n",
    "        \n",
    "ing_df[\"name_label\"] = ing_df.apply(lambda x: create_label(x['input_parsed'], x['name_parsed']), axis=1)\n",
    "ing_df[\"unit_label\"] = ing_df.apply(lambda x: create_label(x['input_parsed'], x['unit_parsed']), axis=1)\n",
    "\n",
    "# column indicating if the quantity is an integer\n",
    "ing_df[\"qty_integer\"] = ing_df.apply(lambda x: True if float(x.qty).is_integer() else False, axis=1)\n",
    "\n",
    "# Column to hold the number of decimal places of the qty column\n",
    "ing_df[\"qty_decimal\"] = ing_df.apply(lambda x: len(str(x[\"qty\"]).split(\".\")[1]), axis=1)\n",
    "\n",
    "ing_df.loc[ing_df[\"qty_integer\"], \"qty_decimal\"] = 0\n",
    "\n",
    "def one_hot(i, l):\n",
    "    output = np.zeros(l)\n",
    "    output[i] = 1\n",
    "    return output\n",
    "\n",
    "ing_df[\"qty_decimal_oh\"] = ing_df.apply(lambda x: one_hot(x.qty_decimal, 3), axis=1)\n",
    "ing_df[\"qty\"] = ing_df[\"qty\"].astype(float)\n",
    "ing_df.head()\n"
   ]
  },
  {
   "cell_type": "code",
   "execution_count": 32,
   "metadata": {},
   "outputs": [
    {
     "data": {
      "text/html": [
       "<div>\n",
       "<style scoped>\n",
       "    .dataframe tbody tr th:only-of-type {\n",
       "        vertical-align: middle;\n",
       "    }\n",
       "\n",
       "    .dataframe tbody tr th {\n",
       "        vertical-align: top;\n",
       "    }\n",
       "\n",
       "    .dataframe thead th {\n",
       "        text-align: right;\n",
       "    }\n",
       "</style>\n",
       "<table border=\"1\" class=\"dataframe\">\n",
       "  <thead>\n",
       "    <tr style=\"text-align: right;\">\n",
       "      <th></th>\n",
       "      <th>input_parsed</th>\n",
       "      <th>name_label</th>\n",
       "      <th>unit_label</th>\n",
       "      <th>qty</th>\n",
       "      <th>qty_decimal_oh</th>\n",
       "    </tr>\n",
       "    <tr>\n",
       "      <th>index</th>\n",
       "      <th></th>\n",
       "      <th></th>\n",
       "      <th></th>\n",
       "      <th></th>\n",
       "      <th></th>\n",
       "    </tr>\n",
       "  </thead>\n",
       "  <tbody>\n",
       "    <tr>\n",
       "      <th>20374</th>\n",
       "      <td>2 1 / 2 teaspoons finely minced garlic</td>\n",
       "      <td>[0, 0, 0, 0, 0, 1, 1, 1]</td>\n",
       "      <td>[0, 0, 0, 0, 1, 0, 0, 0]</td>\n",
       "      <td>2.50</td>\n",
       "      <td>[0.0, 1.0, 0.0]</td>\n",
       "    </tr>\n",
       "    <tr>\n",
       "      <th>136549</th>\n",
       "      <td>salt</td>\n",
       "      <td>[1]</td>\n",
       "      <td>[0]</td>\n",
       "      <td>0.00</td>\n",
       "      <td>[1.0, 0.0, 0.0]</td>\n",
       "    </tr>\n",
       "    <tr>\n",
       "      <th>132837</th>\n",
       "      <td>2 onions , minced</td>\n",
       "      <td>[0, 1, 0, 0]</td>\n",
       "      <td>[0, 0, 0, 0]</td>\n",
       "      <td>2.00</td>\n",
       "      <td>[1.0, 0.0, 0.0]</td>\n",
       "    </tr>\n",
       "    <tr>\n",
       "      <th>88598</th>\n",
       "      <td>1 / 4 cup cumin seeds</td>\n",
       "      <td>[0, 0, 0, 0, 1, 1]</td>\n",
       "      <td>[0, 0, 0, 1, 0, 0]</td>\n",
       "      <td>0.25</td>\n",
       "      <td>[0.0, 0.0, 1.0]</td>\n",
       "    </tr>\n",
       "    <tr>\n",
       "      <th>41455</th>\n",
       "      <td>20 scallions or green onions , about 1 / 3 pound</td>\n",
       "      <td>[0, 1, 0, 0, 0, 0, 0, 0, 0, 0, 0]</td>\n",
       "      <td>[0, 0, 0, 0, 0, 0, 0, 0, 0, 0, 0]</td>\n",
       "      <td>20.00</td>\n",
       "      <td>[1.0, 0.0, 0.0]</td>\n",
       "    </tr>\n",
       "    <tr>\n",
       "      <th>...</th>\n",
       "      <td>...</td>\n",
       "      <td>...</td>\n",
       "      <td>...</td>\n",
       "      <td>...</td>\n",
       "      <td>...</td>\n",
       "    </tr>\n",
       "    <tr>\n",
       "      <th>144704</th>\n",
       "      <td>2 teaspoons canola oil , rice bran oil or extr...</td>\n",
       "      <td>[0, 0, 1, 1, 0, 0, 0, 0, 0, 0, 0, 0, 0]</td>\n",
       "      <td>[0, 1, 0, 0, 0, 0, 0, 0, 0, 0, 0, 0, 0]</td>\n",
       "      <td>2.00</td>\n",
       "      <td>[1.0, 0.0, 0.0]</td>\n",
       "    </tr>\n",
       "    <tr>\n",
       "      <th>124170</th>\n",
       "      <td>1 bulb green garlic , root and dark green part...</td>\n",
       "      <td>[0, 0, 1, 1, 0, 0, 0, 0, 0, 0, 0, 0, 0, 0, 0, ...</td>\n",
       "      <td>[0, 1, 0, 0, 0, 0, 0, 0, 0, 0, 0, 0, 0, 0, 0, ...</td>\n",
       "      <td>1.00</td>\n",
       "      <td>[1.0, 0.0, 0.0]</td>\n",
       "    </tr>\n",
       "    <tr>\n",
       "      <th>153628</th>\n",
       "      <td>5 ounces baby spinach</td>\n",
       "      <td>[0, 0, 1, 1]</td>\n",
       "      <td>[0, 1, 0, 0]</td>\n",
       "      <td>5.00</td>\n",
       "      <td>[1.0, 0.0, 0.0]</td>\n",
       "    </tr>\n",
       "    <tr>\n",
       "      <th>44560</th>\n",
       "      <td>1 tablespoon balsamic vinegar</td>\n",
       "      <td>[0, 0, 1, 1]</td>\n",
       "      <td>[0, 1, 0, 0]</td>\n",
       "      <td>1.00</td>\n",
       "      <td>[1.0, 0.0, 0.0]</td>\n",
       "    </tr>\n",
       "    <tr>\n",
       "      <th>104664</th>\n",
       "      <td>1 / 2 teaspoon sugar</td>\n",
       "      <td>[0, 0, 0, 0, 1]</td>\n",
       "      <td>[0, 0, 0, 1, 0]</td>\n",
       "      <td>0.50</td>\n",
       "      <td>[0.0, 1.0, 0.0]</td>\n",
       "    </tr>\n",
       "  </tbody>\n",
       "</table>\n",
       "<p>100 rows × 5 columns</p>\n",
       "</div>"
      ],
      "text/plain": [
       "                                             input_parsed  \\\n",
       "index                                                       \n",
       "20374              2 1 / 2 teaspoons finely minced garlic   \n",
       "136549                                               salt   \n",
       "132837                                  2 onions , minced   \n",
       "88598                               1 / 4 cup cumin seeds   \n",
       "41455    20 scallions or green onions , about 1 / 3 pound   \n",
       "...                                                   ...   \n",
       "144704  2 teaspoons canola oil , rice bran oil or extr...   \n",
       "124170  1 bulb green garlic , root and dark green part...   \n",
       "153628                              5 ounces baby spinach   \n",
       "44560                       1 tablespoon balsamic vinegar   \n",
       "104664                               1 / 2 teaspoon sugar   \n",
       "\n",
       "                                               name_label  \\\n",
       "index                                                       \n",
       "20374                            [0, 0, 0, 0, 0, 1, 1, 1]   \n",
       "136549                                                [1]   \n",
       "132837                                       [0, 1, 0, 0]   \n",
       "88598                                  [0, 0, 0, 0, 1, 1]   \n",
       "41455                   [0, 1, 0, 0, 0, 0, 0, 0, 0, 0, 0]   \n",
       "...                                                   ...   \n",
       "144704            [0, 0, 1, 1, 0, 0, 0, 0, 0, 0, 0, 0, 0]   \n",
       "124170  [0, 0, 1, 1, 0, 0, 0, 0, 0, 0, 0, 0, 0, 0, 0, ...   \n",
       "153628                                       [0, 0, 1, 1]   \n",
       "44560                                        [0, 0, 1, 1]   \n",
       "104664                                    [0, 0, 0, 0, 1]   \n",
       "\n",
       "                                               unit_label    qty  \\\n",
       "index                                                              \n",
       "20374                            [0, 0, 0, 0, 1, 0, 0, 0]   2.50   \n",
       "136549                                                [0]   0.00   \n",
       "132837                                       [0, 0, 0, 0]   2.00   \n",
       "88598                                  [0, 0, 0, 1, 0, 0]   0.25   \n",
       "41455                   [0, 0, 0, 0, 0, 0, 0, 0, 0, 0, 0]  20.00   \n",
       "...                                                   ...    ...   \n",
       "144704            [0, 1, 0, 0, 0, 0, 0, 0, 0, 0, 0, 0, 0]   2.00   \n",
       "124170  [0, 1, 0, 0, 0, 0, 0, 0, 0, 0, 0, 0, 0, 0, 0, ...   1.00   \n",
       "153628                                       [0, 1, 0, 0]   5.00   \n",
       "44560                                        [0, 1, 0, 0]   1.00   \n",
       "104664                                    [0, 0, 0, 1, 0]   0.50   \n",
       "\n",
       "         qty_decimal_oh  \n",
       "index                    \n",
       "20374   [0.0, 1.0, 0.0]  \n",
       "136549  [1.0, 0.0, 0.0]  \n",
       "132837  [1.0, 0.0, 0.0]  \n",
       "88598   [0.0, 0.0, 1.0]  \n",
       "41455   [1.0, 0.0, 0.0]  \n",
       "...                 ...  \n",
       "144704  [1.0, 0.0, 0.0]  \n",
       "124170  [1.0, 0.0, 0.0]  \n",
       "153628  [1.0, 0.0, 0.0]  \n",
       "44560   [1.0, 0.0, 0.0]  \n",
       "104664  [0.0, 1.0, 0.0]  \n",
       "\n",
       "[100 rows x 5 columns]"
      ]
     },
     "execution_count": 32,
     "metadata": {},
     "output_type": "execute_result"
    }
   ],
   "source": [
    "ing_df_labelled = ing_df[[\"input_parsed\", 'name_label', \"unit_label\", \"qty\", \"qty_decimal_oh\"]]\n",
    "ing_df_labelled.sample(100)"
   ]
  },
  {
   "cell_type": "markdown",
   "metadata": {},
   "source": [
    "These look pretty good. The next stage would be to encode the text so that it is also numeric.\n",
    "\n",
    "To do this I need to:\n",
    "- Identify the vocabulary from the corpus\n",
    "- Convert the words into their numeric representation\n",
    "- Pad the sequences so that all the inputs are the same length\n",
    "- Download the pretrained word embeddings (using Glove 6)\n"
   ]
  },
  {
   "cell_type": "code",
   "execution_count": 33,
   "metadata": {},
   "outputs": [],
   "source": [
    "from tensorflow.keras.preprocessing.text import Tokenizer\n",
    "from tensorflow.keras.preprocessing.sequence import pad_sequences\n",
    "from more_itertools import take\n",
    "import json\n",
    "\n"
   ]
  },
  {
   "cell_type": "code",
   "execution_count": 34,
   "metadata": {},
   "outputs": [],
   "source": [
    "# Download and extract the word embeddings\n",
    "#!wget http://nlp.stanford.edu/data/glove.6B.zip\n",
    "#!unzip -q glove.6B.zip"
   ]
  },
  {
   "cell_type": "code",
   "execution_count": 35,
   "metadata": {},
   "outputs": [
    {
     "name": "stdout",
     "output_type": "stream",
     "text": [
      "Found 400000 word vectors.\n"
     ]
    }
   ],
   "source": [
    "# Open the word embeddings \n",
    "import os\n",
    "import numpy as np\n",
    "\n",
    "\n",
    "path_to_glove_file = \"glove.6B.50d.txt\"\n",
    "\n",
    "embeddings_index = {}\n",
    "with open(path_to_glove_file) as f:\n",
    "    for line in f:\n",
    "        word, coefs = line.split(maxsplit=1)\n",
    "        coefs = np.fromstring(coefs, \"f\", sep=\" \")\n",
    "        embeddings_index[word] = coefs\n",
    "\n",
    "print(\"Found %s word vectors.\" % len(embeddings_index))"
   ]
  },
  {
   "cell_type": "code",
   "execution_count": 43,
   "metadata": {},
   "outputs": [
    {
     "name": "stdout",
     "output_type": "stream",
     "text": [
      "number of words in word_index: 364809\n",
      "word_index: [('<OOV>', 1), ('1', 2), ('2', 3), ('non', 4), ('3', 5), ('4', 6), ('5', 7), ('10', 8), ('6', 9), ('based', 10), ('year', 11), ('0', 12), ('a', 13), ('8', 14), ('12', 15), ('7', 16), ('re', 17), ('http', 18), ('al', 19), ('15', 20)]\n",
      "\n"
     ]
    }
   ],
   "source": [
    "from tensorflow.keras.preprocessing.text import Tokenizer\n",
    "from tensorflow.keras.preprocessing.sequence import pad_sequences\n",
    "from more_itertools import take\n",
    "import pickle\n",
    "\n",
    "# Initialize the Tokenizer class, making sure to keep , . and /\n",
    "tokenizer = Tokenizer(oov_token=\"<OOV>\", filters='!\"#$%&()*+-:;<=>?@[\\\\]^_`{|}~\\t\\n')\n",
    "\n",
    "# Generate the word index dictionary from the embeddings\n",
    "tokenizer.fit_on_texts(embeddings_index.keys())\n",
    "\n",
    "# Print the length of the word index\n",
    "word_index_example = take(20, tokenizer.word_index.items())\n",
    "word_index = tokenizer.word_index\n",
    "\n",
    "# Save the word vocabulary as a pickle file as it has a funny encoding that I hvent figured out how to load with json\n",
    "word_index_filename = \"word_index.pckl\"\n",
    "pickle.dump(word_index, open(word_index_filename, \"wb\" ))\n",
    "    \n",
    "print(f'number of words in word_index: {len(word_index)}')\n",
    "\n",
    "# Print the word index\n",
    "print(f'word_index: {word_index_example}')\n",
    "print()\n",
    "\n"
   ]
  },
  {
   "cell_type": "code",
   "execution_count": 12,
   "metadata": {},
   "outputs": [],
   "source": [
    "# Generate and pad the sequences\n",
    "sequences = tokenizer.texts_to_sequences(ing_df_labelled[\"input_parsed\"])\n",
    "\n",
    "X = pad_sequences(sequences, padding='post')\n",
    "y_name = pad_sequences(ing_df_labelled[\"name_label\"], padding=\"post\")\n",
    "y_unit = pad_sequences(ing_df_labelled[\"unit_label\"], padding=\"post\")\n",
    "\n",
    "y_qty_decimal = np.stack(ing_df_labelled[\"qty_decimal_oh\"].to_numpy())\n",
    "y_qty = np.expand_dims(np.asarray(ing_df_labelled[\"qty\"].values), axis=-1)\n",
    "\n",
    "# Combine these for jointly training the model\n",
    "y_name_ex = np.expand_dims(y_name, axis=1)\n",
    "y_unit_ex = np.expand_dims(y_unit, axis=1)\n",
    "\n",
    "\n",
    "y_combined = np.concatenate((y_name_ex, y_unit_ex), axis=1)"
   ]
  },
  {
   "cell_type": "code",
   "execution_count": 14,
   "metadata": {},
   "outputs": [
    {
     "name": "stdout",
     "output_type": "stream",
     "text": [
      "Ingredient sentence is 4 tablespoons extra virgin olive oil\n",
      "X is [    6 16895   514 14282  3994   771     0     0     0     0     0     0\n",
      "     0     0     0     0     0     0     0     0     0     0     0     0\n",
      "     0     0     0     0     0     0     0     0     0     0     0     0\n",
      "     0     0     0     0     0     0     0     0     0     0     0     0\n",
      "     0     0     0     0     0     0     0     0     0     0     0     0]\n",
      "y_name is [0 0 0 0 1 1 0 0 0 0 0 0 0 0 0 0 0 0 0 0 0 0 0 0 0 0 0 0 0 0 0 0 0 0 0 0 0\n",
      " 0 0 0 0 0 0 0 0 0 0 0 0 0 0 0 0 0 0 0 0 0 0 0]\n",
      "y_unit is [0 1 0 0 0 0 0 0 0 0 0 0 0 0 0 0 0 0 0 0 0 0 0 0 0 0 0 0 0 0 0 0 0 0 0 0 0\n",
      " 0 0 0 0 0 0 0 0 0 0 0 0 0 0 0 0 0 0 0 0 0 0 0]\n"
     ]
    }
   ],
   "source": [
    "import random \n",
    "# Check a random index to make sure everything has worked\n",
    "idx = random.randint(0,20000)\n",
    "rand_ing = ing_df.loc[ing_df.index.values[idx], \"input_parsed\"]\n",
    "print(f\"Ingredient sentence is {rand_ing}\")\n",
    "print(f\"X is {X[idx]}\")\n",
    "print(f\"y_name is {y_name[idx]}\")\n",
    "print(f\"y_unit is {y_unit[idx]}\")"
   ]
  },
  {
   "cell_type": "markdown",
   "metadata": {},
   "source": [
    "Great so we have a training database! "
   ]
  },
  {
   "cell_type": "markdown",
   "metadata": {},
   "source": [
    "## Word Embeddings\n",
    "\n",
    "To save time training my own embeddings, I will use the ones already trained in the Glove version 6 embeddings. These were created by stanford on a much larger corpus. Naturally some words might not exsist in this corpus, so these will be replaced with the OOV token."
   ]
  },
  {
   "cell_type": "code",
   "execution_count": 15,
   "metadata": {
    "pycharm": {
     "name": "#%%\n"
    }
   },
   "outputs": [
    {
     "name": "stdout",
     "output_type": "stream",
     "text": [
      "Converted 363496 words (1313 misses)\n",
      "Some examples of the words not included are: ['<OOV>', 'eur2004', 'cvw', 'sonderburg', 'orthoplex', '0267', '4697', '4480', '9867', '4425', '3382', 'utf', '3622', 'ob.', 'hiberno', '5456', '4204', '7282', '0075', '0089']\n"
     ]
    }
   ],
   "source": [
    "num_tokens = len(word_index) + 1\n",
    "embedding_dim = 50\n",
    "hits = 0\n",
    "misses = 0\n",
    "oov_words = []\n",
    "\n",
    "# Prepare embedding matrix\n",
    "embedding_matrix = np.zeros((num_tokens, embedding_dim))\n",
    "for word, i in word_index.items():\n",
    "    embedding_vector = embeddings_index.get(word)\n",
    "    if embedding_vector is not None:\n",
    "        # Words not found in embedding index will be all-zeros.\n",
    "        # This includes the representation for \"padding\" and \"OOV\"\n",
    "        embedding_matrix[i] = embedding_vector\n",
    "\n",
    "        hits += 1\n",
    "    else:\n",
    "        oov_words.append(word)\n",
    "        misses += 1\n",
    "print(\"Converted %d words (%d misses)\" % (hits, misses))\n",
    "print(f\"Some examples of the words not included are: {oov_words[:20]}\")"
   ]
  },
  {
   "cell_type": "code",
   "execution_count": 17,
   "metadata": {},
   "outputs": [],
   "source": [
    "from tensorflow.keras.layers import Embedding\n",
    "from tensorflow.keras.initializers import Constant\n",
    "# Create the embedding layer, make it not trainable and fix the embedding values\n",
    "embedding_lay = Embedding(\n",
    "    num_tokens,\n",
    "    embedding_dim,\n",
    "    embeddings_initializer=Constant(embedding_matrix),\n",
    "    trainable=False,\n",
    "    input_length=X.shape[1],\n",
    "    name=\"embedding_layer\"\n",
    ")"
   ]
  },
  {
   "cell_type": "markdown",
   "metadata": {},
   "source": [
    "## Baseline Calculation\n",
    "\n",
    "If my model was to output all 1's or all 0's for the output, what would the success rate be?"
   ]
  },
  {
   "cell_type": "code",
   "execution_count": 18,
   "metadata": {},
   "outputs": [
    {
     "name": "stdout",
     "output_type": "stream",
     "text": [
      "The baseline f1 scores for y_unit are 0.02337087910892176\n",
      "The baseline f1 scores for y_name are 0.055756400440218165\n"
     ]
    }
   ],
   "source": [
    "from sklearn.metrics import accuracy_score, f1_score\n",
    "\n",
    "baseline_y_unit = f1_score(y_unit, np.ones(y_unit.shape), average=\"micro\")\n",
    "baseline_y_name = f1_score(y_name, np.ones(y_name.shape), average=\"micro\")\n",
    "\n",
    "print(f\"The baseline f1 scores for y_unit are {baseline_y_unit}\")\n",
    "print(f\"The baseline f1 scores for y_name are {baseline_y_name}\")"
   ]
  },
  {
   "cell_type": "markdown",
   "metadata": {},
   "source": [
    "## Metrics "
   ]
  },
  {
   "cell_type": "markdown",
   "metadata": {},
   "source": [
    "I have chosen to use f1 score which is a combined metric or precision and recall. It is better than accuracy in this instance because accuracy would give high scores for predicting all 0's or 1's.\n",
    "\n",
    "In addition I have created a custom metric \"percent par correct\" which is for evaluating how many answers are pretty much correct (or could be down to a difference in interpretation). This gives the percentage of ingredients that have one word precicted accurately"
   ]
  },
  {
   "cell_type": "code",
   "execution_count": 19,
   "metadata": {},
   "outputs": [
    {
     "name": "stdout",
     "output_type": "stream",
     "text": [
      "1.0\n"
     ]
    },
    {
     "name": "stderr",
     "output_type": "stream",
     "text": [
      "/Users/williamwhite/Documents/ingredients_2_vec/venv/lib/python3.7/site-packages/tensorflow_addons/utils/ensure_tf_install.py:67: UserWarning: Tensorflow Addons supports using Python ops for all Tensorflow versions above or equal to 2.6.0 and strictly below 2.9.0 (nightly versions are not supported). \n",
      " The versions of TensorFlow you are currently using is 2.5.0 and is not supported. \n",
      "Some things might work, some things might not.\n",
      "If you were to encounter a bug, do not file an issue.\n",
      "If you want to make sure you're using a tested and supported configuration, either change the TensorFlow version or the TensorFlow Addons's version. \n",
      "You can find the compatibility matrix in TensorFlow Addon's readme:\n",
      "https://github.com/tensorflow/addons\n",
      "  UserWarning,\n",
      "2022-03-27 18:00:36.836853: I tensorflow/core/platform/cpu_feature_guard.cc:142] This TensorFlow binary is optimized with oneAPI Deep Neural Network Library (oneDNN) to use the following CPU instructions in performance-critical operations:  AVX2 FMA\n",
      "To enable them in other operations, rebuild TensorFlow with the appropriate compiler flags.\n"
     ]
    }
   ],
   "source": [
    "import tensorflow_addons as tfa\n",
    "import tensorflow as tf\n",
    "\n",
    "f1_score_name = tfa.metrics.F1Score(\n",
    "    num_classes = X.shape[1],\n",
    "    average = \"micro\",\n",
    "    threshold=0.5\n",
    ")\n",
    "\n",
    "f1_score_unit = tfa.metrics.F1Score(\n",
    "    num_classes = X.shape[1],\n",
    "    average = \"micro\",\n",
    "    threshold=0.5\n",
    ")\n",
    "\n",
    "\n",
    "\n",
    "f1_score_qty_decimal = tfa.metrics.F1Score(\n",
    "    num_classes = 2,\n",
    "    average = \"micro\",\n",
    "    threshold=0.5\n",
    ")\n",
    "\n",
    "\n",
    "def name_f1_score(y_true_comb, y_pred_comb):\n",
    "    y_true_name, y_true_unit = tf.split(y_true_comb, num_or_size_splits=[1, 1], axis=1)\n",
    "    y_pred_name, y_pred_unit = tf.split(y_pred_comb, num_or_size_splits=[1, 1], axis=1)\n",
    "    return f1_score_name(tf.squeeze(y_true_name), tf.squeeze(y_pred_name))\n",
    "\n",
    "def unit_f1_score(y_true_comb, y_pred_comb):\n",
    "    y_true_name, y_true_unit = tf.split(y_true_comb, num_or_size_splits=[1, 1], axis=1)\n",
    "    y_pred_name, y_pred_unit = tf.split(y_pred_comb, num_or_size_splits=[1, 1], axis=1)\n",
    "    return f1_score_unit(tf.squeeze(y_true_unit), tf.squeeze(y_pred_unit))\n",
    "\n",
    "\n",
    "\n",
    "def name_percent_part_correct(y_true_comb, y_pred_comb):\n",
    "    y_true_name, y_true_unit = tf.split(y_true_comb, num_or_size_splits=[1, 1], axis=1)\n",
    "    y_pred_name, y_pred_unit = tf.split(y_pred_comb, num_or_size_splits=[1, 1], axis=1)\n",
    "    \n",
    "    metric = percent_part_correct(tf.squeeze(y_true_name), tf.squeeze(y_pred_name))\n",
    "    return metric\n",
    "\n",
    "def percent_part_correct(y_true, y_pred):\n",
    "    y_round = tf.cast(tf.math.round(y_pred), tf.bool)\n",
    "    y_true_bool = tf.cast(y_true, tf.bool)\n",
    "    total_values = tf.gather(tf.shape(y_true), 0)\n",
    "    \n",
    "    # Returns a boolean tensor where the elements match\n",
    "    equal = tf.math.logical_and(y_true_bool, y_round)\n",
    "    only_ones = tf.logical_and(equal, y_true_bool)\n",
    "    reduced_eq = tf.reduce_any(only_ones, 1)\n",
    "    total_part_correct = tf.reduce_sum(tf.cast(reduced_eq, tf.int64))\n",
    "    percent_part_correct = tf.math.divide_no_nan(tf.cast(total_part_correct, tf.float32), tf.cast(total_values, tf.float32))\n",
    "    return percent_part_correct\n",
    "\n",
    "def qty_mse(y_true, y_pred):\n",
    "    y_true_qty = tf.split(y_true, num_or_size_splits=[1], axis=-1)\n",
    "    y_pred_qty = tf.split(y_pred, num_or_size_splits=[1], axis=-1)\n",
    "    mse = tf.keras.losses.MeanSquaredError()\n",
    "    mse_error = mse(y_true_qty, y_pred_qty)\n",
    "    return mse_error\n",
    "\n",
    "\n",
    "\n",
    "# Test execution of custom metric\n",
    "y_p = tf.constant([[[0, 0.51, 0], [0.51, 0, 0]], [[1, 0, 0], [0, 0, 0]]], dtype=tf.float32)\n",
    "y_t = tf.constant([[[0, 1, 0], [1, 0, 0]], [[0, 0, 0], [0, 0, 0]]], dtype=tf.float32)\n",
    "\n",
    "print(name_percent_part_correct(y_combined, y_combined).numpy())\n",
    "\n",
    "\n"
   ]
  },
  {
   "cell_type": "markdown",
   "metadata": {},
   "source": [
    "## Split Data"
   ]
  },
  {
   "cell_type": "code",
   "execution_count": 20,
   "metadata": {},
   "outputs": [],
   "source": [
    "from sklearn.model_selection import train_test_split\n",
    "\n",
    "X_train, X_test, y_train, y_test = train_test_split(X, y_combined, test_size=0.2, random_state=42)\n",
    "_, _, y_qty_train, y_qty_test = train_test_split(X, y_qty, test_size=0.2, random_state=42)\n",
    "_, _, y_qty_decimal_train, y_qty_decimal_test = train_test_split(X, y_qty_decimal, test_size=0.2, random_state=42)\n"
   ]
  },
  {
   "cell_type": "markdown",
   "metadata": {},
   "source": [
    "Unfortunately although I wanted to train a model to include the range as well, I do not believe that there are enough samples to give an accurate result."
   ]
  },
  {
   "cell_type": "markdown",
   "metadata": {},
   "source": [
    "## Build and Train Model"
   ]
  },
  {
   "cell_type": "code",
   "execution_count": 21,
   "metadata": {},
   "outputs": [
    {
     "name": "stdout",
     "output_type": "stream",
     "text": [
      "Model: \"model_head\"\n",
      "_________________________________________________________________\n",
      "Layer (type)                 Output Shape              Param #   \n",
      "=================================================================\n",
      "embedding_layer (Embedding)  (None, 60, 50)            18240500  \n",
      "_________________________________________________________________\n",
      "bidirectional (Bidirectional (None, 60, 64)            21248     \n",
      "_________________________________________________________________\n",
      "bidirectional_1 (Bidirection (None, 60, 64)            24832     \n",
      "_________________________________________________________________\n",
      "flatten (Flatten)            (None, 3840)              0         \n",
      "_________________________________________________________________\n",
      "dense (Dense)                (None, 256)               983296    \n",
      "_________________________________________________________________\n",
      "dropout (Dropout)            (None, 256)               0         \n",
      "=================================================================\n",
      "Total params: 19,269,876\n",
      "Trainable params: 1,029,376\n",
      "Non-trainable params: 18,240,500\n",
      "_________________________________________________________________\n",
      "2128\n"
     ]
    }
   ],
   "source": [
    "import tensorflow as tf\n",
    "\n",
    "lstm_dim = 32\n",
    "dense_dim = 256\n",
    "output_dim = X.shape[1]*2\n",
    "NUM_EPOCHS = 50\n",
    "BATCH_SIZE = 64\n",
    "\n",
    "# Model Definition with LSTM\n",
    "model_head = tf.keras.Sequential([\n",
    "    embedding_lay,\n",
    "    tf.keras.layers.Bidirectional(tf.keras.layers.LSTM(lstm_dim, return_sequences=True)),\n",
    "    tf.keras.layers.Bidirectional(tf.keras.layers.LSTM(lstm_dim, return_sequences=True)),\n",
    "    tf.keras.layers.Flatten(),\n",
    "    tf.keras.layers.Dense(dense_dim, activation='relu'),\n",
    "    tf.keras.layers.Dropout(.4, input_shape=(256,))\n",
    "], name=\"model_head\")\n",
    "# Print the model summary\n",
    "model_head.summary()\n",
    "\n",
    "save_freq = int(1*(len(X_train)/BATCH_SIZE))\n",
    "checkpoint_callback = tf.keras.callbacks.ModelCheckpoint('./models/model{epoch:08d}.ckpt', save_freq=save_freq, save_weights_only=\"true\")\n",
    "                                                                        \n",
    "\n"
   ]
  },
  {
   "cell_type": "code",
   "execution_count": 23,
   "metadata": {},
   "outputs": [],
   "source": [
    "model_tail_1 = tf.keras.Sequential([\n",
    "    tf.keras.layers.Dense(output_dim, activation='sigmoid'), \n",
    "    tf.keras.layers.Reshape((2, X.shape[1]))\n",
    "], name=\"name_unit\")\n",
    "\n",
    "model_tail_2 = tf.keras.Sequential([\n",
    "    tf.keras.layers.Dense(1, activation='relu')\n",
    "], name=\"qty\")\n",
    "\n",
    "model_tail_3 = tf.keras.Sequential([\n",
    "    tf.keras.layers.Dense(3, activation='softmax')\n",
    "], name=\"qty_decimal\")\n",
    "\n",
    "\n",
    "\n",
    "def build_model(inference=False):\n",
    "    model_input = tf.keras.layers.Input(shape=[X.shape[1]])\n",
    "    features = model_head(model_input)\n",
    "    model_output1 = model_tail_1(features)\n",
    "    model_output2 = model_tail_2(features)\n",
    "    model_output3 = model_tail_3(features)\n",
    "\n",
    "    model = tf.keras.Model(inputs=model_input, outputs=[model_output1, model_output2, model_output3])\n",
    "\n",
    "    TAIL1_WEIGHT = 8\n",
    "    TAIL2_WEIGHT = 2\n",
    "    TAIL3_WEIGHT = 0.2\n",
    "\n",
    "\n",
    "    if not inference:\n",
    "        model.compile(\n",
    "            optimizer=\"Adam\",\n",
    "            loss={\"name_unit\": \"binary_crossentropy\", \"qty\": \"huber\", \"qty_decimal\": \"categorical_crossentropy\"},  \n",
    "            loss_weights={\"name_unit\": TAIL1_WEIGHT, \"qty\": TAIL2_WEIGHT, \"qty_decimal\": TAIL3_WEIGHT},\n",
    "            metrics={\"name_unit\": [name_f1_score, unit_f1_score, name_percent_part_correct], \"qty\": \"mse\", \"qty_decimal\": [f1_score_qty_decimal]} \n",
    "        )\n",
    "\n",
    "    model.summary()\n",
    "    return model\n",
    "\n"
   ]
  },
  {
   "cell_type": "code",
   "execution_count": 24,
   "metadata": {},
   "outputs": [
    {
     "name": "stdout",
     "output_type": "stream",
     "text": [
      "Model: \"model\"\n",
      "__________________________________________________________________________________________________\n",
      "Layer (type)                    Output Shape         Param #     Connected to                     \n",
      "==================================================================================================\n",
      "input_1 (InputLayer)            [(None, 60)]         0                                            \n",
      "__________________________________________________________________________________________________\n",
      "model_head (Sequential)         (None, 256)          19269876    input_1[0][0]                    \n",
      "__________________________________________________________________________________________________\n",
      "name_unit (Sequential)          (None, 2, 60)        30840       model_head[0][0]                 \n",
      "__________________________________________________________________________________________________\n",
      "qty (Sequential)                (None, 1)            257         model_head[0][0]                 \n",
      "__________________________________________________________________________________________________\n",
      "qty_decimal (Sequential)        (None, 3)            771         model_head[0][0]                 \n",
      "==================================================================================================\n",
      "Total params: 19,301,744\n",
      "Trainable params: 1,061,244\n",
      "Non-trainable params: 18,240,500\n",
      "__________________________________________________________________________________________________\n"
     ]
    }
   ],
   "source": [
    "model = build_model()"
   ]
  },
  {
   "cell_type": "code",
   "execution_count": 25,
   "metadata": {
    "scrolled": true
   },
   "outputs": [
    {
     "name": "stdout",
     "output_type": "stream",
     "text": [
      "Epoch 1/50\n",
      "WARNING:tensorflow:From /Users/williamwhite/Documents/ingredients_2_vec/venv/lib/python3.7/site-packages/tensorflow/python/ops/array_ops.py:5049: calling gather (from tensorflow.python.ops.array_ops) with validate_indices is deprecated and will be removed in a future version.\n",
      "Instructions for updating:\n",
      "The `validate_indices` argument has no effect. Indices are always validated on CPU and never validated on GPU.\n",
      "2129/2129 [==============================] - 114s 51ms/step - loss: 4.7646 - name_unit_loss: 0.0345 - qty_loss: 2.2197 - qty_decimal_loss: 0.2449 - name_unit_name_f1_score: 0.4424 - name_unit_unit_f1_score: 0.5439 - name_unit_name_percent_part_correct: 0.6909 - qty_mse: 267.5181 - qty_decimal_f1_score: 0.8950 - val_loss: 4.6765 - val_name_unit_loss: 0.0182 - val_qty_loss: 2.2529 - val_qty_decimal_loss: 0.1236 - val_name_unit_name_f1_score: 0.6278 - val_name_unit_unit_f1_score: 0.7417 - val_name_unit_name_percent_part_correct: 0.8919 - val_qty_mse: 330.7763 - val_qty_decimal_f1_score: 0.9626\n",
      "Epoch 2/50\n",
      "2129/2129 [==============================] - 116s 55ms/step - loss: 4.5798 - name_unit_loss: 0.0164 - qty_loss: 2.2171 - qty_decimal_loss: 0.0697 - name_unit_name_f1_score: 0.6934 - name_unit_unit_f1_score: 0.7895 - name_unit_name_percent_part_correct: 0.9445 - qty_mse: 267.2274 - qty_decimal_f1_score: 0.9837 - val_loss: 4.6179 - val_name_unit_loss: 0.0123 - val_qty_loss: 2.2529 - val_qty_decimal_loss: 0.0665 - val_name_unit_name_f1_score: 0.7393 - val_name_unit_unit_f1_score: 0.8201 - val_name_unit_name_percent_part_correct: 0.9733 - val_qty_mse: 330.7763 - val_qty_decimal_f1_score: 0.9800\n",
      "Epoch 3/50\n",
      "2129/2129 [==============================] - 109s 51ms/step - loss: 4.5438 - name_unit_loss: 0.0126 - qty_loss: 2.2171 - qty_decimal_loss: 0.0434 - name_unit_name_f1_score: 0.7670 - name_unit_unit_f1_score: 0.8390 - name_unit_name_percent_part_correct: 0.9762 - qty_mse: 267.2278 - qty_decimal_f1_score: 0.9890 - val_loss: 4.5936 - val_name_unit_loss: 0.0102 - val_qty_loss: 2.2529 - val_qty_decimal_loss: 0.0319 - val_name_unit_name_f1_score: 0.7882 - val_name_unit_unit_f1_score: 0.8543 - val_name_unit_name_percent_part_correct: 0.9836 - val_qty_mse: 330.7763 - val_qty_decimal_f1_score: 0.9909\n",
      "Epoch 4/50\n",
      "2129/2129 [==============================] - 107s 50ms/step - loss: 4.5341 - name_unit_loss: 0.0114 - qty_loss: 2.2173 - qty_decimal_loss: 0.0401 - name_unit_name_f1_score: 0.8028 - name_unit_unit_f1_score: 0.8648 - name_unit_name_percent_part_correct: 0.9833 - qty_mse: 267.2327 - qty_decimal_f1_score: 0.9896 - val_loss: 4.5886 - val_name_unit_loss: 0.0095 - val_qty_loss: 2.2529 - val_qty_decimal_loss: 0.0325 - val_name_unit_name_f1_score: 0.8149 - val_name_unit_unit_f1_score: 0.8737 - val_name_unit_name_percent_part_correct: 0.9883 - val_qty_mse: 330.7763 - val_qty_decimal_f1_score: 0.9901\n",
      "Epoch 5/50\n",
      "2129/2129 [==============================] - 107s 50ms/step - loss: 4.5242 - name_unit_loss: 0.0103 - qty_loss: 2.2172 - qty_decimal_loss: 0.0353 - name_unit_name_f1_score: 0.8242 - name_unit_unit_f1_score: 0.8804 - name_unit_name_percent_part_correct: 0.9867 - qty_mse: 267.2289 - qty_decimal_f1_score: 0.9908 - val_loss: 4.5846 - val_name_unit_loss: 0.0091 - val_qty_loss: 2.2529 - val_qty_decimal_loss: 0.0301 - val_name_unit_name_f1_score: 0.8323 - val_name_unit_unit_f1_score: 0.8864 - val_name_unit_name_percent_part_correct: 0.9886 - val_qty_mse: 330.7763 - val_qty_decimal_f1_score: 0.9917\n",
      "Epoch 6/50\n",
      "2129/2129 [==============================] - 108s 51ms/step - loss: 4.5170 - name_unit_loss: 0.0096 - qty_loss: 2.2171 - qty_decimal_loss: 0.0311 - name_unit_name_f1_score: 0.8389 - name_unit_unit_f1_score: 0.8913 - name_unit_name_percent_part_correct: 0.9898 - qty_mse: 267.2275 - qty_decimal_f1_score: 0.9919 - val_loss: 4.5808 - val_name_unit_loss: 0.0087 - val_qty_loss: 2.2529 - val_qty_decimal_loss: 0.0282 - val_name_unit_name_f1_score: 0.8448 - val_name_unit_unit_f1_score: 0.8956 - val_name_unit_name_percent_part_correct: 0.9926 - val_qty_mse: 330.7763 - val_qty_decimal_f1_score: 0.9922\n",
      "Epoch 7/50\n",
      "2129/2129 [==============================] - 114s 53ms/step - loss: 4.5130 - name_unit_loss: 0.0091 - qty_loss: 2.2171 - qty_decimal_loss: 0.0297 - name_unit_name_f1_score: 0.8499 - name_unit_unit_f1_score: 0.8993 - name_unit_name_percent_part_correct: 0.9913 - qty_mse: 267.2278 - qty_decimal_f1_score: 0.9922 - val_loss: 4.5796 - val_name_unit_loss: 0.0086 - val_qty_loss: 2.2529 - val_qty_decimal_loss: 0.0272 - val_name_unit_name_f1_score: 0.8543 - val_name_unit_unit_f1_score: 0.9026 - val_name_unit_name_percent_part_correct: 0.9918 - val_qty_mse: 330.7763 - val_qty_decimal_f1_score: 0.9923\n",
      "Epoch 8/50\n",
      "2129/2129 [==============================] - 112s 53ms/step - loss: 4.5102 - name_unit_loss: 0.0088 - qty_loss: 2.2171 - qty_decimal_loss: 0.0279 - name_unit_name_f1_score: 0.8582 - name_unit_unit_f1_score: 0.9055 - name_unit_name_percent_part_correct: 0.9925 - qty_mse: 267.2280 - qty_decimal_f1_score: 0.9927 - val_loss: 4.5775 - val_name_unit_loss: 0.0083 - val_qty_loss: 2.2529 - val_qty_decimal_loss: 0.0260 - val_name_unit_name_f1_score: 0.8616 - val_name_unit_unit_f1_score: 0.9080 - val_name_unit_name_percent_part_correct: 0.9927 - val_qty_mse: 330.7763 - val_qty_decimal_f1_score: 0.9927\n",
      "Epoch 9/50\n",
      "2129/2129 [==============================] - 111s 52ms/step - loss: 4.5106 - name_unit_loss: 0.0088 - qty_loss: 2.2173 - qty_decimal_loss: 0.0284 - name_unit_name_f1_score: 0.8646 - name_unit_unit_f1_score: 0.9102 - name_unit_name_percent_part_correct: 0.9922 - qty_mse: 267.2333 - qty_decimal_f1_score: 0.9926 - val_loss: 4.5767 - val_name_unit_loss: 0.0082 - val_qty_loss: 2.2529 - val_qty_decimal_loss: 0.0256 - val_name_unit_name_f1_score: 0.8673 - val_name_unit_unit_f1_score: 0.9121 - val_name_unit_name_percent_part_correct: 0.9939 - val_qty_mse: 330.7763 - val_qty_decimal_f1_score: 0.9934\n",
      "Epoch 10/50\n",
      "2129/2129 [==============================] - 116s 55ms/step - loss: 4.5054 - name_unit_loss: 0.0083 - qty_loss: 2.2171 - qty_decimal_loss: 0.0252 - name_unit_name_f1_score: 0.8698 - name_unit_unit_f1_score: 0.9139 - name_unit_name_percent_part_correct: 0.9942 - qty_mse: 267.2282 - qty_decimal_f1_score: 0.9935 - val_loss: 4.5758 - val_name_unit_loss: 0.0081 - val_qty_loss: 2.2529 - val_qty_decimal_loss: 0.0249 - val_name_unit_name_f1_score: 0.8722 - val_name_unit_unit_f1_score: 0.9156 - val_name_unit_name_percent_part_correct: 0.9936 - val_qty_mse: 330.7763 - val_qty_decimal_f1_score: 0.9934\n",
      "Epoch 11/50\n",
      "2129/2129 [==============================] - 113s 53ms/step - loss: 4.5033 - name_unit_loss: 0.0080 - qty_loss: 2.2171 - qty_decimal_loss: 0.0239 - name_unit_name_f1_score: 0.8744 - name_unit_unit_f1_score: 0.9172 - name_unit_name_percent_part_correct: 0.9945 - qty_mse: 267.2278 - qty_decimal_f1_score: 0.9936 - val_loss: 4.5756 - val_name_unit_loss: 0.0081 - val_qty_loss: 2.2529 - val_qty_decimal_loss: 0.0258 - val_name_unit_name_f1_score: 0.8764 - val_name_unit_unit_f1_score: 0.9186 - val_name_unit_name_percent_part_correct: 0.9940 - val_qty_mse: 330.7763 - val_qty_decimal_f1_score: 0.9933\n",
      "Epoch 12/50\n",
      "2129/2129 [==============================] - 109s 51ms/step - loss: 4.5018 - name_unit_loss: 0.0079 - qty_loss: 2.2171 - qty_decimal_loss: 0.0231 - name_unit_name_f1_score: 0.8782 - name_unit_unit_f1_score: 0.9199 - name_unit_name_percent_part_correct: 0.9952 - qty_mse: 267.2279 - qty_decimal_f1_score: 0.9939 - val_loss: 4.5749 - val_name_unit_loss: 0.0080 - val_qty_loss: 2.2529 - val_qty_decimal_loss: 0.0252 - val_name_unit_name_f1_score: 0.8800 - val_name_unit_unit_f1_score: 0.9211 - val_name_unit_name_percent_part_correct: 0.9944 - val_qty_mse: 330.7763 - val_qty_decimal_f1_score: 0.9936\n",
      "Epoch 13/50\n",
      "2129/2129 [==============================] - 115s 54ms/step - loss: 4.5015 - name_unit_loss: 0.0078 - qty_loss: 2.2172 - qty_decimal_loss: 0.0234 - name_unit_name_f1_score: 0.8815 - name_unit_unit_f1_score: 0.9222 - name_unit_name_percent_part_correct: 0.9953 - qty_mse: 267.2281 - qty_decimal_f1_score: 0.9938 - val_loss: 4.5752 - val_name_unit_loss: 0.0081 - val_qty_loss: 2.2529 - val_qty_decimal_loss: 0.0246 - val_name_unit_name_f1_score: 0.8831 - val_name_unit_unit_f1_score: 0.9232 - val_name_unit_name_percent_part_correct: 0.9947 - val_qty_mse: 330.7763 - val_qty_decimal_f1_score: 0.9936\n"
     ]
    },
    {
     "name": "stdout",
     "output_type": "stream",
     "text": [
      "Epoch 14/50\n",
      "2129/2129 [==============================] - 116s 54ms/step - loss: 4.4983 - name_unit_loss: 0.0075 - qty_loss: 2.2171 - qty_decimal_loss: 0.0207 - name_unit_name_f1_score: 0.8845 - name_unit_unit_f1_score: 0.9242 - name_unit_name_percent_part_correct: 0.9958 - qty_mse: 267.2276 - qty_decimal_f1_score: 0.9944 - val_loss: 4.5763 - val_name_unit_loss: 0.0082 - val_qty_loss: 2.2529 - val_qty_decimal_loss: 0.0258 - val_name_unit_name_f1_score: 0.8859 - val_name_unit_unit_f1_score: 0.9251 - val_name_unit_name_percent_part_correct: 0.9943 - val_qty_mse: 330.7763 - val_qty_decimal_f1_score: 0.9934\n",
      "Epoch 15/50\n",
      "2129/2129 [==============================] - 113s 53ms/step - loss: 4.4969 - name_unit_loss: 0.0073 - qty_loss: 2.2171 - qty_decimal_loss: 0.0200 - name_unit_name_f1_score: 0.8872 - name_unit_unit_f1_score: 0.9260 - name_unit_name_percent_part_correct: 0.9960 - qty_mse: 267.2276 - qty_decimal_f1_score: 0.9944 - val_loss: 4.5771 - val_name_unit_loss: 0.0082 - val_qty_loss: 2.2529 - val_qty_decimal_loss: 0.0272 - val_name_unit_name_f1_score: 0.8884 - val_name_unit_unit_f1_score: 0.9268 - val_name_unit_name_percent_part_correct: 0.9949 - val_qty_mse: 330.7763 - val_qty_decimal_f1_score: 0.9935\n",
      "Epoch 16/50\n",
      "2129/2129 [==============================] - 113s 53ms/step - loss: 4.4956 - name_unit_loss: 0.0072 - qty_loss: 2.2171 - qty_decimal_loss: 0.0194 - name_unit_name_f1_score: 0.8896 - name_unit_unit_f1_score: 0.9276 - name_unit_name_percent_part_correct: 0.9963 - qty_mse: 267.2276 - qty_decimal_f1_score: 0.9946 - val_loss: 4.5766 - val_name_unit_loss: 0.0082 - val_qty_loss: 2.2529 - val_qty_decimal_loss: 0.0275 - val_name_unit_name_f1_score: 0.8907 - val_name_unit_unit_f1_score: 0.9283 - val_name_unit_name_percent_part_correct: 0.9954 - val_qty_mse: 330.7763 - val_qty_decimal_f1_score: 0.9938\n",
      "Epoch 17/50\n",
      "2129/2129 [==============================] - 116s 55ms/step - loss: 4.4942 - name_unit_loss: 0.0070 - qty_loss: 2.2171 - qty_decimal_loss: 0.0189 - name_unit_name_f1_score: 0.8918 - name_unit_unit_f1_score: 0.9291 - name_unit_name_percent_part_correct: 0.9966 - qty_mse: 267.2277 - qty_decimal_f1_score: 0.9949 - val_loss: 4.5782 - val_name_unit_loss: 0.0084 - val_qty_loss: 2.2529 - val_qty_decimal_loss: 0.0268 - val_name_unit_name_f1_score: 0.8928 - val_name_unit_unit_f1_score: 0.9297 - val_name_unit_name_percent_part_correct: 0.9943 - val_qty_mse: 330.7763 - val_qty_decimal_f1_score: 0.9936\n",
      "Epoch 18/50\n",
      "2129/2129 [==============================] - 115s 54ms/step - loss: 4.4926 - name_unit_loss: 0.0068 - qty_loss: 2.2171 - qty_decimal_loss: 0.0180 - name_unit_name_f1_score: 0.8938 - name_unit_unit_f1_score: 0.9304 - name_unit_name_percent_part_correct: 0.9966 - qty_mse: 267.2280 - qty_decimal_f1_score: 0.9950 - val_loss: 4.5767 - val_name_unit_loss: 0.0082 - val_qty_loss: 2.2529 - val_qty_decimal_loss: 0.0254 - val_name_unit_name_f1_score: 0.8947 - val_name_unit_unit_f1_score: 0.9310 - val_name_unit_name_percent_part_correct: 0.9950 - val_qty_mse: 330.7763 - val_qty_decimal_f1_score: 0.9936\n",
      "Epoch 19/50\n",
      "2129/2129 [==============================] - 112s 53ms/step - loss: 4.4916 - name_unit_loss: 0.0067 - qty_loss: 2.2171 - qty_decimal_loss: 0.0177 - name_unit_name_f1_score: 0.8957 - name_unit_unit_f1_score: 0.9316 - name_unit_name_percent_part_correct: 0.9969 - qty_mse: 267.2274 - qty_decimal_f1_score: 0.9950 - val_loss: 4.5786 - val_name_unit_loss: 0.0084 - val_qty_loss: 2.2529 - val_qty_decimal_loss: 0.0298 - val_name_unit_name_f1_score: 0.8965 - val_name_unit_unit_f1_score: 0.9322 - val_name_unit_name_percent_part_correct: 0.9949 - val_qty_mse: 330.7763 - val_qty_decimal_f1_score: 0.9932\n",
      "Epoch 20/50\n",
      " 182/2129 [=>............................] - ETA: 1:36 - loss: 4.4461 - name_unit_loss: 0.0065 - qty_loss: 2.1953 - qty_decimal_loss: 0.0197 - name_unit_name_f1_score: 0.8967 - name_unit_unit_f1_score: 0.9323 - name_unit_name_percent_part_correct: 0.9973 - qty_mse: 229.7426 - qty_decimal_f1_score: 0.9955"
     ]
    },
    {
     "ename": "KeyboardInterrupt",
     "evalue": "",
     "output_type": "error",
     "traceback": [
      "\u001b[0;31m---------------------------------------------------------------------------\u001b[0m",
      "\u001b[0;31mKeyboardInterrupt\u001b[0m                         Traceback (most recent call last)",
      "\u001b[0;32m/var/folders/8v/d50_nc2n7kj916nj0mct09f40000gn/T/ipykernel_11150/339935444.py\u001b[0m in \u001b[0;36m<module>\u001b[0;34m\u001b[0m\n\u001b[1;32m      1\u001b[0m model.fit(X_train, [y_train, y_qty_train, y_qty_decimal_train], batch_size=BATCH_SIZE, \n\u001b[0;32m----> 2\u001b[0;31m                               epochs=NUM_EPOCHS, validation_data=(X_test, [y_test, y_qty_test, y_qty_decimal_test]), callbacks= [checkpoint_callback])\n\u001b[0m",
      "\u001b[0;32m~/Documents/ingredients_2_vec/venv/lib/python3.7/site-packages/tensorflow/python/keras/engine/training.py\u001b[0m in \u001b[0;36mfit\u001b[0;34m(self, x, y, batch_size, epochs, verbose, callbacks, validation_split, validation_data, shuffle, class_weight, sample_weight, initial_epoch, steps_per_epoch, validation_steps, validation_batch_size, validation_freq, max_queue_size, workers, use_multiprocessing)\u001b[0m\n\u001b[1;32m   1181\u001b[0m                 _r=1):\n\u001b[1;32m   1182\u001b[0m               \u001b[0mcallbacks\u001b[0m\u001b[0;34m.\u001b[0m\u001b[0mon_train_batch_begin\u001b[0m\u001b[0;34m(\u001b[0m\u001b[0mstep\u001b[0m\u001b[0;34m)\u001b[0m\u001b[0;34m\u001b[0m\u001b[0;34m\u001b[0m\u001b[0m\n\u001b[0;32m-> 1183\u001b[0;31m               \u001b[0mtmp_logs\u001b[0m \u001b[0;34m=\u001b[0m \u001b[0mself\u001b[0m\u001b[0;34m.\u001b[0m\u001b[0mtrain_function\u001b[0m\u001b[0;34m(\u001b[0m\u001b[0miterator\u001b[0m\u001b[0;34m)\u001b[0m\u001b[0;34m\u001b[0m\u001b[0;34m\u001b[0m\u001b[0m\n\u001b[0m\u001b[1;32m   1184\u001b[0m               \u001b[0;32mif\u001b[0m \u001b[0mdata_handler\u001b[0m\u001b[0;34m.\u001b[0m\u001b[0mshould_sync\u001b[0m\u001b[0;34m:\u001b[0m\u001b[0;34m\u001b[0m\u001b[0;34m\u001b[0m\u001b[0m\n\u001b[1;32m   1185\u001b[0m                 \u001b[0mcontext\u001b[0m\u001b[0;34m.\u001b[0m\u001b[0masync_wait\u001b[0m\u001b[0;34m(\u001b[0m\u001b[0;34m)\u001b[0m\u001b[0;34m\u001b[0m\u001b[0;34m\u001b[0m\u001b[0m\n",
      "\u001b[0;32m~/Documents/ingredients_2_vec/venv/lib/python3.7/site-packages/tensorflow/python/eager/def_function.py\u001b[0m in \u001b[0;36m__call__\u001b[0;34m(self, *args, **kwds)\u001b[0m\n\u001b[1;32m    887\u001b[0m \u001b[0;34m\u001b[0m\u001b[0m\n\u001b[1;32m    888\u001b[0m       \u001b[0;32mwith\u001b[0m \u001b[0mOptionalXlaContext\u001b[0m\u001b[0;34m(\u001b[0m\u001b[0mself\u001b[0m\u001b[0;34m.\u001b[0m\u001b[0m_jit_compile\u001b[0m\u001b[0;34m)\u001b[0m\u001b[0;34m:\u001b[0m\u001b[0;34m\u001b[0m\u001b[0;34m\u001b[0m\u001b[0m\n\u001b[0;32m--> 889\u001b[0;31m         \u001b[0mresult\u001b[0m \u001b[0;34m=\u001b[0m \u001b[0mself\u001b[0m\u001b[0;34m.\u001b[0m\u001b[0m_call\u001b[0m\u001b[0;34m(\u001b[0m\u001b[0;34m*\u001b[0m\u001b[0margs\u001b[0m\u001b[0;34m,\u001b[0m \u001b[0;34m**\u001b[0m\u001b[0mkwds\u001b[0m\u001b[0;34m)\u001b[0m\u001b[0;34m\u001b[0m\u001b[0;34m\u001b[0m\u001b[0m\n\u001b[0m\u001b[1;32m    890\u001b[0m \u001b[0;34m\u001b[0m\u001b[0m\n\u001b[1;32m    891\u001b[0m       \u001b[0mnew_tracing_count\u001b[0m \u001b[0;34m=\u001b[0m \u001b[0mself\u001b[0m\u001b[0;34m.\u001b[0m\u001b[0mexperimental_get_tracing_count\u001b[0m\u001b[0;34m(\u001b[0m\u001b[0;34m)\u001b[0m\u001b[0;34m\u001b[0m\u001b[0;34m\u001b[0m\u001b[0m\n",
      "\u001b[0;32m~/Documents/ingredients_2_vec/venv/lib/python3.7/site-packages/tensorflow/python/eager/def_function.py\u001b[0m in \u001b[0;36m_call\u001b[0;34m(self, *args, **kwds)\u001b[0m\n\u001b[1;32m    915\u001b[0m       \u001b[0;31m# In this case we have created variables on the first call, so we run the\u001b[0m\u001b[0;34m\u001b[0m\u001b[0;34m\u001b[0m\u001b[0;34m\u001b[0m\u001b[0m\n\u001b[1;32m    916\u001b[0m       \u001b[0;31m# defunned version which is guaranteed to never create variables.\u001b[0m\u001b[0;34m\u001b[0m\u001b[0;34m\u001b[0m\u001b[0;34m\u001b[0m\u001b[0m\n\u001b[0;32m--> 917\u001b[0;31m       \u001b[0;32mreturn\u001b[0m \u001b[0mself\u001b[0m\u001b[0;34m.\u001b[0m\u001b[0m_stateless_fn\u001b[0m\u001b[0;34m(\u001b[0m\u001b[0;34m*\u001b[0m\u001b[0margs\u001b[0m\u001b[0;34m,\u001b[0m \u001b[0;34m**\u001b[0m\u001b[0mkwds\u001b[0m\u001b[0;34m)\u001b[0m  \u001b[0;31m# pylint: disable=not-callable\u001b[0m\u001b[0;34m\u001b[0m\u001b[0;34m\u001b[0m\u001b[0m\n\u001b[0m\u001b[1;32m    918\u001b[0m     \u001b[0;32melif\u001b[0m \u001b[0mself\u001b[0m\u001b[0;34m.\u001b[0m\u001b[0m_stateful_fn\u001b[0m \u001b[0;32mis\u001b[0m \u001b[0;32mnot\u001b[0m \u001b[0;32mNone\u001b[0m\u001b[0;34m:\u001b[0m\u001b[0;34m\u001b[0m\u001b[0;34m\u001b[0m\u001b[0m\n\u001b[1;32m    919\u001b[0m       \u001b[0;31m# Release the lock early so that multiple threads can perform the call\u001b[0m\u001b[0;34m\u001b[0m\u001b[0;34m\u001b[0m\u001b[0;34m\u001b[0m\u001b[0m\n",
      "\u001b[0;32m~/Documents/ingredients_2_vec/venv/lib/python3.7/site-packages/tensorflow/python/eager/function.py\u001b[0m in \u001b[0;36m__call__\u001b[0;34m(self, *args, **kwargs)\u001b[0m\n\u001b[1;32m   3022\u001b[0m        filtered_flat_args) = self._maybe_define_function(args, kwargs)\n\u001b[1;32m   3023\u001b[0m     return graph_function._call_flat(\n\u001b[0;32m-> 3024\u001b[0;31m         filtered_flat_args, captured_inputs=graph_function.captured_inputs)  # pylint: disable=protected-access\n\u001b[0m\u001b[1;32m   3025\u001b[0m \u001b[0;34m\u001b[0m\u001b[0m\n\u001b[1;32m   3026\u001b[0m   \u001b[0;34m@\u001b[0m\u001b[0mproperty\u001b[0m\u001b[0;34m\u001b[0m\u001b[0;34m\u001b[0m\u001b[0m\n",
      "\u001b[0;32m~/Documents/ingredients_2_vec/venv/lib/python3.7/site-packages/tensorflow/python/eager/function.py\u001b[0m in \u001b[0;36m_call_flat\u001b[0;34m(self, args, captured_inputs, cancellation_manager)\u001b[0m\n\u001b[1;32m   1959\u001b[0m       \u001b[0;31m# No tape is watching; skip to running the function.\u001b[0m\u001b[0;34m\u001b[0m\u001b[0;34m\u001b[0m\u001b[0;34m\u001b[0m\u001b[0m\n\u001b[1;32m   1960\u001b[0m       return self._build_call_outputs(self._inference_function.call(\n\u001b[0;32m-> 1961\u001b[0;31m           ctx, args, cancellation_manager=cancellation_manager))\n\u001b[0m\u001b[1;32m   1962\u001b[0m     forward_backward = self._select_forward_and_backward_functions(\n\u001b[1;32m   1963\u001b[0m         \u001b[0margs\u001b[0m\u001b[0;34m,\u001b[0m\u001b[0;34m\u001b[0m\u001b[0;34m\u001b[0m\u001b[0m\n",
      "\u001b[0;32m~/Documents/ingredients_2_vec/venv/lib/python3.7/site-packages/tensorflow/python/eager/function.py\u001b[0m in \u001b[0;36mcall\u001b[0;34m(self, ctx, args, cancellation_manager)\u001b[0m\n\u001b[1;32m    594\u001b[0m               \u001b[0minputs\u001b[0m\u001b[0;34m=\u001b[0m\u001b[0margs\u001b[0m\u001b[0;34m,\u001b[0m\u001b[0;34m\u001b[0m\u001b[0;34m\u001b[0m\u001b[0m\n\u001b[1;32m    595\u001b[0m               \u001b[0mattrs\u001b[0m\u001b[0;34m=\u001b[0m\u001b[0mattrs\u001b[0m\u001b[0;34m,\u001b[0m\u001b[0;34m\u001b[0m\u001b[0;34m\u001b[0m\u001b[0m\n\u001b[0;32m--> 596\u001b[0;31m               ctx=ctx)\n\u001b[0m\u001b[1;32m    597\u001b[0m         \u001b[0;32melse\u001b[0m\u001b[0;34m:\u001b[0m\u001b[0;34m\u001b[0m\u001b[0;34m\u001b[0m\u001b[0m\n\u001b[1;32m    598\u001b[0m           outputs = execute.execute_with_cancellation(\n",
      "\u001b[0;32m~/Documents/ingredients_2_vec/venv/lib/python3.7/site-packages/tensorflow/python/eager/execute.py\u001b[0m in \u001b[0;36mquick_execute\u001b[0;34m(op_name, num_outputs, inputs, attrs, ctx, name)\u001b[0m\n\u001b[1;32m     58\u001b[0m     \u001b[0mctx\u001b[0m\u001b[0;34m.\u001b[0m\u001b[0mensure_initialized\u001b[0m\u001b[0;34m(\u001b[0m\u001b[0;34m)\u001b[0m\u001b[0;34m\u001b[0m\u001b[0;34m\u001b[0m\u001b[0m\n\u001b[1;32m     59\u001b[0m     tensors = pywrap_tfe.TFE_Py_Execute(ctx._handle, device_name, op_name,\n\u001b[0;32m---> 60\u001b[0;31m                                         inputs, attrs, num_outputs)\n\u001b[0m\u001b[1;32m     61\u001b[0m   \u001b[0;32mexcept\u001b[0m \u001b[0mcore\u001b[0m\u001b[0;34m.\u001b[0m\u001b[0m_NotOkStatusException\u001b[0m \u001b[0;32mas\u001b[0m \u001b[0me\u001b[0m\u001b[0;34m:\u001b[0m\u001b[0;34m\u001b[0m\u001b[0;34m\u001b[0m\u001b[0m\n\u001b[1;32m     62\u001b[0m     \u001b[0;32mif\u001b[0m \u001b[0mname\u001b[0m \u001b[0;32mis\u001b[0m \u001b[0;32mnot\u001b[0m \u001b[0;32mNone\u001b[0m\u001b[0;34m:\u001b[0m\u001b[0;34m\u001b[0m\u001b[0;34m\u001b[0m\u001b[0m\n",
      "\u001b[0;31mKeyboardInterrupt\u001b[0m: "
     ]
    }
   ],
   "source": [
    "model.fit(X_train, [y_train, y_qty_train, y_qty_decimal_train], batch_size=BATCH_SIZE, \n",
    "                              epochs=NUM_EPOCHS, validation_data=(X_test, [y_test, y_qty_test, y_qty_decimal_test]), callbacks= [checkpoint_callback])"
   ]
  },
  {
   "cell_type": "markdown",
   "metadata": {},
   "source": [
    "## Visualize Training"
   ]
  },
  {
   "cell_type": "code",
   "execution_count": 29,
   "metadata": {
    "scrolled": false
   },
   "outputs": [
    {
     "data": {
      "application/vnd.plotly.v1+json": {
       "config": {
        "plotlyServerURL": "https://plot.ly"
       },
       "data": [
        {
         "mode": "lines+markers",
         "name": "name_unit_name_f1_score",
         "type": "scatter",
         "x": [
          0,
          1,
          2,
          3,
          4,
          5,
          6,
          7,
          8,
          9,
          10,
          11,
          12,
          13,
          14,
          15,
          16,
          17,
          18,
          19,
          20,
          21,
          22,
          23,
          24,
          25,
          26,
          27,
          28,
          29,
          30,
          31,
          32,
          33,
          34,
          35,
          36,
          37,
          38,
          39,
          40,
          41,
          42,
          43,
          44,
          45,
          46,
          47,
          48,
          49
         ],
         "y": [
          0.3838310241699219,
          0.5479238629341125,
          0.6483234763145447,
          0.7071537971496582,
          0.7421261668205261,
          0.7648810148239136,
          0.7809926867485046,
          0.7932060360908508,
          0.8025986552238464,
          0.8101649880409241,
          0.8163489103317261,
          0.8215566277503967,
          0.8260473608970642,
          0.8298445343971252,
          0.8332172632217407,
          0.8362066149711609,
          0.8388810753822327,
          0.8412609100341797,
          0.8434402942657471,
          0.8454868197441101,
          0.8473228812217712,
          0.8490321040153503,
          0.8505957722663879,
          0.8520399332046509,
          0.8534188270568848,
          0.8547013998031616,
          0.8559197187423706,
          0.8570531010627747,
          0.8581316471099854,
          0.8591697216033936,
          0.8601482510566711,
          0.861074686050415,
          0.8619500994682312,
          0.8627535700798035,
          0.8635576367378235,
          0.8643154501914978,
          0.8650515675544739,
          0.8657398223876953,
          0.8664211630821228,
          0.867061972618103,
          0.8676710724830627,
          0.8682547807693481,
          0.8688110113143921,
          0.8693404197692871,
          0.8698424100875854,
          0.8703530430793762,
          0.8708533644676208,
          0.8713412284851074,
          0.8717934489250183,
          0.8722275495529175
         ]
        },
        {
         "mode": "lines+markers",
         "name": "val_name_unit_name_f1_score",
         "type": "scatter",
         "x": [
          0,
          1,
          2,
          3,
          4,
          5,
          6,
          7,
          8,
          9,
          10,
          11,
          12,
          13,
          14,
          15,
          16,
          17,
          18,
          19,
          20,
          21,
          22,
          23,
          24,
          25,
          26,
          27,
          28,
          29,
          30,
          31,
          32,
          33,
          34,
          35,
          36,
          37,
          38,
          39,
          40,
          41,
          42,
          43,
          44,
          45,
          46,
          47,
          48,
          49
         ],
         "y": [
          0.49544915556907654,
          0.6050053238868713,
          0.6826329827308655,
          0.7270920276641846,
          0.7548224925994873,
          0.7736446261405945,
          0.7875319719314575,
          0.798206090927124,
          0.806634783744812,
          0.8133942484855652,
          0.8190964460372925,
          0.8239107728004456,
          0.8280642032623291,
          0.8315950632095337,
          0.8347563147544861,
          0.8375952243804932,
          0.8400970101356506,
          0.8423780202865601,
          0.8444874286651611,
          0.8464128375053406,
          0.8481948375701904,
          0.8498351573944092,
          0.8513282537460327,
          0.852739155292511,
          0.8540734052658081,
          0.855316698551178,
          0.8564876914024353,
          0.8575912714004517,
          0.8586610555648804,
          0.8596597909927368,
          0.8606218099594116,
          0.8615020513534546,
          0.8623554110527039,
          0.8631564378738403,
          0.8639458417892456,
          0.8646851778030396,
          0.8653948307037354,
          0.8660794496536255,
          0.8667508363723755,
          0.8673713207244873,
          0.8679682612419128,
          0.8685353398323059,
          0.8690754771232605,
          0.8695913553237915,
          0.8701056838035583,
          0.8706139922142029,
          0.8711003065109253,
          0.8715621829032898,
          0.8720111846923828,
          0.8724439144134521
         ]
        },
        {
         "mode": "lines+markers",
         "name": "name_unit_unit_f1_score",
         "type": "scatter",
         "x": [
          0,
          1,
          2,
          3,
          4,
          5,
          6,
          7,
          8,
          9,
          10,
          11,
          12,
          13,
          14,
          15,
          16,
          17,
          18,
          19,
          20,
          21,
          22,
          23,
          24,
          25,
          26,
          27,
          28,
          29,
          30,
          31,
          32,
          33,
          34,
          35,
          36,
          37,
          38,
          39,
          40,
          41,
          42,
          43,
          44,
          45,
          46,
          47,
          48,
          49
         ],
         "y": [
          0.577374279499054,
          0.7821558117866516,
          0.8199986219406128,
          0.8405795097351074,
          0.8535599708557129,
          0.8625264167785645,
          0.8693158626556396,
          0.8746863007545471,
          0.8791502714157104,
          0.8828688263893127,
          0.8860863447189331,
          0.8889840245246887,
          0.8915770053863525,
          0.8938055038452148,
          0.8958773016929626,
          0.8976848125457764,
          0.8993433713912964,
          0.900840699672699,
          0.902267336845398,
          0.9036198258399963,
          0.9048465490341187,
          0.906000554561615,
          0.9070795774459839,
          0.9081205725669861,
          0.9090858697891235,
          0.9099671840667725,
          0.9108442068099976,
          0.9116590023040771,
          0.9124293327331543,
          0.9131556749343872,
          0.9138489365577698,
          0.9144826531410217,
          0.9151120185852051,
          0.9157108664512634,
          0.9162845611572266,
          0.9168258905410767,
          0.9173620939254761,
          0.9178681373596191,
          0.9183419942855835,
          0.9188174605369568,
          0.9192622900009155,
          0.9196860194206238,
          0.9201083183288574,
          0.9205136895179749,
          0.9208885431289673,
          0.9212576150894165,
          0.9216161370277405,
          0.9219724535942078,
          0.9223113059997559,
          0.9226234555244446
         ]
        },
        {
         "mode": "lines+markers",
         "name": "val_name_unit_unit_f1_score",
         "type": "scatter",
         "x": [
          0,
          1,
          2,
          3,
          4,
          5,
          6,
          7,
          8,
          9,
          10,
          11,
          12,
          13,
          14,
          15,
          16,
          17,
          18,
          19,
          20,
          21,
          22,
          23,
          24,
          25,
          26,
          27,
          28,
          29,
          30,
          31,
          32,
          33,
          34,
          35,
          36,
          37,
          38,
          39,
          40,
          41,
          42,
          43,
          44,
          45,
          46,
          47,
          48,
          49
         ],
         "y": [
          0.7469143867492676,
          0.8048152327537537,
          0.8319275379180908,
          0.8478822708129883,
          0.858495831489563,
          0.8661263585090637,
          0.872175395488739,
          0.8770484328269958,
          0.8811429142951965,
          0.8845375180244446,
          0.8875718712806702,
          0.8903364539146423,
          0.8927326798439026,
          0.8948493599891663,
          0.8968172073364258,
          0.898512601852417,
          0.9001008868217468,
          0.9015668630599976,
          0.9029582142829895,
          0.9042431712150574,
          0.9054303169250488,
          0.9065449833869934,
          0.9076020121574402,
          0.9086090922355652,
          0.9095372557640076,
          0.9104023575782776,
          0.9112538695335388,
          0.9120545983314514,
          0.9128009080886841,
          0.9135031700134277,
          0.9141759872436523,
          0.9148024916648865,
          0.9154090881347656,
          0.9160047173500061,
          0.916563093662262,
          0.9171040654182434,
          0.9176163077354431,
          0.9181025624275208,
          0.9185900688171387,
          0.9190448522567749,
          0.9194785952568054,
          0.9198992252349854,
          0.9203115701675415,
          0.9206963777542114,
          0.9210737943649292,
          0.9214446544647217,
          0.9217933416366577,
          0.9221469759941101,
          0.9224662780761719,
          0.9227868318557739
         ]
        },
        {
         "mode": "lines+markers",
         "name": "name_unit_name_percent_part_correct",
         "type": "scatter",
         "x": [
          0,
          1,
          2,
          3,
          4,
          5,
          6,
          7,
          8,
          9,
          10,
          11,
          12,
          13,
          14,
          15,
          16,
          17,
          18,
          19,
          20,
          21,
          22,
          23,
          24,
          25,
          26,
          27,
          28,
          29,
          30,
          31,
          32,
          33,
          34,
          35,
          36,
          37,
          38,
          39,
          40,
          41,
          42,
          43,
          44,
          45,
          46,
          47,
          48,
          49
         ],
         "y": [
          0.55544114112854,
          0.7906701564788818,
          0.9260470867156982,
          0.9529268145561218,
          0.9616926312446594,
          0.9635956287384033,
          0.966614305973053,
          0.968021810054779,
          0.9687895774841309,
          0.9690244197845459,
          0.9704577326774597,
          0.9709200859069824,
          0.9717618823051453,
          0.9711454510688782,
          0.9730998277664185,
          0.9735938310623169,
          0.9733273386955261,
          0.9739980697631836,
          0.9758396148681641,
          0.9753992557525635,
          0.9767987132072449,
          0.9771436452865601,
          0.9765690565109253,
          0.9758542776107788,
          0.9777748584747314,
          0.9769625067710876,
          0.9780368804931641,
          0.9780295491218567,
          0.9786995649337769,
          0.9789050817489624,
          0.9790688157081604,
          0.9787927865982056,
          0.9799280762672424,
          0.9800132513046265,
          0.9800792932510376,
          0.9798100590705872,
          0.9800449013710022,
          0.9802826046943665,
          0.9804829955101013,
          0.9809725284576416,
          0.9806957840919495,
          0.9808793067932129,
          0.9803091287612915,
          0.980901300907135,
          0.9816991090774536,
          0.9819750785827637,
          0.982327401638031,
          0.9815155863761902,
          0.9818847179412842,
          0.9816058278083801
         ]
        },
        {
         "mode": "lines+markers",
         "name": "val_name_unit_name_percent_part_correct",
         "type": "scatter",
         "x": [
          0,
          1,
          2,
          3,
          4,
          5,
          6,
          7,
          8,
          9,
          10,
          11,
          12,
          13,
          14,
          15,
          16,
          17,
          18,
          19,
          20,
          21,
          22,
          23,
          24,
          25,
          26,
          27,
          28,
          29,
          30,
          31,
          32,
          33,
          34,
          35,
          36,
          37,
          38,
          39,
          40,
          41,
          42,
          43,
          44,
          45,
          46,
          47,
          48,
          49
         ],
         "y": [
          0.6701544523239136,
          0.9306402206420898,
          0.9524529576301575,
          0.9684298038482666,
          0.9658477902412415,
          0.9708899855613708,
          0.9725023508071899,
          0.973499059677124,
          0.9776031970977783,
          0.9753459095954895,
          0.97780841588974,
          0.9768117070198059,
          0.9791275858879089,
          0.9784826636314392,
          0.9797138571739197,
          0.9767823815345764,
          0.9797138571739197,
          0.9794207215309143,
          0.9804760813713074,
          0.9803881049156189,
          0.9788637161254883,
          0.982498824596405,
          0.9812968969345093,
          0.9826160669326782,
          0.981941819190979,
          0.9841991066932678,
          0.9826453924179077,
          0.9831730723381042,
          0.9810916781425476,
          0.9841404557228088,
          0.9831730723381042,
          0.982498824596405,
          0.9827040433883667,
          0.9826160669326782,
          0.9831144213676453,
          0.9847267866134644,
          0.9834662079811096,
          0.9843456745147705,
          0.984316349029541,
          0.9845508933067322,
          0.9840232133865356,
          0.9842284321784973,
          0.9841111898422241,
          0.9839938879013062,
          0.9853717088699341,
          0.9845508933067322,
          0.9850785732269287,
          0.9854303598403931,
          0.9832610487937927,
          0.9854889512062073
         ]
        }
       ],
       "layout": {
        "legend": {
         "font": {
          "size": 16
         },
         "traceorder": "reversed",
         "y": 0.5
        },
        "template": {
         "data": {
          "bar": [
           {
            "error_x": {
             "color": "#2a3f5f"
            },
            "error_y": {
             "color": "#2a3f5f"
            },
            "marker": {
             "line": {
              "color": "#E5ECF6",
              "width": 0.5
             },
             "pattern": {
              "fillmode": "overlay",
              "size": 10,
              "solidity": 0.2
             }
            },
            "type": "bar"
           }
          ],
          "barpolar": [
           {
            "marker": {
             "line": {
              "color": "#E5ECF6",
              "width": 0.5
             },
             "pattern": {
              "fillmode": "overlay",
              "size": 10,
              "solidity": 0.2
             }
            },
            "type": "barpolar"
           }
          ],
          "carpet": [
           {
            "aaxis": {
             "endlinecolor": "#2a3f5f",
             "gridcolor": "white",
             "linecolor": "white",
             "minorgridcolor": "white",
             "startlinecolor": "#2a3f5f"
            },
            "baxis": {
             "endlinecolor": "#2a3f5f",
             "gridcolor": "white",
             "linecolor": "white",
             "minorgridcolor": "white",
             "startlinecolor": "#2a3f5f"
            },
            "type": "carpet"
           }
          ],
          "choropleth": [
           {
            "colorbar": {
             "outlinewidth": 0,
             "ticks": ""
            },
            "type": "choropleth"
           }
          ],
          "contour": [
           {
            "colorbar": {
             "outlinewidth": 0,
             "ticks": ""
            },
            "colorscale": [
             [
              0,
              "#0d0887"
             ],
             [
              0.1111111111111111,
              "#46039f"
             ],
             [
              0.2222222222222222,
              "#7201a8"
             ],
             [
              0.3333333333333333,
              "#9c179e"
             ],
             [
              0.4444444444444444,
              "#bd3786"
             ],
             [
              0.5555555555555556,
              "#d8576b"
             ],
             [
              0.6666666666666666,
              "#ed7953"
             ],
             [
              0.7777777777777778,
              "#fb9f3a"
             ],
             [
              0.8888888888888888,
              "#fdca26"
             ],
             [
              1,
              "#f0f921"
             ]
            ],
            "type": "contour"
           }
          ],
          "contourcarpet": [
           {
            "colorbar": {
             "outlinewidth": 0,
             "ticks": ""
            },
            "type": "contourcarpet"
           }
          ],
          "heatmap": [
           {
            "colorbar": {
             "outlinewidth": 0,
             "ticks": ""
            },
            "colorscale": [
             [
              0,
              "#0d0887"
             ],
             [
              0.1111111111111111,
              "#46039f"
             ],
             [
              0.2222222222222222,
              "#7201a8"
             ],
             [
              0.3333333333333333,
              "#9c179e"
             ],
             [
              0.4444444444444444,
              "#bd3786"
             ],
             [
              0.5555555555555556,
              "#d8576b"
             ],
             [
              0.6666666666666666,
              "#ed7953"
             ],
             [
              0.7777777777777778,
              "#fb9f3a"
             ],
             [
              0.8888888888888888,
              "#fdca26"
             ],
             [
              1,
              "#f0f921"
             ]
            ],
            "type": "heatmap"
           }
          ],
          "heatmapgl": [
           {
            "colorbar": {
             "outlinewidth": 0,
             "ticks": ""
            },
            "colorscale": [
             [
              0,
              "#0d0887"
             ],
             [
              0.1111111111111111,
              "#46039f"
             ],
             [
              0.2222222222222222,
              "#7201a8"
             ],
             [
              0.3333333333333333,
              "#9c179e"
             ],
             [
              0.4444444444444444,
              "#bd3786"
             ],
             [
              0.5555555555555556,
              "#d8576b"
             ],
             [
              0.6666666666666666,
              "#ed7953"
             ],
             [
              0.7777777777777778,
              "#fb9f3a"
             ],
             [
              0.8888888888888888,
              "#fdca26"
             ],
             [
              1,
              "#f0f921"
             ]
            ],
            "type": "heatmapgl"
           }
          ],
          "histogram": [
           {
            "marker": {
             "pattern": {
              "fillmode": "overlay",
              "size": 10,
              "solidity": 0.2
             }
            },
            "type": "histogram"
           }
          ],
          "histogram2d": [
           {
            "colorbar": {
             "outlinewidth": 0,
             "ticks": ""
            },
            "colorscale": [
             [
              0,
              "#0d0887"
             ],
             [
              0.1111111111111111,
              "#46039f"
             ],
             [
              0.2222222222222222,
              "#7201a8"
             ],
             [
              0.3333333333333333,
              "#9c179e"
             ],
             [
              0.4444444444444444,
              "#bd3786"
             ],
             [
              0.5555555555555556,
              "#d8576b"
             ],
             [
              0.6666666666666666,
              "#ed7953"
             ],
             [
              0.7777777777777778,
              "#fb9f3a"
             ],
             [
              0.8888888888888888,
              "#fdca26"
             ],
             [
              1,
              "#f0f921"
             ]
            ],
            "type": "histogram2d"
           }
          ],
          "histogram2dcontour": [
           {
            "colorbar": {
             "outlinewidth": 0,
             "ticks": ""
            },
            "colorscale": [
             [
              0,
              "#0d0887"
             ],
             [
              0.1111111111111111,
              "#46039f"
             ],
             [
              0.2222222222222222,
              "#7201a8"
             ],
             [
              0.3333333333333333,
              "#9c179e"
             ],
             [
              0.4444444444444444,
              "#bd3786"
             ],
             [
              0.5555555555555556,
              "#d8576b"
             ],
             [
              0.6666666666666666,
              "#ed7953"
             ],
             [
              0.7777777777777778,
              "#fb9f3a"
             ],
             [
              0.8888888888888888,
              "#fdca26"
             ],
             [
              1,
              "#f0f921"
             ]
            ],
            "type": "histogram2dcontour"
           }
          ],
          "mesh3d": [
           {
            "colorbar": {
             "outlinewidth": 0,
             "ticks": ""
            },
            "type": "mesh3d"
           }
          ],
          "parcoords": [
           {
            "line": {
             "colorbar": {
              "outlinewidth": 0,
              "ticks": ""
             }
            },
            "type": "parcoords"
           }
          ],
          "pie": [
           {
            "automargin": true,
            "type": "pie"
           }
          ],
          "scatter": [
           {
            "marker": {
             "colorbar": {
              "outlinewidth": 0,
              "ticks": ""
             }
            },
            "type": "scatter"
           }
          ],
          "scatter3d": [
           {
            "line": {
             "colorbar": {
              "outlinewidth": 0,
              "ticks": ""
             }
            },
            "marker": {
             "colorbar": {
              "outlinewidth": 0,
              "ticks": ""
             }
            },
            "type": "scatter3d"
           }
          ],
          "scattercarpet": [
           {
            "marker": {
             "colorbar": {
              "outlinewidth": 0,
              "ticks": ""
             }
            },
            "type": "scattercarpet"
           }
          ],
          "scattergeo": [
           {
            "marker": {
             "colorbar": {
              "outlinewidth": 0,
              "ticks": ""
             }
            },
            "type": "scattergeo"
           }
          ],
          "scattergl": [
           {
            "marker": {
             "colorbar": {
              "outlinewidth": 0,
              "ticks": ""
             }
            },
            "type": "scattergl"
           }
          ],
          "scattermapbox": [
           {
            "marker": {
             "colorbar": {
              "outlinewidth": 0,
              "ticks": ""
             }
            },
            "type": "scattermapbox"
           }
          ],
          "scatterpolar": [
           {
            "marker": {
             "colorbar": {
              "outlinewidth": 0,
              "ticks": ""
             }
            },
            "type": "scatterpolar"
           }
          ],
          "scatterpolargl": [
           {
            "marker": {
             "colorbar": {
              "outlinewidth": 0,
              "ticks": ""
             }
            },
            "type": "scatterpolargl"
           }
          ],
          "scatterternary": [
           {
            "marker": {
             "colorbar": {
              "outlinewidth": 0,
              "ticks": ""
             }
            },
            "type": "scatterternary"
           }
          ],
          "surface": [
           {
            "colorbar": {
             "outlinewidth": 0,
             "ticks": ""
            },
            "colorscale": [
             [
              0,
              "#0d0887"
             ],
             [
              0.1111111111111111,
              "#46039f"
             ],
             [
              0.2222222222222222,
              "#7201a8"
             ],
             [
              0.3333333333333333,
              "#9c179e"
             ],
             [
              0.4444444444444444,
              "#bd3786"
             ],
             [
              0.5555555555555556,
              "#d8576b"
             ],
             [
              0.6666666666666666,
              "#ed7953"
             ],
             [
              0.7777777777777778,
              "#fb9f3a"
             ],
             [
              0.8888888888888888,
              "#fdca26"
             ],
             [
              1,
              "#f0f921"
             ]
            ],
            "type": "surface"
           }
          ],
          "table": [
           {
            "cells": {
             "fill": {
              "color": "#EBF0F8"
             },
             "line": {
              "color": "white"
             }
            },
            "header": {
             "fill": {
              "color": "#C8D4E3"
             },
             "line": {
              "color": "white"
             }
            },
            "type": "table"
           }
          ]
         },
         "layout": {
          "annotationdefaults": {
           "arrowcolor": "#2a3f5f",
           "arrowhead": 0,
           "arrowwidth": 1
          },
          "autotypenumbers": "strict",
          "coloraxis": {
           "colorbar": {
            "outlinewidth": 0,
            "ticks": ""
           }
          },
          "colorscale": {
           "diverging": [
            [
             0,
             "#8e0152"
            ],
            [
             0.1,
             "#c51b7d"
            ],
            [
             0.2,
             "#de77ae"
            ],
            [
             0.3,
             "#f1b6da"
            ],
            [
             0.4,
             "#fde0ef"
            ],
            [
             0.5,
             "#f7f7f7"
            ],
            [
             0.6,
             "#e6f5d0"
            ],
            [
             0.7,
             "#b8e186"
            ],
            [
             0.8,
             "#7fbc41"
            ],
            [
             0.9,
             "#4d9221"
            ],
            [
             1,
             "#276419"
            ]
           ],
           "sequential": [
            [
             0,
             "#0d0887"
            ],
            [
             0.1111111111111111,
             "#46039f"
            ],
            [
             0.2222222222222222,
             "#7201a8"
            ],
            [
             0.3333333333333333,
             "#9c179e"
            ],
            [
             0.4444444444444444,
             "#bd3786"
            ],
            [
             0.5555555555555556,
             "#d8576b"
            ],
            [
             0.6666666666666666,
             "#ed7953"
            ],
            [
             0.7777777777777778,
             "#fb9f3a"
            ],
            [
             0.8888888888888888,
             "#fdca26"
            ],
            [
             1,
             "#f0f921"
            ]
           ],
           "sequentialminus": [
            [
             0,
             "#0d0887"
            ],
            [
             0.1111111111111111,
             "#46039f"
            ],
            [
             0.2222222222222222,
             "#7201a8"
            ],
            [
             0.3333333333333333,
             "#9c179e"
            ],
            [
             0.4444444444444444,
             "#bd3786"
            ],
            [
             0.5555555555555556,
             "#d8576b"
            ],
            [
             0.6666666666666666,
             "#ed7953"
            ],
            [
             0.7777777777777778,
             "#fb9f3a"
            ],
            [
             0.8888888888888888,
             "#fdca26"
            ],
            [
             1,
             "#f0f921"
            ]
           ]
          },
          "colorway": [
           "#636efa",
           "#EF553B",
           "#00cc96",
           "#ab63fa",
           "#FFA15A",
           "#19d3f3",
           "#FF6692",
           "#B6E880",
           "#FF97FF",
           "#FECB52"
          ],
          "font": {
           "color": "#2a3f5f"
          },
          "geo": {
           "bgcolor": "white",
           "lakecolor": "white",
           "landcolor": "#E5ECF6",
           "showlakes": true,
           "showland": true,
           "subunitcolor": "white"
          },
          "hoverlabel": {
           "align": "left"
          },
          "hovermode": "closest",
          "mapbox": {
           "style": "light"
          },
          "paper_bgcolor": "white",
          "plot_bgcolor": "#E5ECF6",
          "polar": {
           "angularaxis": {
            "gridcolor": "white",
            "linecolor": "white",
            "ticks": ""
           },
           "bgcolor": "#E5ECF6",
           "radialaxis": {
            "gridcolor": "white",
            "linecolor": "white",
            "ticks": ""
           }
          },
          "scene": {
           "xaxis": {
            "backgroundcolor": "#E5ECF6",
            "gridcolor": "white",
            "gridwidth": 2,
            "linecolor": "white",
            "showbackground": true,
            "ticks": "",
            "zerolinecolor": "white"
           },
           "yaxis": {
            "backgroundcolor": "#E5ECF6",
            "gridcolor": "white",
            "gridwidth": 2,
            "linecolor": "white",
            "showbackground": true,
            "ticks": "",
            "zerolinecolor": "white"
           },
           "zaxis": {
            "backgroundcolor": "#E5ECF6",
            "gridcolor": "white",
            "gridwidth": 2,
            "linecolor": "white",
            "showbackground": true,
            "ticks": "",
            "zerolinecolor": "white"
           }
          },
          "shapedefaults": {
           "line": {
            "color": "#2a3f5f"
           }
          },
          "ternary": {
           "aaxis": {
            "gridcolor": "white",
            "linecolor": "white",
            "ticks": ""
           },
           "baxis": {
            "gridcolor": "white",
            "linecolor": "white",
            "ticks": ""
           },
           "bgcolor": "#E5ECF6",
           "caxis": {
            "gridcolor": "white",
            "linecolor": "white",
            "ticks": ""
           }
          },
          "title": {
           "x": 0.05
          },
          "xaxis": {
           "automargin": true,
           "gridcolor": "white",
           "linecolor": "white",
           "ticks": "",
           "title": {
            "standoff": 15
           },
           "zerolinecolor": "white",
           "zerolinewidth": 2
          },
          "yaxis": {
           "automargin": true,
           "gridcolor": "white",
           "linecolor": "white",
           "ticks": "",
           "title": {
            "standoff": 15
           },
           "zerolinecolor": "white",
           "zerolinewidth": 2
          }
         }
        },
        "title": {
         "text": "Training Results"
        }
       }
      },
      "text/html": [
       "<div>                            <div id=\"b8060cea-a602-4be8-90d9-6c9fe20ced4c\" class=\"plotly-graph-div\" style=\"height:525px; width:100%;\"></div>            <script type=\"text/javascript\">                require([\"plotly\"], function(Plotly) {                    window.PLOTLYENV=window.PLOTLYENV || {};                                    if (document.getElementById(\"b8060cea-a602-4be8-90d9-6c9fe20ced4c\")) {                    Plotly.newPlot(                        \"b8060cea-a602-4be8-90d9-6c9fe20ced4c\",                        [{\"name\":\"name_unit_name_f1_score\",\"x\":[0,1,2,3,4,5,6,7,8,9,10,11,12,13,14,15,16,17,18,19,20,21,22,23,24,25,26,27,28,29,30,31,32,33,34,35,36,37,38,39,40,41,42,43,44,45,46,47,48,49],\"y\":[0.3838310241699219,0.5479238629341125,0.6483234763145447,0.7071537971496582,0.7421261668205261,0.7648810148239136,0.7809926867485046,0.7932060360908508,0.8025986552238464,0.8101649880409241,0.8163489103317261,0.8215566277503967,0.8260473608970642,0.8298445343971252,0.8332172632217407,0.8362066149711609,0.8388810753822327,0.8412609100341797,0.8434402942657471,0.8454868197441101,0.8473228812217712,0.8490321040153503,0.8505957722663879,0.8520399332046509,0.8534188270568848,0.8547013998031616,0.8559197187423706,0.8570531010627747,0.8581316471099854,0.8591697216033936,0.8601482510566711,0.861074686050415,0.8619500994682312,0.8627535700798035,0.8635576367378235,0.8643154501914978,0.8650515675544739,0.8657398223876953,0.8664211630821228,0.867061972618103,0.8676710724830627,0.8682547807693481,0.8688110113143921,0.8693404197692871,0.8698424100875854,0.8703530430793762,0.8708533644676208,0.8713412284851074,0.8717934489250183,0.8722275495529175],\"type\":\"scatter\",\"mode\":\"lines+markers\"},{\"name\":\"val_name_unit_name_f1_score\",\"x\":[0,1,2,3,4,5,6,7,8,9,10,11,12,13,14,15,16,17,18,19,20,21,22,23,24,25,26,27,28,29,30,31,32,33,34,35,36,37,38,39,40,41,42,43,44,45,46,47,48,49],\"y\":[0.49544915556907654,0.6050053238868713,0.6826329827308655,0.7270920276641846,0.7548224925994873,0.7736446261405945,0.7875319719314575,0.798206090927124,0.806634783744812,0.8133942484855652,0.8190964460372925,0.8239107728004456,0.8280642032623291,0.8315950632095337,0.8347563147544861,0.8375952243804932,0.8400970101356506,0.8423780202865601,0.8444874286651611,0.8464128375053406,0.8481948375701904,0.8498351573944092,0.8513282537460327,0.852739155292511,0.8540734052658081,0.855316698551178,0.8564876914024353,0.8575912714004517,0.8586610555648804,0.8596597909927368,0.8606218099594116,0.8615020513534546,0.8623554110527039,0.8631564378738403,0.8639458417892456,0.8646851778030396,0.8653948307037354,0.8660794496536255,0.8667508363723755,0.8673713207244873,0.8679682612419128,0.8685353398323059,0.8690754771232605,0.8695913553237915,0.8701056838035583,0.8706139922142029,0.8711003065109253,0.8715621829032898,0.8720111846923828,0.8724439144134521],\"type\":\"scatter\",\"mode\":\"lines+markers\"},{\"name\":\"name_unit_unit_f1_score\",\"x\":[0,1,2,3,4,5,6,7,8,9,10,11,12,13,14,15,16,17,18,19,20,21,22,23,24,25,26,27,28,29,30,31,32,33,34,35,36,37,38,39,40,41,42,43,44,45,46,47,48,49],\"y\":[0.577374279499054,0.7821558117866516,0.8199986219406128,0.8405795097351074,0.8535599708557129,0.8625264167785645,0.8693158626556396,0.8746863007545471,0.8791502714157104,0.8828688263893127,0.8860863447189331,0.8889840245246887,0.8915770053863525,0.8938055038452148,0.8958773016929626,0.8976848125457764,0.8993433713912964,0.900840699672699,0.902267336845398,0.9036198258399963,0.9048465490341187,0.906000554561615,0.9070795774459839,0.9081205725669861,0.9090858697891235,0.9099671840667725,0.9108442068099976,0.9116590023040771,0.9124293327331543,0.9131556749343872,0.9138489365577698,0.9144826531410217,0.9151120185852051,0.9157108664512634,0.9162845611572266,0.9168258905410767,0.9173620939254761,0.9178681373596191,0.9183419942855835,0.9188174605369568,0.9192622900009155,0.9196860194206238,0.9201083183288574,0.9205136895179749,0.9208885431289673,0.9212576150894165,0.9216161370277405,0.9219724535942078,0.9223113059997559,0.9226234555244446],\"type\":\"scatter\",\"mode\":\"lines+markers\"},{\"name\":\"val_name_unit_unit_f1_score\",\"x\":[0,1,2,3,4,5,6,7,8,9,10,11,12,13,14,15,16,17,18,19,20,21,22,23,24,25,26,27,28,29,30,31,32,33,34,35,36,37,38,39,40,41,42,43,44,45,46,47,48,49],\"y\":[0.7469143867492676,0.8048152327537537,0.8319275379180908,0.8478822708129883,0.858495831489563,0.8661263585090637,0.872175395488739,0.8770484328269958,0.8811429142951965,0.8845375180244446,0.8875718712806702,0.8903364539146423,0.8927326798439026,0.8948493599891663,0.8968172073364258,0.898512601852417,0.9001008868217468,0.9015668630599976,0.9029582142829895,0.9042431712150574,0.9054303169250488,0.9065449833869934,0.9076020121574402,0.9086090922355652,0.9095372557640076,0.9104023575782776,0.9112538695335388,0.9120545983314514,0.9128009080886841,0.9135031700134277,0.9141759872436523,0.9148024916648865,0.9154090881347656,0.9160047173500061,0.916563093662262,0.9171040654182434,0.9176163077354431,0.9181025624275208,0.9185900688171387,0.9190448522567749,0.9194785952568054,0.9198992252349854,0.9203115701675415,0.9206963777542114,0.9210737943649292,0.9214446544647217,0.9217933416366577,0.9221469759941101,0.9224662780761719,0.9227868318557739],\"type\":\"scatter\",\"mode\":\"lines+markers\"},{\"name\":\"name_unit_name_percent_part_correct\",\"x\":[0,1,2,3,4,5,6,7,8,9,10,11,12,13,14,15,16,17,18,19,20,21,22,23,24,25,26,27,28,29,30,31,32,33,34,35,36,37,38,39,40,41,42,43,44,45,46,47,48,49],\"y\":[0.55544114112854,0.7906701564788818,0.9260470867156982,0.9529268145561218,0.9616926312446594,0.9635956287384033,0.966614305973053,0.968021810054779,0.9687895774841309,0.9690244197845459,0.9704577326774597,0.9709200859069824,0.9717618823051453,0.9711454510688782,0.9730998277664185,0.9735938310623169,0.9733273386955261,0.9739980697631836,0.9758396148681641,0.9753992557525635,0.9767987132072449,0.9771436452865601,0.9765690565109253,0.9758542776107788,0.9777748584747314,0.9769625067710876,0.9780368804931641,0.9780295491218567,0.9786995649337769,0.9789050817489624,0.9790688157081604,0.9787927865982056,0.9799280762672424,0.9800132513046265,0.9800792932510376,0.9798100590705872,0.9800449013710022,0.9802826046943665,0.9804829955101013,0.9809725284576416,0.9806957840919495,0.9808793067932129,0.9803091287612915,0.980901300907135,0.9816991090774536,0.9819750785827637,0.982327401638031,0.9815155863761902,0.9818847179412842,0.9816058278083801],\"type\":\"scatter\",\"mode\":\"lines+markers\"},{\"name\":\"val_name_unit_name_percent_part_correct\",\"x\":[0,1,2,3,4,5,6,7,8,9,10,11,12,13,14,15,16,17,18,19,20,21,22,23,24,25,26,27,28,29,30,31,32,33,34,35,36,37,38,39,40,41,42,43,44,45,46,47,48,49],\"y\":[0.6701544523239136,0.9306402206420898,0.9524529576301575,0.9684298038482666,0.9658477902412415,0.9708899855613708,0.9725023508071899,0.973499059677124,0.9776031970977783,0.9753459095954895,0.97780841588974,0.9768117070198059,0.9791275858879089,0.9784826636314392,0.9797138571739197,0.9767823815345764,0.9797138571739197,0.9794207215309143,0.9804760813713074,0.9803881049156189,0.9788637161254883,0.982498824596405,0.9812968969345093,0.9826160669326782,0.981941819190979,0.9841991066932678,0.9826453924179077,0.9831730723381042,0.9810916781425476,0.9841404557228088,0.9831730723381042,0.982498824596405,0.9827040433883667,0.9826160669326782,0.9831144213676453,0.9847267866134644,0.9834662079811096,0.9843456745147705,0.984316349029541,0.9845508933067322,0.9840232133865356,0.9842284321784973,0.9841111898422241,0.9839938879013062,0.9853717088699341,0.9845508933067322,0.9850785732269287,0.9854303598403931,0.9832610487937927,0.9854889512062073],\"type\":\"scatter\",\"mode\":\"lines+markers\"}],                        {\"template\":{\"data\":{\"bar\":[{\"error_x\":{\"color\":\"#2a3f5f\"},\"error_y\":{\"color\":\"#2a3f5f\"},\"marker\":{\"line\":{\"color\":\"#E5ECF6\",\"width\":0.5},\"pattern\":{\"fillmode\":\"overlay\",\"size\":10,\"solidity\":0.2}},\"type\":\"bar\"}],\"barpolar\":[{\"marker\":{\"line\":{\"color\":\"#E5ECF6\",\"width\":0.5},\"pattern\":{\"fillmode\":\"overlay\",\"size\":10,\"solidity\":0.2}},\"type\":\"barpolar\"}],\"carpet\":[{\"aaxis\":{\"endlinecolor\":\"#2a3f5f\",\"gridcolor\":\"white\",\"linecolor\":\"white\",\"minorgridcolor\":\"white\",\"startlinecolor\":\"#2a3f5f\"},\"baxis\":{\"endlinecolor\":\"#2a3f5f\",\"gridcolor\":\"white\",\"linecolor\":\"white\",\"minorgridcolor\":\"white\",\"startlinecolor\":\"#2a3f5f\"},\"type\":\"carpet\"}],\"choropleth\":[{\"colorbar\":{\"outlinewidth\":0,\"ticks\":\"\"},\"type\":\"choropleth\"}],\"contour\":[{\"colorbar\":{\"outlinewidth\":0,\"ticks\":\"\"},\"colorscale\":[[0.0,\"#0d0887\"],[0.1111111111111111,\"#46039f\"],[0.2222222222222222,\"#7201a8\"],[0.3333333333333333,\"#9c179e\"],[0.4444444444444444,\"#bd3786\"],[0.5555555555555556,\"#d8576b\"],[0.6666666666666666,\"#ed7953\"],[0.7777777777777778,\"#fb9f3a\"],[0.8888888888888888,\"#fdca26\"],[1.0,\"#f0f921\"]],\"type\":\"contour\"}],\"contourcarpet\":[{\"colorbar\":{\"outlinewidth\":0,\"ticks\":\"\"},\"type\":\"contourcarpet\"}],\"heatmap\":[{\"colorbar\":{\"outlinewidth\":0,\"ticks\":\"\"},\"colorscale\":[[0.0,\"#0d0887\"],[0.1111111111111111,\"#46039f\"],[0.2222222222222222,\"#7201a8\"],[0.3333333333333333,\"#9c179e\"],[0.4444444444444444,\"#bd3786\"],[0.5555555555555556,\"#d8576b\"],[0.6666666666666666,\"#ed7953\"],[0.7777777777777778,\"#fb9f3a\"],[0.8888888888888888,\"#fdca26\"],[1.0,\"#f0f921\"]],\"type\":\"heatmap\"}],\"heatmapgl\":[{\"colorbar\":{\"outlinewidth\":0,\"ticks\":\"\"},\"colorscale\":[[0.0,\"#0d0887\"],[0.1111111111111111,\"#46039f\"],[0.2222222222222222,\"#7201a8\"],[0.3333333333333333,\"#9c179e\"],[0.4444444444444444,\"#bd3786\"],[0.5555555555555556,\"#d8576b\"],[0.6666666666666666,\"#ed7953\"],[0.7777777777777778,\"#fb9f3a\"],[0.8888888888888888,\"#fdca26\"],[1.0,\"#f0f921\"]],\"type\":\"heatmapgl\"}],\"histogram\":[{\"marker\":{\"pattern\":{\"fillmode\":\"overlay\",\"size\":10,\"solidity\":0.2}},\"type\":\"histogram\"}],\"histogram2d\":[{\"colorbar\":{\"outlinewidth\":0,\"ticks\":\"\"},\"colorscale\":[[0.0,\"#0d0887\"],[0.1111111111111111,\"#46039f\"],[0.2222222222222222,\"#7201a8\"],[0.3333333333333333,\"#9c179e\"],[0.4444444444444444,\"#bd3786\"],[0.5555555555555556,\"#d8576b\"],[0.6666666666666666,\"#ed7953\"],[0.7777777777777778,\"#fb9f3a\"],[0.8888888888888888,\"#fdca26\"],[1.0,\"#f0f921\"]],\"type\":\"histogram2d\"}],\"histogram2dcontour\":[{\"colorbar\":{\"outlinewidth\":0,\"ticks\":\"\"},\"colorscale\":[[0.0,\"#0d0887\"],[0.1111111111111111,\"#46039f\"],[0.2222222222222222,\"#7201a8\"],[0.3333333333333333,\"#9c179e\"],[0.4444444444444444,\"#bd3786\"],[0.5555555555555556,\"#d8576b\"],[0.6666666666666666,\"#ed7953\"],[0.7777777777777778,\"#fb9f3a\"],[0.8888888888888888,\"#fdca26\"],[1.0,\"#f0f921\"]],\"type\":\"histogram2dcontour\"}],\"mesh3d\":[{\"colorbar\":{\"outlinewidth\":0,\"ticks\":\"\"},\"type\":\"mesh3d\"}],\"parcoords\":[{\"line\":{\"colorbar\":{\"outlinewidth\":0,\"ticks\":\"\"}},\"type\":\"parcoords\"}],\"pie\":[{\"automargin\":true,\"type\":\"pie\"}],\"scatter\":[{\"marker\":{\"colorbar\":{\"outlinewidth\":0,\"ticks\":\"\"}},\"type\":\"scatter\"}],\"scatter3d\":[{\"line\":{\"colorbar\":{\"outlinewidth\":0,\"ticks\":\"\"}},\"marker\":{\"colorbar\":{\"outlinewidth\":0,\"ticks\":\"\"}},\"type\":\"scatter3d\"}],\"scattercarpet\":[{\"marker\":{\"colorbar\":{\"outlinewidth\":0,\"ticks\":\"\"}},\"type\":\"scattercarpet\"}],\"scattergeo\":[{\"marker\":{\"colorbar\":{\"outlinewidth\":0,\"ticks\":\"\"}},\"type\":\"scattergeo\"}],\"scattergl\":[{\"marker\":{\"colorbar\":{\"outlinewidth\":0,\"ticks\":\"\"}},\"type\":\"scattergl\"}],\"scattermapbox\":[{\"marker\":{\"colorbar\":{\"outlinewidth\":0,\"ticks\":\"\"}},\"type\":\"scattermapbox\"}],\"scatterpolar\":[{\"marker\":{\"colorbar\":{\"outlinewidth\":0,\"ticks\":\"\"}},\"type\":\"scatterpolar\"}],\"scatterpolargl\":[{\"marker\":{\"colorbar\":{\"outlinewidth\":0,\"ticks\":\"\"}},\"type\":\"scatterpolargl\"}],\"scatterternary\":[{\"marker\":{\"colorbar\":{\"outlinewidth\":0,\"ticks\":\"\"}},\"type\":\"scatterternary\"}],\"surface\":[{\"colorbar\":{\"outlinewidth\":0,\"ticks\":\"\"},\"colorscale\":[[0.0,\"#0d0887\"],[0.1111111111111111,\"#46039f\"],[0.2222222222222222,\"#7201a8\"],[0.3333333333333333,\"#9c179e\"],[0.4444444444444444,\"#bd3786\"],[0.5555555555555556,\"#d8576b\"],[0.6666666666666666,\"#ed7953\"],[0.7777777777777778,\"#fb9f3a\"],[0.8888888888888888,\"#fdca26\"],[1.0,\"#f0f921\"]],\"type\":\"surface\"}],\"table\":[{\"cells\":{\"fill\":{\"color\":\"#EBF0F8\"},\"line\":{\"color\":\"white\"}},\"header\":{\"fill\":{\"color\":\"#C8D4E3\"},\"line\":{\"color\":\"white\"}},\"type\":\"table\"}]},\"layout\":{\"annotationdefaults\":{\"arrowcolor\":\"#2a3f5f\",\"arrowhead\":0,\"arrowwidth\":1},\"autotypenumbers\":\"strict\",\"coloraxis\":{\"colorbar\":{\"outlinewidth\":0,\"ticks\":\"\"}},\"colorscale\":{\"diverging\":[[0,\"#8e0152\"],[0.1,\"#c51b7d\"],[0.2,\"#de77ae\"],[0.3,\"#f1b6da\"],[0.4,\"#fde0ef\"],[0.5,\"#f7f7f7\"],[0.6,\"#e6f5d0\"],[0.7,\"#b8e186\"],[0.8,\"#7fbc41\"],[0.9,\"#4d9221\"],[1,\"#276419\"]],\"sequential\":[[0.0,\"#0d0887\"],[0.1111111111111111,\"#46039f\"],[0.2222222222222222,\"#7201a8\"],[0.3333333333333333,\"#9c179e\"],[0.4444444444444444,\"#bd3786\"],[0.5555555555555556,\"#d8576b\"],[0.6666666666666666,\"#ed7953\"],[0.7777777777777778,\"#fb9f3a\"],[0.8888888888888888,\"#fdca26\"],[1.0,\"#f0f921\"]],\"sequentialminus\":[[0.0,\"#0d0887\"],[0.1111111111111111,\"#46039f\"],[0.2222222222222222,\"#7201a8\"],[0.3333333333333333,\"#9c179e\"],[0.4444444444444444,\"#bd3786\"],[0.5555555555555556,\"#d8576b\"],[0.6666666666666666,\"#ed7953\"],[0.7777777777777778,\"#fb9f3a\"],[0.8888888888888888,\"#fdca26\"],[1.0,\"#f0f921\"]]},\"colorway\":[\"#636efa\",\"#EF553B\",\"#00cc96\",\"#ab63fa\",\"#FFA15A\",\"#19d3f3\",\"#FF6692\",\"#B6E880\",\"#FF97FF\",\"#FECB52\"],\"font\":{\"color\":\"#2a3f5f\"},\"geo\":{\"bgcolor\":\"white\",\"lakecolor\":\"white\",\"landcolor\":\"#E5ECF6\",\"showlakes\":true,\"showland\":true,\"subunitcolor\":\"white\"},\"hoverlabel\":{\"align\":\"left\"},\"hovermode\":\"closest\",\"mapbox\":{\"style\":\"light\"},\"paper_bgcolor\":\"white\",\"plot_bgcolor\":\"#E5ECF6\",\"polar\":{\"angularaxis\":{\"gridcolor\":\"white\",\"linecolor\":\"white\",\"ticks\":\"\"},\"bgcolor\":\"#E5ECF6\",\"radialaxis\":{\"gridcolor\":\"white\",\"linecolor\":\"white\",\"ticks\":\"\"}},\"scene\":{\"xaxis\":{\"backgroundcolor\":\"#E5ECF6\",\"gridcolor\":\"white\",\"gridwidth\":2,\"linecolor\":\"white\",\"showbackground\":true,\"ticks\":\"\",\"zerolinecolor\":\"white\"},\"yaxis\":{\"backgroundcolor\":\"#E5ECF6\",\"gridcolor\":\"white\",\"gridwidth\":2,\"linecolor\":\"white\",\"showbackground\":true,\"ticks\":\"\",\"zerolinecolor\":\"white\"},\"zaxis\":{\"backgroundcolor\":\"#E5ECF6\",\"gridcolor\":\"white\",\"gridwidth\":2,\"linecolor\":\"white\",\"showbackground\":true,\"ticks\":\"\",\"zerolinecolor\":\"white\"}},\"shapedefaults\":{\"line\":{\"color\":\"#2a3f5f\"}},\"ternary\":{\"aaxis\":{\"gridcolor\":\"white\",\"linecolor\":\"white\",\"ticks\":\"\"},\"baxis\":{\"gridcolor\":\"white\",\"linecolor\":\"white\",\"ticks\":\"\"},\"bgcolor\":\"#E5ECF6\",\"caxis\":{\"gridcolor\":\"white\",\"linecolor\":\"white\",\"ticks\":\"\"}},\"title\":{\"x\":0.05},\"xaxis\":{\"automargin\":true,\"gridcolor\":\"white\",\"linecolor\":\"white\",\"ticks\":\"\",\"title\":{\"standoff\":15},\"zerolinecolor\":\"white\",\"zerolinewidth\":2},\"yaxis\":{\"automargin\":true,\"gridcolor\":\"white\",\"linecolor\":\"white\",\"ticks\":\"\",\"title\":{\"standoff\":15},\"zerolinecolor\":\"white\",\"zerolinewidth\":2}}},\"legend\":{\"font\":{\"size\":16},\"y\":0.5,\"traceorder\":\"reversed\"},\"title\":{\"text\":\"Training Results\"}},                        {\"responsive\": true}                    ).then(function(){\n",
       "                            \n",
       "var gd = document.getElementById('b8060cea-a602-4be8-90d9-6c9fe20ced4c');\n",
       "var x = new MutationObserver(function (mutations, observer) {{\n",
       "        var display = window.getComputedStyle(gd).display;\n",
       "        if (!display || display === 'none') {{\n",
       "            console.log([gd, 'removed!']);\n",
       "            Plotly.purge(gd);\n",
       "            observer.disconnect();\n",
       "        }}\n",
       "}});\n",
       "\n",
       "// Listen for the removal of the full notebook cells\n",
       "var notebookContainer = gd.closest('#notebook-container');\n",
       "if (notebookContainer) {{\n",
       "    x.observe(notebookContainer, {childList: true});\n",
       "}}\n",
       "\n",
       "// Listen for the clearing of the current output cell\n",
       "var outputEl = gd.closest('.output');\n",
       "if (outputEl) {{\n",
       "    x.observe(outputEl, {childList: true});\n",
       "}}\n",
       "\n",
       "                        })                };                });            </script>        </div>"
      ]
     },
     "metadata": {},
     "output_type": "display_data"
    },
    {
     "data": {
      "application/vnd.plotly.v1+json": {
       "config": {
        "plotlyServerURL": "https://plot.ly"
       },
       "data": [
        {
         "mode": "lines+markers",
         "name": "loss",
         "type": "scatter",
         "x": [
          0,
          1,
          2,
          3,
          4,
          5,
          6,
          7,
          8,
          9,
          10,
          11,
          12,
          13,
          14,
          15,
          16,
          17,
          18,
          19,
          20,
          21,
          22,
          23,
          24,
          25,
          26,
          27,
          28,
          29,
          30,
          31,
          32,
          33,
          34,
          35,
          36,
          37,
          38,
          39,
          40,
          41,
          42,
          43,
          44,
          45,
          46,
          47,
          48,
          49
         ],
         "y": [
          1.5712202787399292,
          1.0904979705810547,
          0.9909365773200989,
          0.9125387668609619,
          0.8639563918113708,
          0.7736483216285706,
          0.7471696734428406,
          0.705354630947113,
          0.6669589281082153,
          0.637195348739624,
          0.6342642903327942,
          0.5774630308151245,
          0.6213043332099915,
          0.558049738407135,
          0.5508562922477722,
          0.558403730392456,
          0.520919144153595,
          0.5196195244789124,
          0.5022987723350525,
          0.4760250449180603,
          0.5048480033874512,
          0.493008017539978,
          0.4553685486316681,
          0.4446561634540558,
          0.45425835251808167,
          0.43020275235176086,
          0.4296969771385193,
          0.434231162071228,
          0.42428094148635864,
          0.41189274191856384,
          0.4037436842918396,
          0.4110974967479706,
          0.4154165983200073,
          0.4139624238014221,
          0.3806094229221344,
          0.3821761906147003,
          0.37632688879966736,
          0.37865397334098816,
          0.3843182325363159,
          0.3802163004875183,
          0.375612735748291,
          0.37585824728012085,
          0.37442299723625183,
          0.37081775069236755,
          0.35963600873947144,
          0.3573659360408783,
          0.3557751476764679,
          0.36555877327919006,
          0.350724995136261,
          0.3542208969593048
         ]
        },
        {
         "mode": "lines+markers",
         "name": "val_loss",
         "type": "scatter",
         "x": [
          0,
          1,
          2,
          3,
          4,
          5,
          6,
          7,
          8,
          9,
          10,
          11,
          12,
          13,
          14,
          15,
          16,
          17,
          18,
          19,
          20,
          21,
          22,
          23,
          24,
          25,
          26,
          27,
          28,
          29,
          30,
          31,
          32,
          33,
          34,
          35,
          36,
          37,
          38,
          39,
          40,
          41,
          42,
          43,
          44,
          45,
          46,
          47,
          48,
          49
         ],
         "y": [
          1.422806978225708,
          0.8618386387825012,
          0.943286120891571,
          0.7852397561073303,
          0.779161274433136,
          0.7878870964050293,
          0.8208774924278259,
          0.7822688817977905,
          0.7616085410118103,
          0.717216968536377,
          0.7214982509613037,
          0.7785235643386841,
          0.8712546825408936,
          0.7477064728736877,
          0.7256543040275574,
          0.766536295413971,
          0.7069985866546631,
          0.6265915036201477,
          0.6833721995353699,
          0.6796529293060303,
          0.6720408201217651,
          0.6853278875350952,
          0.7130303978919983,
          0.6720045804977417,
          0.6213643550872803,
          0.6742002964019775,
          0.6200864315032959,
          0.660647988319397,
          0.6164721846580505,
          0.6444501280784607,
          0.6185915470123291,
          0.655949592590332,
          0.6036437153816223,
          0.6214574575424194,
          0.7135580778121948,
          0.6130061745643616,
          0.6282833218574524,
          0.6487430930137634,
          0.6311076283454895,
          0.6163550019264221,
          0.6993263363838196,
          0.6576447486877441,
          0.635496973991394,
          0.6515862941741943,
          0.6189739108085632,
          0.5941346883773804,
          0.6142946481704712,
          0.6171615719795227,
          0.6155251860618591,
          0.6522644758224487
         ]
        },
        {
         "mode": "lines+markers",
         "name": "name_unit_loss",
         "type": "scatter",
         "x": [
          0,
          1,
          2,
          3,
          4,
          5,
          6,
          7,
          8,
          9,
          10,
          11,
          12,
          13,
          14,
          15,
          16,
          17,
          18,
          19,
          20,
          21,
          22,
          23,
          24,
          25,
          26,
          27,
          28,
          29,
          30,
          31,
          32,
          33,
          34,
          35,
          36,
          37,
          38,
          39,
          40,
          41,
          42,
          43,
          44,
          45,
          46,
          47,
          48,
          49
         ],
         "y": [
          0.041029833257198334,
          0.02536962181329727,
          0.018820958212018013,
          0.01631367765367031,
          0.015337413176894188,
          0.01479312963783741,
          0.01430880930274725,
          0.014034252613782883,
          0.013801489025354385,
          0.013677888549864292,
          0.013385197147727013,
          0.013215485960245132,
          0.013042286969721317,
          0.012952933087944984,
          0.012795857153832912,
          0.012712039984762669,
          0.012626121751964092,
          0.012542002834379673,
          0.012398866005241871,
          0.012259155511856079,
          0.012198449112474918,
          0.012068414129316807,
          0.012034055776894093,
          0.011956886388361454,
          0.011838749051094055,
          0.011857871897518635,
          0.011744248680770397,
          0.01166611723601818,
          0.011634542606770992,
          0.011578361503779888,
          0.011528496630489826,
          0.011527247726917267,
          0.011426894925534725,
          0.011386598460376263,
          0.011356180533766747,
          0.011308754794299603,
          0.011305877938866615,
          0.011254332959651947,
          0.011191045865416527,
          0.011176559142768383,
          0.01113456953316927,
          0.011144421063363552,
          0.011112293228507042,
          0.011156851425766945,
          0.0110419150441885,
          0.010978670790791512,
          0.010937253944575787,
          0.010936535894870758,
          0.010907037183642387,
          0.010889191180467606
         ]
        },
        {
         "mode": "lines+markers",
         "name": "val_name_unit_loss",
         "type": "scatter",
         "x": [
          0,
          1,
          2,
          3,
          4,
          5,
          6,
          7,
          8,
          9,
          10,
          11,
          12,
          13,
          14,
          15,
          16,
          17,
          18,
          19,
          20,
          21,
          22,
          23,
          24,
          25,
          26,
          27,
          28,
          29,
          30,
          31,
          32,
          33,
          34,
          35,
          36,
          37,
          38,
          39,
          40,
          41,
          42,
          43,
          44,
          45,
          46,
          47,
          48,
          49
         ],
         "y": [
          0.027305860072374344,
          0.01835278607904911,
          0.014426670968532562,
          0.013230587355792522,
          0.01280021108686924,
          0.012310394085943699,
          0.011889079585671425,
          0.01183327380567789,
          0.011443715542554855,
          0.011381514370441437,
          0.011204579845070839,
          0.011032520793378353,
          0.011101890355348587,
          0.01095434557646513,
          0.010956472717225552,
          0.011005635373294353,
          0.010844461619853973,
          0.010726251639425755,
          0.010553043335676193,
          0.010725968517363071,
          0.010486692190170288,
          0.01056532934308052,
          0.01028462778776884,
          0.010245748795568943,
          0.010325116105377674,
          0.010158342309296131,
          0.010202321223914623,
          0.01019500195980072,
          0.010282696224749088,
          0.01004690583795309,
          0.010098001919686794,
          0.010215968824923038,
          0.010095497593283653,
          0.009995200671255589,
          0.009974051266908646,
          0.009887117892503738,
          0.009975907392799854,
          0.00988281425088644,
          0.009900704957544804,
          0.009970304556190968,
          0.009968219324946404,
          0.009961309842765331,
          0.009809352457523346,
          0.00990376714617014,
          0.009910175576806068,
          0.009887413121759892,
          0.00986128207296133,
          0.009852686896920204,
          0.01005933340638876,
          0.009794458746910095
         ]
        },
        {
         "mode": "lines+markers",
         "name": "qty_loss",
         "type": "scatter",
         "x": [
          0,
          1,
          2,
          3,
          4,
          5,
          6,
          7,
          8,
          9,
          10,
          11,
          12,
          13,
          14,
          15,
          16,
          17,
          18,
          19,
          20,
          21,
          22,
          23,
          24,
          25,
          26,
          27,
          28,
          29,
          30,
          31,
          32,
          33,
          34,
          35,
          36,
          37,
          38,
          39,
          40,
          41,
          42,
          43,
          44,
          45,
          46,
          47,
          48,
          49
         ],
         "y": [
          0.6860051155090332,
          0.4876078963279724,
          0.452086865901947,
          0.4184836745262146,
          0.39637598395347595,
          0.3526570498943329,
          0.3405085504055023,
          0.32014331221580505,
          0.30163007974624634,
          0.28700658679008484,
          0.2863476574420929,
          0.2583827078342438,
          0.28057923913002014,
          0.2491886168718338,
          0.2459850311279297,
          0.25003689527511597,
          0.23154933750629425,
          0.23109591007232666,
          0.22275489568710327,
          0.20993675291538239,
          0.22459714114665985,
          0.2189490795135498,
          0.20023129880428314,
          0.19512614607810974,
          0.20022788643836975,
          0.18809965252876282,
          0.18816232681274414,
          0.1906215399503708,
          0.18566837906837463,
          0.17961306869983673,
          0.1756928265094757,
          0.17933158576488495,
          0.18171049654483795,
          0.18115104734897614,
          0.16450074315071106,
          0.16546319425106049,
          0.1625385880470276,
          0.16377487778663635,
          0.1667894721031189,
          0.1648128479719162,
          0.1625860631465912,
          0.16264353692531586,
          0.16205206513404846,
          0.16006158292293549,
          0.1547277420759201,
          0.15376415848731995,
          0.15314637124538422,
          0.15804709494113922,
          0.1506197601556778,
          0.15244156122207642
         ]
        },
        {
         "mode": "lines+markers",
         "name": "val_qty_loss",
         "type": "scatter",
         "x": [
          0,
          1,
          2,
          3,
          4,
          5,
          6,
          7,
          8,
          9,
          10,
          11,
          12,
          13,
          14,
          15,
          16,
          17,
          18,
          19,
          20,
          21,
          22,
          23,
          24,
          25,
          26,
          27,
          28,
          29,
          30,
          31,
          32,
          33,
          34,
          35,
          36,
          37,
          38,
          39,
          40,
          41,
          42,
          43,
          44,
          45,
          46,
          47,
          48,
          49
         ],
         "y": [
          0.6498266458511353,
          0.38896796107292175,
          0.4382871985435486,
          0.36202770471572876,
          0.36024007201194763,
          0.36542826890945435,
          0.3828350007534027,
          0.3635471761226654,
          0.35431984066963196,
          0.3323090970516205,
          0.3346167206764221,
          0.3636794090270996,
          0.40990105271339417,
          0.3485087752342224,
          0.3374228775501251,
          0.3575378656387329,
          0.328478068113327,
          0.28822386264801025,
          0.31728556752204895,
          0.3147173225879669,
          0.311830073595047,
          0.31823140382766724,
          0.33275285363197327,
          0.3122485876083374,
          0.2866238057613373,
          0.3136647045612335,
          0.28652337193489075,
          0.3066789209842682,
          0.28435826301574707,
          0.29899024963378906,
          0.28588250279426575,
          0.3040590286254883,
          0.278411865234375,
          0.2875986695289612,
          0.3337690830230713,
          0.2834785282611847,
          0.290860652923584,
          0.3012712895870209,
          0.2924495041370392,
          0.28486254811286926,
          0.3262920379638672,
          0.30582183599472046,
          0.29470422863960266,
          0.3026421070098877,
          0.2864566743373871,
          0.2739494740962982,
          0.28412678837776184,
          0.2857319712638855,
          0.28430455923080444,
          0.3033578395843506
         ]
        },
        {
         "mode": "lines+markers",
         "name": "qty_decimal_loss",
         "type": "scatter",
         "x": [
          0,
          1,
          2,
          3,
          4,
          5,
          6,
          7,
          8,
          9,
          10,
          11,
          12,
          13,
          14,
          15,
          16,
          17,
          18,
          19,
          20,
          21,
          22,
          23,
          24,
          25,
          26,
          27,
          28,
          29,
          30,
          31,
          32,
          33,
          34,
          35,
          36,
          37,
          38,
          39,
          40,
          41,
          42,
          43,
          44,
          45,
          46,
          47,
          48,
          49
         ],
         "y": [
          0.17544689774513245,
          0.06901850551366806,
          0.05739869177341461,
          0.051580142229795456,
          0.04927694797515869,
          0.04581226035952568,
          0.04458056762814522,
          0.04465622827410698,
          0.042461641132831573,
          0.04235662519931793,
          0.04014208912849426,
          0.03918278217315674,
          0.039887379854917526,
          0.039300162345170975,
          0.03851153701543808,
          0.03740930184721947,
          0.036579474806785583,
          0.036297138780355453,
          0.03596501052379608,
          0.03557261824607849,
          0.03430013358592987,
          0.0341830849647522,
          0.033852554857730865,
          0.032881464809179306,
          0.03223884105682373,
          0.03285837918519974,
          0.0319773331284523,
          0.03161845728754997,
          0.03203222528100014,
          0.031768549233675,
          0.031223518773913383,
          0.03162797540426254,
          0.03143935278058052,
          0.030570704489946365,
          0.030916208401322365,
          0.03006947785615921,
          0.03013298287987709,
          0.030431482940912247,
          0.029877102002501488,
          0.029419157654047012,
          0.029510997235774994,
          0.029969660565257072,
          0.029347220435738564,
          0.030337218195199966,
          0.030065037310123444,
          0.029614843428134918,
          0.028661780059337616,
          0.028592493385076523,
          0.029289813712239265,
          0.028905311599373817
         ]
        },
        {
         "mode": "lines+markers",
         "name": "val_qty_decimal_loss",
         "type": "scatter",
         "x": [
          0,
          1,
          2,
          3,
          4,
          5,
          6,
          7,
          8,
          9,
          10,
          11,
          12,
          13,
          14,
          15,
          16,
          17,
          18,
          19,
          20,
          21,
          22,
          23,
          24,
          25,
          26,
          27,
          28,
          29,
          30,
          31,
          32,
          33,
          34,
          35,
          36,
          37,
          38,
          39,
          40,
          41,
          42,
          43,
          44,
          45,
          46,
          47,
          48,
          49
         ],
         "y": [
          0.06965363025665283,
          0.052461061626672745,
          0.04502463340759277,
          0.041312623769044876,
          0.03739786893129349,
          0.03894244506955147,
          0.03825487941503525,
          0.03920532017946243,
          0.03597070276737213,
          0.03536168485879898,
          0.03723236918449402,
          0.03517300635576248,
          0.03522273525595665,
          0.03435821458697319,
          0.03491216152906418,
          0.037190426141023636,
          0.03332042694091797,
          0.0361943356692791,
          0.03294428065419197,
          0.036571018397808075,
          0.03216850385069847,
          0.03301972150802612,
          0.031931422650814056,
          0.03262253850698471,
          0.03408059477806091,
          0.031189478933811188,
          0.031150415539741516,
          0.0325499065220356,
          0.033123500645160675,
          0.031409766525030136,
          0.032172657549381256,
          0.0348384864628315,
          0.032190944999456406,
          0.031397495418787,
          0.030618922784924507,
          0.032502904534339905,
          0.0332898385822773,
          0.03334715962409973,
          0.03302875906229019,
          0.03374380245804787,
          0.03434674069285393,
          0.030777743086218834,
          0.034254442900419235,
          0.033436041325330734,
          0.03209955617785454,
          0.03343077376484871,
          0.03298081085085869,
          0.03143632784485817,
          0.033393971621990204,
          0.03185413032770157
         ]
        }
       ],
       "layout": {
        "legend": {
         "font": {
          "size": 16
         },
         "traceorder": "reversed",
         "y": 0.5
        },
        "template": {
         "data": {
          "bar": [
           {
            "error_x": {
             "color": "#2a3f5f"
            },
            "error_y": {
             "color": "#2a3f5f"
            },
            "marker": {
             "line": {
              "color": "#E5ECF6",
              "width": 0.5
             },
             "pattern": {
              "fillmode": "overlay",
              "size": 10,
              "solidity": 0.2
             }
            },
            "type": "bar"
           }
          ],
          "barpolar": [
           {
            "marker": {
             "line": {
              "color": "#E5ECF6",
              "width": 0.5
             },
             "pattern": {
              "fillmode": "overlay",
              "size": 10,
              "solidity": 0.2
             }
            },
            "type": "barpolar"
           }
          ],
          "carpet": [
           {
            "aaxis": {
             "endlinecolor": "#2a3f5f",
             "gridcolor": "white",
             "linecolor": "white",
             "minorgridcolor": "white",
             "startlinecolor": "#2a3f5f"
            },
            "baxis": {
             "endlinecolor": "#2a3f5f",
             "gridcolor": "white",
             "linecolor": "white",
             "minorgridcolor": "white",
             "startlinecolor": "#2a3f5f"
            },
            "type": "carpet"
           }
          ],
          "choropleth": [
           {
            "colorbar": {
             "outlinewidth": 0,
             "ticks": ""
            },
            "type": "choropleth"
           }
          ],
          "contour": [
           {
            "colorbar": {
             "outlinewidth": 0,
             "ticks": ""
            },
            "colorscale": [
             [
              0,
              "#0d0887"
             ],
             [
              0.1111111111111111,
              "#46039f"
             ],
             [
              0.2222222222222222,
              "#7201a8"
             ],
             [
              0.3333333333333333,
              "#9c179e"
             ],
             [
              0.4444444444444444,
              "#bd3786"
             ],
             [
              0.5555555555555556,
              "#d8576b"
             ],
             [
              0.6666666666666666,
              "#ed7953"
             ],
             [
              0.7777777777777778,
              "#fb9f3a"
             ],
             [
              0.8888888888888888,
              "#fdca26"
             ],
             [
              1,
              "#f0f921"
             ]
            ],
            "type": "contour"
           }
          ],
          "contourcarpet": [
           {
            "colorbar": {
             "outlinewidth": 0,
             "ticks": ""
            },
            "type": "contourcarpet"
           }
          ],
          "heatmap": [
           {
            "colorbar": {
             "outlinewidth": 0,
             "ticks": ""
            },
            "colorscale": [
             [
              0,
              "#0d0887"
             ],
             [
              0.1111111111111111,
              "#46039f"
             ],
             [
              0.2222222222222222,
              "#7201a8"
             ],
             [
              0.3333333333333333,
              "#9c179e"
             ],
             [
              0.4444444444444444,
              "#bd3786"
             ],
             [
              0.5555555555555556,
              "#d8576b"
             ],
             [
              0.6666666666666666,
              "#ed7953"
             ],
             [
              0.7777777777777778,
              "#fb9f3a"
             ],
             [
              0.8888888888888888,
              "#fdca26"
             ],
             [
              1,
              "#f0f921"
             ]
            ],
            "type": "heatmap"
           }
          ],
          "heatmapgl": [
           {
            "colorbar": {
             "outlinewidth": 0,
             "ticks": ""
            },
            "colorscale": [
             [
              0,
              "#0d0887"
             ],
             [
              0.1111111111111111,
              "#46039f"
             ],
             [
              0.2222222222222222,
              "#7201a8"
             ],
             [
              0.3333333333333333,
              "#9c179e"
             ],
             [
              0.4444444444444444,
              "#bd3786"
             ],
             [
              0.5555555555555556,
              "#d8576b"
             ],
             [
              0.6666666666666666,
              "#ed7953"
             ],
             [
              0.7777777777777778,
              "#fb9f3a"
             ],
             [
              0.8888888888888888,
              "#fdca26"
             ],
             [
              1,
              "#f0f921"
             ]
            ],
            "type": "heatmapgl"
           }
          ],
          "histogram": [
           {
            "marker": {
             "pattern": {
              "fillmode": "overlay",
              "size": 10,
              "solidity": 0.2
             }
            },
            "type": "histogram"
           }
          ],
          "histogram2d": [
           {
            "colorbar": {
             "outlinewidth": 0,
             "ticks": ""
            },
            "colorscale": [
             [
              0,
              "#0d0887"
             ],
             [
              0.1111111111111111,
              "#46039f"
             ],
             [
              0.2222222222222222,
              "#7201a8"
             ],
             [
              0.3333333333333333,
              "#9c179e"
             ],
             [
              0.4444444444444444,
              "#bd3786"
             ],
             [
              0.5555555555555556,
              "#d8576b"
             ],
             [
              0.6666666666666666,
              "#ed7953"
             ],
             [
              0.7777777777777778,
              "#fb9f3a"
             ],
             [
              0.8888888888888888,
              "#fdca26"
             ],
             [
              1,
              "#f0f921"
             ]
            ],
            "type": "histogram2d"
           }
          ],
          "histogram2dcontour": [
           {
            "colorbar": {
             "outlinewidth": 0,
             "ticks": ""
            },
            "colorscale": [
             [
              0,
              "#0d0887"
             ],
             [
              0.1111111111111111,
              "#46039f"
             ],
             [
              0.2222222222222222,
              "#7201a8"
             ],
             [
              0.3333333333333333,
              "#9c179e"
             ],
             [
              0.4444444444444444,
              "#bd3786"
             ],
             [
              0.5555555555555556,
              "#d8576b"
             ],
             [
              0.6666666666666666,
              "#ed7953"
             ],
             [
              0.7777777777777778,
              "#fb9f3a"
             ],
             [
              0.8888888888888888,
              "#fdca26"
             ],
             [
              1,
              "#f0f921"
             ]
            ],
            "type": "histogram2dcontour"
           }
          ],
          "mesh3d": [
           {
            "colorbar": {
             "outlinewidth": 0,
             "ticks": ""
            },
            "type": "mesh3d"
           }
          ],
          "parcoords": [
           {
            "line": {
             "colorbar": {
              "outlinewidth": 0,
              "ticks": ""
             }
            },
            "type": "parcoords"
           }
          ],
          "pie": [
           {
            "automargin": true,
            "type": "pie"
           }
          ],
          "scatter": [
           {
            "marker": {
             "colorbar": {
              "outlinewidth": 0,
              "ticks": ""
             }
            },
            "type": "scatter"
           }
          ],
          "scatter3d": [
           {
            "line": {
             "colorbar": {
              "outlinewidth": 0,
              "ticks": ""
             }
            },
            "marker": {
             "colorbar": {
              "outlinewidth": 0,
              "ticks": ""
             }
            },
            "type": "scatter3d"
           }
          ],
          "scattercarpet": [
           {
            "marker": {
             "colorbar": {
              "outlinewidth": 0,
              "ticks": ""
             }
            },
            "type": "scattercarpet"
           }
          ],
          "scattergeo": [
           {
            "marker": {
             "colorbar": {
              "outlinewidth": 0,
              "ticks": ""
             }
            },
            "type": "scattergeo"
           }
          ],
          "scattergl": [
           {
            "marker": {
             "colorbar": {
              "outlinewidth": 0,
              "ticks": ""
             }
            },
            "type": "scattergl"
           }
          ],
          "scattermapbox": [
           {
            "marker": {
             "colorbar": {
              "outlinewidth": 0,
              "ticks": ""
             }
            },
            "type": "scattermapbox"
           }
          ],
          "scatterpolar": [
           {
            "marker": {
             "colorbar": {
              "outlinewidth": 0,
              "ticks": ""
             }
            },
            "type": "scatterpolar"
           }
          ],
          "scatterpolargl": [
           {
            "marker": {
             "colorbar": {
              "outlinewidth": 0,
              "ticks": ""
             }
            },
            "type": "scatterpolargl"
           }
          ],
          "scatterternary": [
           {
            "marker": {
             "colorbar": {
              "outlinewidth": 0,
              "ticks": ""
             }
            },
            "type": "scatterternary"
           }
          ],
          "surface": [
           {
            "colorbar": {
             "outlinewidth": 0,
             "ticks": ""
            },
            "colorscale": [
             [
              0,
              "#0d0887"
             ],
             [
              0.1111111111111111,
              "#46039f"
             ],
             [
              0.2222222222222222,
              "#7201a8"
             ],
             [
              0.3333333333333333,
              "#9c179e"
             ],
             [
              0.4444444444444444,
              "#bd3786"
             ],
             [
              0.5555555555555556,
              "#d8576b"
             ],
             [
              0.6666666666666666,
              "#ed7953"
             ],
             [
              0.7777777777777778,
              "#fb9f3a"
             ],
             [
              0.8888888888888888,
              "#fdca26"
             ],
             [
              1,
              "#f0f921"
             ]
            ],
            "type": "surface"
           }
          ],
          "table": [
           {
            "cells": {
             "fill": {
              "color": "#EBF0F8"
             },
             "line": {
              "color": "white"
             }
            },
            "header": {
             "fill": {
              "color": "#C8D4E3"
             },
             "line": {
              "color": "white"
             }
            },
            "type": "table"
           }
          ]
         },
         "layout": {
          "annotationdefaults": {
           "arrowcolor": "#2a3f5f",
           "arrowhead": 0,
           "arrowwidth": 1
          },
          "autotypenumbers": "strict",
          "coloraxis": {
           "colorbar": {
            "outlinewidth": 0,
            "ticks": ""
           }
          },
          "colorscale": {
           "diverging": [
            [
             0,
             "#8e0152"
            ],
            [
             0.1,
             "#c51b7d"
            ],
            [
             0.2,
             "#de77ae"
            ],
            [
             0.3,
             "#f1b6da"
            ],
            [
             0.4,
             "#fde0ef"
            ],
            [
             0.5,
             "#f7f7f7"
            ],
            [
             0.6,
             "#e6f5d0"
            ],
            [
             0.7,
             "#b8e186"
            ],
            [
             0.8,
             "#7fbc41"
            ],
            [
             0.9,
             "#4d9221"
            ],
            [
             1,
             "#276419"
            ]
           ],
           "sequential": [
            [
             0,
             "#0d0887"
            ],
            [
             0.1111111111111111,
             "#46039f"
            ],
            [
             0.2222222222222222,
             "#7201a8"
            ],
            [
             0.3333333333333333,
             "#9c179e"
            ],
            [
             0.4444444444444444,
             "#bd3786"
            ],
            [
             0.5555555555555556,
             "#d8576b"
            ],
            [
             0.6666666666666666,
             "#ed7953"
            ],
            [
             0.7777777777777778,
             "#fb9f3a"
            ],
            [
             0.8888888888888888,
             "#fdca26"
            ],
            [
             1,
             "#f0f921"
            ]
           ],
           "sequentialminus": [
            [
             0,
             "#0d0887"
            ],
            [
             0.1111111111111111,
             "#46039f"
            ],
            [
             0.2222222222222222,
             "#7201a8"
            ],
            [
             0.3333333333333333,
             "#9c179e"
            ],
            [
             0.4444444444444444,
             "#bd3786"
            ],
            [
             0.5555555555555556,
             "#d8576b"
            ],
            [
             0.6666666666666666,
             "#ed7953"
            ],
            [
             0.7777777777777778,
             "#fb9f3a"
            ],
            [
             0.8888888888888888,
             "#fdca26"
            ],
            [
             1,
             "#f0f921"
            ]
           ]
          },
          "colorway": [
           "#636efa",
           "#EF553B",
           "#00cc96",
           "#ab63fa",
           "#FFA15A",
           "#19d3f3",
           "#FF6692",
           "#B6E880",
           "#FF97FF",
           "#FECB52"
          ],
          "font": {
           "color": "#2a3f5f"
          },
          "geo": {
           "bgcolor": "white",
           "lakecolor": "white",
           "landcolor": "#E5ECF6",
           "showlakes": true,
           "showland": true,
           "subunitcolor": "white"
          },
          "hoverlabel": {
           "align": "left"
          },
          "hovermode": "closest",
          "mapbox": {
           "style": "light"
          },
          "paper_bgcolor": "white",
          "plot_bgcolor": "#E5ECF6",
          "polar": {
           "angularaxis": {
            "gridcolor": "white",
            "linecolor": "white",
            "ticks": ""
           },
           "bgcolor": "#E5ECF6",
           "radialaxis": {
            "gridcolor": "white",
            "linecolor": "white",
            "ticks": ""
           }
          },
          "scene": {
           "xaxis": {
            "backgroundcolor": "#E5ECF6",
            "gridcolor": "white",
            "gridwidth": 2,
            "linecolor": "white",
            "showbackground": true,
            "ticks": "",
            "zerolinecolor": "white"
           },
           "yaxis": {
            "backgroundcolor": "#E5ECF6",
            "gridcolor": "white",
            "gridwidth": 2,
            "linecolor": "white",
            "showbackground": true,
            "ticks": "",
            "zerolinecolor": "white"
           },
           "zaxis": {
            "backgroundcolor": "#E5ECF6",
            "gridcolor": "white",
            "gridwidth": 2,
            "linecolor": "white",
            "showbackground": true,
            "ticks": "",
            "zerolinecolor": "white"
           }
          },
          "shapedefaults": {
           "line": {
            "color": "#2a3f5f"
           }
          },
          "ternary": {
           "aaxis": {
            "gridcolor": "white",
            "linecolor": "white",
            "ticks": ""
           },
           "baxis": {
            "gridcolor": "white",
            "linecolor": "white",
            "ticks": ""
           },
           "bgcolor": "#E5ECF6",
           "caxis": {
            "gridcolor": "white",
            "linecolor": "white",
            "ticks": ""
           }
          },
          "title": {
           "x": 0.05
          },
          "xaxis": {
           "automargin": true,
           "gridcolor": "white",
           "linecolor": "white",
           "ticks": "",
           "title": {
            "standoff": 15
           },
           "zerolinecolor": "white",
           "zerolinewidth": 2
          },
          "yaxis": {
           "automargin": true,
           "gridcolor": "white",
           "linecolor": "white",
           "ticks": "",
           "title": {
            "standoff": 15
           },
           "zerolinecolor": "white",
           "zerolinewidth": 2
          }
         }
        },
        "title": {
         "text": "Training Results"
        }
       }
      },
      "text/html": [
       "<div>                            <div id=\"7f624605-8166-42cc-bbc7-bf69421691b5\" class=\"plotly-graph-div\" style=\"height:525px; width:100%;\"></div>            <script type=\"text/javascript\">                require([\"plotly\"], function(Plotly) {                    window.PLOTLYENV=window.PLOTLYENV || {};                                    if (document.getElementById(\"7f624605-8166-42cc-bbc7-bf69421691b5\")) {                    Plotly.newPlot(                        \"7f624605-8166-42cc-bbc7-bf69421691b5\",                        [{\"name\":\"loss\",\"x\":[0,1,2,3,4,5,6,7,8,9,10,11,12,13,14,15,16,17,18,19,20,21,22,23,24,25,26,27,28,29,30,31,32,33,34,35,36,37,38,39,40,41,42,43,44,45,46,47,48,49],\"y\":[1.5712202787399292,1.0904979705810547,0.9909365773200989,0.9125387668609619,0.8639563918113708,0.7736483216285706,0.7471696734428406,0.705354630947113,0.6669589281082153,0.637195348739624,0.6342642903327942,0.5774630308151245,0.6213043332099915,0.558049738407135,0.5508562922477722,0.558403730392456,0.520919144153595,0.5196195244789124,0.5022987723350525,0.4760250449180603,0.5048480033874512,0.493008017539978,0.4553685486316681,0.4446561634540558,0.45425835251808167,0.43020275235176086,0.4296969771385193,0.434231162071228,0.42428094148635864,0.41189274191856384,0.4037436842918396,0.4110974967479706,0.4154165983200073,0.4139624238014221,0.3806094229221344,0.3821761906147003,0.37632688879966736,0.37865397334098816,0.3843182325363159,0.3802163004875183,0.375612735748291,0.37585824728012085,0.37442299723625183,0.37081775069236755,0.35963600873947144,0.3573659360408783,0.3557751476764679,0.36555877327919006,0.350724995136261,0.3542208969593048],\"type\":\"scatter\",\"mode\":\"lines+markers\"},{\"name\":\"val_loss\",\"x\":[0,1,2,3,4,5,6,7,8,9,10,11,12,13,14,15,16,17,18,19,20,21,22,23,24,25,26,27,28,29,30,31,32,33,34,35,36,37,38,39,40,41,42,43,44,45,46,47,48,49],\"y\":[1.422806978225708,0.8618386387825012,0.943286120891571,0.7852397561073303,0.779161274433136,0.7878870964050293,0.8208774924278259,0.7822688817977905,0.7616085410118103,0.717216968536377,0.7214982509613037,0.7785235643386841,0.8712546825408936,0.7477064728736877,0.7256543040275574,0.766536295413971,0.7069985866546631,0.6265915036201477,0.6833721995353699,0.6796529293060303,0.6720408201217651,0.6853278875350952,0.7130303978919983,0.6720045804977417,0.6213643550872803,0.6742002964019775,0.6200864315032959,0.660647988319397,0.6164721846580505,0.6444501280784607,0.6185915470123291,0.655949592590332,0.6036437153816223,0.6214574575424194,0.7135580778121948,0.6130061745643616,0.6282833218574524,0.6487430930137634,0.6311076283454895,0.6163550019264221,0.6993263363838196,0.6576447486877441,0.635496973991394,0.6515862941741943,0.6189739108085632,0.5941346883773804,0.6142946481704712,0.6171615719795227,0.6155251860618591,0.6522644758224487],\"type\":\"scatter\",\"mode\":\"lines+markers\"},{\"name\":\"name_unit_loss\",\"x\":[0,1,2,3,4,5,6,7,8,9,10,11,12,13,14,15,16,17,18,19,20,21,22,23,24,25,26,27,28,29,30,31,32,33,34,35,36,37,38,39,40,41,42,43,44,45,46,47,48,49],\"y\":[0.041029833257198334,0.02536962181329727,0.018820958212018013,0.01631367765367031,0.015337413176894188,0.01479312963783741,0.01430880930274725,0.014034252613782883,0.013801489025354385,0.013677888549864292,0.013385197147727013,0.013215485960245132,0.013042286969721317,0.012952933087944984,0.012795857153832912,0.012712039984762669,0.012626121751964092,0.012542002834379673,0.012398866005241871,0.012259155511856079,0.012198449112474918,0.012068414129316807,0.012034055776894093,0.011956886388361454,0.011838749051094055,0.011857871897518635,0.011744248680770397,0.01166611723601818,0.011634542606770992,0.011578361503779888,0.011528496630489826,0.011527247726917267,0.011426894925534725,0.011386598460376263,0.011356180533766747,0.011308754794299603,0.011305877938866615,0.011254332959651947,0.011191045865416527,0.011176559142768383,0.01113456953316927,0.011144421063363552,0.011112293228507042,0.011156851425766945,0.0110419150441885,0.010978670790791512,0.010937253944575787,0.010936535894870758,0.010907037183642387,0.010889191180467606],\"type\":\"scatter\",\"mode\":\"lines+markers\"},{\"name\":\"val_name_unit_loss\",\"x\":[0,1,2,3,4,5,6,7,8,9,10,11,12,13,14,15,16,17,18,19,20,21,22,23,24,25,26,27,28,29,30,31,32,33,34,35,36,37,38,39,40,41,42,43,44,45,46,47,48,49],\"y\":[0.027305860072374344,0.01835278607904911,0.014426670968532562,0.013230587355792522,0.01280021108686924,0.012310394085943699,0.011889079585671425,0.01183327380567789,0.011443715542554855,0.011381514370441437,0.011204579845070839,0.011032520793378353,0.011101890355348587,0.01095434557646513,0.010956472717225552,0.011005635373294353,0.010844461619853973,0.010726251639425755,0.010553043335676193,0.010725968517363071,0.010486692190170288,0.01056532934308052,0.01028462778776884,0.010245748795568943,0.010325116105377674,0.010158342309296131,0.010202321223914623,0.01019500195980072,0.010282696224749088,0.01004690583795309,0.010098001919686794,0.010215968824923038,0.010095497593283653,0.009995200671255589,0.009974051266908646,0.009887117892503738,0.009975907392799854,0.00988281425088644,0.009900704957544804,0.009970304556190968,0.009968219324946404,0.009961309842765331,0.009809352457523346,0.00990376714617014,0.009910175576806068,0.009887413121759892,0.00986128207296133,0.009852686896920204,0.01005933340638876,0.009794458746910095],\"type\":\"scatter\",\"mode\":\"lines+markers\"},{\"name\":\"qty_loss\",\"x\":[0,1,2,3,4,5,6,7,8,9,10,11,12,13,14,15,16,17,18,19,20,21,22,23,24,25,26,27,28,29,30,31,32,33,34,35,36,37,38,39,40,41,42,43,44,45,46,47,48,49],\"y\":[0.6860051155090332,0.4876078963279724,0.452086865901947,0.4184836745262146,0.39637598395347595,0.3526570498943329,0.3405085504055023,0.32014331221580505,0.30163007974624634,0.28700658679008484,0.2863476574420929,0.2583827078342438,0.28057923913002014,0.2491886168718338,0.2459850311279297,0.25003689527511597,0.23154933750629425,0.23109591007232666,0.22275489568710327,0.20993675291538239,0.22459714114665985,0.2189490795135498,0.20023129880428314,0.19512614607810974,0.20022788643836975,0.18809965252876282,0.18816232681274414,0.1906215399503708,0.18566837906837463,0.17961306869983673,0.1756928265094757,0.17933158576488495,0.18171049654483795,0.18115104734897614,0.16450074315071106,0.16546319425106049,0.1625385880470276,0.16377487778663635,0.1667894721031189,0.1648128479719162,0.1625860631465912,0.16264353692531586,0.16205206513404846,0.16006158292293549,0.1547277420759201,0.15376415848731995,0.15314637124538422,0.15804709494113922,0.1506197601556778,0.15244156122207642],\"type\":\"scatter\",\"mode\":\"lines+markers\"},{\"name\":\"val_qty_loss\",\"x\":[0,1,2,3,4,5,6,7,8,9,10,11,12,13,14,15,16,17,18,19,20,21,22,23,24,25,26,27,28,29,30,31,32,33,34,35,36,37,38,39,40,41,42,43,44,45,46,47,48,49],\"y\":[0.6498266458511353,0.38896796107292175,0.4382871985435486,0.36202770471572876,0.36024007201194763,0.36542826890945435,0.3828350007534027,0.3635471761226654,0.35431984066963196,0.3323090970516205,0.3346167206764221,0.3636794090270996,0.40990105271339417,0.3485087752342224,0.3374228775501251,0.3575378656387329,0.328478068113327,0.28822386264801025,0.31728556752204895,0.3147173225879669,0.311830073595047,0.31823140382766724,0.33275285363197327,0.3122485876083374,0.2866238057613373,0.3136647045612335,0.28652337193489075,0.3066789209842682,0.28435826301574707,0.29899024963378906,0.28588250279426575,0.3040590286254883,0.278411865234375,0.2875986695289612,0.3337690830230713,0.2834785282611847,0.290860652923584,0.3012712895870209,0.2924495041370392,0.28486254811286926,0.3262920379638672,0.30582183599472046,0.29470422863960266,0.3026421070098877,0.2864566743373871,0.2739494740962982,0.28412678837776184,0.2857319712638855,0.28430455923080444,0.3033578395843506],\"type\":\"scatter\",\"mode\":\"lines+markers\"},{\"name\":\"qty_decimal_loss\",\"x\":[0,1,2,3,4,5,6,7,8,9,10,11,12,13,14,15,16,17,18,19,20,21,22,23,24,25,26,27,28,29,30,31,32,33,34,35,36,37,38,39,40,41,42,43,44,45,46,47,48,49],\"y\":[0.17544689774513245,0.06901850551366806,0.05739869177341461,0.051580142229795456,0.04927694797515869,0.04581226035952568,0.04458056762814522,0.04465622827410698,0.042461641132831573,0.04235662519931793,0.04014208912849426,0.03918278217315674,0.039887379854917526,0.039300162345170975,0.03851153701543808,0.03740930184721947,0.036579474806785583,0.036297138780355453,0.03596501052379608,0.03557261824607849,0.03430013358592987,0.0341830849647522,0.033852554857730865,0.032881464809179306,0.03223884105682373,0.03285837918519974,0.0319773331284523,0.03161845728754997,0.03203222528100014,0.031768549233675,0.031223518773913383,0.03162797540426254,0.03143935278058052,0.030570704489946365,0.030916208401322365,0.03006947785615921,0.03013298287987709,0.030431482940912247,0.029877102002501488,0.029419157654047012,0.029510997235774994,0.029969660565257072,0.029347220435738564,0.030337218195199966,0.030065037310123444,0.029614843428134918,0.028661780059337616,0.028592493385076523,0.029289813712239265,0.028905311599373817],\"type\":\"scatter\",\"mode\":\"lines+markers\"},{\"name\":\"val_qty_decimal_loss\",\"x\":[0,1,2,3,4,5,6,7,8,9,10,11,12,13,14,15,16,17,18,19,20,21,22,23,24,25,26,27,28,29,30,31,32,33,34,35,36,37,38,39,40,41,42,43,44,45,46,47,48,49],\"y\":[0.06965363025665283,0.052461061626672745,0.04502463340759277,0.041312623769044876,0.03739786893129349,0.03894244506955147,0.03825487941503525,0.03920532017946243,0.03597070276737213,0.03536168485879898,0.03723236918449402,0.03517300635576248,0.03522273525595665,0.03435821458697319,0.03491216152906418,0.037190426141023636,0.03332042694091797,0.0361943356692791,0.03294428065419197,0.036571018397808075,0.03216850385069847,0.03301972150802612,0.031931422650814056,0.03262253850698471,0.03408059477806091,0.031189478933811188,0.031150415539741516,0.0325499065220356,0.033123500645160675,0.031409766525030136,0.032172657549381256,0.0348384864628315,0.032190944999456406,0.031397495418787,0.030618922784924507,0.032502904534339905,0.0332898385822773,0.03334715962409973,0.03302875906229019,0.03374380245804787,0.03434674069285393,0.030777743086218834,0.034254442900419235,0.033436041325330734,0.03209955617785454,0.03343077376484871,0.03298081085085869,0.03143632784485817,0.033393971621990204,0.03185413032770157],\"type\":\"scatter\",\"mode\":\"lines+markers\"}],                        {\"template\":{\"data\":{\"bar\":[{\"error_x\":{\"color\":\"#2a3f5f\"},\"error_y\":{\"color\":\"#2a3f5f\"},\"marker\":{\"line\":{\"color\":\"#E5ECF6\",\"width\":0.5},\"pattern\":{\"fillmode\":\"overlay\",\"size\":10,\"solidity\":0.2}},\"type\":\"bar\"}],\"barpolar\":[{\"marker\":{\"line\":{\"color\":\"#E5ECF6\",\"width\":0.5},\"pattern\":{\"fillmode\":\"overlay\",\"size\":10,\"solidity\":0.2}},\"type\":\"barpolar\"}],\"carpet\":[{\"aaxis\":{\"endlinecolor\":\"#2a3f5f\",\"gridcolor\":\"white\",\"linecolor\":\"white\",\"minorgridcolor\":\"white\",\"startlinecolor\":\"#2a3f5f\"},\"baxis\":{\"endlinecolor\":\"#2a3f5f\",\"gridcolor\":\"white\",\"linecolor\":\"white\",\"minorgridcolor\":\"white\",\"startlinecolor\":\"#2a3f5f\"},\"type\":\"carpet\"}],\"choropleth\":[{\"colorbar\":{\"outlinewidth\":0,\"ticks\":\"\"},\"type\":\"choropleth\"}],\"contour\":[{\"colorbar\":{\"outlinewidth\":0,\"ticks\":\"\"},\"colorscale\":[[0.0,\"#0d0887\"],[0.1111111111111111,\"#46039f\"],[0.2222222222222222,\"#7201a8\"],[0.3333333333333333,\"#9c179e\"],[0.4444444444444444,\"#bd3786\"],[0.5555555555555556,\"#d8576b\"],[0.6666666666666666,\"#ed7953\"],[0.7777777777777778,\"#fb9f3a\"],[0.8888888888888888,\"#fdca26\"],[1.0,\"#f0f921\"]],\"type\":\"contour\"}],\"contourcarpet\":[{\"colorbar\":{\"outlinewidth\":0,\"ticks\":\"\"},\"type\":\"contourcarpet\"}],\"heatmap\":[{\"colorbar\":{\"outlinewidth\":0,\"ticks\":\"\"},\"colorscale\":[[0.0,\"#0d0887\"],[0.1111111111111111,\"#46039f\"],[0.2222222222222222,\"#7201a8\"],[0.3333333333333333,\"#9c179e\"],[0.4444444444444444,\"#bd3786\"],[0.5555555555555556,\"#d8576b\"],[0.6666666666666666,\"#ed7953\"],[0.7777777777777778,\"#fb9f3a\"],[0.8888888888888888,\"#fdca26\"],[1.0,\"#f0f921\"]],\"type\":\"heatmap\"}],\"heatmapgl\":[{\"colorbar\":{\"outlinewidth\":0,\"ticks\":\"\"},\"colorscale\":[[0.0,\"#0d0887\"],[0.1111111111111111,\"#46039f\"],[0.2222222222222222,\"#7201a8\"],[0.3333333333333333,\"#9c179e\"],[0.4444444444444444,\"#bd3786\"],[0.5555555555555556,\"#d8576b\"],[0.6666666666666666,\"#ed7953\"],[0.7777777777777778,\"#fb9f3a\"],[0.8888888888888888,\"#fdca26\"],[1.0,\"#f0f921\"]],\"type\":\"heatmapgl\"}],\"histogram\":[{\"marker\":{\"pattern\":{\"fillmode\":\"overlay\",\"size\":10,\"solidity\":0.2}},\"type\":\"histogram\"}],\"histogram2d\":[{\"colorbar\":{\"outlinewidth\":0,\"ticks\":\"\"},\"colorscale\":[[0.0,\"#0d0887\"],[0.1111111111111111,\"#46039f\"],[0.2222222222222222,\"#7201a8\"],[0.3333333333333333,\"#9c179e\"],[0.4444444444444444,\"#bd3786\"],[0.5555555555555556,\"#d8576b\"],[0.6666666666666666,\"#ed7953\"],[0.7777777777777778,\"#fb9f3a\"],[0.8888888888888888,\"#fdca26\"],[1.0,\"#f0f921\"]],\"type\":\"histogram2d\"}],\"histogram2dcontour\":[{\"colorbar\":{\"outlinewidth\":0,\"ticks\":\"\"},\"colorscale\":[[0.0,\"#0d0887\"],[0.1111111111111111,\"#46039f\"],[0.2222222222222222,\"#7201a8\"],[0.3333333333333333,\"#9c179e\"],[0.4444444444444444,\"#bd3786\"],[0.5555555555555556,\"#d8576b\"],[0.6666666666666666,\"#ed7953\"],[0.7777777777777778,\"#fb9f3a\"],[0.8888888888888888,\"#fdca26\"],[1.0,\"#f0f921\"]],\"type\":\"histogram2dcontour\"}],\"mesh3d\":[{\"colorbar\":{\"outlinewidth\":0,\"ticks\":\"\"},\"type\":\"mesh3d\"}],\"parcoords\":[{\"line\":{\"colorbar\":{\"outlinewidth\":0,\"ticks\":\"\"}},\"type\":\"parcoords\"}],\"pie\":[{\"automargin\":true,\"type\":\"pie\"}],\"scatter\":[{\"marker\":{\"colorbar\":{\"outlinewidth\":0,\"ticks\":\"\"}},\"type\":\"scatter\"}],\"scatter3d\":[{\"line\":{\"colorbar\":{\"outlinewidth\":0,\"ticks\":\"\"}},\"marker\":{\"colorbar\":{\"outlinewidth\":0,\"ticks\":\"\"}},\"type\":\"scatter3d\"}],\"scattercarpet\":[{\"marker\":{\"colorbar\":{\"outlinewidth\":0,\"ticks\":\"\"}},\"type\":\"scattercarpet\"}],\"scattergeo\":[{\"marker\":{\"colorbar\":{\"outlinewidth\":0,\"ticks\":\"\"}},\"type\":\"scattergeo\"}],\"scattergl\":[{\"marker\":{\"colorbar\":{\"outlinewidth\":0,\"ticks\":\"\"}},\"type\":\"scattergl\"}],\"scattermapbox\":[{\"marker\":{\"colorbar\":{\"outlinewidth\":0,\"ticks\":\"\"}},\"type\":\"scattermapbox\"}],\"scatterpolar\":[{\"marker\":{\"colorbar\":{\"outlinewidth\":0,\"ticks\":\"\"}},\"type\":\"scatterpolar\"}],\"scatterpolargl\":[{\"marker\":{\"colorbar\":{\"outlinewidth\":0,\"ticks\":\"\"}},\"type\":\"scatterpolargl\"}],\"scatterternary\":[{\"marker\":{\"colorbar\":{\"outlinewidth\":0,\"ticks\":\"\"}},\"type\":\"scatterternary\"}],\"surface\":[{\"colorbar\":{\"outlinewidth\":0,\"ticks\":\"\"},\"colorscale\":[[0.0,\"#0d0887\"],[0.1111111111111111,\"#46039f\"],[0.2222222222222222,\"#7201a8\"],[0.3333333333333333,\"#9c179e\"],[0.4444444444444444,\"#bd3786\"],[0.5555555555555556,\"#d8576b\"],[0.6666666666666666,\"#ed7953\"],[0.7777777777777778,\"#fb9f3a\"],[0.8888888888888888,\"#fdca26\"],[1.0,\"#f0f921\"]],\"type\":\"surface\"}],\"table\":[{\"cells\":{\"fill\":{\"color\":\"#EBF0F8\"},\"line\":{\"color\":\"white\"}},\"header\":{\"fill\":{\"color\":\"#C8D4E3\"},\"line\":{\"color\":\"white\"}},\"type\":\"table\"}]},\"layout\":{\"annotationdefaults\":{\"arrowcolor\":\"#2a3f5f\",\"arrowhead\":0,\"arrowwidth\":1},\"autotypenumbers\":\"strict\",\"coloraxis\":{\"colorbar\":{\"outlinewidth\":0,\"ticks\":\"\"}},\"colorscale\":{\"diverging\":[[0,\"#8e0152\"],[0.1,\"#c51b7d\"],[0.2,\"#de77ae\"],[0.3,\"#f1b6da\"],[0.4,\"#fde0ef\"],[0.5,\"#f7f7f7\"],[0.6,\"#e6f5d0\"],[0.7,\"#b8e186\"],[0.8,\"#7fbc41\"],[0.9,\"#4d9221\"],[1,\"#276419\"]],\"sequential\":[[0.0,\"#0d0887\"],[0.1111111111111111,\"#46039f\"],[0.2222222222222222,\"#7201a8\"],[0.3333333333333333,\"#9c179e\"],[0.4444444444444444,\"#bd3786\"],[0.5555555555555556,\"#d8576b\"],[0.6666666666666666,\"#ed7953\"],[0.7777777777777778,\"#fb9f3a\"],[0.8888888888888888,\"#fdca26\"],[1.0,\"#f0f921\"]],\"sequentialminus\":[[0.0,\"#0d0887\"],[0.1111111111111111,\"#46039f\"],[0.2222222222222222,\"#7201a8\"],[0.3333333333333333,\"#9c179e\"],[0.4444444444444444,\"#bd3786\"],[0.5555555555555556,\"#d8576b\"],[0.6666666666666666,\"#ed7953\"],[0.7777777777777778,\"#fb9f3a\"],[0.8888888888888888,\"#fdca26\"],[1.0,\"#f0f921\"]]},\"colorway\":[\"#636efa\",\"#EF553B\",\"#00cc96\",\"#ab63fa\",\"#FFA15A\",\"#19d3f3\",\"#FF6692\",\"#B6E880\",\"#FF97FF\",\"#FECB52\"],\"font\":{\"color\":\"#2a3f5f\"},\"geo\":{\"bgcolor\":\"white\",\"lakecolor\":\"white\",\"landcolor\":\"#E5ECF6\",\"showlakes\":true,\"showland\":true,\"subunitcolor\":\"white\"},\"hoverlabel\":{\"align\":\"left\"},\"hovermode\":\"closest\",\"mapbox\":{\"style\":\"light\"},\"paper_bgcolor\":\"white\",\"plot_bgcolor\":\"#E5ECF6\",\"polar\":{\"angularaxis\":{\"gridcolor\":\"white\",\"linecolor\":\"white\",\"ticks\":\"\"},\"bgcolor\":\"#E5ECF6\",\"radialaxis\":{\"gridcolor\":\"white\",\"linecolor\":\"white\",\"ticks\":\"\"}},\"scene\":{\"xaxis\":{\"backgroundcolor\":\"#E5ECF6\",\"gridcolor\":\"white\",\"gridwidth\":2,\"linecolor\":\"white\",\"showbackground\":true,\"ticks\":\"\",\"zerolinecolor\":\"white\"},\"yaxis\":{\"backgroundcolor\":\"#E5ECF6\",\"gridcolor\":\"white\",\"gridwidth\":2,\"linecolor\":\"white\",\"showbackground\":true,\"ticks\":\"\",\"zerolinecolor\":\"white\"},\"zaxis\":{\"backgroundcolor\":\"#E5ECF6\",\"gridcolor\":\"white\",\"gridwidth\":2,\"linecolor\":\"white\",\"showbackground\":true,\"ticks\":\"\",\"zerolinecolor\":\"white\"}},\"shapedefaults\":{\"line\":{\"color\":\"#2a3f5f\"}},\"ternary\":{\"aaxis\":{\"gridcolor\":\"white\",\"linecolor\":\"white\",\"ticks\":\"\"},\"baxis\":{\"gridcolor\":\"white\",\"linecolor\":\"white\",\"ticks\":\"\"},\"bgcolor\":\"#E5ECF6\",\"caxis\":{\"gridcolor\":\"white\",\"linecolor\":\"white\",\"ticks\":\"\"}},\"title\":{\"x\":0.05},\"xaxis\":{\"automargin\":true,\"gridcolor\":\"white\",\"linecolor\":\"white\",\"ticks\":\"\",\"title\":{\"standoff\":15},\"zerolinecolor\":\"white\",\"zerolinewidth\":2},\"yaxis\":{\"automargin\":true,\"gridcolor\":\"white\",\"linecolor\":\"white\",\"ticks\":\"\",\"title\":{\"standoff\":15},\"zerolinecolor\":\"white\",\"zerolinewidth\":2}}},\"legend\":{\"font\":{\"size\":16},\"y\":0.5,\"traceorder\":\"reversed\"},\"title\":{\"text\":\"Training Results\"}},                        {\"responsive\": true}                    ).then(function(){\n",
       "                            \n",
       "var gd = document.getElementById('7f624605-8166-42cc-bbc7-bf69421691b5');\n",
       "var x = new MutationObserver(function (mutations, observer) {{\n",
       "        var display = window.getComputedStyle(gd).display;\n",
       "        if (!display || display === 'none') {{\n",
       "            console.log([gd, 'removed!']);\n",
       "            Plotly.purge(gd);\n",
       "            observer.disconnect();\n",
       "        }}\n",
       "}});\n",
       "\n",
       "// Listen for the removal of the full notebook cells\n",
       "var notebookContainer = gd.closest('#notebook-container');\n",
       "if (notebookContainer) {{\n",
       "    x.observe(notebookContainer, {childList: true});\n",
       "}}\n",
       "\n",
       "// Listen for the clearing of the current output cell\n",
       "var outputEl = gd.closest('.output');\n",
       "if (outputEl) {{\n",
       "    x.observe(outputEl, {childList: true});\n",
       "}}\n",
       "\n",
       "                        })                };                });            </script>        </div>"
      ]
     },
     "metadata": {},
     "output_type": "display_data"
    },
    {
     "data": {
      "application/vnd.plotly.v1+json": {
       "config": {
        "plotlyServerURL": "https://plot.ly"
       },
       "data": [
        {
         "mode": "lines+markers",
         "name": "name_unit_name_percent_part_correct",
         "type": "scatter",
         "x": [
          0,
          1,
          2,
          3,
          4,
          5,
          6,
          7,
          8,
          9,
          10,
          11,
          12,
          13,
          14,
          15,
          16,
          17,
          18,
          19,
          20,
          21,
          22,
          23,
          24,
          25,
          26,
          27,
          28,
          29,
          30,
          31,
          32,
          33,
          34,
          35,
          36,
          37,
          38,
          39,
          40,
          41,
          42,
          43,
          44,
          45,
          46,
          47,
          48,
          49
         ],
         "y": [
          0.55544114112854,
          0.7906701564788818,
          0.9260470867156982,
          0.9529268145561218,
          0.9616926312446594,
          0.9635956287384033,
          0.966614305973053,
          0.968021810054779,
          0.9687895774841309,
          0.9690244197845459,
          0.9704577326774597,
          0.9709200859069824,
          0.9717618823051453,
          0.9711454510688782,
          0.9730998277664185,
          0.9735938310623169,
          0.9733273386955261,
          0.9739980697631836,
          0.9758396148681641,
          0.9753992557525635,
          0.9767987132072449,
          0.9771436452865601,
          0.9765690565109253,
          0.9758542776107788,
          0.9777748584747314,
          0.9769625067710876,
          0.9780368804931641,
          0.9780295491218567,
          0.9786995649337769,
          0.9789050817489624,
          0.9790688157081604,
          0.9787927865982056,
          0.9799280762672424,
          0.9800132513046265,
          0.9800792932510376,
          0.9798100590705872,
          0.9800449013710022,
          0.9802826046943665,
          0.9804829955101013,
          0.9809725284576416,
          0.9806957840919495,
          0.9808793067932129,
          0.9803091287612915,
          0.980901300907135,
          0.9816991090774536,
          0.9819750785827637,
          0.982327401638031,
          0.9815155863761902,
          0.9818847179412842,
          0.9816058278083801
         ]
        },
        {
         "mode": "lines+markers",
         "name": "val_name_unit_name_percent_part_correct",
         "type": "scatter",
         "x": [
          0,
          1,
          2,
          3,
          4,
          5,
          6,
          7,
          8,
          9,
          10,
          11,
          12,
          13,
          14,
          15,
          16,
          17,
          18,
          19,
          20,
          21,
          22,
          23,
          24,
          25,
          26,
          27,
          28,
          29,
          30,
          31,
          32,
          33,
          34,
          35,
          36,
          37,
          38,
          39,
          40,
          41,
          42,
          43,
          44,
          45,
          46,
          47,
          48,
          49
         ],
         "y": [
          0.6701544523239136,
          0.9306402206420898,
          0.9524529576301575,
          0.9684298038482666,
          0.9658477902412415,
          0.9708899855613708,
          0.9725023508071899,
          0.973499059677124,
          0.9776031970977783,
          0.9753459095954895,
          0.97780841588974,
          0.9768117070198059,
          0.9791275858879089,
          0.9784826636314392,
          0.9797138571739197,
          0.9767823815345764,
          0.9797138571739197,
          0.9794207215309143,
          0.9804760813713074,
          0.9803881049156189,
          0.9788637161254883,
          0.982498824596405,
          0.9812968969345093,
          0.9826160669326782,
          0.981941819190979,
          0.9841991066932678,
          0.9826453924179077,
          0.9831730723381042,
          0.9810916781425476,
          0.9841404557228088,
          0.9831730723381042,
          0.982498824596405,
          0.9827040433883667,
          0.9826160669326782,
          0.9831144213676453,
          0.9847267866134644,
          0.9834662079811096,
          0.9843456745147705,
          0.984316349029541,
          0.9845508933067322,
          0.9840232133865356,
          0.9842284321784973,
          0.9841111898422241,
          0.9839938879013062,
          0.9853717088699341,
          0.9845508933067322,
          0.9850785732269287,
          0.9854303598403931,
          0.9832610487937927,
          0.9854889512062073
         ]
        }
       ],
       "layout": {
        "legend": {
         "font": {
          "size": 16
         },
         "traceorder": "reversed",
         "y": 0.5
        },
        "template": {
         "data": {
          "bar": [
           {
            "error_x": {
             "color": "#2a3f5f"
            },
            "error_y": {
             "color": "#2a3f5f"
            },
            "marker": {
             "line": {
              "color": "#E5ECF6",
              "width": 0.5
             },
             "pattern": {
              "fillmode": "overlay",
              "size": 10,
              "solidity": 0.2
             }
            },
            "type": "bar"
           }
          ],
          "barpolar": [
           {
            "marker": {
             "line": {
              "color": "#E5ECF6",
              "width": 0.5
             },
             "pattern": {
              "fillmode": "overlay",
              "size": 10,
              "solidity": 0.2
             }
            },
            "type": "barpolar"
           }
          ],
          "carpet": [
           {
            "aaxis": {
             "endlinecolor": "#2a3f5f",
             "gridcolor": "white",
             "linecolor": "white",
             "minorgridcolor": "white",
             "startlinecolor": "#2a3f5f"
            },
            "baxis": {
             "endlinecolor": "#2a3f5f",
             "gridcolor": "white",
             "linecolor": "white",
             "minorgridcolor": "white",
             "startlinecolor": "#2a3f5f"
            },
            "type": "carpet"
           }
          ],
          "choropleth": [
           {
            "colorbar": {
             "outlinewidth": 0,
             "ticks": ""
            },
            "type": "choropleth"
           }
          ],
          "contour": [
           {
            "colorbar": {
             "outlinewidth": 0,
             "ticks": ""
            },
            "colorscale": [
             [
              0,
              "#0d0887"
             ],
             [
              0.1111111111111111,
              "#46039f"
             ],
             [
              0.2222222222222222,
              "#7201a8"
             ],
             [
              0.3333333333333333,
              "#9c179e"
             ],
             [
              0.4444444444444444,
              "#bd3786"
             ],
             [
              0.5555555555555556,
              "#d8576b"
             ],
             [
              0.6666666666666666,
              "#ed7953"
             ],
             [
              0.7777777777777778,
              "#fb9f3a"
             ],
             [
              0.8888888888888888,
              "#fdca26"
             ],
             [
              1,
              "#f0f921"
             ]
            ],
            "type": "contour"
           }
          ],
          "contourcarpet": [
           {
            "colorbar": {
             "outlinewidth": 0,
             "ticks": ""
            },
            "type": "contourcarpet"
           }
          ],
          "heatmap": [
           {
            "colorbar": {
             "outlinewidth": 0,
             "ticks": ""
            },
            "colorscale": [
             [
              0,
              "#0d0887"
             ],
             [
              0.1111111111111111,
              "#46039f"
             ],
             [
              0.2222222222222222,
              "#7201a8"
             ],
             [
              0.3333333333333333,
              "#9c179e"
             ],
             [
              0.4444444444444444,
              "#bd3786"
             ],
             [
              0.5555555555555556,
              "#d8576b"
             ],
             [
              0.6666666666666666,
              "#ed7953"
             ],
             [
              0.7777777777777778,
              "#fb9f3a"
             ],
             [
              0.8888888888888888,
              "#fdca26"
             ],
             [
              1,
              "#f0f921"
             ]
            ],
            "type": "heatmap"
           }
          ],
          "heatmapgl": [
           {
            "colorbar": {
             "outlinewidth": 0,
             "ticks": ""
            },
            "colorscale": [
             [
              0,
              "#0d0887"
             ],
             [
              0.1111111111111111,
              "#46039f"
             ],
             [
              0.2222222222222222,
              "#7201a8"
             ],
             [
              0.3333333333333333,
              "#9c179e"
             ],
             [
              0.4444444444444444,
              "#bd3786"
             ],
             [
              0.5555555555555556,
              "#d8576b"
             ],
             [
              0.6666666666666666,
              "#ed7953"
             ],
             [
              0.7777777777777778,
              "#fb9f3a"
             ],
             [
              0.8888888888888888,
              "#fdca26"
             ],
             [
              1,
              "#f0f921"
             ]
            ],
            "type": "heatmapgl"
           }
          ],
          "histogram": [
           {
            "marker": {
             "pattern": {
              "fillmode": "overlay",
              "size": 10,
              "solidity": 0.2
             }
            },
            "type": "histogram"
           }
          ],
          "histogram2d": [
           {
            "colorbar": {
             "outlinewidth": 0,
             "ticks": ""
            },
            "colorscale": [
             [
              0,
              "#0d0887"
             ],
             [
              0.1111111111111111,
              "#46039f"
             ],
             [
              0.2222222222222222,
              "#7201a8"
             ],
             [
              0.3333333333333333,
              "#9c179e"
             ],
             [
              0.4444444444444444,
              "#bd3786"
             ],
             [
              0.5555555555555556,
              "#d8576b"
             ],
             [
              0.6666666666666666,
              "#ed7953"
             ],
             [
              0.7777777777777778,
              "#fb9f3a"
             ],
             [
              0.8888888888888888,
              "#fdca26"
             ],
             [
              1,
              "#f0f921"
             ]
            ],
            "type": "histogram2d"
           }
          ],
          "histogram2dcontour": [
           {
            "colorbar": {
             "outlinewidth": 0,
             "ticks": ""
            },
            "colorscale": [
             [
              0,
              "#0d0887"
             ],
             [
              0.1111111111111111,
              "#46039f"
             ],
             [
              0.2222222222222222,
              "#7201a8"
             ],
             [
              0.3333333333333333,
              "#9c179e"
             ],
             [
              0.4444444444444444,
              "#bd3786"
             ],
             [
              0.5555555555555556,
              "#d8576b"
             ],
             [
              0.6666666666666666,
              "#ed7953"
             ],
             [
              0.7777777777777778,
              "#fb9f3a"
             ],
             [
              0.8888888888888888,
              "#fdca26"
             ],
             [
              1,
              "#f0f921"
             ]
            ],
            "type": "histogram2dcontour"
           }
          ],
          "mesh3d": [
           {
            "colorbar": {
             "outlinewidth": 0,
             "ticks": ""
            },
            "type": "mesh3d"
           }
          ],
          "parcoords": [
           {
            "line": {
             "colorbar": {
              "outlinewidth": 0,
              "ticks": ""
             }
            },
            "type": "parcoords"
           }
          ],
          "pie": [
           {
            "automargin": true,
            "type": "pie"
           }
          ],
          "scatter": [
           {
            "marker": {
             "colorbar": {
              "outlinewidth": 0,
              "ticks": ""
             }
            },
            "type": "scatter"
           }
          ],
          "scatter3d": [
           {
            "line": {
             "colorbar": {
              "outlinewidth": 0,
              "ticks": ""
             }
            },
            "marker": {
             "colorbar": {
              "outlinewidth": 0,
              "ticks": ""
             }
            },
            "type": "scatter3d"
           }
          ],
          "scattercarpet": [
           {
            "marker": {
             "colorbar": {
              "outlinewidth": 0,
              "ticks": ""
             }
            },
            "type": "scattercarpet"
           }
          ],
          "scattergeo": [
           {
            "marker": {
             "colorbar": {
              "outlinewidth": 0,
              "ticks": ""
             }
            },
            "type": "scattergeo"
           }
          ],
          "scattergl": [
           {
            "marker": {
             "colorbar": {
              "outlinewidth": 0,
              "ticks": ""
             }
            },
            "type": "scattergl"
           }
          ],
          "scattermapbox": [
           {
            "marker": {
             "colorbar": {
              "outlinewidth": 0,
              "ticks": ""
             }
            },
            "type": "scattermapbox"
           }
          ],
          "scatterpolar": [
           {
            "marker": {
             "colorbar": {
              "outlinewidth": 0,
              "ticks": ""
             }
            },
            "type": "scatterpolar"
           }
          ],
          "scatterpolargl": [
           {
            "marker": {
             "colorbar": {
              "outlinewidth": 0,
              "ticks": ""
             }
            },
            "type": "scatterpolargl"
           }
          ],
          "scatterternary": [
           {
            "marker": {
             "colorbar": {
              "outlinewidth": 0,
              "ticks": ""
             }
            },
            "type": "scatterternary"
           }
          ],
          "surface": [
           {
            "colorbar": {
             "outlinewidth": 0,
             "ticks": ""
            },
            "colorscale": [
             [
              0,
              "#0d0887"
             ],
             [
              0.1111111111111111,
              "#46039f"
             ],
             [
              0.2222222222222222,
              "#7201a8"
             ],
             [
              0.3333333333333333,
              "#9c179e"
             ],
             [
              0.4444444444444444,
              "#bd3786"
             ],
             [
              0.5555555555555556,
              "#d8576b"
             ],
             [
              0.6666666666666666,
              "#ed7953"
             ],
             [
              0.7777777777777778,
              "#fb9f3a"
             ],
             [
              0.8888888888888888,
              "#fdca26"
             ],
             [
              1,
              "#f0f921"
             ]
            ],
            "type": "surface"
           }
          ],
          "table": [
           {
            "cells": {
             "fill": {
              "color": "#EBF0F8"
             },
             "line": {
              "color": "white"
             }
            },
            "header": {
             "fill": {
              "color": "#C8D4E3"
             },
             "line": {
              "color": "white"
             }
            },
            "type": "table"
           }
          ]
         },
         "layout": {
          "annotationdefaults": {
           "arrowcolor": "#2a3f5f",
           "arrowhead": 0,
           "arrowwidth": 1
          },
          "autotypenumbers": "strict",
          "coloraxis": {
           "colorbar": {
            "outlinewidth": 0,
            "ticks": ""
           }
          },
          "colorscale": {
           "diverging": [
            [
             0,
             "#8e0152"
            ],
            [
             0.1,
             "#c51b7d"
            ],
            [
             0.2,
             "#de77ae"
            ],
            [
             0.3,
             "#f1b6da"
            ],
            [
             0.4,
             "#fde0ef"
            ],
            [
             0.5,
             "#f7f7f7"
            ],
            [
             0.6,
             "#e6f5d0"
            ],
            [
             0.7,
             "#b8e186"
            ],
            [
             0.8,
             "#7fbc41"
            ],
            [
             0.9,
             "#4d9221"
            ],
            [
             1,
             "#276419"
            ]
           ],
           "sequential": [
            [
             0,
             "#0d0887"
            ],
            [
             0.1111111111111111,
             "#46039f"
            ],
            [
             0.2222222222222222,
             "#7201a8"
            ],
            [
             0.3333333333333333,
             "#9c179e"
            ],
            [
             0.4444444444444444,
             "#bd3786"
            ],
            [
             0.5555555555555556,
             "#d8576b"
            ],
            [
             0.6666666666666666,
             "#ed7953"
            ],
            [
             0.7777777777777778,
             "#fb9f3a"
            ],
            [
             0.8888888888888888,
             "#fdca26"
            ],
            [
             1,
             "#f0f921"
            ]
           ],
           "sequentialminus": [
            [
             0,
             "#0d0887"
            ],
            [
             0.1111111111111111,
             "#46039f"
            ],
            [
             0.2222222222222222,
             "#7201a8"
            ],
            [
             0.3333333333333333,
             "#9c179e"
            ],
            [
             0.4444444444444444,
             "#bd3786"
            ],
            [
             0.5555555555555556,
             "#d8576b"
            ],
            [
             0.6666666666666666,
             "#ed7953"
            ],
            [
             0.7777777777777778,
             "#fb9f3a"
            ],
            [
             0.8888888888888888,
             "#fdca26"
            ],
            [
             1,
             "#f0f921"
            ]
           ]
          },
          "colorway": [
           "#636efa",
           "#EF553B",
           "#00cc96",
           "#ab63fa",
           "#FFA15A",
           "#19d3f3",
           "#FF6692",
           "#B6E880",
           "#FF97FF",
           "#FECB52"
          ],
          "font": {
           "color": "#2a3f5f"
          },
          "geo": {
           "bgcolor": "white",
           "lakecolor": "white",
           "landcolor": "#E5ECF6",
           "showlakes": true,
           "showland": true,
           "subunitcolor": "white"
          },
          "hoverlabel": {
           "align": "left"
          },
          "hovermode": "closest",
          "mapbox": {
           "style": "light"
          },
          "paper_bgcolor": "white",
          "plot_bgcolor": "#E5ECF6",
          "polar": {
           "angularaxis": {
            "gridcolor": "white",
            "linecolor": "white",
            "ticks": ""
           },
           "bgcolor": "#E5ECF6",
           "radialaxis": {
            "gridcolor": "white",
            "linecolor": "white",
            "ticks": ""
           }
          },
          "scene": {
           "xaxis": {
            "backgroundcolor": "#E5ECF6",
            "gridcolor": "white",
            "gridwidth": 2,
            "linecolor": "white",
            "showbackground": true,
            "ticks": "",
            "zerolinecolor": "white"
           },
           "yaxis": {
            "backgroundcolor": "#E5ECF6",
            "gridcolor": "white",
            "gridwidth": 2,
            "linecolor": "white",
            "showbackground": true,
            "ticks": "",
            "zerolinecolor": "white"
           },
           "zaxis": {
            "backgroundcolor": "#E5ECF6",
            "gridcolor": "white",
            "gridwidth": 2,
            "linecolor": "white",
            "showbackground": true,
            "ticks": "",
            "zerolinecolor": "white"
           }
          },
          "shapedefaults": {
           "line": {
            "color": "#2a3f5f"
           }
          },
          "ternary": {
           "aaxis": {
            "gridcolor": "white",
            "linecolor": "white",
            "ticks": ""
           },
           "baxis": {
            "gridcolor": "white",
            "linecolor": "white",
            "ticks": ""
           },
           "bgcolor": "#E5ECF6",
           "caxis": {
            "gridcolor": "white",
            "linecolor": "white",
            "ticks": ""
           }
          },
          "title": {
           "x": 0.05
          },
          "xaxis": {
           "automargin": true,
           "gridcolor": "white",
           "linecolor": "white",
           "ticks": "",
           "title": {
            "standoff": 15
           },
           "zerolinecolor": "white",
           "zerolinewidth": 2
          },
          "yaxis": {
           "automargin": true,
           "gridcolor": "white",
           "linecolor": "white",
           "ticks": "",
           "title": {
            "standoff": 15
           },
           "zerolinecolor": "white",
           "zerolinewidth": 2
          }
         }
        },
        "title": {
         "text": "Training Results"
        }
       }
      },
      "text/html": [
       "<div>                            <div id=\"54f4aed6-de5c-4082-8e63-e0f65a348a62\" class=\"plotly-graph-div\" style=\"height:525px; width:100%;\"></div>            <script type=\"text/javascript\">                require([\"plotly\"], function(Plotly) {                    window.PLOTLYENV=window.PLOTLYENV || {};                                    if (document.getElementById(\"54f4aed6-de5c-4082-8e63-e0f65a348a62\")) {                    Plotly.newPlot(                        \"54f4aed6-de5c-4082-8e63-e0f65a348a62\",                        [{\"name\":\"name_unit_name_percent_part_correct\",\"x\":[0,1,2,3,4,5,6,7,8,9,10,11,12,13,14,15,16,17,18,19,20,21,22,23,24,25,26,27,28,29,30,31,32,33,34,35,36,37,38,39,40,41,42,43,44,45,46,47,48,49],\"y\":[0.55544114112854,0.7906701564788818,0.9260470867156982,0.9529268145561218,0.9616926312446594,0.9635956287384033,0.966614305973053,0.968021810054779,0.9687895774841309,0.9690244197845459,0.9704577326774597,0.9709200859069824,0.9717618823051453,0.9711454510688782,0.9730998277664185,0.9735938310623169,0.9733273386955261,0.9739980697631836,0.9758396148681641,0.9753992557525635,0.9767987132072449,0.9771436452865601,0.9765690565109253,0.9758542776107788,0.9777748584747314,0.9769625067710876,0.9780368804931641,0.9780295491218567,0.9786995649337769,0.9789050817489624,0.9790688157081604,0.9787927865982056,0.9799280762672424,0.9800132513046265,0.9800792932510376,0.9798100590705872,0.9800449013710022,0.9802826046943665,0.9804829955101013,0.9809725284576416,0.9806957840919495,0.9808793067932129,0.9803091287612915,0.980901300907135,0.9816991090774536,0.9819750785827637,0.982327401638031,0.9815155863761902,0.9818847179412842,0.9816058278083801],\"type\":\"scatter\",\"mode\":\"lines+markers\"},{\"name\":\"val_name_unit_name_percent_part_correct\",\"x\":[0,1,2,3,4,5,6,7,8,9,10,11,12,13,14,15,16,17,18,19,20,21,22,23,24,25,26,27,28,29,30,31,32,33,34,35,36,37,38,39,40,41,42,43,44,45,46,47,48,49],\"y\":[0.6701544523239136,0.9306402206420898,0.9524529576301575,0.9684298038482666,0.9658477902412415,0.9708899855613708,0.9725023508071899,0.973499059677124,0.9776031970977783,0.9753459095954895,0.97780841588974,0.9768117070198059,0.9791275858879089,0.9784826636314392,0.9797138571739197,0.9767823815345764,0.9797138571739197,0.9794207215309143,0.9804760813713074,0.9803881049156189,0.9788637161254883,0.982498824596405,0.9812968969345093,0.9826160669326782,0.981941819190979,0.9841991066932678,0.9826453924179077,0.9831730723381042,0.9810916781425476,0.9841404557228088,0.9831730723381042,0.982498824596405,0.9827040433883667,0.9826160669326782,0.9831144213676453,0.9847267866134644,0.9834662079811096,0.9843456745147705,0.984316349029541,0.9845508933067322,0.9840232133865356,0.9842284321784973,0.9841111898422241,0.9839938879013062,0.9853717088699341,0.9845508933067322,0.9850785732269287,0.9854303598403931,0.9832610487937927,0.9854889512062073],\"type\":\"scatter\",\"mode\":\"lines+markers\"}],                        {\"template\":{\"data\":{\"bar\":[{\"error_x\":{\"color\":\"#2a3f5f\"},\"error_y\":{\"color\":\"#2a3f5f\"},\"marker\":{\"line\":{\"color\":\"#E5ECF6\",\"width\":0.5},\"pattern\":{\"fillmode\":\"overlay\",\"size\":10,\"solidity\":0.2}},\"type\":\"bar\"}],\"barpolar\":[{\"marker\":{\"line\":{\"color\":\"#E5ECF6\",\"width\":0.5},\"pattern\":{\"fillmode\":\"overlay\",\"size\":10,\"solidity\":0.2}},\"type\":\"barpolar\"}],\"carpet\":[{\"aaxis\":{\"endlinecolor\":\"#2a3f5f\",\"gridcolor\":\"white\",\"linecolor\":\"white\",\"minorgridcolor\":\"white\",\"startlinecolor\":\"#2a3f5f\"},\"baxis\":{\"endlinecolor\":\"#2a3f5f\",\"gridcolor\":\"white\",\"linecolor\":\"white\",\"minorgridcolor\":\"white\",\"startlinecolor\":\"#2a3f5f\"},\"type\":\"carpet\"}],\"choropleth\":[{\"colorbar\":{\"outlinewidth\":0,\"ticks\":\"\"},\"type\":\"choropleth\"}],\"contour\":[{\"colorbar\":{\"outlinewidth\":0,\"ticks\":\"\"},\"colorscale\":[[0.0,\"#0d0887\"],[0.1111111111111111,\"#46039f\"],[0.2222222222222222,\"#7201a8\"],[0.3333333333333333,\"#9c179e\"],[0.4444444444444444,\"#bd3786\"],[0.5555555555555556,\"#d8576b\"],[0.6666666666666666,\"#ed7953\"],[0.7777777777777778,\"#fb9f3a\"],[0.8888888888888888,\"#fdca26\"],[1.0,\"#f0f921\"]],\"type\":\"contour\"}],\"contourcarpet\":[{\"colorbar\":{\"outlinewidth\":0,\"ticks\":\"\"},\"type\":\"contourcarpet\"}],\"heatmap\":[{\"colorbar\":{\"outlinewidth\":0,\"ticks\":\"\"},\"colorscale\":[[0.0,\"#0d0887\"],[0.1111111111111111,\"#46039f\"],[0.2222222222222222,\"#7201a8\"],[0.3333333333333333,\"#9c179e\"],[0.4444444444444444,\"#bd3786\"],[0.5555555555555556,\"#d8576b\"],[0.6666666666666666,\"#ed7953\"],[0.7777777777777778,\"#fb9f3a\"],[0.8888888888888888,\"#fdca26\"],[1.0,\"#f0f921\"]],\"type\":\"heatmap\"}],\"heatmapgl\":[{\"colorbar\":{\"outlinewidth\":0,\"ticks\":\"\"},\"colorscale\":[[0.0,\"#0d0887\"],[0.1111111111111111,\"#46039f\"],[0.2222222222222222,\"#7201a8\"],[0.3333333333333333,\"#9c179e\"],[0.4444444444444444,\"#bd3786\"],[0.5555555555555556,\"#d8576b\"],[0.6666666666666666,\"#ed7953\"],[0.7777777777777778,\"#fb9f3a\"],[0.8888888888888888,\"#fdca26\"],[1.0,\"#f0f921\"]],\"type\":\"heatmapgl\"}],\"histogram\":[{\"marker\":{\"pattern\":{\"fillmode\":\"overlay\",\"size\":10,\"solidity\":0.2}},\"type\":\"histogram\"}],\"histogram2d\":[{\"colorbar\":{\"outlinewidth\":0,\"ticks\":\"\"},\"colorscale\":[[0.0,\"#0d0887\"],[0.1111111111111111,\"#46039f\"],[0.2222222222222222,\"#7201a8\"],[0.3333333333333333,\"#9c179e\"],[0.4444444444444444,\"#bd3786\"],[0.5555555555555556,\"#d8576b\"],[0.6666666666666666,\"#ed7953\"],[0.7777777777777778,\"#fb9f3a\"],[0.8888888888888888,\"#fdca26\"],[1.0,\"#f0f921\"]],\"type\":\"histogram2d\"}],\"histogram2dcontour\":[{\"colorbar\":{\"outlinewidth\":0,\"ticks\":\"\"},\"colorscale\":[[0.0,\"#0d0887\"],[0.1111111111111111,\"#46039f\"],[0.2222222222222222,\"#7201a8\"],[0.3333333333333333,\"#9c179e\"],[0.4444444444444444,\"#bd3786\"],[0.5555555555555556,\"#d8576b\"],[0.6666666666666666,\"#ed7953\"],[0.7777777777777778,\"#fb9f3a\"],[0.8888888888888888,\"#fdca26\"],[1.0,\"#f0f921\"]],\"type\":\"histogram2dcontour\"}],\"mesh3d\":[{\"colorbar\":{\"outlinewidth\":0,\"ticks\":\"\"},\"type\":\"mesh3d\"}],\"parcoords\":[{\"line\":{\"colorbar\":{\"outlinewidth\":0,\"ticks\":\"\"}},\"type\":\"parcoords\"}],\"pie\":[{\"automargin\":true,\"type\":\"pie\"}],\"scatter\":[{\"marker\":{\"colorbar\":{\"outlinewidth\":0,\"ticks\":\"\"}},\"type\":\"scatter\"}],\"scatter3d\":[{\"line\":{\"colorbar\":{\"outlinewidth\":0,\"ticks\":\"\"}},\"marker\":{\"colorbar\":{\"outlinewidth\":0,\"ticks\":\"\"}},\"type\":\"scatter3d\"}],\"scattercarpet\":[{\"marker\":{\"colorbar\":{\"outlinewidth\":0,\"ticks\":\"\"}},\"type\":\"scattercarpet\"}],\"scattergeo\":[{\"marker\":{\"colorbar\":{\"outlinewidth\":0,\"ticks\":\"\"}},\"type\":\"scattergeo\"}],\"scattergl\":[{\"marker\":{\"colorbar\":{\"outlinewidth\":0,\"ticks\":\"\"}},\"type\":\"scattergl\"}],\"scattermapbox\":[{\"marker\":{\"colorbar\":{\"outlinewidth\":0,\"ticks\":\"\"}},\"type\":\"scattermapbox\"}],\"scatterpolar\":[{\"marker\":{\"colorbar\":{\"outlinewidth\":0,\"ticks\":\"\"}},\"type\":\"scatterpolar\"}],\"scatterpolargl\":[{\"marker\":{\"colorbar\":{\"outlinewidth\":0,\"ticks\":\"\"}},\"type\":\"scatterpolargl\"}],\"scatterternary\":[{\"marker\":{\"colorbar\":{\"outlinewidth\":0,\"ticks\":\"\"}},\"type\":\"scatterternary\"}],\"surface\":[{\"colorbar\":{\"outlinewidth\":0,\"ticks\":\"\"},\"colorscale\":[[0.0,\"#0d0887\"],[0.1111111111111111,\"#46039f\"],[0.2222222222222222,\"#7201a8\"],[0.3333333333333333,\"#9c179e\"],[0.4444444444444444,\"#bd3786\"],[0.5555555555555556,\"#d8576b\"],[0.6666666666666666,\"#ed7953\"],[0.7777777777777778,\"#fb9f3a\"],[0.8888888888888888,\"#fdca26\"],[1.0,\"#f0f921\"]],\"type\":\"surface\"}],\"table\":[{\"cells\":{\"fill\":{\"color\":\"#EBF0F8\"},\"line\":{\"color\":\"white\"}},\"header\":{\"fill\":{\"color\":\"#C8D4E3\"},\"line\":{\"color\":\"white\"}},\"type\":\"table\"}]},\"layout\":{\"annotationdefaults\":{\"arrowcolor\":\"#2a3f5f\",\"arrowhead\":0,\"arrowwidth\":1},\"autotypenumbers\":\"strict\",\"coloraxis\":{\"colorbar\":{\"outlinewidth\":0,\"ticks\":\"\"}},\"colorscale\":{\"diverging\":[[0,\"#8e0152\"],[0.1,\"#c51b7d\"],[0.2,\"#de77ae\"],[0.3,\"#f1b6da\"],[0.4,\"#fde0ef\"],[0.5,\"#f7f7f7\"],[0.6,\"#e6f5d0\"],[0.7,\"#b8e186\"],[0.8,\"#7fbc41\"],[0.9,\"#4d9221\"],[1,\"#276419\"]],\"sequential\":[[0.0,\"#0d0887\"],[0.1111111111111111,\"#46039f\"],[0.2222222222222222,\"#7201a8\"],[0.3333333333333333,\"#9c179e\"],[0.4444444444444444,\"#bd3786\"],[0.5555555555555556,\"#d8576b\"],[0.6666666666666666,\"#ed7953\"],[0.7777777777777778,\"#fb9f3a\"],[0.8888888888888888,\"#fdca26\"],[1.0,\"#f0f921\"]],\"sequentialminus\":[[0.0,\"#0d0887\"],[0.1111111111111111,\"#46039f\"],[0.2222222222222222,\"#7201a8\"],[0.3333333333333333,\"#9c179e\"],[0.4444444444444444,\"#bd3786\"],[0.5555555555555556,\"#d8576b\"],[0.6666666666666666,\"#ed7953\"],[0.7777777777777778,\"#fb9f3a\"],[0.8888888888888888,\"#fdca26\"],[1.0,\"#f0f921\"]]},\"colorway\":[\"#636efa\",\"#EF553B\",\"#00cc96\",\"#ab63fa\",\"#FFA15A\",\"#19d3f3\",\"#FF6692\",\"#B6E880\",\"#FF97FF\",\"#FECB52\"],\"font\":{\"color\":\"#2a3f5f\"},\"geo\":{\"bgcolor\":\"white\",\"lakecolor\":\"white\",\"landcolor\":\"#E5ECF6\",\"showlakes\":true,\"showland\":true,\"subunitcolor\":\"white\"},\"hoverlabel\":{\"align\":\"left\"},\"hovermode\":\"closest\",\"mapbox\":{\"style\":\"light\"},\"paper_bgcolor\":\"white\",\"plot_bgcolor\":\"#E5ECF6\",\"polar\":{\"angularaxis\":{\"gridcolor\":\"white\",\"linecolor\":\"white\",\"ticks\":\"\"},\"bgcolor\":\"#E5ECF6\",\"radialaxis\":{\"gridcolor\":\"white\",\"linecolor\":\"white\",\"ticks\":\"\"}},\"scene\":{\"xaxis\":{\"backgroundcolor\":\"#E5ECF6\",\"gridcolor\":\"white\",\"gridwidth\":2,\"linecolor\":\"white\",\"showbackground\":true,\"ticks\":\"\",\"zerolinecolor\":\"white\"},\"yaxis\":{\"backgroundcolor\":\"#E5ECF6\",\"gridcolor\":\"white\",\"gridwidth\":2,\"linecolor\":\"white\",\"showbackground\":true,\"ticks\":\"\",\"zerolinecolor\":\"white\"},\"zaxis\":{\"backgroundcolor\":\"#E5ECF6\",\"gridcolor\":\"white\",\"gridwidth\":2,\"linecolor\":\"white\",\"showbackground\":true,\"ticks\":\"\",\"zerolinecolor\":\"white\"}},\"shapedefaults\":{\"line\":{\"color\":\"#2a3f5f\"}},\"ternary\":{\"aaxis\":{\"gridcolor\":\"white\",\"linecolor\":\"white\",\"ticks\":\"\"},\"baxis\":{\"gridcolor\":\"white\",\"linecolor\":\"white\",\"ticks\":\"\"},\"bgcolor\":\"#E5ECF6\",\"caxis\":{\"gridcolor\":\"white\",\"linecolor\":\"white\",\"ticks\":\"\"}},\"title\":{\"x\":0.05},\"xaxis\":{\"automargin\":true,\"gridcolor\":\"white\",\"linecolor\":\"white\",\"ticks\":\"\",\"title\":{\"standoff\":15},\"zerolinecolor\":\"white\",\"zerolinewidth\":2},\"yaxis\":{\"automargin\":true,\"gridcolor\":\"white\",\"linecolor\":\"white\",\"ticks\":\"\",\"title\":{\"standoff\":15},\"zerolinecolor\":\"white\",\"zerolinewidth\":2}}},\"legend\":{\"font\":{\"size\":16},\"y\":0.5,\"traceorder\":\"reversed\"},\"title\":{\"text\":\"Training Results\"}},                        {\"responsive\": true}                    ).then(function(){\n",
       "                            \n",
       "var gd = document.getElementById('54f4aed6-de5c-4082-8e63-e0f65a348a62');\n",
       "var x = new MutationObserver(function (mutations, observer) {{\n",
       "        var display = window.getComputedStyle(gd).display;\n",
       "        if (!display || display === 'none') {{\n",
       "            console.log([gd, 'removed!']);\n",
       "            Plotly.purge(gd);\n",
       "            observer.disconnect();\n",
       "        }}\n",
       "}});\n",
       "\n",
       "// Listen for the removal of the full notebook cells\n",
       "var notebookContainer = gd.closest('#notebook-container');\n",
       "if (notebookContainer) {{\n",
       "    x.observe(notebookContainer, {childList: true});\n",
       "}}\n",
       "\n",
       "// Listen for the clearing of the current output cell\n",
       "var outputEl = gd.closest('.output');\n",
       "if (outputEl) {{\n",
       "    x.observe(outputEl, {childList: true});\n",
       "}}\n",
       "\n",
       "                        })                };                });            </script>        </div>"
      ]
     },
     "metadata": {},
     "output_type": "display_data"
    },
    {
     "data": {
      "application/vnd.plotly.v1+json": {
       "config": {
        "plotlyServerURL": "https://plot.ly"
       },
       "data": [
        {
         "mode": "lines+markers",
         "name": "qty_mse",
         "type": "scatter",
         "x": [
          0,
          1,
          2,
          3,
          4,
          5,
          6,
          7,
          8,
          9,
          10,
          11,
          12,
          13,
          14,
          15,
          16,
          17,
          18,
          19,
          20,
          21,
          22,
          23,
          24,
          25,
          26,
          27,
          28,
          29,
          30,
          31,
          32,
          33,
          34,
          35,
          36,
          37,
          38,
          39,
          40,
          41,
          42,
          43,
          44,
          45,
          46,
          47,
          48,
          49
         ],
         "y": [
          170.21080017089844,
          105.9630126953125,
          86.45218658447266,
          82.13308715820312,
          80.33356475830078,
          62.431419372558594,
          55.76713562011719,
          45.83638000488281,
          41.944549560546875,
          35.845638275146484,
          38.0962028503418,
          30.91504669189453,
          39.30574035644531,
          21.571971893310547,
          29.030475616455078,
          24.88106346130371,
          20.861961364746094,
          23.0012149810791,
          20.572240829467773,
          14.251055717468262,
          24.748640060424805,
          19.04061508178711,
          12.171395301818848,
          11.522481918334961,
          12.427968978881836,
          11.142523765563965,
          12.100334167480469,
          12.652251243591309,
          12.265397071838379,
          11.770697593688965,
          10.148303031921387,
          12.527904510498047,
          17.87751579284668,
          12.846970558166504,
          9.534242630004883,
          8.907051086425781,
          7.698176383972168,
          7.991755485534668,
          8.992259979248047,
          10.721349716186523,
          8.185297012329102,
          7.850048065185547,
          7.9830780029296875,
          7.98957633972168,
          7.831658840179443,
          7.089529991149902,
          7.110273838043213,
          9.38975715637207,
          7.103145122528076,
          6.7266058921813965
         ]
        },
        {
         "mode": "lines+markers",
         "name": "val_qty_mse",
         "type": "scatter",
         "x": [
          0,
          1,
          2,
          3,
          4,
          5,
          6,
          7,
          8,
          9,
          10,
          11,
          12,
          13,
          14,
          15,
          16,
          17,
          18,
          19,
          20,
          21,
          22,
          23,
          24,
          25,
          26,
          27,
          28,
          29,
          30,
          31,
          32,
          33,
          34,
          35,
          36,
          37,
          38,
          39,
          40,
          41,
          42,
          43,
          44,
          45,
          46,
          47,
          48,
          49
         ],
         "y": [
          201.3157958984375,
          112.68167114257812,
          112.579345703125,
          135.2706298828125,
          127.932373046875,
          128.3088836669922,
          125.28691101074219,
          129.38043212890625,
          128.5655517578125,
          126.39580535888672,
          130.09800720214844,
          148.02694702148438,
          191.47303771972656,
          161.49757385253906,
          140.58609008789062,
          139.611083984375,
          138.29727172851562,
          121.96025848388672,
          138.34320068359375,
          120.90225219726562,
          148.32363891601562,
          129.7827911376953,
          134.8506317138672,
          130.7736358642578,
          118.87264251708984,
          134.6483154296875,
          128.77328491210938,
          129.55625915527344,
          125.55572509765625,
          132.22525024414062,
          125.10311126708984,
          120.28755187988281,
          120.20504760742188,
          123.07453918457031,
          133.3957061767578,
          126.36196899414062,
          128.75010681152344,
          129.65689086914062,
          121.51300048828125,
          125.0037841796875,
          133.8867645263672,
          133.97523498535156,
          125.81010437011719,
          134.31719970703125,
          123.84458923339844,
          126.424560546875,
          127.38972473144531,
          132.6780548095703,
          129.63455200195312,
          158.065673828125
         ]
        }
       ],
       "layout": {
        "legend": {
         "font": {
          "size": 16
         },
         "traceorder": "reversed",
         "y": 0.5
        },
        "template": {
         "data": {
          "bar": [
           {
            "error_x": {
             "color": "#2a3f5f"
            },
            "error_y": {
             "color": "#2a3f5f"
            },
            "marker": {
             "line": {
              "color": "#E5ECF6",
              "width": 0.5
             },
             "pattern": {
              "fillmode": "overlay",
              "size": 10,
              "solidity": 0.2
             }
            },
            "type": "bar"
           }
          ],
          "barpolar": [
           {
            "marker": {
             "line": {
              "color": "#E5ECF6",
              "width": 0.5
             },
             "pattern": {
              "fillmode": "overlay",
              "size": 10,
              "solidity": 0.2
             }
            },
            "type": "barpolar"
           }
          ],
          "carpet": [
           {
            "aaxis": {
             "endlinecolor": "#2a3f5f",
             "gridcolor": "white",
             "linecolor": "white",
             "minorgridcolor": "white",
             "startlinecolor": "#2a3f5f"
            },
            "baxis": {
             "endlinecolor": "#2a3f5f",
             "gridcolor": "white",
             "linecolor": "white",
             "minorgridcolor": "white",
             "startlinecolor": "#2a3f5f"
            },
            "type": "carpet"
           }
          ],
          "choropleth": [
           {
            "colorbar": {
             "outlinewidth": 0,
             "ticks": ""
            },
            "type": "choropleth"
           }
          ],
          "contour": [
           {
            "colorbar": {
             "outlinewidth": 0,
             "ticks": ""
            },
            "colorscale": [
             [
              0,
              "#0d0887"
             ],
             [
              0.1111111111111111,
              "#46039f"
             ],
             [
              0.2222222222222222,
              "#7201a8"
             ],
             [
              0.3333333333333333,
              "#9c179e"
             ],
             [
              0.4444444444444444,
              "#bd3786"
             ],
             [
              0.5555555555555556,
              "#d8576b"
             ],
             [
              0.6666666666666666,
              "#ed7953"
             ],
             [
              0.7777777777777778,
              "#fb9f3a"
             ],
             [
              0.8888888888888888,
              "#fdca26"
             ],
             [
              1,
              "#f0f921"
             ]
            ],
            "type": "contour"
           }
          ],
          "contourcarpet": [
           {
            "colorbar": {
             "outlinewidth": 0,
             "ticks": ""
            },
            "type": "contourcarpet"
           }
          ],
          "heatmap": [
           {
            "colorbar": {
             "outlinewidth": 0,
             "ticks": ""
            },
            "colorscale": [
             [
              0,
              "#0d0887"
             ],
             [
              0.1111111111111111,
              "#46039f"
             ],
             [
              0.2222222222222222,
              "#7201a8"
             ],
             [
              0.3333333333333333,
              "#9c179e"
             ],
             [
              0.4444444444444444,
              "#bd3786"
             ],
             [
              0.5555555555555556,
              "#d8576b"
             ],
             [
              0.6666666666666666,
              "#ed7953"
             ],
             [
              0.7777777777777778,
              "#fb9f3a"
             ],
             [
              0.8888888888888888,
              "#fdca26"
             ],
             [
              1,
              "#f0f921"
             ]
            ],
            "type": "heatmap"
           }
          ],
          "heatmapgl": [
           {
            "colorbar": {
             "outlinewidth": 0,
             "ticks": ""
            },
            "colorscale": [
             [
              0,
              "#0d0887"
             ],
             [
              0.1111111111111111,
              "#46039f"
             ],
             [
              0.2222222222222222,
              "#7201a8"
             ],
             [
              0.3333333333333333,
              "#9c179e"
             ],
             [
              0.4444444444444444,
              "#bd3786"
             ],
             [
              0.5555555555555556,
              "#d8576b"
             ],
             [
              0.6666666666666666,
              "#ed7953"
             ],
             [
              0.7777777777777778,
              "#fb9f3a"
             ],
             [
              0.8888888888888888,
              "#fdca26"
             ],
             [
              1,
              "#f0f921"
             ]
            ],
            "type": "heatmapgl"
           }
          ],
          "histogram": [
           {
            "marker": {
             "pattern": {
              "fillmode": "overlay",
              "size": 10,
              "solidity": 0.2
             }
            },
            "type": "histogram"
           }
          ],
          "histogram2d": [
           {
            "colorbar": {
             "outlinewidth": 0,
             "ticks": ""
            },
            "colorscale": [
             [
              0,
              "#0d0887"
             ],
             [
              0.1111111111111111,
              "#46039f"
             ],
             [
              0.2222222222222222,
              "#7201a8"
             ],
             [
              0.3333333333333333,
              "#9c179e"
             ],
             [
              0.4444444444444444,
              "#bd3786"
             ],
             [
              0.5555555555555556,
              "#d8576b"
             ],
             [
              0.6666666666666666,
              "#ed7953"
             ],
             [
              0.7777777777777778,
              "#fb9f3a"
             ],
             [
              0.8888888888888888,
              "#fdca26"
             ],
             [
              1,
              "#f0f921"
             ]
            ],
            "type": "histogram2d"
           }
          ],
          "histogram2dcontour": [
           {
            "colorbar": {
             "outlinewidth": 0,
             "ticks": ""
            },
            "colorscale": [
             [
              0,
              "#0d0887"
             ],
             [
              0.1111111111111111,
              "#46039f"
             ],
             [
              0.2222222222222222,
              "#7201a8"
             ],
             [
              0.3333333333333333,
              "#9c179e"
             ],
             [
              0.4444444444444444,
              "#bd3786"
             ],
             [
              0.5555555555555556,
              "#d8576b"
             ],
             [
              0.6666666666666666,
              "#ed7953"
             ],
             [
              0.7777777777777778,
              "#fb9f3a"
             ],
             [
              0.8888888888888888,
              "#fdca26"
             ],
             [
              1,
              "#f0f921"
             ]
            ],
            "type": "histogram2dcontour"
           }
          ],
          "mesh3d": [
           {
            "colorbar": {
             "outlinewidth": 0,
             "ticks": ""
            },
            "type": "mesh3d"
           }
          ],
          "parcoords": [
           {
            "line": {
             "colorbar": {
              "outlinewidth": 0,
              "ticks": ""
             }
            },
            "type": "parcoords"
           }
          ],
          "pie": [
           {
            "automargin": true,
            "type": "pie"
           }
          ],
          "scatter": [
           {
            "marker": {
             "colorbar": {
              "outlinewidth": 0,
              "ticks": ""
             }
            },
            "type": "scatter"
           }
          ],
          "scatter3d": [
           {
            "line": {
             "colorbar": {
              "outlinewidth": 0,
              "ticks": ""
             }
            },
            "marker": {
             "colorbar": {
              "outlinewidth": 0,
              "ticks": ""
             }
            },
            "type": "scatter3d"
           }
          ],
          "scattercarpet": [
           {
            "marker": {
             "colorbar": {
              "outlinewidth": 0,
              "ticks": ""
             }
            },
            "type": "scattercarpet"
           }
          ],
          "scattergeo": [
           {
            "marker": {
             "colorbar": {
              "outlinewidth": 0,
              "ticks": ""
             }
            },
            "type": "scattergeo"
           }
          ],
          "scattergl": [
           {
            "marker": {
             "colorbar": {
              "outlinewidth": 0,
              "ticks": ""
             }
            },
            "type": "scattergl"
           }
          ],
          "scattermapbox": [
           {
            "marker": {
             "colorbar": {
              "outlinewidth": 0,
              "ticks": ""
             }
            },
            "type": "scattermapbox"
           }
          ],
          "scatterpolar": [
           {
            "marker": {
             "colorbar": {
              "outlinewidth": 0,
              "ticks": ""
             }
            },
            "type": "scatterpolar"
           }
          ],
          "scatterpolargl": [
           {
            "marker": {
             "colorbar": {
              "outlinewidth": 0,
              "ticks": ""
             }
            },
            "type": "scatterpolargl"
           }
          ],
          "scatterternary": [
           {
            "marker": {
             "colorbar": {
              "outlinewidth": 0,
              "ticks": ""
             }
            },
            "type": "scatterternary"
           }
          ],
          "surface": [
           {
            "colorbar": {
             "outlinewidth": 0,
             "ticks": ""
            },
            "colorscale": [
             [
              0,
              "#0d0887"
             ],
             [
              0.1111111111111111,
              "#46039f"
             ],
             [
              0.2222222222222222,
              "#7201a8"
             ],
             [
              0.3333333333333333,
              "#9c179e"
             ],
             [
              0.4444444444444444,
              "#bd3786"
             ],
             [
              0.5555555555555556,
              "#d8576b"
             ],
             [
              0.6666666666666666,
              "#ed7953"
             ],
             [
              0.7777777777777778,
              "#fb9f3a"
             ],
             [
              0.8888888888888888,
              "#fdca26"
             ],
             [
              1,
              "#f0f921"
             ]
            ],
            "type": "surface"
           }
          ],
          "table": [
           {
            "cells": {
             "fill": {
              "color": "#EBF0F8"
             },
             "line": {
              "color": "white"
             }
            },
            "header": {
             "fill": {
              "color": "#C8D4E3"
             },
             "line": {
              "color": "white"
             }
            },
            "type": "table"
           }
          ]
         },
         "layout": {
          "annotationdefaults": {
           "arrowcolor": "#2a3f5f",
           "arrowhead": 0,
           "arrowwidth": 1
          },
          "autotypenumbers": "strict",
          "coloraxis": {
           "colorbar": {
            "outlinewidth": 0,
            "ticks": ""
           }
          },
          "colorscale": {
           "diverging": [
            [
             0,
             "#8e0152"
            ],
            [
             0.1,
             "#c51b7d"
            ],
            [
             0.2,
             "#de77ae"
            ],
            [
             0.3,
             "#f1b6da"
            ],
            [
             0.4,
             "#fde0ef"
            ],
            [
             0.5,
             "#f7f7f7"
            ],
            [
             0.6,
             "#e6f5d0"
            ],
            [
             0.7,
             "#b8e186"
            ],
            [
             0.8,
             "#7fbc41"
            ],
            [
             0.9,
             "#4d9221"
            ],
            [
             1,
             "#276419"
            ]
           ],
           "sequential": [
            [
             0,
             "#0d0887"
            ],
            [
             0.1111111111111111,
             "#46039f"
            ],
            [
             0.2222222222222222,
             "#7201a8"
            ],
            [
             0.3333333333333333,
             "#9c179e"
            ],
            [
             0.4444444444444444,
             "#bd3786"
            ],
            [
             0.5555555555555556,
             "#d8576b"
            ],
            [
             0.6666666666666666,
             "#ed7953"
            ],
            [
             0.7777777777777778,
             "#fb9f3a"
            ],
            [
             0.8888888888888888,
             "#fdca26"
            ],
            [
             1,
             "#f0f921"
            ]
           ],
           "sequentialminus": [
            [
             0,
             "#0d0887"
            ],
            [
             0.1111111111111111,
             "#46039f"
            ],
            [
             0.2222222222222222,
             "#7201a8"
            ],
            [
             0.3333333333333333,
             "#9c179e"
            ],
            [
             0.4444444444444444,
             "#bd3786"
            ],
            [
             0.5555555555555556,
             "#d8576b"
            ],
            [
             0.6666666666666666,
             "#ed7953"
            ],
            [
             0.7777777777777778,
             "#fb9f3a"
            ],
            [
             0.8888888888888888,
             "#fdca26"
            ],
            [
             1,
             "#f0f921"
            ]
           ]
          },
          "colorway": [
           "#636efa",
           "#EF553B",
           "#00cc96",
           "#ab63fa",
           "#FFA15A",
           "#19d3f3",
           "#FF6692",
           "#B6E880",
           "#FF97FF",
           "#FECB52"
          ],
          "font": {
           "color": "#2a3f5f"
          },
          "geo": {
           "bgcolor": "white",
           "lakecolor": "white",
           "landcolor": "#E5ECF6",
           "showlakes": true,
           "showland": true,
           "subunitcolor": "white"
          },
          "hoverlabel": {
           "align": "left"
          },
          "hovermode": "closest",
          "mapbox": {
           "style": "light"
          },
          "paper_bgcolor": "white",
          "plot_bgcolor": "#E5ECF6",
          "polar": {
           "angularaxis": {
            "gridcolor": "white",
            "linecolor": "white",
            "ticks": ""
           },
           "bgcolor": "#E5ECF6",
           "radialaxis": {
            "gridcolor": "white",
            "linecolor": "white",
            "ticks": ""
           }
          },
          "scene": {
           "xaxis": {
            "backgroundcolor": "#E5ECF6",
            "gridcolor": "white",
            "gridwidth": 2,
            "linecolor": "white",
            "showbackground": true,
            "ticks": "",
            "zerolinecolor": "white"
           },
           "yaxis": {
            "backgroundcolor": "#E5ECF6",
            "gridcolor": "white",
            "gridwidth": 2,
            "linecolor": "white",
            "showbackground": true,
            "ticks": "",
            "zerolinecolor": "white"
           },
           "zaxis": {
            "backgroundcolor": "#E5ECF6",
            "gridcolor": "white",
            "gridwidth": 2,
            "linecolor": "white",
            "showbackground": true,
            "ticks": "",
            "zerolinecolor": "white"
           }
          },
          "shapedefaults": {
           "line": {
            "color": "#2a3f5f"
           }
          },
          "ternary": {
           "aaxis": {
            "gridcolor": "white",
            "linecolor": "white",
            "ticks": ""
           },
           "baxis": {
            "gridcolor": "white",
            "linecolor": "white",
            "ticks": ""
           },
           "bgcolor": "#E5ECF6",
           "caxis": {
            "gridcolor": "white",
            "linecolor": "white",
            "ticks": ""
           }
          },
          "title": {
           "x": 0.05
          },
          "xaxis": {
           "automargin": true,
           "gridcolor": "white",
           "linecolor": "white",
           "ticks": "",
           "title": {
            "standoff": 15
           },
           "zerolinecolor": "white",
           "zerolinewidth": 2
          },
          "yaxis": {
           "automargin": true,
           "gridcolor": "white",
           "linecolor": "white",
           "ticks": "",
           "title": {
            "standoff": 15
           },
           "zerolinecolor": "white",
           "zerolinewidth": 2
          }
         }
        },
        "title": {
         "text": "Training Results"
        }
       }
      },
      "text/html": [
       "<div>                            <div id=\"164b734e-c1d4-40f1-a7cb-2544edd34c92\" class=\"plotly-graph-div\" style=\"height:525px; width:100%;\"></div>            <script type=\"text/javascript\">                require([\"plotly\"], function(Plotly) {                    window.PLOTLYENV=window.PLOTLYENV || {};                                    if (document.getElementById(\"164b734e-c1d4-40f1-a7cb-2544edd34c92\")) {                    Plotly.newPlot(                        \"164b734e-c1d4-40f1-a7cb-2544edd34c92\",                        [{\"name\":\"qty_mse\",\"x\":[0,1,2,3,4,5,6,7,8,9,10,11,12,13,14,15,16,17,18,19,20,21,22,23,24,25,26,27,28,29,30,31,32,33,34,35,36,37,38,39,40,41,42,43,44,45,46,47,48,49],\"y\":[170.21080017089844,105.9630126953125,86.45218658447266,82.13308715820312,80.33356475830078,62.431419372558594,55.76713562011719,45.83638000488281,41.944549560546875,35.845638275146484,38.0962028503418,30.91504669189453,39.30574035644531,21.571971893310547,29.030475616455078,24.88106346130371,20.861961364746094,23.0012149810791,20.572240829467773,14.251055717468262,24.748640060424805,19.04061508178711,12.171395301818848,11.522481918334961,12.427968978881836,11.142523765563965,12.100334167480469,12.652251243591309,12.265397071838379,11.770697593688965,10.148303031921387,12.527904510498047,17.87751579284668,12.846970558166504,9.534242630004883,8.907051086425781,7.698176383972168,7.991755485534668,8.992259979248047,10.721349716186523,8.185297012329102,7.850048065185547,7.9830780029296875,7.98957633972168,7.831658840179443,7.089529991149902,7.110273838043213,9.38975715637207,7.103145122528076,6.7266058921813965],\"type\":\"scatter\",\"mode\":\"lines+markers\"},{\"name\":\"val_qty_mse\",\"x\":[0,1,2,3,4,5,6,7,8,9,10,11,12,13,14,15,16,17,18,19,20,21,22,23,24,25,26,27,28,29,30,31,32,33,34,35,36,37,38,39,40,41,42,43,44,45,46,47,48,49],\"y\":[201.3157958984375,112.68167114257812,112.579345703125,135.2706298828125,127.932373046875,128.3088836669922,125.28691101074219,129.38043212890625,128.5655517578125,126.39580535888672,130.09800720214844,148.02694702148438,191.47303771972656,161.49757385253906,140.58609008789062,139.611083984375,138.29727172851562,121.96025848388672,138.34320068359375,120.90225219726562,148.32363891601562,129.7827911376953,134.8506317138672,130.7736358642578,118.87264251708984,134.6483154296875,128.77328491210938,129.55625915527344,125.55572509765625,132.22525024414062,125.10311126708984,120.28755187988281,120.20504760742188,123.07453918457031,133.3957061767578,126.36196899414062,128.75010681152344,129.65689086914062,121.51300048828125,125.0037841796875,133.8867645263672,133.97523498535156,125.81010437011719,134.31719970703125,123.84458923339844,126.424560546875,127.38972473144531,132.6780548095703,129.63455200195312,158.065673828125],\"type\":\"scatter\",\"mode\":\"lines+markers\"}],                        {\"template\":{\"data\":{\"bar\":[{\"error_x\":{\"color\":\"#2a3f5f\"},\"error_y\":{\"color\":\"#2a3f5f\"},\"marker\":{\"line\":{\"color\":\"#E5ECF6\",\"width\":0.5},\"pattern\":{\"fillmode\":\"overlay\",\"size\":10,\"solidity\":0.2}},\"type\":\"bar\"}],\"barpolar\":[{\"marker\":{\"line\":{\"color\":\"#E5ECF6\",\"width\":0.5},\"pattern\":{\"fillmode\":\"overlay\",\"size\":10,\"solidity\":0.2}},\"type\":\"barpolar\"}],\"carpet\":[{\"aaxis\":{\"endlinecolor\":\"#2a3f5f\",\"gridcolor\":\"white\",\"linecolor\":\"white\",\"minorgridcolor\":\"white\",\"startlinecolor\":\"#2a3f5f\"},\"baxis\":{\"endlinecolor\":\"#2a3f5f\",\"gridcolor\":\"white\",\"linecolor\":\"white\",\"minorgridcolor\":\"white\",\"startlinecolor\":\"#2a3f5f\"},\"type\":\"carpet\"}],\"choropleth\":[{\"colorbar\":{\"outlinewidth\":0,\"ticks\":\"\"},\"type\":\"choropleth\"}],\"contour\":[{\"colorbar\":{\"outlinewidth\":0,\"ticks\":\"\"},\"colorscale\":[[0.0,\"#0d0887\"],[0.1111111111111111,\"#46039f\"],[0.2222222222222222,\"#7201a8\"],[0.3333333333333333,\"#9c179e\"],[0.4444444444444444,\"#bd3786\"],[0.5555555555555556,\"#d8576b\"],[0.6666666666666666,\"#ed7953\"],[0.7777777777777778,\"#fb9f3a\"],[0.8888888888888888,\"#fdca26\"],[1.0,\"#f0f921\"]],\"type\":\"contour\"}],\"contourcarpet\":[{\"colorbar\":{\"outlinewidth\":0,\"ticks\":\"\"},\"type\":\"contourcarpet\"}],\"heatmap\":[{\"colorbar\":{\"outlinewidth\":0,\"ticks\":\"\"},\"colorscale\":[[0.0,\"#0d0887\"],[0.1111111111111111,\"#46039f\"],[0.2222222222222222,\"#7201a8\"],[0.3333333333333333,\"#9c179e\"],[0.4444444444444444,\"#bd3786\"],[0.5555555555555556,\"#d8576b\"],[0.6666666666666666,\"#ed7953\"],[0.7777777777777778,\"#fb9f3a\"],[0.8888888888888888,\"#fdca26\"],[1.0,\"#f0f921\"]],\"type\":\"heatmap\"}],\"heatmapgl\":[{\"colorbar\":{\"outlinewidth\":0,\"ticks\":\"\"},\"colorscale\":[[0.0,\"#0d0887\"],[0.1111111111111111,\"#46039f\"],[0.2222222222222222,\"#7201a8\"],[0.3333333333333333,\"#9c179e\"],[0.4444444444444444,\"#bd3786\"],[0.5555555555555556,\"#d8576b\"],[0.6666666666666666,\"#ed7953\"],[0.7777777777777778,\"#fb9f3a\"],[0.8888888888888888,\"#fdca26\"],[1.0,\"#f0f921\"]],\"type\":\"heatmapgl\"}],\"histogram\":[{\"marker\":{\"pattern\":{\"fillmode\":\"overlay\",\"size\":10,\"solidity\":0.2}},\"type\":\"histogram\"}],\"histogram2d\":[{\"colorbar\":{\"outlinewidth\":0,\"ticks\":\"\"},\"colorscale\":[[0.0,\"#0d0887\"],[0.1111111111111111,\"#46039f\"],[0.2222222222222222,\"#7201a8\"],[0.3333333333333333,\"#9c179e\"],[0.4444444444444444,\"#bd3786\"],[0.5555555555555556,\"#d8576b\"],[0.6666666666666666,\"#ed7953\"],[0.7777777777777778,\"#fb9f3a\"],[0.8888888888888888,\"#fdca26\"],[1.0,\"#f0f921\"]],\"type\":\"histogram2d\"}],\"histogram2dcontour\":[{\"colorbar\":{\"outlinewidth\":0,\"ticks\":\"\"},\"colorscale\":[[0.0,\"#0d0887\"],[0.1111111111111111,\"#46039f\"],[0.2222222222222222,\"#7201a8\"],[0.3333333333333333,\"#9c179e\"],[0.4444444444444444,\"#bd3786\"],[0.5555555555555556,\"#d8576b\"],[0.6666666666666666,\"#ed7953\"],[0.7777777777777778,\"#fb9f3a\"],[0.8888888888888888,\"#fdca26\"],[1.0,\"#f0f921\"]],\"type\":\"histogram2dcontour\"}],\"mesh3d\":[{\"colorbar\":{\"outlinewidth\":0,\"ticks\":\"\"},\"type\":\"mesh3d\"}],\"parcoords\":[{\"line\":{\"colorbar\":{\"outlinewidth\":0,\"ticks\":\"\"}},\"type\":\"parcoords\"}],\"pie\":[{\"automargin\":true,\"type\":\"pie\"}],\"scatter\":[{\"marker\":{\"colorbar\":{\"outlinewidth\":0,\"ticks\":\"\"}},\"type\":\"scatter\"}],\"scatter3d\":[{\"line\":{\"colorbar\":{\"outlinewidth\":0,\"ticks\":\"\"}},\"marker\":{\"colorbar\":{\"outlinewidth\":0,\"ticks\":\"\"}},\"type\":\"scatter3d\"}],\"scattercarpet\":[{\"marker\":{\"colorbar\":{\"outlinewidth\":0,\"ticks\":\"\"}},\"type\":\"scattercarpet\"}],\"scattergeo\":[{\"marker\":{\"colorbar\":{\"outlinewidth\":0,\"ticks\":\"\"}},\"type\":\"scattergeo\"}],\"scattergl\":[{\"marker\":{\"colorbar\":{\"outlinewidth\":0,\"ticks\":\"\"}},\"type\":\"scattergl\"}],\"scattermapbox\":[{\"marker\":{\"colorbar\":{\"outlinewidth\":0,\"ticks\":\"\"}},\"type\":\"scattermapbox\"}],\"scatterpolar\":[{\"marker\":{\"colorbar\":{\"outlinewidth\":0,\"ticks\":\"\"}},\"type\":\"scatterpolar\"}],\"scatterpolargl\":[{\"marker\":{\"colorbar\":{\"outlinewidth\":0,\"ticks\":\"\"}},\"type\":\"scatterpolargl\"}],\"scatterternary\":[{\"marker\":{\"colorbar\":{\"outlinewidth\":0,\"ticks\":\"\"}},\"type\":\"scatterternary\"}],\"surface\":[{\"colorbar\":{\"outlinewidth\":0,\"ticks\":\"\"},\"colorscale\":[[0.0,\"#0d0887\"],[0.1111111111111111,\"#46039f\"],[0.2222222222222222,\"#7201a8\"],[0.3333333333333333,\"#9c179e\"],[0.4444444444444444,\"#bd3786\"],[0.5555555555555556,\"#d8576b\"],[0.6666666666666666,\"#ed7953\"],[0.7777777777777778,\"#fb9f3a\"],[0.8888888888888888,\"#fdca26\"],[1.0,\"#f0f921\"]],\"type\":\"surface\"}],\"table\":[{\"cells\":{\"fill\":{\"color\":\"#EBF0F8\"},\"line\":{\"color\":\"white\"}},\"header\":{\"fill\":{\"color\":\"#C8D4E3\"},\"line\":{\"color\":\"white\"}},\"type\":\"table\"}]},\"layout\":{\"annotationdefaults\":{\"arrowcolor\":\"#2a3f5f\",\"arrowhead\":0,\"arrowwidth\":1},\"autotypenumbers\":\"strict\",\"coloraxis\":{\"colorbar\":{\"outlinewidth\":0,\"ticks\":\"\"}},\"colorscale\":{\"diverging\":[[0,\"#8e0152\"],[0.1,\"#c51b7d\"],[0.2,\"#de77ae\"],[0.3,\"#f1b6da\"],[0.4,\"#fde0ef\"],[0.5,\"#f7f7f7\"],[0.6,\"#e6f5d0\"],[0.7,\"#b8e186\"],[0.8,\"#7fbc41\"],[0.9,\"#4d9221\"],[1,\"#276419\"]],\"sequential\":[[0.0,\"#0d0887\"],[0.1111111111111111,\"#46039f\"],[0.2222222222222222,\"#7201a8\"],[0.3333333333333333,\"#9c179e\"],[0.4444444444444444,\"#bd3786\"],[0.5555555555555556,\"#d8576b\"],[0.6666666666666666,\"#ed7953\"],[0.7777777777777778,\"#fb9f3a\"],[0.8888888888888888,\"#fdca26\"],[1.0,\"#f0f921\"]],\"sequentialminus\":[[0.0,\"#0d0887\"],[0.1111111111111111,\"#46039f\"],[0.2222222222222222,\"#7201a8\"],[0.3333333333333333,\"#9c179e\"],[0.4444444444444444,\"#bd3786\"],[0.5555555555555556,\"#d8576b\"],[0.6666666666666666,\"#ed7953\"],[0.7777777777777778,\"#fb9f3a\"],[0.8888888888888888,\"#fdca26\"],[1.0,\"#f0f921\"]]},\"colorway\":[\"#636efa\",\"#EF553B\",\"#00cc96\",\"#ab63fa\",\"#FFA15A\",\"#19d3f3\",\"#FF6692\",\"#B6E880\",\"#FF97FF\",\"#FECB52\"],\"font\":{\"color\":\"#2a3f5f\"},\"geo\":{\"bgcolor\":\"white\",\"lakecolor\":\"white\",\"landcolor\":\"#E5ECF6\",\"showlakes\":true,\"showland\":true,\"subunitcolor\":\"white\"},\"hoverlabel\":{\"align\":\"left\"},\"hovermode\":\"closest\",\"mapbox\":{\"style\":\"light\"},\"paper_bgcolor\":\"white\",\"plot_bgcolor\":\"#E5ECF6\",\"polar\":{\"angularaxis\":{\"gridcolor\":\"white\",\"linecolor\":\"white\",\"ticks\":\"\"},\"bgcolor\":\"#E5ECF6\",\"radialaxis\":{\"gridcolor\":\"white\",\"linecolor\":\"white\",\"ticks\":\"\"}},\"scene\":{\"xaxis\":{\"backgroundcolor\":\"#E5ECF6\",\"gridcolor\":\"white\",\"gridwidth\":2,\"linecolor\":\"white\",\"showbackground\":true,\"ticks\":\"\",\"zerolinecolor\":\"white\"},\"yaxis\":{\"backgroundcolor\":\"#E5ECF6\",\"gridcolor\":\"white\",\"gridwidth\":2,\"linecolor\":\"white\",\"showbackground\":true,\"ticks\":\"\",\"zerolinecolor\":\"white\"},\"zaxis\":{\"backgroundcolor\":\"#E5ECF6\",\"gridcolor\":\"white\",\"gridwidth\":2,\"linecolor\":\"white\",\"showbackground\":true,\"ticks\":\"\",\"zerolinecolor\":\"white\"}},\"shapedefaults\":{\"line\":{\"color\":\"#2a3f5f\"}},\"ternary\":{\"aaxis\":{\"gridcolor\":\"white\",\"linecolor\":\"white\",\"ticks\":\"\"},\"baxis\":{\"gridcolor\":\"white\",\"linecolor\":\"white\",\"ticks\":\"\"},\"bgcolor\":\"#E5ECF6\",\"caxis\":{\"gridcolor\":\"white\",\"linecolor\":\"white\",\"ticks\":\"\"}},\"title\":{\"x\":0.05},\"xaxis\":{\"automargin\":true,\"gridcolor\":\"white\",\"linecolor\":\"white\",\"ticks\":\"\",\"title\":{\"standoff\":15},\"zerolinecolor\":\"white\",\"zerolinewidth\":2},\"yaxis\":{\"automargin\":true,\"gridcolor\":\"white\",\"linecolor\":\"white\",\"ticks\":\"\",\"title\":{\"standoff\":15},\"zerolinecolor\":\"white\",\"zerolinewidth\":2}}},\"legend\":{\"font\":{\"size\":16},\"y\":0.5,\"traceorder\":\"reversed\"},\"title\":{\"text\":\"Training Results\"}},                        {\"responsive\": true}                    ).then(function(){\n",
       "                            \n",
       "var gd = document.getElementById('164b734e-c1d4-40f1-a7cb-2544edd34c92');\n",
       "var x = new MutationObserver(function (mutations, observer) {{\n",
       "        var display = window.getComputedStyle(gd).display;\n",
       "        if (!display || display === 'none') {{\n",
       "            console.log([gd, 'removed!']);\n",
       "            Plotly.purge(gd);\n",
       "            observer.disconnect();\n",
       "        }}\n",
       "}});\n",
       "\n",
       "// Listen for the removal of the full notebook cells\n",
       "var notebookContainer = gd.closest('#notebook-container');\n",
       "if (notebookContainer) {{\n",
       "    x.observe(notebookContainer, {childList: true});\n",
       "}}\n",
       "\n",
       "// Listen for the clearing of the current output cell\n",
       "var outputEl = gd.closest('.output');\n",
       "if (outputEl) {{\n",
       "    x.observe(outputEl, {childList: true});\n",
       "}}\n",
       "\n",
       "                        })                };                });            </script>        </div>"
      ]
     },
     "metadata": {},
     "output_type": "display_data"
    }
   ],
   "source": [
    "import plotly.graph_objects as go\n",
    "\n",
    "def plot_graphs(history, strings):\n",
    "    fig = go.Figure()\n",
    "    x = list(range(NUM_EPOCHS))\n",
    "    for string in strings:\n",
    "        fig.add_scatter(x=x, y=history.history[string],\n",
    "                        name=string)\n",
    "        fig.add_scatter(x=x, y=history.history['val_'+string],\n",
    "                        name='val_'+string)\n",
    "    fig.update_traces(mode='lines+markers')# hoverinfo='text+name+y', \n",
    "    fig.update_layout(legend=dict(y=0.5, traceorder='reversed', font_size=16), \n",
    "                    title=\"Training Results\")\n",
    "    fig.show()\n",
    "\n",
    "plot_graphs(model.history, [\"name_unit_name_f1_score\", \"name_unit_unit_f1_score\", \"name_unit_name_percent_part_correct\"])\n",
    "plot_graphs(model.history, [\"loss\", \"name_unit_loss\", \"qty_loss\", \"qty_decimal_loss\"])\n",
    "plot_graphs(model.history, ['name_unit_name_percent_part_correct'])\n",
    "plot_graphs(model.history, ['qty_mse'])\n"
   ]
  },
  {
   "cell_type": "markdown",
   "metadata": {},
   "source": [
    "The above loss graph can be used to adjust the weights on each of the contributing losses based on when each tail starts to overfit, ideally they will all start to overfit at the same time.\n",
    "\n",
    "The below code can be used to select the epoch number to use as the final model. It will then load in those weights before saving the tensorflow lite model."
   ]
  },
  {
   "cell_type": "markdown",
   "metadata": {},
   "source": [
    "# Save Model to TF Lite"
   ]
  },
  {
   "cell_type": "markdown",
   "metadata": {},
   "source": [
    "I am using TFlite to convert the model to work locally within the package. THis saves the model from having to be run as an API call to the cloud."
   ]
  },
  {
   "cell_type": "code",
   "execution_count": 30,
   "metadata": {},
   "outputs": [
    {
     "name": "stdout",
     "output_type": "stream",
     "text": [
      "Model: \"model_1\"\n",
      "__________________________________________________________________________________________________\n",
      "Layer (type)                    Output Shape         Param #     Connected to                     \n",
      "==================================================================================================\n",
      "input_2 (InputLayer)            [(None, 60)]         0                                            \n",
      "__________________________________________________________________________________________________\n",
      "model_head (Sequential)         (None, 256)          19269876    input_2[0][0]                    \n",
      "__________________________________________________________________________________________________\n",
      "name_unit (Sequential)          (None, 2, 60)        30840       model_head[1][0]                 \n",
      "__________________________________________________________________________________________________\n",
      "qty (Sequential)                (None, 1)            257         model_head[1][0]                 \n",
      "__________________________________________________________________________________________________\n",
      "qty_decimal (Sequential)        (None, 3)            771         model_head[1][0]                 \n",
      "==================================================================================================\n",
      "Total params: 19,301,744\n",
      "Trainable params: 1,061,244\n",
      "Non-trainable params: 18,240,500\n",
      "__________________________________________________________________________________________________\n"
     ]
    },
    {
     "data": {
      "text/plain": [
       "<tensorflow.python.training.tracking.util.CheckpointLoadStatus at 0x1a7ee8690>"
      ]
     },
     "execution_count": 30,
     "metadata": {},
     "output_type": "execute_result"
    }
   ],
   "source": [
    "epoch_num = 45\n",
    "model = build_model(inference=True)\n",
    "\n",
    "weights_file = f'./models/model{str(epoch_num).zfill(8)}.ckpt'\n",
    "\n",
    "model.load_weights(weights_file)\n"
   ]
  },
  {
   "cell_type": "code",
   "execution_count": 31,
   "metadata": {},
   "outputs": [
    {
     "name": "stdout",
     "output_type": "stream",
     "text": [
      "WARNING:tensorflow:Compiled the loaded model, but the compiled metrics have yet to be built. `model.compile_metrics` will be empty until you train or evaluate the model.\n"
     ]
    },
    {
     "name": "stderr",
     "output_type": "stream",
     "text": [
      "WARNING:absl:Found untraced functions such as lstm_cell_1_layer_call_fn, lstm_cell_1_layer_call_and_return_conditional_losses, lstm_cell_2_layer_call_fn, lstm_cell_2_layer_call_and_return_conditional_losses, lstm_cell_4_layer_call_fn while saving (showing 5 of 20). These functions will not be directly callable after loading.\n"
     ]
    },
    {
     "name": "stdout",
     "output_type": "stream",
     "text": [
      "INFO:tensorflow:Assets written to: /var/folders/8v/d50_nc2n7kj916nj0mct09f40000gn/T/tmpidzf737m/assets\n"
     ]
    },
    {
     "name": "stderr",
     "output_type": "stream",
     "text": [
      "INFO:tensorflow:Assets written to: /var/folders/8v/d50_nc2n7kj916nj0mct09f40000gn/T/tmpidzf737m/assets\n"
     ]
    }
   ],
   "source": [
    "# Convert the model.\n",
    "converter = tf.lite.TFLiteConverter.from_keras_model(model)\n",
    "converter.target_spec.supported_ops = [tf.lite.OpsSet.TFLITE_BUILTINS, tf.lite.OpsSet.SELECT_TF_OPS]\n",
    "converter._experimental_lower_tensor_list_ops = False\n",
    "tflite_model = converter.convert()\n",
    "\n",
    "# Save the model.\n",
    "with open('output_model.tflite', 'wb') as f:\n",
    "    f.write(tflite_model)"
   ]
  },
  {
   "cell_type": "markdown",
   "metadata": {},
   "source": [
    "## Analyse Success and Failure Cases"
   ]
  },
  {
   "cell_type": "code",
   "execution_count": 42,
   "metadata": {
    "scrolled": true
   },
   "outputs": [
    {
     "name": "stdout",
     "output_type": "stream",
     "text": [
      "Sentence: 1 5 1 / 2 pound rolled turkey breast , tied at intervals to shape it like a sausage ask your butcher to do this\n",
      "\n",
      "y_name: turkey breast\n",
      "pred_name: breast\n",
      "\n",
      "y_unit: pound\n",
      "pred_unit: \n",
      "\n",
      "y_qty: [5.5]\n",
      "pred_qty: [1.9153899]\n",
      "\n",
      "Sentence: 1 cup , plus 1 tablespoon unsalted butter , at room temperature , cut into small pieces\n",
      "\n",
      "y_name: unsalted butter\n",
      "pred_name: butter\n",
      "\n",
      "y_unit: tablespoon\n",
      "pred_unit: tablespoon\n",
      "\n",
      "y_qty: [17.]\n",
      "pred_qty: [12.965963]\n",
      "\n"
     ]
    }
   ],
   "source": [
    "def test_combined_model(n_samples, qty_failure=False):\n",
    "    start_index = 100000\n",
    "    subset_size = 10000\n",
    "    X_sentences = ing_df_labelled.loc[ing_df_labelled.index[start_index:start_index+subset_size], \"input_parsed\"].values\n",
    "    X_input = X[start_index:start_index+subset_size]\n",
    "\n",
    "    y_name_subset = y_name[start_index:start_index+subset_size]\n",
    "    y_unit_subset = y_unit[start_index:start_index+subset_size]\n",
    "    y_qty_subset  = y_qty[start_index:start_index+subset_size]\n",
    "    #y_range_subset = y_range[start_index:start_index+subset_size]\n",
    "    pred_y_subset = model.predict(X[start_index:start_index+subset_size])\n",
    "    \n",
    "\n",
    "    pred_y_name = pred_y_subset[0][:, 0, :]\n",
    "    pred_y_unit = pred_y_subset[0][:, 1, :]\n",
    "    pred_y_qty  = pred_y_subset[1]\n",
    "    #pred_y_range = pred_y_subset[2]\n",
    "        \n",
    "    rounded_yp_name = np.rint(np.asarray(pred_y_name))\n",
    "    rounded_yp_unit = np.rint(np.asarray(pred_y_unit))\n",
    "\n",
    "    for i in range(n_samples):\n",
    "        if qty_failure:\n",
    "            if np.abs(pred_y_qty[i] - y_qty_subset[i]) > 3:\n",
    "                pass\n",
    "            else:\n",
    "                continue\n",
    "            \n",
    "        print(f\"Sentence: {X_sentences[i]}\")\n",
    "        print()\n",
    "        print(f\"y_name: {binary_mask_to_words(y_name_subset[i], X_sentences[i])}\")\n",
    "        print(f\"pred_name: {binary_mask_to_words(rounded_yp_name[i], X_sentences[i])}\")\n",
    "        print()\n",
    "        print(f\"y_unit: {binary_mask_to_words(y_unit_subset[i], X_sentences[i])}\")\n",
    "        print(f\"pred_unit: {binary_mask_to_words(rounded_yp_unit[i], X_sentences[i])}\")\n",
    "        print()\n",
    "        print(f\"y_qty: {y_qty_subset[i]}\")\n",
    "        print(f\"pred_qty: {pred_y_qty[i]}\")\n",
    "        print()\n",
    "\n",
    "# Applies a binary mask to a sentence and returns the strings. Used for calculating the \n",
    "def binary_mask_to_words(binary_mask, sentence):\n",
    "    split_sentence = sentence.split(\" \")\n",
    "    binary_mask.astype(np.bool)\n",
    "    idxs = np.nonzero(binary_mask)\n",
    "    if idxs:\n",
    "        y_words = \" \".join([split_sentence[idx] for idx in idxs[0]])\n",
    "        return y_words\n",
    "    else:\n",
    "        return \"\"\n",
    "    \n",
    "test_combined_model(1000, qty_failure=True)\n",
    "\n"
   ]
  },
  {
   "cell_type": "markdown",
   "metadata": {},
   "source": [
    "One interesting failure (or maybe a success?):\n",
    "\n",
    "3 / 4 cup plus 2 tablespoons sugar -> Model: 9.98 Tablespoons sugar Label: 3/4 cup sugar\n",
    "\n",
    "3/4 cups is actually 10 tablespoons, so the model answer is just as good as the true answer. If only it were able to add the additional 2 teaspoons as well!\n",
    "\n"
   ]
  },
  {
   "cell_type": "markdown",
   "metadata": {},
   "source": [
    "## Identify fail cases\n",
    "\n",
    "Because the data I have used has had the labels converted and because it is text data (I find it complicated and havent used it before), I want to see where the model has failed. This will helo to refine the preprocesing and dta filtering. It might be errors from the differences between what different labelers consider to be the ingredient."
   ]
  },
  {
   "cell_type": "code",
   "execution_count": 34,
   "metadata": {},
   "outputs": [],
   "source": [
    "def print_examples(fail_pass: str, part_correct: bool, name_unit: str, limit: int):\n",
    "    start_index = 120000\n",
    "    subset_size = 1000\n",
    "    X_sentences = ing_df_labelled.loc[ing_df_labelled.index[start_index:start_index+subset_size], \"input_parsed\"].values\n",
    "    X_input = X[start_index:start_index+subset_size]\n",
    "    if name_unit == \"name\":\n",
    "        y_subset = y_name[start_index:start_index+subset_size]\n",
    "    else:\n",
    "        y_subset = y_unit[start_index:start_index+subset_size]\n",
    "        \n",
    "    pred_y_subset = model.predict(X[start_index:start_index+subset_size])\n",
    "    \n",
    "    if name_unit == \"name\":\n",
    "        pred_y_subset = pred_y_subset[0][:, 0, :]\n",
    "    else:\n",
    "        pred_y_subset = pred_y_subset[0][:, 1, :]\n",
    "        \n",
    "    rounded_y_pred = np.rint(np.asarray(pred_y_subset))\n",
    "    \n",
    "    printed = 0\n",
    "    # Print any errors\n",
    "    for i in range(subset_size):\n",
    "        if printed > limit - 1:\n",
    "            return\n",
    "        if fail_pass == \"fail\":\n",
    "            if part_correct:\n",
    "                # Checks that there is at least one matching positive and then checks that there is not a perfect match.\n",
    "                if (np.asarray(y_subset[i]) & rounded_y_pred[i].astype(int)).any() and not (np.asarray(y_subset[i]) == rounded_y_pred[i]).all():\n",
    "                    print(f\"Sentence: {X_sentences[i]}\")\n",
    "                    print(f\"y: {binary_mask_to_words(y_subset[i], X_sentences[i])}\")\n",
    "                    print(f\"pred_y: {binary_mask_to_words(rounded_y_pred[i], X_sentences[i])}\")\n",
    "                    print()\n",
    "                    printed += 1\n",
    "            else:\n",
    "                # Checks that there is at least one word that is a name or unit\n",
    "                # Then finds out where the overlap is between the y_true and the y_pred, bthen combines it with the y_pred array using and \n",
    "                # to remove the matches where both are 0\n",
    "                # Then checks that there are no 1's in this array, meaning a compelte error\n",
    "                if np.any(np.asarray(y_subset[i])):\n",
    "                    mask = (np.asarray(y_subset[i]) == rounded_y_pred[i]) & np.asarray(y_subset[i])\n",
    "                    if not mask.any():\n",
    "                        print(f\"Sentence: {X_sentences[i]}\")\n",
    "                        print(f\"y: {binary_mask_to_words(y_subset[i], X_sentences[i])}\")\n",
    "                        print(f\"pred_y: {binary_mask_to_words(rounded_y_pred[i], X_sentences[i])}\")\n",
    "                        print()\n",
    "                        printed += 1\n",
    "\n",
    "        if fail_pass == \"pass\":\n",
    "            if (np.asarray(y_subset[i]) == rounded_y_pred[i]).all():\n",
    "                print(f\"Sentence: {X_sentences[i]}\")\n",
    "                print()\n",
    "                printed += 1\n",
    "\n",
    "\n"
   ]
  },
  {
   "cell_type": "markdown",
   "metadata": {},
   "source": [
    "## Failed Name cases"
   ]
  },
  {
   "cell_type": "code",
   "execution_count": 35,
   "metadata": {},
   "outputs": [
    {
     "name": "stdout",
     "output_type": "stream",
     "text": [
      "Sentence: 1 / 2 cup plain yogurt , preferably whole milk\n",
      "y: plain yogurt\n",
      "pred_y: yogurt\n",
      "\n",
      "Sentence: 1 / 4 cup peanut oil or neutral oil , like grapeseed or corn\n",
      "y: peanut oil or neutral oil\n",
      "pred_y: peanut oil\n",
      "\n",
      "Sentence: 3 tablespoons mild or sweet miso , like yellow or white\n",
      "y: mild or sweet miso\n",
      "pred_y: sweet miso\n",
      "\n",
      "Sentence: 1 tablespoon dark sesame oil\n",
      "y: dark sesame oil\n",
      "pred_y: sesame oil\n",
      "\n",
      "Sentence: 1 egg yolk\n",
      "y: egg yolk\n",
      "pred_y: egg\n",
      "\n",
      "Sentence: 1 tablespoon lemon juice or sherry or white wine vinegar\n",
      "y: lemon juice or sherry or white wine vinegar\n",
      "pred_y: lemon juice\n",
      "\n",
      "Sentence: 1 tablespoon packed , finely chopped flat leaf parsley\n",
      "y: flat leaf parsley\n",
      "pred_y: parsley\n",
      "\n",
      "Sentence: 1 tablespoon meyer lemon or lemon juice\n",
      "y: meyer lemon or lemon juice\n",
      "pred_y: meyer lemon lemon juice\n",
      "\n",
      "Sentence: chilled boiled potatoes , for serving , optional\n",
      "y: potatoes\n",
      "pred_y: chilled boiled potatoes\n",
      "\n",
      "Sentence: sour cream or yogurt , for serving\n",
      "y: sour cream or yogurt\n",
      "pred_y: sour cream yogurt\n",
      "\n",
      "Sentence: 2 tablespoons vegetable or canola oil\n",
      "y: vegetable or canola oil\n",
      "pred_y: vegetable oil\n",
      "\n",
      "Sentence: 5 to 6 cups cooked and cooled basmati or long grain rice\n",
      "y: basmati or long grain rice\n",
      "pred_y: basmati\n",
      "\n",
      "Sentence: 5 1 / 3 ounces dried pad thai rice noodles see note\n",
      "y: pad thai rice noodles\n",
      "pred_y: dried pad thai\n",
      "\n",
      "Sentence: 2 lime wedges for garnish\n",
      "y: lime wedges\n",
      "pred_y: lime\n",
      "\n",
      "Sentence: 1 tablespoon light brown sugar\n",
      "y: light brown sugar\n",
      "pred_y: brown sugar\n",
      "\n",
      "Sentence: 1 / 2 teaspoon ground red thai chilies or cayenne pepper\n",
      "y: red thai chilies or cayenne pepper\n",
      "pred_y: red thai chilies\n",
      "\n",
      "Sentence: 1 / 4 large red bell pepper , cut into julienne\n",
      "y: red bell pepper\n",
      "pred_y: bell pepper\n",
      "\n",
      "Sentence: 1 / 4 cup plus 1 tablespoon pad thai sauce see note\n",
      "y: pad thai sauce\n",
      "pred_y: pad sauce\n",
      "\n",
      "Sentence: 1 / 4 cup mixed chopped fresh basil and cilantro leaves\n",
      "y: basil and cilantro leaves\n",
      "pred_y: basil\n",
      "\n",
      "Sentence: cooked pasta for serving\n",
      "y: pasta\n",
      "pred_y: cooked pasta\n",
      "\n"
     ]
    }
   ],
   "source": [
    "print_examples(\"fail\", True, \"name\", 20)"
   ]
  },
  {
   "cell_type": "markdown",
   "metadata": {},
   "source": [
    "It appears that there are two kind of errors. Errors where the model has clearly gotten it wrong:\n",
    "\n",
    "1 pinch sea salt or fleur de sel -> Model Output: \"Sea Salt Or\"\n",
    "\n",
    "And others which are open to interpretation or where the labeller has gotten it wrong:\n",
    "\n",
    "1 red grapefruit , peeled and segmented , optional -> Model Output: \"red grapefruit\" Label: \"grapefruit\"\n",
    "\n",
    "1 / 4 cup vadouvan exotique spice mix -> Model Output: \"vadouvan exotique spice mix\" Label: \"spice mix\"\n",
    "\n",
    "2 teaspoons aged balsamic vinegar -> Model Output: \"balsamic vinegar\" Label: \"vinegar\"\n",
    "\n",
    "I cannot think of any straightforward ways to seperate these mistakes, however, I can create a metric that includes the above examples as successful predictions and then have a look at the ones that are not these type of errors. This would be useful as a better predictor of model performance I believe.\n",
    "\n",
    "This metric would include any prediction with an overlap with the Label a successful prediction and then give a percentage of the data set that fall into this category."
   ]
  },
  {
   "cell_type": "code",
   "execution_count": 37,
   "metadata": {},
   "outputs": [
    {
     "name": "stdout",
     "output_type": "stream",
     "text": [
      "Sentence: 10 large or 20 small precooked canned or vacuum packed beets\n",
      "y: beets\n",
      "pred_y: precooked canned\n",
      "\n",
      "Sentence: 2 tablespoons nam pla fish sauce\n",
      "y: nam pla\n",
      "pred_y: fish sauce\n",
      "\n",
      "Sentence: 1 large bunch or 2 smaller bunches greens , such as swiss chard , beet greens , turnip greens or kale about 1 1 / 2 pounds , stemmed and washed well in several changes of water\n",
      "y: greens greens greens\n",
      "pred_y: smaller\n",
      "\n",
      "Sentence: 1 to 2 tablespoons gochujang korean chili paste\n",
      "y: gochujang\n",
      "pred_y: chili paste\n",
      "\n",
      "Sentence: 3 / 4 cup panko japanese bread crumbs\n",
      "y: panko\n",
      "pred_y: japanese bread crumbs\n",
      "\n"
     ]
    }
   ],
   "source": [
    "print_examples(\"fail\", False, \"name\", 10)"
   ]
  },
  {
   "cell_type": "markdown",
   "metadata": {},
   "source": [
    "From the aboe example of errors, it looks like the algorithm is actually better than the human labeller in this instance.\n",
    "\n",
    "crackers or sliced cucumber , for serving -> Model: crackers, Label: cucumber\n",
    "1 / 2 cup soaking water from the apricots , as needed - > Model: water Label: apricots"
   ]
  },
  {
   "cell_type": "markdown",
   "metadata": {},
   "source": [
    "## Failed Unit Cases"
   ]
  },
  {
   "cell_type": "code",
   "execution_count": 38,
   "metadata": {},
   "outputs": [
    {
     "name": "stdout",
     "output_type": "stream",
     "text": [
      "Successful Predictions\n",
      "Sentence: 1 / 2 cup plain yogurt , preferably whole milk\n",
      "\n",
      "Sentence: 1 / 2 cup olive oil , or less\n",
      "\n",
      "Sentence: 1 / 2 cup chopped fresh mint\n",
      "\n",
      "Sentence: zest and juice of 1 lemon\n",
      "\n",
      "Sentence: salt\n",
      "\n",
      "Sentence: freshly ground black pepper\n",
      "\n",
      "Sentence: 1 / 4 cup peanut oil or neutral oil , like grapeseed or corn\n",
      "\n",
      "Sentence: 1 / 4 cup rice vinegar\n",
      "\n",
      "Sentence: 1 tablespoon dark sesame oil\n",
      "\n",
      "Sentence: 2 medium carrots , roughly chopped\n",
      "\n"
     ]
    }
   ],
   "source": [
    "print(\"Successful Predictions\")\n",
    "print_examples(\"pass\", False, \"unit\", 10)"
   ]
  },
  {
   "cell_type": "code",
   "execution_count": 39,
   "metadata": {},
   "outputs": [
    {
     "name": "stdout",
     "output_type": "stream",
     "text": [
      "Unsuccessful Predictions\n",
      "Sentence: 3 / 4 cup plus 2 tablespoons sugar\n",
      "y: cup\n",
      "pred_y: tablespoons\n",
      "\n",
      "Sentence: 10 large or 20 small precooked canned or vacuum packed beets\n",
      "y: large\n",
      "pred_y: \n",
      "\n",
      "Sentence: 1 large onion , chopped\n",
      "y: large\n",
      "pred_y: \n",
      "\n",
      "Sentence: 1 large cucumber , peeled , seeded and coarsely chopped\n",
      "y: large\n",
      "pred_y: \n",
      "\n",
      "Sentence: 1 tablespoon plus 1 teaspoon freshly squeezed lime juice\n",
      "y: tablespoon\n",
      "pred_y: \n",
      "\n"
     ]
    }
   ],
   "source": [
    "print(\"Unsuccessful Predictions\")\n",
    "print_examples(\"fail\", False, \"unit\", 5)"
   ]
  },
  {
   "cell_type": "code",
   "execution_count": 40,
   "metadata": {},
   "outputs": [
    {
     "name": "stdout",
     "output_type": "stream",
     "text": [
      "Unsuccessful predictions where part of the prediction is correct\n",
      "Sentence: 1 large bunch chamomile or 2 chamomile tea bags\n",
      "y: large bunch\n",
      "pred_y: bunch\n",
      "\n",
      "Sentence: 2 / 3 cup pitted oil cured black olives , halved , or 1 / 2 cup pitted green olives , chopped , or 3 tablespoons capers optional\n",
      "y: cup cup\n",
      "pred_y: cup\n",
      "\n",
      "Sentence: 1 large bunch swiss chard , ribs removed , leaves torn into pieces\n",
      "y: large bunch\n",
      "pred_y: bunch\n",
      "\n",
      "Sentence: 2 8 ounce packages cream cheese , at room temperature\n",
      "y: 8 ounce packages\n",
      "pred_y: ounce\n",
      "\n",
      "Sentence: 4 tablespoons minced fresh dill , or 2 tablespoons dried dill\n",
      "y: tablespoons tablespoons\n",
      "pred_y: tablespoons\n",
      "\n"
     ]
    }
   ],
   "source": [
    "print(\"Unsuccessful predictions where part of the prediction is correct\")\n",
    "print_examples(\"fail\", True, \"unit\", 100)"
   ]
  },
  {
   "cell_type": "code",
   "execution_count": null,
   "metadata": {},
   "outputs": [],
   "source": []
  }
 ],
 "metadata": {
  "kernelspec": {
   "display_name": "Python 3 (ipykernel)",
   "language": "python",
   "name": "python3"
  },
  "language_info": {
   "codemirror_mode": {
    "name": "ipython",
    "version": 3
   },
   "file_extension": ".py",
   "mimetype": "text/x-python",
   "name": "python",
   "nbconvert_exporter": "python",
   "pygments_lexer": "ipython3",
   "version": "3.7.4"
  }
 },
 "nbformat": 4,
 "nbformat_minor": 1
}
