{
 "cells": [
  {
   "cell_type": "markdown",
   "metadata": {
    "collapsed": true,
    "pycharm": {
     "name": "#%% md\n"
    }
   },
   "source": [
    "# Ingredient embedding\n",
    "\n",
    "\n",
    "The end goal is wanting to create recipe embeddings that include quantity of each of the ingredients.\n",
    "\n",
    "To achieve this ingredient names need to be parsed. There are several commercial tools available, vbut I am not willing to pay for an API and there are no other easily usable modules in python. The solution?? Make one!\n",
    "\n",
    "I have downloaded ingredient data from the NYTimes model which was used to train a model to extract information such as unit, quantity and ingredient name from an ingredient such as \"3 yellow squashes, roughly chopped\".\n",
    "\n",
    "I initially thought about this problem as one of a translation problem,  where each term in the ingredient could be labelled as either unit/ingredient etc.\n",
    "This is actually not that useful as the are complexities within the phrasing that make extracting the actual quantity or the unit from the labelled words difficult. For instance:\n",
    "\n",
    "\"2 tablespoons and 1 teaspoon of sugar\" Here there are actually two quantities and units. This labelled dataset does not proide this information so the model would not actually be able to learn to label both. Instead, the label is given as \"7 teaspoons\".\n",
    "\n",
    "Instead I will aim to train a combined model with a common ingredient embedding. It is a combined model as there will be two seperate \"tails\" to the model for the two types of output data:\n",
    "\n",
    "### Model Input: \n",
    "\n",
    "\"2 tablespoons and 1 teaspoon of white sugar\" -> Remove punctuation\n",
    "Word Vectorisation -> \n",
    "\n",
    "[3, 12, 456, 34, 2304, 304, 78, 6529, 489]\n",
    "\n",
    "Padding to longest sequence -> \n",
    "\n",
    "[3, 12, 456, 34, 2304, 304, 78, 6529, 489, 0, 0, 0, 0, 0, 0, 0, 0, 0, 0, 0, 0, 0]\n",
    "\n",
    "### Label:\n",
    "\n",
    "[\n",
    "\n",
    "    [\n",
    "        [0 0 0 0 0 0 1 1],      Ingredient Binary Mask\n",
    "        [0 0 0 0 1 0 0 0]       Unit Binary Mask\n",
    "    ],\n",
    "    [\n",
    "        7.0,                    Quantity Scalar\n",
    "        0                       Range End (if there is \"2 to 4 pears\" this would be 4)\n",
    "    ]\n",
    "]\n",
    "\n",
    "\n",
    "### Model:\n",
    "\n",
    "Embedding Layer (pretrained Glove Embeddings)\n",
    "\n",
    "LSTM layers\n",
    "\n",
    "Dense Layers\n",
    "\n",
    "\n",
    "#### Model Tail 1:\n",
    "Loss: Binary Crossentropy\n",
    "\n",
    "Metrics: F1 score for unit and name seperatly\n",
    "\n",
    "Used as a binary classifier on the input ingredient sentence, where each word is classified for it being an ingredient or not an ingredient. The same is done for the unit and the outputs are stacked:\n",
    "\n",
    "Given \"2 tablespoons and 1 teaspoon of white sugar\" it will return [0 0 0 0 0 0 1 1] in the first row to indicate the ingredient and [0 0 0 0 1 0 0 0] in the second dimension to indicate unit.\n",
    "\n",
    "#### Model Tail 2:\n",
    "Loss: Huber Loss\n",
    "\n",
    "Metrics: MSE for the quantity and range end seperatly\n",
    "\n",
    "Used for a regression on the embedding of the last dense layer, to predict the quantity and the range of the ingredient. \n",
    "\n",
    "## Contents:\n",
    "\n",
    "1. Data Loading and Preprocessing\n",
    "\n"
   ]
  },
  {
   "cell_type": "code",
   "execution_count": null,
   "metadata": {},
   "outputs": [],
   "source": []
  },
  {
   "cell_type": "code",
   "execution_count": 1,
   "metadata": {
    "pycharm": {
     "name": "#%%\n"
    }
   },
   "outputs": [
    {
     "name": "stdout",
     "output_type": "stream",
     "text": [
      "<class 'pandas.core.frame.DataFrame'>\n",
      "Int64Index: 179207 entries, 0 to 179206\n",
      "Data columns (total 5 columns):\n",
      " #   Column     Non-Null Count   Dtype  \n",
      "---  ------     --------------   -----  \n",
      " 0   input      179063 non-null  object \n",
      " 1   name       178759 non-null  object \n",
      " 2   qty        179207 non-null  float64\n",
      " 3   range_end  173986 non-null  float64\n",
      " 4   unit       123082 non-null  object \n",
      "dtypes: float64(2), object(3)\n",
      "memory usage: 8.2+ MB\n"
     ]
    }
   ],
   "source": [
    "import pandas as pd\n",
    "\n",
    "# Load in the labelled ingredient data provided by NYT\n",
    "\n",
    "ing_df = pd.read_csv(\"nyt-ingredients-snapshot-2015.csv\", index_col=\"index\")\n",
    "\n",
    "# Drop the columns not needed\n",
    "ing_df.drop([\"comment\"], axis=1, inplace=True)\n",
    "ing_df.info()\n",
    "\n"
   ]
  },
  {
   "cell_type": "markdown",
   "metadata": {},
   "source": [
    "## Preprocessing\n",
    "\n",
    "A few bits of preprocessing need to happen to the data first\n",
    "\n",
    "1. Data Cleaning\n",
    "- Removing punctuation except for . and , as these are common and have contextual meaning\n",
    "- making . and , seperate words\n",
    "- Checking that for each row in the dataset the name of the ingredient and the unit are in the input (these are given seperately)\n",
    "- Removing null inputs (where there is no entry for the input and``  ingredient)\n",
    "- Dropping rows that dont have a quantity\n",
    "- replacing nan values in the unit column with 0's\n",
    "\n",
    "2. Creating labels\n",
    "- Converting the data to the relevant output (regexp)\n",
    "- Dropping rows that havent matched to the regexp or dont contain a label"
   ]
  },
  {
   "cell_type": "code",
   "execution_count": 2,
   "metadata": {
    "pycharm": {
     "name": "#%%\n"
    }
   },
   "outputs": [
    {
     "name": "stdout",
     "output_type": "stream",
     "text": [
      "After removing na values in the name an input, the length of the df is now 178668\n",
      "After removing rows where the name or the input contain commas or full stops, the length of the df is now 174983\n"
     ]
    }
   ],
   "source": [
    "import numpy as np\n",
    "import re\n",
    "# Check if the name column has any punctuation - It does have a few rows that have way too much information, I will remove these\n",
    "def check_if_punct(string: str):\n",
    "    b = True\n",
    "    punc_regexp = r\"[.,]\"\n",
    "    match = re.search(punc_regexp, string)\n",
    "    if match:\n",
    "        b = np.nan\n",
    "    return b\n",
    "\n",
    "# Remove rows that dont have the required fields\n",
    "ing_df.dropna(subset=['input', \"name\"], inplace=True)\n",
    "print(f\"After removing na values in the name an input, the length of the df is now {len(ing_df)}\")\n",
    "\n",
    "# Convert all the string columns to strings\n",
    "for col in ['input', 'name', 'unit']:\n",
    "    ing_df[col] = ing_df[col].apply(str)\n",
    "    \n",
    "# Replace all na values in the qty column with 0\n",
    "ing_df[\"qty\"] = ing_df[\"qty\"].fillna(0)\n",
    "ing_df[\"range_end\"] = ing_df[\"range_end\"].fillna(0)\n",
    "\n",
    "ing_df['name_no_punct'] = ing_df['name'].apply(check_if_punct)\n",
    "\n",
    "# Remove rows that have punctuation in the\n",
    "ing_df.dropna(subset=[\"name_no_punct\"], inplace=True)\n",
    "print(f\"After removing rows where the name or the input contain commas or full stops, the length of the df is now {len(ing_df)}\")"
   ]
  },
  {
   "cell_type": "markdown",
   "metadata": {},
   "source": [
    "The above shows that the filter is working and that rows are being removed. It is also good to see that this filter does not drastically affect the number of rows.\n",
    "\n",
    "After all the filters have been compelted, then I will manually review subsets of the data to see if there are any further issues or things that have slipped through the net."
   ]
  },
  {
   "cell_type": "code",
   "execution_count": 3,
   "metadata": {
    "pycharm": {
     "name": "#%%\n"
    }
   },
   "outputs": [
    {
     "data": {
      "text/html": [
       "<div>\n",
       "<style scoped>\n",
       "    .dataframe tbody tr th:only-of-type {\n",
       "        vertical-align: middle;\n",
       "    }\n",
       "\n",
       "    .dataframe tbody tr th {\n",
       "        vertical-align: top;\n",
       "    }\n",
       "\n",
       "    .dataframe thead th {\n",
       "        text-align: right;\n",
       "    }\n",
       "</style>\n",
       "<table border=\"1\" class=\"dataframe\">\n",
       "  <thead>\n",
       "    <tr style=\"text-align: right;\">\n",
       "      <th></th>\n",
       "      <th>input</th>\n",
       "      <th>name</th>\n",
       "      <th>qty</th>\n",
       "      <th>range_end</th>\n",
       "      <th>unit</th>\n",
       "      <th>name_no_punct</th>\n",
       "      <th>input_parsed</th>\n",
       "      <th>name_parsed</th>\n",
       "      <th>unit_parsed</th>\n",
       "    </tr>\n",
       "    <tr>\n",
       "      <th>index</th>\n",
       "      <th></th>\n",
       "      <th></th>\n",
       "      <th></th>\n",
       "      <th></th>\n",
       "      <th></th>\n",
       "      <th></th>\n",
       "      <th></th>\n",
       "      <th></th>\n",
       "      <th></th>\n",
       "    </tr>\n",
       "  </thead>\n",
       "  <tbody>\n",
       "    <tr>\n",
       "      <th>0</th>\n",
       "      <td>1 1/4 cups cooked and pureed fresh butternut s...</td>\n",
       "      <td>butternut squash</td>\n",
       "      <td>1.25</td>\n",
       "      <td>0.0</td>\n",
       "      <td>cup</td>\n",
       "      <td>True</td>\n",
       "      <td>1 1 / 4 cups cooked and pureed fresh butternut...</td>\n",
       "      <td>butternut squash</td>\n",
       "      <td>cup</td>\n",
       "    </tr>\n",
       "    <tr>\n",
       "      <th>1</th>\n",
       "      <td>1 cup peeled and cooked fresh chestnuts (about...</td>\n",
       "      <td>chestnuts</td>\n",
       "      <td>1.00</td>\n",
       "      <td>0.0</td>\n",
       "      <td>cup</td>\n",
       "      <td>True</td>\n",
       "      <td>1 cup peeled and cooked fresh chestnuts about ...</td>\n",
       "      <td>chestnuts</td>\n",
       "      <td>cup</td>\n",
       "    </tr>\n",
       "    <tr>\n",
       "      <th>2</th>\n",
       "      <td>1 medium-size onion, peeled and chopped</td>\n",
       "      <td>onion</td>\n",
       "      <td>1.00</td>\n",
       "      <td>0.0</td>\n",
       "      <td>nan</td>\n",
       "      <td>True</td>\n",
       "      <td>1 medium size onion , peeled and chopped</td>\n",
       "      <td>onion</td>\n",
       "      <td>nan</td>\n",
       "    </tr>\n",
       "    <tr>\n",
       "      <th>3</th>\n",
       "      <td>2 stalks celery, chopped coarse</td>\n",
       "      <td>celery</td>\n",
       "      <td>2.00</td>\n",
       "      <td>0.0</td>\n",
       "      <td>stalk</td>\n",
       "      <td>True</td>\n",
       "      <td>2 stalks celery , chopped coarse</td>\n",
       "      <td>celery</td>\n",
       "      <td>stalk</td>\n",
       "    </tr>\n",
       "    <tr>\n",
       "      <th>4</th>\n",
       "      <td>1 1/2 tablespoons vegetable oil</td>\n",
       "      <td>vegetable oil</td>\n",
       "      <td>1.50</td>\n",
       "      <td>0.0</td>\n",
       "      <td>tablespoon</td>\n",
       "      <td>True</td>\n",
       "      <td>1 1 / 2 tablespoons vegetable oil</td>\n",
       "      <td>vegetable oil</td>\n",
       "      <td>tablespoon</td>\n",
       "    </tr>\n",
       "  </tbody>\n",
       "</table>\n",
       "</div>"
      ],
      "text/plain": [
       "                                                   input              name  \\\n",
       "index                                                                        \n",
       "0      1 1/4 cups cooked and pureed fresh butternut s...  butternut squash   \n",
       "1      1 cup peeled and cooked fresh chestnuts (about...         chestnuts   \n",
       "2                1 medium-size onion, peeled and chopped             onion   \n",
       "3                        2 stalks celery, chopped coarse            celery   \n",
       "4                        1 1/2 tablespoons vegetable oil     vegetable oil   \n",
       "\n",
       "        qty  range_end        unit name_no_punct  \\\n",
       "index                                              \n",
       "0      1.25        0.0         cup          True   \n",
       "1      1.00        0.0         cup          True   \n",
       "2      1.00        0.0         nan          True   \n",
       "3      2.00        0.0       stalk          True   \n",
       "4      1.50        0.0  tablespoon          True   \n",
       "\n",
       "                                            input_parsed       name_parsed  \\\n",
       "index                                                                        \n",
       "0      1 1 / 4 cups cooked and pureed fresh butternut...  butternut squash   \n",
       "1      1 cup peeled and cooked fresh chestnuts about ...         chestnuts   \n",
       "2               1 medium size onion , peeled and chopped             onion   \n",
       "3                       2 stalks celery , chopped coarse            celery   \n",
       "4                      1 1 / 2 tablespoons vegetable oil     vegetable oil   \n",
       "\n",
       "      unit_parsed  \n",
       "index              \n",
       "0             cup  \n",
       "1             cup  \n",
       "2             nan  \n",
       "3           stalk  \n",
       "4      tablespoon  "
      ]
     },
     "execution_count": 3,
     "metadata": {},
     "output_type": "execute_result"
    }
   ],
   "source": [
    "import re\n",
    "\n",
    "# Preprocess the input\n",
    "\n",
    "def process_punctuation(string):\n",
    "    string = re.sub(r\"([,./])\", r\" \\g<1> \", string)\n",
    "    string = re.sub(r'[^\\w\\s.,/]', r\" \", string)\n",
    "    string = re.sub(r\"\\s+\", r\" \", string)\n",
    "    string = re.sub(\"(\\s$)|(^\\s)\", \"\", string)\n",
    "\n",
    "    string = string.lower()\n",
    "    # Remove trailing white space\n",
    "    if string[-1] == \" \":\n",
    "        string = string[:-1]\n",
    "    if string[0] == \" \":\n",
    "        string = string[1:]\n",
    "    return string\n",
    "\n",
    "\n",
    "for col in [\"input\", \"name\", \"unit\"]:\n",
    "    ing_df[col + '_parsed'] = ing_df[col].apply(process_punctuation)\n",
    "\n",
    "\n",
    "ing_df.head()"
   ]
  },
  {
   "cell_type": "markdown",
   "metadata": {},
   "source": [
    "In the above the string columns are processed to ensure they are all lower case and also to remove any punctuation. The only punctuation I am including is . and , as these are used regularly and provide useful contextual information. finally I am removing multiple whitespace characters."
   ]
  },
  {
   "cell_type": "code",
   "execution_count": 4,
   "metadata": {
    "pycharm": {
     "name": "#%%\n"
    }
   },
   "outputs": [
    {
     "data": {
      "text/html": [
       "<div>\n",
       "<style scoped>\n",
       "    .dataframe tbody tr th:only-of-type {\n",
       "        vertical-align: middle;\n",
       "    }\n",
       "\n",
       "    .dataframe tbody tr th {\n",
       "        vertical-align: top;\n",
       "    }\n",
       "\n",
       "    .dataframe thead th {\n",
       "        text-align: right;\n",
       "    }\n",
       "</style>\n",
       "<table border=\"1\" class=\"dataframe\">\n",
       "  <thead>\n",
       "    <tr style=\"text-align: right;\">\n",
       "      <th></th>\n",
       "      <th>input</th>\n",
       "      <th>name</th>\n",
       "      <th>qty</th>\n",
       "      <th>range_end</th>\n",
       "      <th>unit</th>\n",
       "      <th>name_no_punct</th>\n",
       "      <th>input_parsed</th>\n",
       "      <th>name_parsed</th>\n",
       "      <th>unit_parsed</th>\n",
       "      <th>check_name</th>\n",
       "    </tr>\n",
       "    <tr>\n",
       "      <th>index</th>\n",
       "      <th></th>\n",
       "      <th></th>\n",
       "      <th></th>\n",
       "      <th></th>\n",
       "      <th></th>\n",
       "      <th></th>\n",
       "      <th></th>\n",
       "      <th></th>\n",
       "      <th></th>\n",
       "      <th></th>\n",
       "    </tr>\n",
       "  </thead>\n",
       "  <tbody>\n",
       "    <tr>\n",
       "      <th>253</th>\n",
       "      <td>2 to 3 teaspoons minced jalapeño</td>\n",
       "      <td>jalapeños</td>\n",
       "      <td>2.0</td>\n",
       "      <td>3.0</td>\n",
       "      <td>teaspoon</td>\n",
       "      <td>True</td>\n",
       "      <td>2 to 3 teaspoons minced jalapeño</td>\n",
       "      <td>jalapeños</td>\n",
       "      <td>teaspoon</td>\n",
       "      <td>False</td>\n",
       "    </tr>\n",
       "    <tr>\n",
       "      <th>274</th>\n",
       "      <td>Salt and freshly ground black pepper to taste</td>\n",
       "      <td>Salt and black pepper</td>\n",
       "      <td>0.0</td>\n",
       "      <td>0.0</td>\n",
       "      <td>nan</td>\n",
       "      <td>True</td>\n",
       "      <td>salt and freshly ground black pepper to taste</td>\n",
       "      <td>salt and black pepper</td>\n",
       "      <td>nan</td>\n",
       "      <td>False</td>\n",
       "    </tr>\n",
       "    <tr>\n",
       "      <th>332</th>\n",
       "      <td>Salt and freshly ground black pepper</td>\n",
       "      <td>Salt and black pepper</td>\n",
       "      <td>0.0</td>\n",
       "      <td>0.0</td>\n",
       "      <td>nan</td>\n",
       "      <td>True</td>\n",
       "      <td>salt and freshly ground black pepper</td>\n",
       "      <td>salt and black pepper</td>\n",
       "      <td>nan</td>\n",
       "      <td>False</td>\n",
       "    </tr>\n",
       "    <tr>\n",
       "      <th>347</th>\n",
       "      <td>Salt and freshly ground black pepper</td>\n",
       "      <td>Salt and black pepper</td>\n",
       "      <td>0.0</td>\n",
       "      <td>0.0</td>\n",
       "      <td>nan</td>\n",
       "      <td>True</td>\n",
       "      <td>salt and freshly ground black pepper</td>\n",
       "      <td>salt and black pepper</td>\n",
       "      <td>nan</td>\n",
       "      <td>False</td>\n",
       "    </tr>\n",
       "    <tr>\n",
       "      <th>362</th>\n",
       "      <td>Salt and freshly ground pepper</td>\n",
       "      <td>Salt and pepper</td>\n",
       "      <td>0.0</td>\n",
       "      <td>0.0</td>\n",
       "      <td>nan</td>\n",
       "      <td>True</td>\n",
       "      <td>salt and freshly ground pepper</td>\n",
       "      <td>salt and pepper</td>\n",
       "      <td>nan</td>\n",
       "      <td>False</td>\n",
       "    </tr>\n",
       "  </tbody>\n",
       "</table>\n",
       "</div>"
      ],
      "text/plain": [
       "                                               input                   name  \\\n",
       "index                                                                         \n",
       "253                 2 to 3 teaspoons minced jalapeño              jalapeños   \n",
       "274    Salt and freshly ground black pepper to taste  Salt and black pepper   \n",
       "332             Salt and freshly ground black pepper  Salt and black pepper   \n",
       "347             Salt and freshly ground black pepper  Salt and black pepper   \n",
       "362                   Salt and freshly ground pepper        Salt and pepper   \n",
       "\n",
       "       qty  range_end      unit name_no_punct  \\\n",
       "index                                           \n",
       "253    2.0        3.0  teaspoon          True   \n",
       "274    0.0        0.0       nan          True   \n",
       "332    0.0        0.0       nan          True   \n",
       "347    0.0        0.0       nan          True   \n",
       "362    0.0        0.0       nan          True   \n",
       "\n",
       "                                        input_parsed            name_parsed  \\\n",
       "index                                                                         \n",
       "253                 2 to 3 teaspoons minced jalapeño              jalapeños   \n",
       "274    salt and freshly ground black pepper to taste  salt and black pepper   \n",
       "332             salt and freshly ground black pepper  salt and black pepper   \n",
       "347             salt and freshly ground black pepper  salt and black pepper   \n",
       "362                   salt and freshly ground pepper        salt and pepper   \n",
       "\n",
       "      unit_parsed  check_name  \n",
       "index                          \n",
       "253      teaspoon       False  \n",
       "274           nan       False  \n",
       "332           nan       False  \n",
       "347           nan       False  \n",
       "362           nan       False  "
      ]
     },
     "execution_count": 4,
     "metadata": {},
     "output_type": "execute_result"
    }
   ],
   "source": [
    "import re\n",
    "# Check that the input column contains the ingredient name and also the unit if it has one\n",
    "def check_if_name_and_unit(input, name, unit):\n",
    "    name_regexp = f\"{name}\\w*\"\n",
    "    unit_regexp = f\"{unit}\\w*\"\n",
    "\n",
    "    match = re.search(name_regexp, input)\n",
    "\n",
    "    if not match:\n",
    "        return False\n",
    "    # Check that the unit isnt nan\n",
    "    if not unit==unit:\n",
    "        print(unit)\n",
    "        match = re.search(unit_regexp, input)\n",
    "        if not match:\n",
    "            return False\n",
    "    return True\n",
    "\n",
    "\n",
    "ing_df[\"check_name\"] = ing_df.apply(lambda x: check_if_name_and_unit(x['input_parsed'], x['name_parsed'], x['unit_parsed']), axis=1)\n",
    "ing_df.head()\n",
    "\n",
    "# Check a few of the entries where it is false\n",
    "ing_df[~ing_df[\"check_name\"]].head()"
   ]
  },
  {
   "cell_type": "markdown",
   "metadata": {},
   "source": [
    "In the above I confirm that the input column has the name and unit in it. This helps to sift out data containing errors.\n",
    "It also means sifting out data such as input = \"2 teaspoons of jalapeños\" where the name has been given as name = \"jalapeño\".\n",
    "It will remove this data, but I do not believe it will have a significant impact as whether the ingredient is plural or\n",
    "not it will still be in the same position in the word."
   ]
  },
  {
   "cell_type": "code",
   "execution_count": 5,
   "metadata": {
    "pycharm": {
     "name": "#%%\n"
    }
   },
   "outputs": [
    {
     "name": "stdout",
     "output_type": "stream",
     "text": [
      "After removing all the rows where the name and unit are not included in the input, it leaves 170302 rows\n"
     ]
    }
   ],
   "source": [
    "ing_df = ing_df[ing_df[\"check_name\"]]\n",
    "print(f\"After removing all the rows where the name and unit are not included in the input, it leaves {len(ing_df)} rows\")\n",
    "\n"
   ]
  },
  {
   "cell_type": "markdown",
   "metadata": {},
   "source": [
    "## Creating labels\n",
    "\n",
    "For the unit and ingredient labels, I wil need to convert \"2 tablespoons and 1 teaspoon of white sugar\" into [0 0 0 0 0 0 1 1] for instance.\n",
    "\n",
    "Now that the data is processed, this should not be too difficult."
   ]
  },
  {
   "cell_type": "code",
   "execution_count": 6,
   "metadata": {
    "pycharm": {
     "name": "#%%\n"
    }
   },
   "outputs": [],
   "source": [
    "# Convert a string of multiple words into a binary array with 1 for each word in \n",
    "# Match is and 0 where any other words are.\n",
    "def create_label(inp, match):\n",
    "    match_regexp = f\"{match}\\w*\"\n",
    "    match_num_words = len(match.split(\" \"))                  \n",
    "    match_replaced = re.sub(match_regexp, \" MATCH \", inp)\n",
    "    match_replaced = re.sub(\"\\s+\", \" \" ,match_replaced)\n",
    "    match_replaced = re.sub(\"(\\s$)|(^\\s)\", \"\", match_replaced)\n",
    "    word_array = match_replaced.split(\" \")\n",
    "    label = []\n",
    "    for word in word_array:\n",
    "        if word == \"MATCH\":\n",
    "            label.extend([1]*match_num_words)\n",
    "        else:\n",
    "            label.append(0)\n",
    "    return label\n",
    "        \n",
    "ing_df[\"name_label\"] = ing_df.apply(lambda x: create_label(x['input_parsed'], x['name_parsed']), axis=1)\n",
    "ing_df[\"unit_label\"] = ing_df.apply(lambda x: create_label(x['input_parsed'], x['unit_parsed']), axis=1)\n",
    "\n"
   ]
  },
  {
   "cell_type": "code",
   "execution_count": 7,
   "metadata": {},
   "outputs": [
    {
     "data": {
      "text/html": [
       "<div>\n",
       "<style scoped>\n",
       "    .dataframe tbody tr th:only-of-type {\n",
       "        vertical-align: middle;\n",
       "    }\n",
       "\n",
       "    .dataframe tbody tr th {\n",
       "        vertical-align: top;\n",
       "    }\n",
       "\n",
       "    .dataframe thead th {\n",
       "        text-align: right;\n",
       "    }\n",
       "</style>\n",
       "<table border=\"1\" class=\"dataframe\">\n",
       "  <thead>\n",
       "    <tr style=\"text-align: right;\">\n",
       "      <th></th>\n",
       "      <th>input_parsed</th>\n",
       "      <th>name_label</th>\n",
       "      <th>unit_label</th>\n",
       "      <th>qty</th>\n",
       "      <th>range_end</th>\n",
       "    </tr>\n",
       "    <tr>\n",
       "      <th>index</th>\n",
       "      <th></th>\n",
       "      <th></th>\n",
       "      <th></th>\n",
       "      <th></th>\n",
       "      <th></th>\n",
       "    </tr>\n",
       "  </thead>\n",
       "  <tbody>\n",
       "    <tr>\n",
       "      <th>37475</th>\n",
       "      <td>1 / 4 teaspoon salt</td>\n",
       "      <td>[0, 0, 0, 0, 1]</td>\n",
       "      <td>[0, 0, 0, 1, 0]</td>\n",
       "      <td>0.25</td>\n",
       "      <td>0.0</td>\n",
       "    </tr>\n",
       "    <tr>\n",
       "      <th>126582</th>\n",
       "      <td>salt to taste</td>\n",
       "      <td>[1, 0, 0]</td>\n",
       "      <td>[0, 0, 0]</td>\n",
       "      <td>0.00</td>\n",
       "      <td>0.0</td>\n",
       "    </tr>\n",
       "    <tr>\n",
       "      <th>174253</th>\n",
       "      <td>1 / 8 teaspoon salt</td>\n",
       "      <td>[0, 0, 0, 0, 1]</td>\n",
       "      <td>[0, 0, 0, 1, 0]</td>\n",
       "      <td>0.13</td>\n",
       "      <td>0.0</td>\n",
       "    </tr>\n",
       "    <tr>\n",
       "      <th>105493</th>\n",
       "      <td>1 clove garlic , smashed and peeled</td>\n",
       "      <td>[0, 0, 1, 0, 0, 0, 0]</td>\n",
       "      <td>[0, 1, 0, 0, 0, 0, 0]</td>\n",
       "      <td>1.00</td>\n",
       "      <td>0.0</td>\n",
       "    </tr>\n",
       "    <tr>\n",
       "      <th>144838</th>\n",
       "      <td>4 tablespoons chili sauce</td>\n",
       "      <td>[0, 0, 1, 1]</td>\n",
       "      <td>[0, 0, 0, 0]</td>\n",
       "      <td>4.00</td>\n",
       "      <td>0.0</td>\n",
       "    </tr>\n",
       "    <tr>\n",
       "      <th>...</th>\n",
       "      <td>...</td>\n",
       "      <td>...</td>\n",
       "      <td>...</td>\n",
       "      <td>...</td>\n",
       "      <td>...</td>\n",
       "    </tr>\n",
       "    <tr>\n",
       "      <th>31536</th>\n",
       "      <td>2 1 / 2 ounces grated swiss cheese about 3 / 4...</td>\n",
       "      <td>[0, 0, 0, 0, 0, 0, 1, 1, 0, 0, 0, 0, 0]</td>\n",
       "      <td>[0, 0, 0, 0, 1, 0, 0, 0, 0, 0, 0, 0, 0]</td>\n",
       "      <td>2.50</td>\n",
       "      <td>0.0</td>\n",
       "    </tr>\n",
       "    <tr>\n",
       "      <th>23963</th>\n",
       "      <td>1 medium size shallot , peeled and minced</td>\n",
       "      <td>[0, 0, 0, 1, 0, 0, 0, 0]</td>\n",
       "      <td>[0, 0, 0, 0, 0, 0, 0, 0]</td>\n",
       "      <td>1.00</td>\n",
       "      <td>0.0</td>\n",
       "    </tr>\n",
       "    <tr>\n",
       "      <th>145399</th>\n",
       "      <td>1 / 4 cup canola oil</td>\n",
       "      <td>[0, 0, 0, 0, 1, 1]</td>\n",
       "      <td>[0, 0, 0, 1, 0, 0]</td>\n",
       "      <td>0.25</td>\n",
       "      <td>0.0</td>\n",
       "    </tr>\n",
       "    <tr>\n",
       "      <th>72599</th>\n",
       "      <td>1 carrot , peeled and minced</td>\n",
       "      <td>[0, 1, 0, 0, 0, 0]</td>\n",
       "      <td>[0, 0, 0, 0, 0, 0]</td>\n",
       "      <td>1.00</td>\n",
       "      <td>0.0</td>\n",
       "    </tr>\n",
       "    <tr>\n",
       "      <th>109861</th>\n",
       "      <td>salt , if desired</td>\n",
       "      <td>[1, 0, 0, 0]</td>\n",
       "      <td>[0, 0, 0, 0]</td>\n",
       "      <td>0.00</td>\n",
       "      <td>0.0</td>\n",
       "    </tr>\n",
       "  </tbody>\n",
       "</table>\n",
       "<p>100 rows × 5 columns</p>\n",
       "</div>"
      ],
      "text/plain": [
       "                                             input_parsed  \\\n",
       "index                                                       \n",
       "37475                                 1 / 4 teaspoon salt   \n",
       "126582                                      salt to taste   \n",
       "174253                                1 / 8 teaspoon salt   \n",
       "105493                1 clove garlic , smashed and peeled   \n",
       "144838                          4 tablespoons chili sauce   \n",
       "...                                                   ...   \n",
       "31536   2 1 / 2 ounces grated swiss cheese about 3 / 4...   \n",
       "23963           1 medium size shallot , peeled and minced   \n",
       "145399                               1 / 4 cup canola oil   \n",
       "72599                        1 carrot , peeled and minced   \n",
       "109861                                  salt , if desired   \n",
       "\n",
       "                                     name_label  \\\n",
       "index                                             \n",
       "37475                           [0, 0, 0, 0, 1]   \n",
       "126582                                [1, 0, 0]   \n",
       "174253                          [0, 0, 0, 0, 1]   \n",
       "105493                    [0, 0, 1, 0, 0, 0, 0]   \n",
       "144838                             [0, 0, 1, 1]   \n",
       "...                                         ...   \n",
       "31536   [0, 0, 0, 0, 0, 0, 1, 1, 0, 0, 0, 0, 0]   \n",
       "23963                  [0, 0, 0, 1, 0, 0, 0, 0]   \n",
       "145399                       [0, 0, 0, 0, 1, 1]   \n",
       "72599                        [0, 1, 0, 0, 0, 0]   \n",
       "109861                             [1, 0, 0, 0]   \n",
       "\n",
       "                                     unit_label   qty  range_end  \n",
       "index                                                             \n",
       "37475                           [0, 0, 0, 1, 0]  0.25        0.0  \n",
       "126582                                [0, 0, 0]  0.00        0.0  \n",
       "174253                          [0, 0, 0, 1, 0]  0.13        0.0  \n",
       "105493                    [0, 1, 0, 0, 0, 0, 0]  1.00        0.0  \n",
       "144838                             [0, 0, 0, 0]  4.00        0.0  \n",
       "...                                         ...   ...        ...  \n",
       "31536   [0, 0, 0, 0, 1, 0, 0, 0, 0, 0, 0, 0, 0]  2.50        0.0  \n",
       "23963                  [0, 0, 0, 0, 0, 0, 0, 0]  1.00        0.0  \n",
       "145399                       [0, 0, 0, 1, 0, 0]  0.25        0.0  \n",
       "72599                        [0, 0, 0, 0, 0, 0]  1.00        0.0  \n",
       "109861                             [0, 0, 0, 0]  0.00        0.0  \n",
       "\n",
       "[100 rows x 5 columns]"
      ]
     },
     "execution_count": 7,
     "metadata": {},
     "output_type": "execute_result"
    }
   ],
   "source": [
    "\n",
    "\n",
    "ing_df_labelled = ing_df[[\"input_parsed\", 'name_label', \"unit_label\", \"qty\", \"range_end\"]]\n",
    "ing_df_labelled.sample(100)"
   ]
  },
  {
   "cell_type": "markdown",
   "metadata": {},
   "source": [
    "These look pretty good. The next stage would be to encode the text so that it is also numeric.\n",
    "\n",
    "To do this I need to:\n",
    "- Identify the vocabulary from the corpus\n",
    "- Convert the words into their numeric representation\n",
    "- Pad the sequences so that all the inputs are the same length\n",
    "- Download the pretrained word embeddings (using Glove 6)\n"
   ]
  },
  {
   "cell_type": "code",
   "execution_count": 8,
   "metadata": {},
   "outputs": [
    {
     "name": "stdout",
     "output_type": "stream",
     "text": [
      "number of words in word_index: 7501\n",
      "word_index: [('<OOV>', 1), ('1', 2), ('2', 3), (',', 4), ('/', 5), ('cup', 6), ('4', 7), ('tablespoons', 8), ('3', 9), ('teaspoon', 10), ('or', 11), ('chopped', 12), ('and', 13), ('to', 14), ('salt', 15), ('cups', 16), ('oil', 17), ('tablespoon', 18), ('fresh', 19), ('pepper', 20)]\n",
      "\n",
      "(170302, 2)\n"
     ]
    }
   ],
   "source": [
    "from tensorflow.keras.preprocessing.text import Tokenizer\n",
    "from tensorflow.keras.preprocessing.sequence import pad_sequences\n",
    "from more_itertools import take\n",
    "\n",
    "# Initialize the Tokenizer class, making sure to keep , . and /\n",
    "tokenizer = Tokenizer(oov_token=\"<OOV>\", filters='!\"#$%&()*+-:;<=>?@[\\\\]^_`{|}~\\t\\n')\n",
    "\n",
    "# Generate the word index dictionary\n",
    "tokenizer.fit_on_texts(ing_df_labelled[\"input_parsed\"])\n",
    "\n",
    "# Print the length of the word index\n",
    "word_index_example = take(20, tokenizer.word_index.items())\n",
    "word_index = tokenizer.word_index\n",
    "print(f'number of words in word_index: {len(word_index)}')\n",
    "\n",
    "# Print the word index\n",
    "print(f'word_index: {word_index_example}')\n",
    "print()\n",
    "\n",
    "# Generate and pad the sequences\n",
    "sequences = tokenizer.texts_to_sequences(ing_df_labelled[\"input_parsed\"])\n",
    "\n",
    "X = pad_sequences(sequences, padding='post')\n",
    "y_name = pad_sequences(ing_df_labelled[\"name_label\"], padding=\"post\")\n",
    "y_unit = pad_sequences(ing_df_labelled[\"unit_label\"], padding=\"post\")\n",
    "y_qty = np.expand_dims(np.asarray(ing_df_labelled[\"qty\"].values), axis=-1)\n",
    "y_range = np.expand_dims(np.asarray(ing_df_labelled[\"range_end\"].values), axis=-1)\n",
    "\n",
    "y_qtys = np.concatenate((y_qty, y_range), axis=-1)\n",
    "\n",
    "# Combine these for jointly training the model\n",
    "y_name_ex = np.expand_dims(y_name, axis=1)\n",
    "y_unit_ex = np.expand_dims(y_unit, axis=1)\n",
    "print(y_qtys.shape)\n",
    "\n",
    "y_combined = np.concatenate((y_name_ex, y_unit_ex), axis=1)"
   ]
  },
  {
   "cell_type": "code",
   "execution_count": 9,
   "metadata": {},
   "outputs": [
    {
     "name": "stdout",
     "output_type": "stream",
     "text": [
      "Ingredient sentence is 1 medium yellow onion , finely chopped\n",
      "X is [  2  56 195  53   4  27  12   0   0   0   0   0   0   0   0   0   0   0\n",
      "   0   0   0   0   0   0   0   0   0   0   0   0   0   0   0   0   0   0\n",
      "   0   0   0   0   0   0   0   0   0   0   0   0   0   0   0   0   0   0\n",
      "   0   0   0   0   0   0]\n",
      "y_name is [0 0 0 1 0 0 0 0 0 0 0 0 0 0 0 0 0 0 0 0 0 0 0 0 0 0 0 0 0 0 0 0 0 0 0 0 0\n",
      " 0 0 0 0 0 0 0 0 0 0 0 0 0 0 0 0 0 0 0 0 0 0 0]\n",
      "y_unit is [0 0 0 0 0 0 0 0 0 0 0 0 0 0 0 0 0 0 0 0 0 0 0 0 0 0 0 0 0 0 0 0 0 0 0 0 0\n",
      " 0 0 0 0 0 0 0 0 0 0 0 0 0 0 0 0 0 0 0 0 0 0 0]\n"
     ]
    }
   ],
   "source": [
    "import random \n",
    "# Check a random index to make sure everything has worked\n",
    "idx = random.randint(0,20000)\n",
    "rand_ing = ing_df.loc[ing_df.index.values[idx], \"input_parsed\"]\n",
    "print(f\"Ingredient sentence is {rand_ing}\")\n",
    "print(f\"X is {X[idx]}\")\n",
    "print(f\"y_name is {y_name[idx]}\")\n",
    "print(f\"y_unit is {y_unit[idx]}\")"
   ]
  },
  {
   "cell_type": "markdown",
   "metadata": {},
   "source": [
    "Great so we have a training database! "
   ]
  },
  {
   "cell_type": "markdown",
   "metadata": {},
   "source": [
    "## Word Embeddings\n",
    "\n",
    "To save time training my own embeddings, I will use the ones already trained in the Glove version 6 embeddings. These were created by stanford on a much larger corpus. Naturally some words might not exsist in this corpus, so these will be replaced with the OOV token.\n",
    "\n",
    "Below I download and save the dataset locally"
   ]
  },
  {
   "cell_type": "code",
   "execution_count": 10,
   "metadata": {
    "pycharm": {
     "name": "#%%\n"
    }
   },
   "outputs": [],
   "source": [
    "# Download and extract the word embeddings\n",
    "#!wget http://nlp.stanford.edu/data/glove.6B.zip\n",
    "#!unzip -q glove.6B.zip\n"
   ]
  },
  {
   "cell_type": "code",
   "execution_count": 11,
   "metadata": {
    "pycharm": {
     "name": "#%%\n"
    }
   },
   "outputs": [
    {
     "name": "stdout",
     "output_type": "stream",
     "text": [
      "Found 400000 word vectors.\n"
     ]
    }
   ],
   "source": [
    "# Open the word embeddings \n",
    "import os\n",
    "import numpy as np\n",
    "\n",
    "\n",
    "path_to_glove_file = \"glove.6B.100d.txt\"\n",
    "\n",
    "embeddings_index = {}\n",
    "with open(path_to_glove_file) as f:\n",
    "    for line in f:\n",
    "        word, coefs = line.split(maxsplit=1)\n",
    "        coefs = np.fromstring(coefs, \"f\", sep=\" \")\n",
    "        embeddings_index[word] = coefs\n",
    "\n",
    "print(\"Found %s word vectors.\" % len(embeddings_index))"
   ]
  },
  {
   "cell_type": "code",
   "execution_count": 12,
   "metadata": {
    "pycharm": {
     "name": "#%%\n"
    }
   },
   "outputs": [
    {
     "name": "stdout",
     "output_type": "stream",
     "text": [
      "Converted 5915 words (1586 misses)\n",
      "Some examples of the words not included are: ['<OOV>', 'href', 'fraîche', 'puréed', 'deribbed', 'calamata', '1½', 'pimentón', 'cherrystone', 'zested', 'dukkah', 'debearded', 'frisée', 'niçoise', 'medjool', 'comice', 'florettes', 'unblanched', 'borlotti', 'porcinis']\n"
     ]
    }
   ],
   "source": [
    "num_tokens = len(word_index) + 1\n",
    "embedding_dim = 100\n",
    "hits = 0\n",
    "misses = 0\n",
    "oov_words = []\n",
    "\n",
    "# Prepare embedding matrix\n",
    "embedding_matrix = np.zeros((num_tokens, embedding_dim))\n",
    "for word, i in word_index.items():\n",
    "    embedding_vector = embeddings_index.get(word)\n",
    "    if embedding_vector is not None:\n",
    "        # Words not found in embedding index will be all-zeros.\n",
    "        # This includes the representation for \"padding\" and \"OOV\"\n",
    "        embedding_matrix[i] = embedding_vector\n",
    "        hits += 1\n",
    "    else:\n",
    "        oov_words.append(word)\n",
    "        misses += 1\n",
    "print(\"Converted %d words (%d misses)\" % (hits, misses))\n",
    "print(f\"Some examples of the words not included are: {oov_words[:20]}\")"
   ]
  },
  {
   "cell_type": "code",
   "execution_count": 13,
   "metadata": {},
   "outputs": [],
   "source": [
    "# Remove these words from the word index"
   ]
  },
  {
   "cell_type": "markdown",
   "metadata": {},
   "source": [
    "If I looked at a longer list I would see a lot of large numeric values. It appears that larger numbers do not have embeddings. To improve the model in the future, all numbers could be given a numeric token and all words containing non-english characters could be replaced for their english equivilant. THen any remaining words would be replaced with the OOV token. Then the embedding layer could be partially fixed and train embeddings for the new tokens.\n",
    "\n",
    "Because of the current approach, OOV words are replaced with a 0 so they are treated the same as the padding. This is unlikely to have a significant effect, except for when the ingredient name is at the end of the phrase. Lets see how it does anyway."
   ]
  },
  {
   "cell_type": "code",
   "execution_count": 14,
   "metadata": {},
   "outputs": [],
   "source": [
    "from tensorflow.keras.layers import Embedding\n",
    "from tensorflow.keras.initializers import Constant\n",
    "# Create the embedding layer, make it not trainable and fix the embedding values\n",
    "embedding_layer = Embedding(\n",
    "    num_tokens,\n",
    "    embedding_dim,\n",
    "    embeddings_initializer=Constant(embedding_matrix),\n",
    "    trainable=False,\n",
    "    input_length=X.shape[1]\n",
    ")"
   ]
  },
  {
   "cell_type": "markdown",
   "metadata": {},
   "source": [
    "## Baseline Calculation\n",
    "\n",
    "If my model was to output all 1's or all 0's for the output, what would the success rate be?"
   ]
  },
  {
   "cell_type": "code",
   "execution_count": 15,
   "metadata": {},
   "outputs": [
    {
     "name": "stdout",
     "output_type": "stream",
     "text": [
      "The baseline f1 scores for y_unit are 0.02337087910892176\n",
      "The baseline f1 scores for y_name are 0.055756400440218165\n"
     ]
    }
   ],
   "source": [
    "from sklearn.metrics import accuracy_score, f1_score\n",
    "\n",
    "baseline_y_unit = f1_score(y_unit, np.ones(y_unit.shape), average=\"micro\")\n",
    "baseline_y_name = f1_score(y_name, np.ones(y_name.shape), average=\"micro\")\n",
    "\n",
    "print(f\"The baseline f1 scores for y_unit are {baseline_y_unit}\")\n",
    "print(f\"The baseline f1 scores for y_name are {baseline_y_name}\")"
   ]
  },
  {
   "cell_type": "markdown",
   "metadata": {},
   "source": [
    "## Metrics "
   ]
  },
  {
   "cell_type": "code",
   "execution_count": 16,
   "metadata": {},
   "outputs": [
    {
     "name": "stderr",
     "output_type": "stream",
     "text": [
      "2022-03-21 11:31:36.421243: I tensorflow/core/platform/cpu_feature_guard.cc:151] This TensorFlow binary is optimized with oneAPI Deep Neural Network Library (oneDNN) to use the following CPU instructions in performance-critical operations:  AVX2 FMA\n",
      "To enable them in other operations, rebuild TensorFlow with the appropriate compiler flags.\n"
     ]
    },
    {
     "name": "stdout",
     "output_type": "stream",
     "text": [
      "1.0\n",
      "tf.Tensor(1.0, shape=(), dtype=float32)\n"
     ]
    }
   ],
   "source": [
    "import tensorflow_addons as tfa\n",
    "import tensorflow as tf\n",
    "\n",
    "f1_score_name = tfa.metrics.F1Score(\n",
    "    num_classes = X.shape[1],\n",
    "    average = \"micro\",\n",
    "    threshold=0.5\n",
    ")\n",
    "\n",
    "f1_score_unit = tfa.metrics.F1Score(\n",
    "    num_classes = X.shape[1],\n",
    "    average = \"micro\",\n",
    "    threshold=0.5\n",
    ")\n",
    "\n",
    "\n",
    "def name_f1_score(y_true_comb, y_pred_comb):\n",
    "    y_true_name, y_true_unit = tf.split(y_true_comb, num_or_size_splits=[1, 1], axis=1)\n",
    "    y_pred_name, y_pred_unit = tf.split(y_pred_comb, num_or_size_splits=[1, 1], axis=1)\n",
    "    return f1_score_name(tf.squeeze(y_true_name), tf.squeeze(y_pred_name))\n",
    "\n",
    "def unit_f1_score(y_true_comb, y_pred_comb):\n",
    "    y_true_name, y_true_unit = tf.split(y_true_comb, num_or_size_splits=[1, 1], axis=1)\n",
    "    y_pred_name, y_pred_unit = tf.split(y_pred_comb, num_or_size_splits=[1, 1], axis=1)\n",
    "    return f1_score_unit(tf.squeeze(y_true_unit), tf.squeeze(y_pred_unit))\n",
    "\n",
    "\n",
    "def name_percent_part_correct(y_true_comb, y_pred_comb):\n",
    "    y_true_name, y_true_unit = tf.split(y_true_comb, num_or_size_splits=[1, 1], axis=1)\n",
    "    y_pred_name, y_pred_unit = tf.split(y_pred_comb, num_or_size_splits=[1, 1], axis=1)\n",
    "    \n",
    "    metric = percent_part_correct(tf.squeeze(y_true_name), tf.squeeze(y_pred_name))\n",
    "    return metric\n",
    "\n",
    "def percent_part_correct(y_true, y_pred):\n",
    "    y_round = tf.cast(tf.math.round(y_pred), tf.bool)\n",
    "    y_true_bool = tf.cast(y_true, tf.bool)\n",
    "    total_values = tf.gather(tf.shape(y_true), 0)\n",
    "    \n",
    "    # Returns a boolean tensor where the elements match\n",
    "    equal = tf.math.logical_and(y_true_bool, y_round)\n",
    "    only_ones = tf.logical_and(equal, y_true_bool)\n",
    "    reduced_eq = tf.reduce_any(only_ones, 1)\n",
    "    total_part_correct = tf.reduce_sum(tf.cast(reduced_eq, tf.int64))\n",
    "    percent_part_correct = tf.math.divide_no_nan(tf.cast(total_part_correct, tf.float32), tf.cast(total_values, tf.float32))\n",
    "    return percent_part_correct\n",
    "\n",
    "def qty_mse(y_true, y_pred):\n",
    "    y_true_qty, y_true_range = tf.split(y_true, num_or_size_splits=[1, 1], axis=-1)\n",
    "    y_pred_qty, y_pred_range = tf.split(y_pred, num_or_size_splits=[1, 1], axis=-1)\n",
    "    mse = tf.keras.losses.MeanSquaredError()\n",
    "    mse_error = mse(y_true_qty, y_pred_qty)\n",
    "    return mse_error\n",
    "\n",
    "def range_mse(y_true, y_pred):\n",
    "    y_true_qty, y_true_range = tf.split(y_true, num_or_size_splits=[1, 1], axis=-1)\n",
    "    y_pred_qty, y_pred_range = tf.split(y_pred, num_or_size_splits=[1, 1], axis=-1)\n",
    "    mse = tf.keras.losses.MeanSquaredError()\n",
    "    mse_error = mse(y_true_range, y_pred_range)\n",
    "    return mse_error\n",
    "\n",
    "\n",
    "# Test execution of custom metric\n",
    "y_p = tf.constant([[[0, 0.51, 0], [0.51, 0, 0]], [[1, 0, 0], [0, 0, 0]]], dtype=tf.float32)\n",
    "y_t = tf.constant([[[0, 1, 0], [1, 0, 0]], [[0, 0, 0], [0, 0, 0]]], dtype=tf.float32)\n",
    "\n",
    "print(name_percent_part_correct(y_combined, y_combined).numpy())\n",
    "\n",
    "# Test the custom f1_score\n",
    "print(unit_f1_score(y_t, y_p))"
   ]
  },
  {
   "cell_type": "markdown",
   "metadata": {},
   "source": [
    "## Split Data"
   ]
  },
  {
   "cell_type": "code",
   "execution_count": 18,
   "metadata": {},
   "outputs": [
    {
     "name": "stdout",
     "output_type": "stream",
     "text": [
      "There are 1630 samples out of 136241 that contain a range.\n"
     ]
    }
   ],
   "source": [
    "from sklearn.model_selection import train_test_split\n",
    "\n",
    "X_train, X_test, y_train, y_test = train_test_split(X, y_combined, test_size=0.2, random_state=42)\n",
    "_, _, y_qty_train, y_qty_test = train_test_split(X, y_qty, test_size=0.2, random_state=42)\n",
    "_, _, y_range_train, y_range_test = train_test_split(X, y_range, test_size=0.2, random_state=42)\n",
    "\n",
    "total = 0\n",
    "for i in y_range_train:\n",
    "    if i > 0.01:\n",
    "        total +=  1\n",
    "        \n",
    "print(f\"There are {total} samples out of {len(X_train)} that contain a range.\")"
   ]
  },
  {
   "cell_type": "markdown",
   "metadata": {},
   "source": [
    "Unfortunately although I wanted to train a model to include the range as well, I do not believe that there are enough samples to give an accurate result."
   ]
  },
  {
   "cell_type": "markdown",
   "metadata": {},
   "source": [
    "## Build and Train Model"
   ]
  },
  {
   "cell_type": "code",
   "execution_count": 19,
   "metadata": {},
   "outputs": [
    {
     "name": "stdout",
     "output_type": "stream",
     "text": [
      "Model: \"model_head\"\n",
      "_________________________________________________________________\n",
      " Layer (type)                Output Shape              Param #   \n",
      "=================================================================\n",
      " embedding (Embedding)       (None, 60, 100)           750200    \n",
      "                                                                 \n",
      " bidirectional (Bidirectiona  (None, 60, 128)          84480     \n",
      " l)                                                              \n",
      "                                                                 \n",
      " bidirectional_1 (Bidirectio  (None, 60, 128)          98816     \n",
      " nal)                                                            \n",
      "                                                                 \n",
      " flatten (Flatten)           (None, 7680)              0         \n",
      "                                                                 \n",
      " dense (Dense)               (None, 128)               983168    \n",
      "                                                                 \n",
      "=================================================================\n",
      "Total params: 1,916,664\n",
      "Trainable params: 1,166,464\n",
      "Non-trainable params: 750,200\n",
      "_________________________________________________________________\n",
      "2128\n"
     ]
    }
   ],
   "source": [
    "\n",
    "\n",
    "lstm_dim = 64\n",
    "dense_dim = 128\n",
    "output_dim = X.shape[1]*2\n",
    "NUM_EPOCHS = 50\n",
    "BATCH_SIZE = 64\n",
    "\n",
    "# Model Definition with LSTM\n",
    "model_head = tf.keras.Sequential([\n",
    "    embedding_layer,\n",
    "    tf.keras.layers.Bidirectional(tf.keras.layers.LSTM(lstm_dim, return_sequences=True)),\n",
    "    tf.keras.layers.Bidirectional(tf.keras.layers.LSTM(lstm_dim, return_sequences=True)),\n",
    "    tf.keras.layers.Flatten(),\n",
    "    tf.keras.layers.Dense(dense_dim, activation='relu')\n",
    "], name=\"model_head\")\n",
    "# Print the model summary\n",
    "model_head.summary()\n",
    "\n",
    "save_freq = int(1.0*(len(X_train)/BATCH_SIZE))\n",
    "print(save_freq)\n",
    "checkpoint_callback = tf.keras.callbacks.ModelCheckpoint('./models/model{epoch:08d}.ckpt', save_freq=save_freq, save_weights_only=\"true\")\n",
    "                                                                        \n",
    "\n"
   ]
  },
  {
   "cell_type": "code",
   "execution_count": 20,
   "metadata": {},
   "outputs": [
    {
     "name": "stdout",
     "output_type": "stream",
     "text": [
      "Model: \"model\"\n",
      "__________________________________________________________________________________________________\n",
      " Layer (type)                   Output Shape         Param #     Connected to                     \n",
      "==================================================================================================\n",
      " input_1 (InputLayer)           [(None, 60)]         0           []                               \n",
      "                                                                                                  \n",
      " model_head (Sequential)        (None, 128)          1916664     ['input_1[0][0]']                \n",
      "                                                                                                  \n",
      " model_tail_1 (Sequential)      (None, 2, 60)        15480       ['model_head[0][0]']             \n",
      "                                                                                                  \n",
      " model_tail_2 (Sequential)      (None, 1)            129         ['model_head[0][0]']             \n",
      "                                                                                                  \n",
      "==================================================================================================\n",
      "Total params: 1,932,273\n",
      "Trainable params: 1,182,073\n",
      "Non-trainable params: 750,200\n",
      "__________________________________________________________________________________________________\n"
     ]
    }
   ],
   "source": [
    "model_tail_1 = tf.keras.Sequential([\n",
    "    tf.keras.layers.Dense(output_dim, activation='sigmoid'), \n",
    "    tf.keras.layers.Reshape((2, X.shape[1]))\n",
    "], name=\"model_tail_1\")\n",
    "\n",
    "model_tail_2 = tf.keras.Sequential([\n",
    "    tf.keras.layers.Dense(1, activation='relu')\n",
    "], name=\"model_tail_2\")\n",
    "\"\"\"\n",
    "model_tail_3 = tf.keras.Sequential([\n",
    "    tf.keras.layers.Dense(1, activation='relu')\n",
    "], name=\"model_tail_3\")\n",
    "\"\"\"\n",
    "\n",
    "model_input = tf.keras.layers.Input(shape=[X.shape[1]])\n",
    "features = model_head(model_input)\n",
    "model_output1 = model_tail_1(features)\n",
    "model_output2 = model_tail_2(features)\n",
    "#model_output3 = model_tail_3(features)\n",
    "\n",
    "model = tf.keras.Model(inputs=model_input, outputs=[model_output1, model_output2])\n",
    "\n",
    "TAIL1_WEIGHT = 4\n",
    "TAIL2_WEIGHT = 1\n",
    "# Weight is the ratio of positive samples so that the loss is of the same magnitude as the QTY loss\n",
    "#TAIL3_WEIGHT = 4*float(len(y_range_train)) / sum([1.0 for i in y_range_train if i > 0.01]) \n",
    "\n",
    "model.compile(\n",
    "    optimizer=\"Adam\",\n",
    "    loss={\"model_tail_1\": \"binary_crossentropy\", \"model_tail_2\": \"huber\"},  # \"model_tail_3\": \"mse\"\n",
    "    loss_weights={\"model_tail_1\": TAIL1_WEIGHT, \"model_tail_2\": TAIL2_WEIGHT},  # , \"model_tail_3\": TAIL3_WEIGHT\n",
    "    metrics={\"model_tail_1\": [name_f1_score, unit_f1_score, name_percent_part_correct], \"model_tail_2\": \"mse\"}  # , \"model_tail_3\": \"mse\"\n",
    ")\n",
    "model.summary()"
   ]
  },
  {
   "cell_type": "code",
   "execution_count": 22,
   "metadata": {
    "scrolled": true
   },
   "outputs": [
    {
     "name": "stdout",
     "output_type": "stream",
     "text": [
      "Epoch 1/50\n",
      "2129/2129 [==============================] - 220s 101ms/step - loss: 0.7501 - model_tail_1_loss: 0.0281 - model_tail_2_loss: 0.6376 - model_tail_1_name_f1_score: 0.4903 - model_tail_1_unit_f1_score: 0.5580 - model_tail_1_name_percent_part_correct: 0.7821 - model_tail_2_mse: 170.7334 - val_loss: 0.5370 - val_model_tail_1_loss: 0.0139 - val_model_tail_2_loss: 0.4814 - val_model_tail_1_name_f1_score: 0.7246 - val_model_tail_1_unit_f1_score: 0.7676 - val_model_tail_1_name_percent_part_correct: 0.9683 - val_model_tail_2_mse: 211.7953\n",
      "Epoch 2/50\n",
      "2129/2129 [==============================] - 214s 100ms/step - loss: 0.5006 - model_tail_1_loss: 0.0123 - model_tail_2_loss: 0.4516 - model_tail_1_name_f1_score: 0.7809 - model_tail_1_unit_f1_score: 0.8137 - model_tail_1_name_percent_part_correct: 0.9820 - model_tail_2_mse: 120.0388 - val_loss: 0.4610 - val_model_tail_1_loss: 0.0111 - val_model_tail_2_loss: 0.4167 - val_model_tail_1_name_f1_score: 0.8135 - val_model_tail_1_unit_f1_score: 0.8421 - val_model_tail_1_name_percent_part_correct: 0.9853 - val_model_tail_2_mse: 198.3694\n",
      "Epoch 3/50\n",
      "2129/2129 [==============================] - 217s 102ms/step - loss: 0.4572 - model_tail_1_loss: 0.0104 - model_tail_2_loss: 0.4155 - model_tail_1_name_f1_score: 0.8312 - model_tail_1_unit_f1_score: 0.8590 - model_tail_1_name_percent_part_correct: 0.9894 - model_tail_2_mse: 114.8207 - val_loss: 0.4391 - val_model_tail_1_loss: 0.0098 - val_model_tail_2_loss: 0.3999 - val_model_tail_1_name_f1_score: 0.8444 - val_model_tail_1_unit_f1_score: 0.8723 - val_model_tail_1_name_percent_part_correct: 0.9896 - val_model_tail_2_mse: 193.3443\n",
      "Epoch 4/50\n",
      "2129/2129 [==============================] - 215s 101ms/step - loss: 0.4093 - model_tail_1_loss: 0.0097 - model_tail_2_loss: 0.3704 - model_tail_1_name_f1_score: 0.8533 - model_tail_1_unit_f1_score: 0.8814 - model_tail_1_name_percent_part_correct: 0.9916 - model_tail_2_mse: 92.5340 - val_loss: 0.3989 - val_model_tail_1_loss: 0.0100 - val_model_tail_2_loss: 0.3590 - val_model_tail_1_name_f1_score: 0.8603 - val_model_tail_1_unit_f1_score: 0.8890 - val_model_tail_1_name_percent_part_correct: 0.9923 - val_model_tail_2_mse: 101.7678\n",
      "Epoch 5/50\n",
      "2129/2129 [==============================] - 214s 101ms/step - loss: 0.3694 - model_tail_1_loss: 0.0094 - model_tail_2_loss: 0.3319 - model_tail_1_name_f1_score: 0.8655 - model_tail_1_unit_f1_score: 0.8947 - model_tail_1_name_percent_part_correct: 0.9922 - model_tail_2_mse: 72.9542 - val_loss: 0.3852 - val_model_tail_1_loss: 0.0092 - val_model_tail_2_loss: 0.3486 - val_model_tail_1_name_f1_score: 0.8701 - val_model_tail_1_unit_f1_score: 0.8996 - val_model_tail_1_name_percent_part_correct: 0.9931 - val_model_tail_2_mse: 105.2770\n",
      "Epoch 6/50\n",
      "2129/2129 [==============================] - 215s 101ms/step - loss: 0.3480 - model_tail_1_loss: 0.0091 - model_tail_2_loss: 0.3116 - model_tail_1_name_f1_score: 0.8738 - model_tail_1_unit_f1_score: 0.9035 - model_tail_1_name_percent_part_correct: 0.9928 - model_tail_2_mse: 63.5447 - val_loss: 0.3597 - val_model_tail_1_loss: 0.0090 - val_model_tail_2_loss: 0.3236 - val_model_tail_1_name_f1_score: 0.8769 - val_model_tail_1_unit_f1_score: 0.9068 - val_model_tail_1_name_percent_part_correct: 0.9928 - val_model_tail_2_mse: 97.4438\n",
      "Epoch 7/50\n",
      "2129/2129 [==============================] - 216s 102ms/step - loss: 0.3190 - model_tail_1_loss: 0.0089 - model_tail_2_loss: 0.2833 - model_tail_1_name_f1_score: 0.8796 - model_tail_1_unit_f1_score: 0.9096 - model_tail_1_name_percent_part_correct: 0.9931 - model_tail_2_mse: 50.5703 - val_loss: 0.3549 - val_model_tail_1_loss: 0.0091 - val_model_tail_2_loss: 0.3185 - val_model_tail_1_name_f1_score: 0.8819 - val_model_tail_1_unit_f1_score: 0.9122 - val_model_tail_1_name_percent_part_correct: 0.9929 - val_model_tail_2_mse: 82.8218\n",
      "Epoch 8/50\n",
      "2129/2129 [==============================] - 214s 100ms/step - loss: 0.2895 - model_tail_1_loss: 0.0088 - model_tail_2_loss: 0.2544 - model_tail_1_name_f1_score: 0.8839 - model_tail_1_unit_f1_score: 0.9143 - model_tail_1_name_percent_part_correct: 0.9934 - model_tail_2_mse: 46.5776 - val_loss: 0.3356 - val_model_tail_1_loss: 0.0090 - val_model_tail_2_loss: 0.2998 - val_model_tail_1_name_f1_score: 0.8857 - val_model_tail_1_unit_f1_score: 0.9163 - val_model_tail_1_name_percent_part_correct: 0.9927 - val_model_tail_2_mse: 122.0512\n",
      "Epoch 9/50\n",
      "2129/2129 [==============================] - 213s 100ms/step - loss: 0.2785 - model_tail_1_loss: 0.0086 - model_tail_2_loss: 0.2439 - model_tail_1_name_f1_score: 0.8873 - model_tail_1_unit_f1_score: 0.9180 - model_tail_1_name_percent_part_correct: 0.9938 - model_tail_2_mse: 46.2825 - val_loss: 0.3740 - val_model_tail_1_loss: 0.0088 - val_model_tail_2_loss: 0.3389 - val_model_tail_1_name_f1_score: 0.8887 - val_model_tail_1_unit_f1_score: 0.9196 - val_model_tail_1_name_percent_part_correct: 0.9929 - val_model_tail_2_mse: 188.7341\n",
      "Epoch 10/50\n",
      "2129/2129 [==============================] - 214s 101ms/step - loss: 0.2665 - model_tail_1_loss: 0.0085 - model_tail_2_loss: 0.2324 - model_tail_1_name_f1_score: 0.8900 - model_tail_1_unit_f1_score: 0.9209 - model_tail_1_name_percent_part_correct: 0.9938 - model_tail_2_mse: 47.4629 - val_loss: 0.3491 - val_model_tail_1_loss: 0.0089 - val_model_tail_2_loss: 0.3134 - val_model_tail_1_name_f1_score: 0.8912 - val_model_tail_1_unit_f1_score: 0.9222 - val_model_tail_1_name_percent_part_correct: 0.9924 - val_model_tail_2_mse: 157.7468\n",
      "Epoch 11/50\n",
      "2129/2129 [==============================] - 214s 100ms/step - loss: 0.2480 - model_tail_1_loss: 0.0084 - model_tail_2_loss: 0.2143 - model_tail_1_name_f1_score: 0.8923 - model_tail_1_unit_f1_score: 0.9234 - model_tail_1_name_percent_part_correct: 0.9942 - model_tail_2_mse: 36.1478 - val_loss: 0.3263 - val_model_tail_1_loss: 0.0088 - val_model_tail_2_loss: 0.2912 - val_model_tail_1_name_f1_score: 0.8934 - val_model_tail_1_unit_f1_score: 0.9244 - val_model_tail_1_name_percent_part_correct: 0.9922 - val_model_tail_2_mse: 128.9205\n",
      "Epoch 12/50\n",
      "2129/2129 [==============================] - 214s 100ms/step - loss: 0.2191 - model_tail_1_loss: 0.0084 - model_tail_2_loss: 0.1856 - model_tail_1_name_f1_score: 0.8943 - model_tail_1_unit_f1_score: 0.9254 - model_tail_1_name_percent_part_correct: 0.9940 - model_tail_2_mse: 26.8850 - val_loss: 0.3379 - val_model_tail_1_loss: 0.0089 - val_model_tail_2_loss: 0.3025 - val_model_tail_1_name_f1_score: 0.8951 - val_model_tail_1_unit_f1_score: 0.9263 - val_model_tail_1_name_percent_part_correct: 0.9926 - val_model_tail_2_mse: 134.3889\n",
      "Epoch 13/50\n",
      "2129/2129 [==============================] - 216s 101ms/step - loss: 0.2203 - model_tail_1_loss: 0.0083 - model_tail_2_loss: 0.1873 - model_tail_1_name_f1_score: 0.8959 - model_tail_1_unit_f1_score: 0.9271 - model_tail_1_name_percent_part_correct: 0.9941 - model_tail_2_mse: 26.4297 - val_loss: 0.3202 - val_model_tail_1_loss: 0.0087 - val_model_tail_2_loss: 0.2854 - val_model_tail_1_name_f1_score: 0.8967 - val_model_tail_1_unit_f1_score: 0.9279 - val_model_tail_1_name_percent_part_correct: 0.9936 - val_model_tail_2_mse: 113.5987\n",
      "Epoch 14/50\n",
      "2129/2129 [==============================] - 216s 101ms/step - loss: 0.2197 - model_tail_1_loss: 0.0081 - model_tail_2_loss: 0.1873 - model_tail_1_name_f1_score: 0.8974 - model_tail_1_unit_f1_score: 0.9287 - model_tail_1_name_percent_part_correct: 0.9947 - model_tail_2_mse: 24.6155 - val_loss: 0.3757 - val_model_tail_1_loss: 0.0087 - val_model_tail_2_loss: 0.3410 - val_model_tail_1_name_f1_score: 0.8981 - val_model_tail_1_unit_f1_score: 0.9294 - val_model_tail_1_name_percent_part_correct: 0.9932 - val_model_tail_2_mse: 153.8987\n",
      "Epoch 15/50\n",
      "2129/2129 [==============================] - 214s 100ms/step - loss: 0.2114 - model_tail_1_loss: 0.0080 - model_tail_2_loss: 0.1793 - model_tail_1_name_f1_score: 0.8987 - model_tail_1_unit_f1_score: 0.9300 - model_tail_1_name_percent_part_correct: 0.9948 - model_tail_2_mse: 21.7226 - val_loss: 0.3043 - val_model_tail_1_loss: 0.0087 - val_model_tail_2_loss: 0.2694 - val_model_tail_1_name_f1_score: 0.8994 - val_model_tail_1_unit_f1_score: 0.9306 - val_model_tail_1_name_percent_part_correct: 0.9931 - val_model_tail_2_mse: 107.2946\n",
      "Epoch 16/50\n"
     ]
    },
    {
     "name": "stdout",
     "output_type": "stream",
     "text": [
      "2129/2129 [==============================] - 213s 100ms/step - loss: 0.1945 - model_tail_1_loss: 0.0079 - model_tail_2_loss: 0.1628 - model_tail_1_name_f1_score: 0.8999 - model_tail_1_unit_f1_score: 0.9312 - model_tail_1_name_percent_part_correct: 0.9947 - model_tail_2_mse: 14.5206 - val_loss: 0.3049 - val_model_tail_1_loss: 0.0088 - val_model_tail_2_loss: 0.2698 - val_model_tail_1_name_f1_score: 0.9005 - val_model_tail_1_unit_f1_score: 0.9318 - val_model_tail_1_name_percent_part_correct: 0.9922 - val_model_tail_2_mse: 102.8093\n",
      "Epoch 17/50\n",
      "2129/2129 [==============================] - 216s 102ms/step - loss: 0.1818 - model_tail_1_loss: 0.0079 - model_tail_2_loss: 0.1503 - model_tail_1_name_f1_score: 0.9011 - model_tail_1_unit_f1_score: 0.9323 - model_tail_1_name_percent_part_correct: 0.9951 - model_tail_2_mse: 10.3214 - val_loss: 0.3105 - val_model_tail_1_loss: 0.0088 - val_model_tail_2_loss: 0.2753 - val_model_tail_1_name_f1_score: 0.9016 - val_model_tail_1_unit_f1_score: 0.9328 - val_model_tail_1_name_percent_part_correct: 0.9934 - val_model_tail_2_mse: 110.7840\n",
      "Epoch 18/50\n",
      "2129/2129 [==============================] - 215s 101ms/step - loss: 0.1871 - model_tail_1_loss: 0.0078 - model_tail_2_loss: 0.1557 - model_tail_1_name_f1_score: 0.9021 - model_tail_1_unit_f1_score: 0.9333 - model_tail_1_name_percent_part_correct: 0.9949 - model_tail_2_mse: 15.3743 - val_loss: 0.3000 - val_model_tail_1_loss: 0.0086 - val_model_tail_2_loss: 0.2655 - val_model_tail_1_name_f1_score: 0.9025 - val_model_tail_1_unit_f1_score: 0.9337 - val_model_tail_1_name_percent_part_correct: 0.9930 - val_model_tail_2_mse: 114.0209\n",
      "Epoch 19/50\n",
      "2129/2129 [==============================] - 220s 103ms/step - loss: 0.1749 - model_tail_1_loss: 0.0077 - model_tail_2_loss: 0.1439 - model_tail_1_name_f1_score: 0.9030 - model_tail_1_unit_f1_score: 0.9342 - model_tail_1_name_percent_part_correct: 0.9950 - model_tail_2_mse: 11.1725 - val_loss: 0.2958 - val_model_tail_1_loss: 0.0087 - val_model_tail_2_loss: 0.2610 - val_model_tail_1_name_f1_score: 0.9034 - val_model_tail_1_unit_f1_score: 0.9346 - val_model_tail_1_name_percent_part_correct: 0.9928 - val_model_tail_2_mse: 114.3703\n",
      "Epoch 20/50\n",
      "2129/2129 [==============================] - 221s 104ms/step - loss: 0.1677 - model_tail_1_loss: 0.0076 - model_tail_2_loss: 0.1372 - model_tail_1_name_f1_score: 0.9038 - model_tail_1_unit_f1_score: 0.9350 - model_tail_1_name_percent_part_correct: 0.9951 - model_tail_2_mse: 14.6869 - val_loss: 0.2932 - val_model_tail_1_loss: 0.0087 - val_model_tail_2_loss: 0.2583 - val_model_tail_1_name_f1_score: 0.9042 - val_model_tail_1_unit_f1_score: 0.9354 - val_model_tail_1_name_percent_part_correct: 0.9937 - val_model_tail_2_mse: 113.2652\n",
      "Epoch 21/50\n",
      "2129/2129 [==============================] - 228s 107ms/step - loss: 0.1678 - model_tail_1_loss: 0.0076 - model_tail_2_loss: 0.1375 - model_tail_1_name_f1_score: 0.9046 - model_tail_1_unit_f1_score: 0.9358 - model_tail_1_name_percent_part_correct: 0.9954 - model_tail_2_mse: 13.1929 - val_loss: 0.3359 - val_model_tail_1_loss: 0.0089 - val_model_tail_2_loss: 0.3004 - val_model_tail_1_name_f1_score: 0.9050 - val_model_tail_1_unit_f1_score: 0.9361 - val_model_tail_1_name_percent_part_correct: 0.9939 - val_model_tail_2_mse: 133.3324\n",
      "Epoch 22/50\n",
      "2129/2129 [==============================] - 229s 107ms/step - loss: 0.1660 - model_tail_1_loss: 0.0075 - model_tail_2_loss: 0.1361 - model_tail_1_name_f1_score: 0.9054 - model_tail_1_unit_f1_score: 0.9365 - model_tail_1_name_percent_part_correct: 0.9954 - model_tail_2_mse: 13.0274 - val_loss: 0.3580 - val_model_tail_1_loss: 0.0088 - val_model_tail_2_loss: 0.3230 - val_model_tail_1_name_f1_score: 0.9057 - val_model_tail_1_unit_f1_score: 0.9368 - val_model_tail_1_name_percent_part_correct: 0.9937 - val_model_tail_2_mse: 179.6394\n",
      "Epoch 23/50\n",
      "2129/2129 [==============================] - 222s 104ms/step - loss: 0.1672 - model_tail_1_loss: 0.0075 - model_tail_2_loss: 0.1373 - model_tail_1_name_f1_score: 0.9061 - model_tail_1_unit_f1_score: 0.9371 - model_tail_1_name_percent_part_correct: 0.9954 - model_tail_2_mse: 14.8127 - val_loss: 0.3137 - val_model_tail_1_loss: 0.0087 - val_model_tail_2_loss: 0.2788 - val_model_tail_1_name_f1_score: 0.9064 - val_model_tail_1_unit_f1_score: 0.9374 - val_model_tail_1_name_percent_part_correct: 0.9934 - val_model_tail_2_mse: 130.6321\n",
      "Epoch 24/50\n",
      "2129/2129 [==============================] - 219s 103ms/step - loss: 0.1575 - model_tail_1_loss: 0.0074 - model_tail_2_loss: 0.1281 - model_tail_1_name_f1_score: 0.9068 - model_tail_1_unit_f1_score: 0.9377 - model_tail_1_name_percent_part_correct: 0.9956 - model_tail_2_mse: 11.1130 - val_loss: 0.2938 - val_model_tail_1_loss: 0.0088 - val_model_tail_2_loss: 0.2585 - val_model_tail_1_name_f1_score: 0.9071 - val_model_tail_1_unit_f1_score: 0.9380 - val_model_tail_1_name_percent_part_correct: 0.9938 - val_model_tail_2_mse: 109.7346\n",
      "Epoch 25/50\n",
      "2129/2129 [==============================] - 221s 104ms/step - loss: 0.1530 - model_tail_1_loss: 0.0073 - model_tail_2_loss: 0.1238 - model_tail_1_name_f1_score: 0.9074 - model_tail_1_unit_f1_score: 0.9383 - model_tail_1_name_percent_part_correct: 0.9958 - model_tail_2_mse: 10.5061 - val_loss: 0.3048 - val_model_tail_1_loss: 0.0088 - val_model_tail_2_loss: 0.2696 - val_model_tail_1_name_f1_score: 0.9077 - val_model_tail_1_unit_f1_score: 0.9386 - val_model_tail_1_name_percent_part_correct: 0.9934 - val_model_tail_2_mse: 119.9619\n",
      "Epoch 26/50\n",
      "2129/2129 [==============================] - 223s 105ms/step - loss: 0.1462 - model_tail_1_loss: 0.0072 - model_tail_2_loss: 0.1173 - model_tail_1_name_f1_score: 0.9080 - model_tail_1_unit_f1_score: 0.9388 - model_tail_1_name_percent_part_correct: 0.9959 - model_tail_2_mse: 7.3586 - val_loss: 0.3003 - val_model_tail_1_loss: 0.0089 - val_model_tail_2_loss: 0.2648 - val_model_tail_1_name_f1_score: 0.9083 - val_model_tail_1_unit_f1_score: 0.9391 - val_model_tail_1_name_percent_part_correct: 0.9924 - val_model_tail_2_mse: 113.3219\n",
      "Epoch 27/50\n",
      "2129/2129 [==============================] - 220s 103ms/step - loss: 0.1440 - model_tail_1_loss: 0.0072 - model_tail_2_loss: 0.1153 - model_tail_1_name_f1_score: 0.9086 - model_tail_1_unit_f1_score: 0.9393 - model_tail_1_name_percent_part_correct: 0.9958 - model_tail_2_mse: 8.6259 - val_loss: 0.2912 - val_model_tail_1_loss: 0.0088 - val_model_tail_2_loss: 0.2560 - val_model_tail_1_name_f1_score: 0.9089 - val_model_tail_1_unit_f1_score: 0.9396 - val_model_tail_1_name_percent_part_correct: 0.9941 - val_model_tail_2_mse: 109.8177\n",
      "Epoch 28/50\n",
      "2129/2129 [==============================] - 218s 102ms/step - loss: 0.1408 - model_tail_1_loss: 0.0071 - model_tail_2_loss: 0.1124 - model_tail_1_name_f1_score: 0.9092 - model_tail_1_unit_f1_score: 0.9398 - model_tail_1_name_percent_part_correct: 0.9961 - model_tail_2_mse: 7.7542 - val_loss: 0.2887 - val_model_tail_1_loss: 0.0090 - val_model_tail_2_loss: 0.2529 - val_model_tail_1_name_f1_score: 0.9094 - val_model_tail_1_unit_f1_score: 0.9400 - val_model_tail_1_name_percent_part_correct: 0.9923 - val_model_tail_2_mse: 109.9838\n",
      "Epoch 29/50\n",
      "2129/2129 [==============================] - 219s 103ms/step - loss: 0.1383 - model_tail_1_loss: 0.0071 - model_tail_2_loss: 0.1100 - model_tail_1_name_f1_score: 0.9097 - model_tail_1_unit_f1_score: 0.9403 - model_tail_1_name_percent_part_correct: 0.9962 - model_tail_2_mse: 7.2730 - val_loss: 0.2925 - val_model_tail_1_loss: 0.0091 - val_model_tail_2_loss: 0.2561 - val_model_tail_1_name_f1_score: 0.9100 - val_model_tail_1_unit_f1_score: 0.9405 - val_model_tail_1_name_percent_part_correct: 0.9933 - val_model_tail_2_mse: 110.9136\n",
      "Epoch 30/50\n",
      "2129/2129 [==============================] - 222s 104ms/step - loss: 0.1380 - model_tail_1_loss: 0.0070 - model_tail_2_loss: 0.1098 - model_tail_1_name_f1_score: 0.9102 - model_tail_1_unit_f1_score: 0.9407 - model_tail_1_name_percent_part_correct: 0.9962 - model_tail_2_mse: 7.4468 - val_loss: 0.2948 - val_model_tail_1_loss: 0.0091 - val_model_tail_2_loss: 0.2582 - val_model_tail_1_name_f1_score: 0.9105 - val_model_tail_1_unit_f1_score: 0.9409 - val_model_tail_1_name_percent_part_correct: 0.9935 - val_model_tail_2_mse: 113.8311\n",
      "Epoch 31/50\n"
     ]
    },
    {
     "name": "stdout",
     "output_type": "stream",
     "text": [
      "2129/2129 [==============================] - 227s 106ms/step - loss: 0.1312 - model_tail_1_loss: 0.0070 - model_tail_2_loss: 0.1034 - model_tail_1_name_f1_score: 0.9107 - model_tail_1_unit_f1_score: 0.9411 - model_tail_1_name_percent_part_correct: 0.9960 - model_tail_2_mse: 6.0223 - val_loss: 0.3023 - val_model_tail_1_loss: 0.0091 - val_model_tail_2_loss: 0.2660 - val_model_tail_1_name_f1_score: 0.9110 - val_model_tail_1_unit_f1_score: 0.9413 - val_model_tail_1_name_percent_part_correct: 0.9940 - val_model_tail_2_mse: 120.4588\n",
      "Epoch 32/50\n",
      "2129/2129 [==============================] - 230s 108ms/step - loss: 0.1289 - model_tail_1_loss: 0.0069 - model_tail_2_loss: 0.1014 - model_tail_1_name_f1_score: 0.9112 - model_tail_1_unit_f1_score: 0.9415 - model_tail_1_name_percent_part_correct: 0.9965 - model_tail_2_mse: 6.1718 - val_loss: 0.2902 - val_model_tail_1_loss: 0.0091 - val_model_tail_2_loss: 0.2539 - val_model_tail_1_name_f1_score: 0.9114 - val_model_tail_1_unit_f1_score: 0.9417 - val_model_tail_1_name_percent_part_correct: 0.9933 - val_model_tail_2_mse: 114.4077\n",
      "Epoch 33/50\n",
      "2129/2129 [==============================] - 236s 111ms/step - loss: 0.1264 - model_tail_1_loss: 0.0068 - model_tail_2_loss: 0.0990 - model_tail_1_name_f1_score: 0.9117 - model_tail_1_unit_f1_score: 0.9419 - model_tail_1_name_percent_part_correct: 0.9964 - model_tail_2_mse: 5.4713 - val_loss: 0.2997 - val_model_tail_1_loss: 0.0091 - val_model_tail_2_loss: 0.2633 - val_model_tail_1_name_f1_score: 0.9119 - val_model_tail_1_unit_f1_score: 0.9420 - val_model_tail_1_name_percent_part_correct: 0.9934 - val_model_tail_2_mse: 118.1007\n",
      "Epoch 34/50\n",
      "2129/2129 [==============================] - 239s 112ms/step - loss: 0.1307 - model_tail_1_loss: 0.0068 - model_tail_2_loss: 0.1035 - model_tail_1_name_f1_score: 0.9121 - model_tail_1_unit_f1_score: 0.9422 - model_tail_1_name_percent_part_correct: 0.9963 - model_tail_2_mse: 6.5089 - val_loss: 0.2690 - val_model_tail_1_loss: 0.0092 - val_model_tail_2_loss: 0.2320 - val_model_tail_1_name_f1_score: 0.9123 - val_model_tail_1_unit_f1_score: 0.9424 - val_model_tail_1_name_percent_part_correct: 0.9924 - val_model_tail_2_mse: 70.2101\n",
      "Epoch 35/50\n",
      "2129/2129 [==============================] - 230s 108ms/step - loss: 0.1178 - model_tail_1_loss: 0.0067 - model_tail_2_loss: 0.0909 - model_tail_1_name_f1_score: 0.9125 - model_tail_1_unit_f1_score: 0.9426 - model_tail_1_name_percent_part_correct: 0.9966 - model_tail_2_mse: 5.4831 - val_loss: 0.2825 - val_model_tail_1_loss: 0.0092 - val_model_tail_2_loss: 0.2457 - val_model_tail_1_name_f1_score: 0.9128 - val_model_tail_1_unit_f1_score: 0.9427 - val_model_tail_1_name_percent_part_correct: 0.9931 - val_model_tail_2_mse: 76.2867\n",
      "Epoch 36/50\n",
      "2129/2129 [==============================] - 223s 105ms/step - loss: 0.1187 - model_tail_1_loss: 0.0066 - model_tail_2_loss: 0.0922 - model_tail_1_name_f1_score: 0.9130 - model_tail_1_unit_f1_score: 0.9429 - model_tail_1_name_percent_part_correct: 0.9965 - model_tail_2_mse: 4.7168 - val_loss: 0.2702 - val_model_tail_1_loss: 0.0094 - val_model_tail_2_loss: 0.2326 - val_model_tail_1_name_f1_score: 0.9132 - val_model_tail_1_unit_f1_score: 0.9431 - val_model_tail_1_name_percent_part_correct: 0.9927 - val_model_tail_2_mse: 66.4270\n",
      "Epoch 37/50\n",
      "2129/2129 [==============================] - 223s 105ms/step - loss: 0.1187 - model_tail_1_loss: 0.0066 - model_tail_2_loss: 0.0922 - model_tail_1_name_f1_score: 0.9134 - model_tail_1_unit_f1_score: 0.9432 - model_tail_1_name_percent_part_correct: 0.9964 - model_tail_2_mse: 4.9631 - val_loss: 0.2752 - val_model_tail_1_loss: 0.0096 - val_model_tail_2_loss: 0.2369 - val_model_tail_1_name_f1_score: 0.9136 - val_model_tail_1_unit_f1_score: 0.9434 - val_model_tail_1_name_percent_part_correct: 0.9924 - val_model_tail_2_mse: 66.1360\n",
      "Epoch 38/50\n",
      "2129/2129 [==============================] - 223s 105ms/step - loss: 0.1182 - model_tail_1_loss: 0.0066 - model_tail_2_loss: 0.0920 - model_tail_1_name_f1_score: 0.9138 - model_tail_1_unit_f1_score: 0.9435 - model_tail_1_name_percent_part_correct: 0.9967 - model_tail_2_mse: 5.5720 - val_loss: 0.2859 - val_model_tail_1_loss: 0.0094 - val_model_tail_2_loss: 0.2481 - val_model_tail_1_name_f1_score: 0.9140 - val_model_tail_1_unit_f1_score: 0.9437 - val_model_tail_1_name_percent_part_correct: 0.9928 - val_model_tail_2_mse: 68.5560\n",
      "Epoch 39/50\n",
      "2129/2129 [==============================] - 226s 106ms/step - loss: 0.1225 - model_tail_1_loss: 0.0067 - model_tail_2_loss: 0.0958 - model_tail_1_name_f1_score: 0.9142 - model_tail_1_unit_f1_score: 0.9438 - model_tail_1_name_percent_part_correct: 0.9964 - model_tail_2_mse: 6.1913 - val_loss: 0.2660 - val_model_tail_1_loss: 0.0097 - val_model_tail_2_loss: 0.2272 - val_model_tail_1_name_f1_score: 0.9144 - val_model_tail_1_unit_f1_score: 0.9440 - val_model_tail_1_name_percent_part_correct: 0.9921 - val_model_tail_2_mse: 62.4414\n",
      "Epoch 40/50\n",
      "2129/2129 [==============================] - 223s 105ms/step - loss: 0.1163 - model_tail_1_loss: 0.0067 - model_tail_2_loss: 0.0896 - model_tail_1_name_f1_score: 0.9145 - model_tail_1_unit_f1_score: 0.9441 - model_tail_1_name_percent_part_correct: 0.9963 - model_tail_2_mse: 4.4840 - val_loss: 0.2910 - val_model_tail_1_loss: 0.0098 - val_model_tail_2_loss: 0.2519 - val_model_tail_1_name_f1_score: 0.9147 - val_model_tail_1_unit_f1_score: 0.9442 - val_model_tail_1_name_percent_part_correct: 0.9925 - val_model_tail_2_mse: 110.3413\n",
      "Epoch 41/50\n",
      "2129/2129 [==============================] - 221s 104ms/step - loss: 0.1157 - model_tail_1_loss: 0.0065 - model_tail_2_loss: 0.0895 - model_tail_1_name_f1_score: 0.9149 - model_tail_1_unit_f1_score: 0.9444 - model_tail_1_name_percent_part_correct: 0.9963 - model_tail_2_mse: 7.6508 - val_loss: 0.2731 - val_model_tail_1_loss: 0.0098 - val_model_tail_2_loss: 0.2341 - val_model_tail_1_name_f1_score: 0.9150 - val_model_tail_1_unit_f1_score: 0.9445 - val_model_tail_1_name_percent_part_correct: 0.9929 - val_model_tail_2_mse: 74.7619\n",
      "Epoch 42/50\n",
      "2129/2129 [==============================] - 222s 104ms/step - loss: 0.1068 - model_tail_1_loss: 0.0064 - model_tail_2_loss: 0.0812 - model_tail_1_name_f1_score: 0.9152 - model_tail_1_unit_f1_score: 0.9446 - model_tail_1_name_percent_part_correct: 0.9967 - model_tail_2_mse: 3.8865 - val_loss: 0.2682 - val_model_tail_1_loss: 0.0096 - val_model_tail_2_loss: 0.2297 - val_model_tail_1_name_f1_score: 0.9154 - val_model_tail_1_unit_f1_score: 0.9448 - val_model_tail_1_name_percent_part_correct: 0.9928 - val_model_tail_2_mse: 61.1141\n",
      "Epoch 43/50\n",
      "2129/2129 [==============================] - 222s 104ms/step - loss: 0.1112 - model_tail_1_loss: 0.0063 - model_tail_2_loss: 0.0859 - model_tail_1_name_f1_score: 0.9156 - model_tail_1_unit_f1_score: 0.9449 - model_tail_1_name_percent_part_correct: 0.9969 - model_tail_2_mse: 8.3822 - val_loss: 0.2889 - val_model_tail_1_loss: 0.0098 - val_model_tail_2_loss: 0.2498 - val_model_tail_1_name_f1_score: 0.9157 - val_model_tail_1_unit_f1_score: 0.9450 - val_model_tail_1_name_percent_part_correct: 0.9926 - val_model_tail_2_mse: 110.5208\n",
      "Epoch 44/50\n",
      "2129/2129 [==============================] - 223s 105ms/step - loss: 0.1080 - model_tail_1_loss: 0.0063 - model_tail_2_loss: 0.0827 - model_tail_1_name_f1_score: 0.9159 - model_tail_1_unit_f1_score: 0.9451 - model_tail_1_name_percent_part_correct: 0.9968 - model_tail_2_mse: 4.0926 - val_loss: 0.3011 - val_model_tail_1_loss: 0.0101 - val_model_tail_2_loss: 0.2607 - val_model_tail_1_name_f1_score: 0.9161 - val_model_tail_1_unit_f1_score: 0.9453 - val_model_tail_1_name_percent_part_correct: 0.9925 - val_model_tail_2_mse: 115.4044\n",
      "Epoch 45/50\n",
      "2129/2129 [==============================] - 223s 105ms/step - loss: 0.1046 - model_tail_1_loss: 0.0063 - model_tail_2_loss: 0.0794 - model_tail_1_name_f1_score: 0.9163 - model_tail_1_unit_f1_score: 0.9454 - model_tail_1_name_percent_part_correct: 0.9968 - model_tail_2_mse: 3.5428 - val_loss: 0.2872 - val_model_tail_1_loss: 0.0099 - val_model_tail_2_loss: 0.2476 - val_model_tail_1_name_f1_score: 0.9164 - val_model_tail_1_unit_f1_score: 0.9455 - val_model_tail_1_name_percent_part_correct: 0.9925 - val_model_tail_2_mse: 109.2465\n",
      "Epoch 46/50\n"
     ]
    },
    {
     "name": "stdout",
     "output_type": "stream",
     "text": [
      "2129/2129 [==============================] - 223s 105ms/step - loss: 0.1040 - model_tail_1_loss: 0.0062 - model_tail_2_loss: 0.0793 - model_tail_1_name_f1_score: 0.9166 - model_tail_1_unit_f1_score: 0.9456 - model_tail_1_name_percent_part_correct: 0.9970 - model_tail_2_mse: 3.4861 - val_loss: 0.2868 - val_model_tail_1_loss: 0.0099 - val_model_tail_2_loss: 0.2473 - val_model_tail_1_name_f1_score: 0.9168 - val_model_tail_1_unit_f1_score: 0.9457 - val_model_tail_1_name_percent_part_correct: 0.9923 - val_model_tail_2_mse: 112.7769\n",
      "Epoch 47/50\n",
      "2129/2129 [==============================] - 221s 104ms/step - loss: 0.1021 - model_tail_1_loss: 0.0062 - model_tail_2_loss: 0.0774 - model_tail_1_name_f1_score: 0.9169 - model_tail_1_unit_f1_score: 0.9459 - model_tail_1_name_percent_part_correct: 0.9967 - model_tail_2_mse: 3.0431 - val_loss: 0.2743 - val_model_tail_1_loss: 0.0099 - val_model_tail_2_loss: 0.2349 - val_model_tail_1_name_f1_score: 0.9171 - val_model_tail_1_unit_f1_score: 0.9460 - val_model_tail_1_name_percent_part_correct: 0.9926 - val_model_tail_2_mse: 99.0747\n",
      "Epoch 48/50\n",
      "2129/2129 [==============================] - 222s 104ms/step - loss: 0.1035 - model_tail_1_loss: 0.0062 - model_tail_2_loss: 0.0788 - model_tail_1_name_f1_score: 0.9172 - model_tail_1_unit_f1_score: 0.9461 - model_tail_1_name_percent_part_correct: 0.9968 - model_tail_2_mse: 3.3298 - val_loss: 0.3010 - val_model_tail_1_loss: 0.0099 - val_model_tail_2_loss: 0.2613 - val_model_tail_1_name_f1_score: 0.9174 - val_model_tail_1_unit_f1_score: 0.9462 - val_model_tail_1_name_percent_part_correct: 0.9921 - val_model_tail_2_mse: 116.7507\n",
      "Epoch 49/50\n",
      "2129/2129 [==============================] - 223s 105ms/step - loss: 0.0998 - model_tail_1_loss: 0.0061 - model_tail_2_loss: 0.0754 - model_tail_1_name_f1_score: 0.9175 - model_tail_1_unit_f1_score: 0.9463 - model_tail_1_name_percent_part_correct: 0.9969 - model_tail_2_mse: 2.8432 - val_loss: 0.2753 - val_model_tail_1_loss: 0.0100 - val_model_tail_2_loss: 0.2352 - val_model_tail_1_name_f1_score: 0.9177 - val_model_tail_1_unit_f1_score: 0.9464 - val_model_tail_1_name_percent_part_correct: 0.9922 - val_model_tail_2_mse: 71.3258\n",
      "Epoch 50/50\n",
      "2129/2129 [==============================] - 220s 104ms/step - loss: 0.0978 - model_tail_1_loss: 0.0061 - model_tail_2_loss: 0.0734 - model_tail_1_name_f1_score: 0.9178 - model_tail_1_unit_f1_score: 0.9465 - model_tail_1_name_percent_part_correct: 0.9971 - model_tail_2_mse: 2.7227 - val_loss: 0.2796 - val_model_tail_1_loss: 0.0102 - val_model_tail_2_loss: 0.2389 - val_model_tail_1_name_f1_score: 0.9180 - val_model_tail_1_unit_f1_score: 0.9466 - val_model_tail_1_name_percent_part_correct: 0.9919 - val_model_tail_2_mse: 77.2970\n"
     ]
    },
    {
     "data": {
      "text/plain": [
       "<keras.callbacks.History at 0x17f31fc90>"
      ]
     },
     "execution_count": 22,
     "metadata": {},
     "output_type": "execute_result"
    }
   ],
   "source": [
    "model.fit(X_train, [y_train, y_qty_train], batch_size=BATCH_SIZE, \n",
    "                              epochs=NUM_EPOCHS, validation_data=(X_test, [y_test, y_qty_test]), callbacks= [checkpoint_callback])"
   ]
  },
  {
   "cell_type": "markdown",
   "metadata": {},
   "source": [
    "## Visualize Training"
   ]
  },
  {
   "cell_type": "code",
   "execution_count": 24,
   "metadata": {
    "scrolled": false
   },
   "outputs": [
    {
     "data": {
      "application/vnd.plotly.v1+json": {
       "config": {
        "plotlyServerURL": "https://plot.ly"
       },
       "data": [
        {
         "mode": "lines+markers",
         "name": "model_tail_1_name_f1_score",
         "type": "scatter",
         "x": [
          0,
          1,
          2,
          3,
          4,
          5,
          6,
          7,
          8,
          9,
          10,
          11,
          12,
          13,
          14,
          15,
          16,
          17,
          18,
          19,
          20,
          21,
          22,
          23,
          24,
          25,
          26,
          27,
          28,
          29,
          30,
          31,
          32,
          33,
          34,
          35,
          36,
          37,
          38,
          39,
          40,
          41,
          42,
          43,
          44,
          45,
          46,
          47,
          48,
          49
         ],
         "y": [
          0.4902576506137848,
          0.7809271216392517,
          0.8312315344810486,
          0.8533440232276917,
          0.865545392036438,
          0.8737697601318359,
          0.8795673251152039,
          0.8838823437690735,
          0.8872970342636108,
          0.8900398015975952,
          0.8923397660255432,
          0.894300103187561,
          0.8959342241287231,
          0.8974156379699707,
          0.8987353444099426,
          0.8999466300010681,
          0.901072084903717,
          0.9020522236824036,
          0.9029682874679565,
          0.903840184211731,
          0.9046419858932495,
          0.9053872227668762,
          0.9060927629470825,
          0.9067663550376892,
          0.9074100255966187,
          0.9080305695533752,
          0.908612072467804,
          0.9091833829879761,
          0.9097101092338562,
          0.9102243781089783,
          0.9107115268707275,
          0.9112025499343872,
          0.9116770029067993,
          0.9121286273002625,
          0.9125474095344543,
          0.9129919409751892,
          0.9134165644645691,
          0.913817822933197,
          0.9142073392868042,
          0.9145327210426331,
          0.9148672819137573,
          0.9152238965034485,
          0.9155802130699158,
          0.9159274101257324,
          0.9162535667419434,
          0.9165880084037781,
          0.9169232249259949,
          0.9172266721725464,
          0.9175386428833008,
          0.91783207654953
         ]
        },
        {
         "mode": "lines+markers",
         "name": "val_model_tail_1_name_f1_score",
         "type": "scatter",
         "x": [
          0,
          1,
          2,
          3,
          4,
          5,
          6,
          7,
          8,
          9,
          10,
          11,
          12,
          13,
          14,
          15,
          16,
          17,
          18,
          19,
          20,
          21,
          22,
          23,
          24,
          25,
          26,
          27,
          28,
          29,
          30,
          31,
          32,
          33,
          34,
          35,
          36,
          37,
          38,
          39,
          40,
          41,
          42,
          43,
          44,
          45,
          46,
          47,
          48,
          49
         ],
         "y": [
          0.7246370911598206,
          0.8135198950767517,
          0.8444443941116333,
          0.8603282570838928,
          0.8701400756835938,
          0.8769466876983643,
          0.881876528263092,
          0.8856824040412903,
          0.8887484073638916,
          0.8912363052368164,
          0.8933655619621277,
          0.8951459527015686,
          0.8966739177703857,
          0.8980833888053894,
          0.8993654251098633,
          0.9005168676376343,
          0.9015722274780273,
          0.902519941329956,
          0.9034069776535034,
          0.9042383432388306,
          0.9050117135047913,
          0.9057464599609375,
          0.9064305424690247,
          0.9070908427238464,
          0.9077185988426208,
          0.9083185195922852,
          0.908890426158905,
          0.9094443321228027,
          0.9099665284156799,
          0.9104647040367126,
          0.910955011844635,
          0.9114359021186829,
          0.9118955135345459,
          0.9123300909996033,
          0.9127671122550964,
          0.9132066369056702,
          0.9136117696762085,
          0.9140139818191528,
          0.9143688678741455,
          0.9146974682807922,
          0.9150388240814209,
          0.9153931736946106,
          0.915744423866272,
          0.9160841703414917,
          0.9164165258407593,
          0.9167506098747253,
          0.9170648455619812,
          0.9173687100410461,
          0.917674720287323,
          0.9179772734642029
         ]
        },
        {
         "mode": "lines+markers",
         "name": "model_tail_1_unit_f1_score",
         "type": "scatter",
         "x": [
          0,
          1,
          2,
          3,
          4,
          5,
          6,
          7,
          8,
          9,
          10,
          11,
          12,
          13,
          14,
          15,
          16,
          17,
          18,
          19,
          20,
          21,
          22,
          23,
          24,
          25,
          26,
          27,
          28,
          29,
          30,
          31,
          32,
          33,
          34,
          35,
          36,
          37,
          38,
          39,
          40,
          41,
          42,
          43,
          44,
          45,
          46,
          47,
          48,
          49
         ],
         "y": [
          0.5579953193664551,
          0.8137162327766418,
          0.8589978814125061,
          0.8814263939857483,
          0.8947153687477112,
          0.9034722447395325,
          0.9096069931983948,
          0.9143311977386475,
          0.9180392026901245,
          0.9209210276603699,
          0.9233571887016296,
          0.9254153966903687,
          0.9271315336227417,
          0.9286595582962036,
          0.9299853444099426,
          0.9312212467193604,
          0.932307243347168,
          0.9332879185676575,
          0.9341859221458435,
          0.9350054860115051,
          0.9357622861862183,
          0.9364542365074158,
          0.9371013641357422,
          0.9377127885818481,
          0.9382856488227844,
          0.938827395439148,
          0.9393238425254822,
          0.9397886395454407,
          0.9402503371238708,
          0.9406796097755432,
          0.941085934638977,
          0.9414876699447632,
          0.9418615698814392,
          0.9422298669815063,
          0.9425705075263977,
          0.9429041743278503,
          0.9432240724563599,
          0.9435358047485352,
          0.9438297152519226,
          0.9440973401069641,
          0.9443739056587219,
          0.9446367621421814,
          0.9448932409286499,
          0.945146381855011,
          0.9453880786895752,
          0.9456349611282349,
          0.9458659887313843,
          0.9460961222648621,
          0.9463137984275818,
          0.9465193152427673
         ]
        },
        {
         "mode": "lines+markers",
         "name": "val_model_tail_1_unit_f1_score",
         "type": "scatter",
         "x": [
          0,
          1,
          2,
          3,
          4,
          5,
          6,
          7,
          8,
          9,
          10,
          11,
          12,
          13,
          14,
          15,
          16,
          17,
          18,
          19,
          20,
          21,
          22,
          23,
          24,
          25,
          26,
          27,
          28,
          29,
          30,
          31,
          32,
          33,
          34,
          35,
          36,
          37,
          38,
          39,
          40,
          41,
          42,
          43,
          44,
          45,
          46,
          47,
          48,
          49
         ],
         "y": [
          0.7675806879997253,
          0.8421081900596619,
          0.8722531199455261,
          0.8889521360397339,
          0.8995523452758789,
          0.9068337082862854,
          0.9121755957603455,
          0.916313111782074,
          0.9195720553398132,
          0.9222080707550049,
          0.9244256615638733,
          0.9262979626655579,
          0.9279103875160217,
          0.9293503165245056,
          0.9306308031082153,
          0.931780219078064,
          0.9328062534332275,
          0.9337396025657654,
          0.9346063733100891,
          0.9353857636451721,
          0.9361075758934021,
          0.9367838501930237,
          0.9374125599861145,
          0.9380030035972595,
          0.9385528564453125,
          0.9390742182731628,
          0.9395585060119629,
          0.940022885799408,
          0.9404727816581726,
          0.9408807158470154,
          0.9412814378738403,
          0.9416780471801758,
          0.9420450925827026,
          0.9423924088478088,
          0.9427375793457031,
          0.9430724382400513,
          0.9433825612068176,
          0.9436855912208557,
          0.9439638257026672,
          0.9442365169525146,
          0.9445057511329651,
          0.9447630047798157,
          0.9450220465660095,
          0.9452672600746155,
          0.9455111622810364,
          0.9457473158836365,
          0.945978045463562,
          0.9461994767189026,
          0.9464154243469238,
          0.9466233253479004
         ]
        }
       ],
       "layout": {
        "legend": {
         "font": {
          "size": 16
         },
         "traceorder": "reversed",
         "y": 0.5
        },
        "template": {
         "data": {
          "bar": [
           {
            "error_x": {
             "color": "#2a3f5f"
            },
            "error_y": {
             "color": "#2a3f5f"
            },
            "marker": {
             "line": {
              "color": "#E5ECF6",
              "width": 0.5
             },
             "pattern": {
              "fillmode": "overlay",
              "size": 10,
              "solidity": 0.2
             }
            },
            "type": "bar"
           }
          ],
          "barpolar": [
           {
            "marker": {
             "line": {
              "color": "#E5ECF6",
              "width": 0.5
             },
             "pattern": {
              "fillmode": "overlay",
              "size": 10,
              "solidity": 0.2
             }
            },
            "type": "barpolar"
           }
          ],
          "carpet": [
           {
            "aaxis": {
             "endlinecolor": "#2a3f5f",
             "gridcolor": "white",
             "linecolor": "white",
             "minorgridcolor": "white",
             "startlinecolor": "#2a3f5f"
            },
            "baxis": {
             "endlinecolor": "#2a3f5f",
             "gridcolor": "white",
             "linecolor": "white",
             "minorgridcolor": "white",
             "startlinecolor": "#2a3f5f"
            },
            "type": "carpet"
           }
          ],
          "choropleth": [
           {
            "colorbar": {
             "outlinewidth": 0,
             "ticks": ""
            },
            "type": "choropleth"
           }
          ],
          "contour": [
           {
            "colorbar": {
             "outlinewidth": 0,
             "ticks": ""
            },
            "colorscale": [
             [
              0,
              "#0d0887"
             ],
             [
              0.1111111111111111,
              "#46039f"
             ],
             [
              0.2222222222222222,
              "#7201a8"
             ],
             [
              0.3333333333333333,
              "#9c179e"
             ],
             [
              0.4444444444444444,
              "#bd3786"
             ],
             [
              0.5555555555555556,
              "#d8576b"
             ],
             [
              0.6666666666666666,
              "#ed7953"
             ],
             [
              0.7777777777777778,
              "#fb9f3a"
             ],
             [
              0.8888888888888888,
              "#fdca26"
             ],
             [
              1,
              "#f0f921"
             ]
            ],
            "type": "contour"
           }
          ],
          "contourcarpet": [
           {
            "colorbar": {
             "outlinewidth": 0,
             "ticks": ""
            },
            "type": "contourcarpet"
           }
          ],
          "heatmap": [
           {
            "colorbar": {
             "outlinewidth": 0,
             "ticks": ""
            },
            "colorscale": [
             [
              0,
              "#0d0887"
             ],
             [
              0.1111111111111111,
              "#46039f"
             ],
             [
              0.2222222222222222,
              "#7201a8"
             ],
             [
              0.3333333333333333,
              "#9c179e"
             ],
             [
              0.4444444444444444,
              "#bd3786"
             ],
             [
              0.5555555555555556,
              "#d8576b"
             ],
             [
              0.6666666666666666,
              "#ed7953"
             ],
             [
              0.7777777777777778,
              "#fb9f3a"
             ],
             [
              0.8888888888888888,
              "#fdca26"
             ],
             [
              1,
              "#f0f921"
             ]
            ],
            "type": "heatmap"
           }
          ],
          "heatmapgl": [
           {
            "colorbar": {
             "outlinewidth": 0,
             "ticks": ""
            },
            "colorscale": [
             [
              0,
              "#0d0887"
             ],
             [
              0.1111111111111111,
              "#46039f"
             ],
             [
              0.2222222222222222,
              "#7201a8"
             ],
             [
              0.3333333333333333,
              "#9c179e"
             ],
             [
              0.4444444444444444,
              "#bd3786"
             ],
             [
              0.5555555555555556,
              "#d8576b"
             ],
             [
              0.6666666666666666,
              "#ed7953"
             ],
             [
              0.7777777777777778,
              "#fb9f3a"
             ],
             [
              0.8888888888888888,
              "#fdca26"
             ],
             [
              1,
              "#f0f921"
             ]
            ],
            "type": "heatmapgl"
           }
          ],
          "histogram": [
           {
            "marker": {
             "pattern": {
              "fillmode": "overlay",
              "size": 10,
              "solidity": 0.2
             }
            },
            "type": "histogram"
           }
          ],
          "histogram2d": [
           {
            "colorbar": {
             "outlinewidth": 0,
             "ticks": ""
            },
            "colorscale": [
             [
              0,
              "#0d0887"
             ],
             [
              0.1111111111111111,
              "#46039f"
             ],
             [
              0.2222222222222222,
              "#7201a8"
             ],
             [
              0.3333333333333333,
              "#9c179e"
             ],
             [
              0.4444444444444444,
              "#bd3786"
             ],
             [
              0.5555555555555556,
              "#d8576b"
             ],
             [
              0.6666666666666666,
              "#ed7953"
             ],
             [
              0.7777777777777778,
              "#fb9f3a"
             ],
             [
              0.8888888888888888,
              "#fdca26"
             ],
             [
              1,
              "#f0f921"
             ]
            ],
            "type": "histogram2d"
           }
          ],
          "histogram2dcontour": [
           {
            "colorbar": {
             "outlinewidth": 0,
             "ticks": ""
            },
            "colorscale": [
             [
              0,
              "#0d0887"
             ],
             [
              0.1111111111111111,
              "#46039f"
             ],
             [
              0.2222222222222222,
              "#7201a8"
             ],
             [
              0.3333333333333333,
              "#9c179e"
             ],
             [
              0.4444444444444444,
              "#bd3786"
             ],
             [
              0.5555555555555556,
              "#d8576b"
             ],
             [
              0.6666666666666666,
              "#ed7953"
             ],
             [
              0.7777777777777778,
              "#fb9f3a"
             ],
             [
              0.8888888888888888,
              "#fdca26"
             ],
             [
              1,
              "#f0f921"
             ]
            ],
            "type": "histogram2dcontour"
           }
          ],
          "mesh3d": [
           {
            "colorbar": {
             "outlinewidth": 0,
             "ticks": ""
            },
            "type": "mesh3d"
           }
          ],
          "parcoords": [
           {
            "line": {
             "colorbar": {
              "outlinewidth": 0,
              "ticks": ""
             }
            },
            "type": "parcoords"
           }
          ],
          "pie": [
           {
            "automargin": true,
            "type": "pie"
           }
          ],
          "scatter": [
           {
            "marker": {
             "colorbar": {
              "outlinewidth": 0,
              "ticks": ""
             }
            },
            "type": "scatter"
           }
          ],
          "scatter3d": [
           {
            "line": {
             "colorbar": {
              "outlinewidth": 0,
              "ticks": ""
             }
            },
            "marker": {
             "colorbar": {
              "outlinewidth": 0,
              "ticks": ""
             }
            },
            "type": "scatter3d"
           }
          ],
          "scattercarpet": [
           {
            "marker": {
             "colorbar": {
              "outlinewidth": 0,
              "ticks": ""
             }
            },
            "type": "scattercarpet"
           }
          ],
          "scattergeo": [
           {
            "marker": {
             "colorbar": {
              "outlinewidth": 0,
              "ticks": ""
             }
            },
            "type": "scattergeo"
           }
          ],
          "scattergl": [
           {
            "marker": {
             "colorbar": {
              "outlinewidth": 0,
              "ticks": ""
             }
            },
            "type": "scattergl"
           }
          ],
          "scattermapbox": [
           {
            "marker": {
             "colorbar": {
              "outlinewidth": 0,
              "ticks": ""
             }
            },
            "type": "scattermapbox"
           }
          ],
          "scatterpolar": [
           {
            "marker": {
             "colorbar": {
              "outlinewidth": 0,
              "ticks": ""
             }
            },
            "type": "scatterpolar"
           }
          ],
          "scatterpolargl": [
           {
            "marker": {
             "colorbar": {
              "outlinewidth": 0,
              "ticks": ""
             }
            },
            "type": "scatterpolargl"
           }
          ],
          "scatterternary": [
           {
            "marker": {
             "colorbar": {
              "outlinewidth": 0,
              "ticks": ""
             }
            },
            "type": "scatterternary"
           }
          ],
          "surface": [
           {
            "colorbar": {
             "outlinewidth": 0,
             "ticks": ""
            },
            "colorscale": [
             [
              0,
              "#0d0887"
             ],
             [
              0.1111111111111111,
              "#46039f"
             ],
             [
              0.2222222222222222,
              "#7201a8"
             ],
             [
              0.3333333333333333,
              "#9c179e"
             ],
             [
              0.4444444444444444,
              "#bd3786"
             ],
             [
              0.5555555555555556,
              "#d8576b"
             ],
             [
              0.6666666666666666,
              "#ed7953"
             ],
             [
              0.7777777777777778,
              "#fb9f3a"
             ],
             [
              0.8888888888888888,
              "#fdca26"
             ],
             [
              1,
              "#f0f921"
             ]
            ],
            "type": "surface"
           }
          ],
          "table": [
           {
            "cells": {
             "fill": {
              "color": "#EBF0F8"
             },
             "line": {
              "color": "white"
             }
            },
            "header": {
             "fill": {
              "color": "#C8D4E3"
             },
             "line": {
              "color": "white"
             }
            },
            "type": "table"
           }
          ]
         },
         "layout": {
          "annotationdefaults": {
           "arrowcolor": "#2a3f5f",
           "arrowhead": 0,
           "arrowwidth": 1
          },
          "autotypenumbers": "strict",
          "coloraxis": {
           "colorbar": {
            "outlinewidth": 0,
            "ticks": ""
           }
          },
          "colorscale": {
           "diverging": [
            [
             0,
             "#8e0152"
            ],
            [
             0.1,
             "#c51b7d"
            ],
            [
             0.2,
             "#de77ae"
            ],
            [
             0.3,
             "#f1b6da"
            ],
            [
             0.4,
             "#fde0ef"
            ],
            [
             0.5,
             "#f7f7f7"
            ],
            [
             0.6,
             "#e6f5d0"
            ],
            [
             0.7,
             "#b8e186"
            ],
            [
             0.8,
             "#7fbc41"
            ],
            [
             0.9,
             "#4d9221"
            ],
            [
             1,
             "#276419"
            ]
           ],
           "sequential": [
            [
             0,
             "#0d0887"
            ],
            [
             0.1111111111111111,
             "#46039f"
            ],
            [
             0.2222222222222222,
             "#7201a8"
            ],
            [
             0.3333333333333333,
             "#9c179e"
            ],
            [
             0.4444444444444444,
             "#bd3786"
            ],
            [
             0.5555555555555556,
             "#d8576b"
            ],
            [
             0.6666666666666666,
             "#ed7953"
            ],
            [
             0.7777777777777778,
             "#fb9f3a"
            ],
            [
             0.8888888888888888,
             "#fdca26"
            ],
            [
             1,
             "#f0f921"
            ]
           ],
           "sequentialminus": [
            [
             0,
             "#0d0887"
            ],
            [
             0.1111111111111111,
             "#46039f"
            ],
            [
             0.2222222222222222,
             "#7201a8"
            ],
            [
             0.3333333333333333,
             "#9c179e"
            ],
            [
             0.4444444444444444,
             "#bd3786"
            ],
            [
             0.5555555555555556,
             "#d8576b"
            ],
            [
             0.6666666666666666,
             "#ed7953"
            ],
            [
             0.7777777777777778,
             "#fb9f3a"
            ],
            [
             0.8888888888888888,
             "#fdca26"
            ],
            [
             1,
             "#f0f921"
            ]
           ]
          },
          "colorway": [
           "#636efa",
           "#EF553B",
           "#00cc96",
           "#ab63fa",
           "#FFA15A",
           "#19d3f3",
           "#FF6692",
           "#B6E880",
           "#FF97FF",
           "#FECB52"
          ],
          "font": {
           "color": "#2a3f5f"
          },
          "geo": {
           "bgcolor": "white",
           "lakecolor": "white",
           "landcolor": "#E5ECF6",
           "showlakes": true,
           "showland": true,
           "subunitcolor": "white"
          },
          "hoverlabel": {
           "align": "left"
          },
          "hovermode": "closest",
          "mapbox": {
           "style": "light"
          },
          "paper_bgcolor": "white",
          "plot_bgcolor": "#E5ECF6",
          "polar": {
           "angularaxis": {
            "gridcolor": "white",
            "linecolor": "white",
            "ticks": ""
           },
           "bgcolor": "#E5ECF6",
           "radialaxis": {
            "gridcolor": "white",
            "linecolor": "white",
            "ticks": ""
           }
          },
          "scene": {
           "xaxis": {
            "backgroundcolor": "#E5ECF6",
            "gridcolor": "white",
            "gridwidth": 2,
            "linecolor": "white",
            "showbackground": true,
            "ticks": "",
            "zerolinecolor": "white"
           },
           "yaxis": {
            "backgroundcolor": "#E5ECF6",
            "gridcolor": "white",
            "gridwidth": 2,
            "linecolor": "white",
            "showbackground": true,
            "ticks": "",
            "zerolinecolor": "white"
           },
           "zaxis": {
            "backgroundcolor": "#E5ECF6",
            "gridcolor": "white",
            "gridwidth": 2,
            "linecolor": "white",
            "showbackground": true,
            "ticks": "",
            "zerolinecolor": "white"
           }
          },
          "shapedefaults": {
           "line": {
            "color": "#2a3f5f"
           }
          },
          "ternary": {
           "aaxis": {
            "gridcolor": "white",
            "linecolor": "white",
            "ticks": ""
           },
           "baxis": {
            "gridcolor": "white",
            "linecolor": "white",
            "ticks": ""
           },
           "bgcolor": "#E5ECF6",
           "caxis": {
            "gridcolor": "white",
            "linecolor": "white",
            "ticks": ""
           }
          },
          "title": {
           "x": 0.05
          },
          "xaxis": {
           "automargin": true,
           "gridcolor": "white",
           "linecolor": "white",
           "ticks": "",
           "title": {
            "standoff": 15
           },
           "zerolinecolor": "white",
           "zerolinewidth": 2
          },
          "yaxis": {
           "automargin": true,
           "gridcolor": "white",
           "linecolor": "white",
           "ticks": "",
           "title": {
            "standoff": 15
           },
           "zerolinecolor": "white",
           "zerolinewidth": 2
          }
         }
        },
        "title": {
         "text": "Training Results"
        }
       }
      },
      "text/html": [
       "<div>                            <div id=\"65830259-9bae-4ad5-a623-366279d6d9d8\" class=\"plotly-graph-div\" style=\"height:525px; width:100%;\"></div>            <script type=\"text/javascript\">                require([\"plotly\"], function(Plotly) {                    window.PLOTLYENV=window.PLOTLYENV || {};                                    if (document.getElementById(\"65830259-9bae-4ad5-a623-366279d6d9d8\")) {                    Plotly.newPlot(                        \"65830259-9bae-4ad5-a623-366279d6d9d8\",                        [{\"name\":\"model_tail_1_name_f1_score\",\"x\":[0,1,2,3,4,5,6,7,8,9,10,11,12,13,14,15,16,17,18,19,20,21,22,23,24,25,26,27,28,29,30,31,32,33,34,35,36,37,38,39,40,41,42,43,44,45,46,47,48,49],\"y\":[0.4902576506137848,0.7809271216392517,0.8312315344810486,0.8533440232276917,0.865545392036438,0.8737697601318359,0.8795673251152039,0.8838823437690735,0.8872970342636108,0.8900398015975952,0.8923397660255432,0.894300103187561,0.8959342241287231,0.8974156379699707,0.8987353444099426,0.8999466300010681,0.901072084903717,0.9020522236824036,0.9029682874679565,0.903840184211731,0.9046419858932495,0.9053872227668762,0.9060927629470825,0.9067663550376892,0.9074100255966187,0.9080305695533752,0.908612072467804,0.9091833829879761,0.9097101092338562,0.9102243781089783,0.9107115268707275,0.9112025499343872,0.9116770029067993,0.9121286273002625,0.9125474095344543,0.9129919409751892,0.9134165644645691,0.913817822933197,0.9142073392868042,0.9145327210426331,0.9148672819137573,0.9152238965034485,0.9155802130699158,0.9159274101257324,0.9162535667419434,0.9165880084037781,0.9169232249259949,0.9172266721725464,0.9175386428833008,0.91783207654953],\"type\":\"scatter\",\"mode\":\"lines+markers\"},{\"name\":\"val_model_tail_1_name_f1_score\",\"x\":[0,1,2,3,4,5,6,7,8,9,10,11,12,13,14,15,16,17,18,19,20,21,22,23,24,25,26,27,28,29,30,31,32,33,34,35,36,37,38,39,40,41,42,43,44,45,46,47,48,49],\"y\":[0.7246370911598206,0.8135198950767517,0.8444443941116333,0.8603282570838928,0.8701400756835938,0.8769466876983643,0.881876528263092,0.8856824040412903,0.8887484073638916,0.8912363052368164,0.8933655619621277,0.8951459527015686,0.8966739177703857,0.8980833888053894,0.8993654251098633,0.9005168676376343,0.9015722274780273,0.902519941329956,0.9034069776535034,0.9042383432388306,0.9050117135047913,0.9057464599609375,0.9064305424690247,0.9070908427238464,0.9077185988426208,0.9083185195922852,0.908890426158905,0.9094443321228027,0.9099665284156799,0.9104647040367126,0.910955011844635,0.9114359021186829,0.9118955135345459,0.9123300909996033,0.9127671122550964,0.9132066369056702,0.9136117696762085,0.9140139818191528,0.9143688678741455,0.9146974682807922,0.9150388240814209,0.9153931736946106,0.915744423866272,0.9160841703414917,0.9164165258407593,0.9167506098747253,0.9170648455619812,0.9173687100410461,0.917674720287323,0.9179772734642029],\"type\":\"scatter\",\"mode\":\"lines+markers\"},{\"name\":\"model_tail_1_unit_f1_score\",\"x\":[0,1,2,3,4,5,6,7,8,9,10,11,12,13,14,15,16,17,18,19,20,21,22,23,24,25,26,27,28,29,30,31,32,33,34,35,36,37,38,39,40,41,42,43,44,45,46,47,48,49],\"y\":[0.5579953193664551,0.8137162327766418,0.8589978814125061,0.8814263939857483,0.8947153687477112,0.9034722447395325,0.9096069931983948,0.9143311977386475,0.9180392026901245,0.9209210276603699,0.9233571887016296,0.9254153966903687,0.9271315336227417,0.9286595582962036,0.9299853444099426,0.9312212467193604,0.932307243347168,0.9332879185676575,0.9341859221458435,0.9350054860115051,0.9357622861862183,0.9364542365074158,0.9371013641357422,0.9377127885818481,0.9382856488227844,0.938827395439148,0.9393238425254822,0.9397886395454407,0.9402503371238708,0.9406796097755432,0.941085934638977,0.9414876699447632,0.9418615698814392,0.9422298669815063,0.9425705075263977,0.9429041743278503,0.9432240724563599,0.9435358047485352,0.9438297152519226,0.9440973401069641,0.9443739056587219,0.9446367621421814,0.9448932409286499,0.945146381855011,0.9453880786895752,0.9456349611282349,0.9458659887313843,0.9460961222648621,0.9463137984275818,0.9465193152427673],\"type\":\"scatter\",\"mode\":\"lines+markers\"},{\"name\":\"val_model_tail_1_unit_f1_score\",\"x\":[0,1,2,3,4,5,6,7,8,9,10,11,12,13,14,15,16,17,18,19,20,21,22,23,24,25,26,27,28,29,30,31,32,33,34,35,36,37,38,39,40,41,42,43,44,45,46,47,48,49],\"y\":[0.7675806879997253,0.8421081900596619,0.8722531199455261,0.8889521360397339,0.8995523452758789,0.9068337082862854,0.9121755957603455,0.916313111782074,0.9195720553398132,0.9222080707550049,0.9244256615638733,0.9262979626655579,0.9279103875160217,0.9293503165245056,0.9306308031082153,0.931780219078064,0.9328062534332275,0.9337396025657654,0.9346063733100891,0.9353857636451721,0.9361075758934021,0.9367838501930237,0.9374125599861145,0.9380030035972595,0.9385528564453125,0.9390742182731628,0.9395585060119629,0.940022885799408,0.9404727816581726,0.9408807158470154,0.9412814378738403,0.9416780471801758,0.9420450925827026,0.9423924088478088,0.9427375793457031,0.9430724382400513,0.9433825612068176,0.9436855912208557,0.9439638257026672,0.9442365169525146,0.9445057511329651,0.9447630047798157,0.9450220465660095,0.9452672600746155,0.9455111622810364,0.9457473158836365,0.945978045463562,0.9461994767189026,0.9464154243469238,0.9466233253479004],\"type\":\"scatter\",\"mode\":\"lines+markers\"}],                        {\"template\":{\"data\":{\"bar\":[{\"error_x\":{\"color\":\"#2a3f5f\"},\"error_y\":{\"color\":\"#2a3f5f\"},\"marker\":{\"line\":{\"color\":\"#E5ECF6\",\"width\":0.5},\"pattern\":{\"fillmode\":\"overlay\",\"size\":10,\"solidity\":0.2}},\"type\":\"bar\"}],\"barpolar\":[{\"marker\":{\"line\":{\"color\":\"#E5ECF6\",\"width\":0.5},\"pattern\":{\"fillmode\":\"overlay\",\"size\":10,\"solidity\":0.2}},\"type\":\"barpolar\"}],\"carpet\":[{\"aaxis\":{\"endlinecolor\":\"#2a3f5f\",\"gridcolor\":\"white\",\"linecolor\":\"white\",\"minorgridcolor\":\"white\",\"startlinecolor\":\"#2a3f5f\"},\"baxis\":{\"endlinecolor\":\"#2a3f5f\",\"gridcolor\":\"white\",\"linecolor\":\"white\",\"minorgridcolor\":\"white\",\"startlinecolor\":\"#2a3f5f\"},\"type\":\"carpet\"}],\"choropleth\":[{\"colorbar\":{\"outlinewidth\":0,\"ticks\":\"\"},\"type\":\"choropleth\"}],\"contour\":[{\"colorbar\":{\"outlinewidth\":0,\"ticks\":\"\"},\"colorscale\":[[0.0,\"#0d0887\"],[0.1111111111111111,\"#46039f\"],[0.2222222222222222,\"#7201a8\"],[0.3333333333333333,\"#9c179e\"],[0.4444444444444444,\"#bd3786\"],[0.5555555555555556,\"#d8576b\"],[0.6666666666666666,\"#ed7953\"],[0.7777777777777778,\"#fb9f3a\"],[0.8888888888888888,\"#fdca26\"],[1.0,\"#f0f921\"]],\"type\":\"contour\"}],\"contourcarpet\":[{\"colorbar\":{\"outlinewidth\":0,\"ticks\":\"\"},\"type\":\"contourcarpet\"}],\"heatmap\":[{\"colorbar\":{\"outlinewidth\":0,\"ticks\":\"\"},\"colorscale\":[[0.0,\"#0d0887\"],[0.1111111111111111,\"#46039f\"],[0.2222222222222222,\"#7201a8\"],[0.3333333333333333,\"#9c179e\"],[0.4444444444444444,\"#bd3786\"],[0.5555555555555556,\"#d8576b\"],[0.6666666666666666,\"#ed7953\"],[0.7777777777777778,\"#fb9f3a\"],[0.8888888888888888,\"#fdca26\"],[1.0,\"#f0f921\"]],\"type\":\"heatmap\"}],\"heatmapgl\":[{\"colorbar\":{\"outlinewidth\":0,\"ticks\":\"\"},\"colorscale\":[[0.0,\"#0d0887\"],[0.1111111111111111,\"#46039f\"],[0.2222222222222222,\"#7201a8\"],[0.3333333333333333,\"#9c179e\"],[0.4444444444444444,\"#bd3786\"],[0.5555555555555556,\"#d8576b\"],[0.6666666666666666,\"#ed7953\"],[0.7777777777777778,\"#fb9f3a\"],[0.8888888888888888,\"#fdca26\"],[1.0,\"#f0f921\"]],\"type\":\"heatmapgl\"}],\"histogram\":[{\"marker\":{\"pattern\":{\"fillmode\":\"overlay\",\"size\":10,\"solidity\":0.2}},\"type\":\"histogram\"}],\"histogram2d\":[{\"colorbar\":{\"outlinewidth\":0,\"ticks\":\"\"},\"colorscale\":[[0.0,\"#0d0887\"],[0.1111111111111111,\"#46039f\"],[0.2222222222222222,\"#7201a8\"],[0.3333333333333333,\"#9c179e\"],[0.4444444444444444,\"#bd3786\"],[0.5555555555555556,\"#d8576b\"],[0.6666666666666666,\"#ed7953\"],[0.7777777777777778,\"#fb9f3a\"],[0.8888888888888888,\"#fdca26\"],[1.0,\"#f0f921\"]],\"type\":\"histogram2d\"}],\"histogram2dcontour\":[{\"colorbar\":{\"outlinewidth\":0,\"ticks\":\"\"},\"colorscale\":[[0.0,\"#0d0887\"],[0.1111111111111111,\"#46039f\"],[0.2222222222222222,\"#7201a8\"],[0.3333333333333333,\"#9c179e\"],[0.4444444444444444,\"#bd3786\"],[0.5555555555555556,\"#d8576b\"],[0.6666666666666666,\"#ed7953\"],[0.7777777777777778,\"#fb9f3a\"],[0.8888888888888888,\"#fdca26\"],[1.0,\"#f0f921\"]],\"type\":\"histogram2dcontour\"}],\"mesh3d\":[{\"colorbar\":{\"outlinewidth\":0,\"ticks\":\"\"},\"type\":\"mesh3d\"}],\"parcoords\":[{\"line\":{\"colorbar\":{\"outlinewidth\":0,\"ticks\":\"\"}},\"type\":\"parcoords\"}],\"pie\":[{\"automargin\":true,\"type\":\"pie\"}],\"scatter\":[{\"marker\":{\"colorbar\":{\"outlinewidth\":0,\"ticks\":\"\"}},\"type\":\"scatter\"}],\"scatter3d\":[{\"line\":{\"colorbar\":{\"outlinewidth\":0,\"ticks\":\"\"}},\"marker\":{\"colorbar\":{\"outlinewidth\":0,\"ticks\":\"\"}},\"type\":\"scatter3d\"}],\"scattercarpet\":[{\"marker\":{\"colorbar\":{\"outlinewidth\":0,\"ticks\":\"\"}},\"type\":\"scattercarpet\"}],\"scattergeo\":[{\"marker\":{\"colorbar\":{\"outlinewidth\":0,\"ticks\":\"\"}},\"type\":\"scattergeo\"}],\"scattergl\":[{\"marker\":{\"colorbar\":{\"outlinewidth\":0,\"ticks\":\"\"}},\"type\":\"scattergl\"}],\"scattermapbox\":[{\"marker\":{\"colorbar\":{\"outlinewidth\":0,\"ticks\":\"\"}},\"type\":\"scattermapbox\"}],\"scatterpolar\":[{\"marker\":{\"colorbar\":{\"outlinewidth\":0,\"ticks\":\"\"}},\"type\":\"scatterpolar\"}],\"scatterpolargl\":[{\"marker\":{\"colorbar\":{\"outlinewidth\":0,\"ticks\":\"\"}},\"type\":\"scatterpolargl\"}],\"scatterternary\":[{\"marker\":{\"colorbar\":{\"outlinewidth\":0,\"ticks\":\"\"}},\"type\":\"scatterternary\"}],\"surface\":[{\"colorbar\":{\"outlinewidth\":0,\"ticks\":\"\"},\"colorscale\":[[0.0,\"#0d0887\"],[0.1111111111111111,\"#46039f\"],[0.2222222222222222,\"#7201a8\"],[0.3333333333333333,\"#9c179e\"],[0.4444444444444444,\"#bd3786\"],[0.5555555555555556,\"#d8576b\"],[0.6666666666666666,\"#ed7953\"],[0.7777777777777778,\"#fb9f3a\"],[0.8888888888888888,\"#fdca26\"],[1.0,\"#f0f921\"]],\"type\":\"surface\"}],\"table\":[{\"cells\":{\"fill\":{\"color\":\"#EBF0F8\"},\"line\":{\"color\":\"white\"}},\"header\":{\"fill\":{\"color\":\"#C8D4E3\"},\"line\":{\"color\":\"white\"}},\"type\":\"table\"}]},\"layout\":{\"annotationdefaults\":{\"arrowcolor\":\"#2a3f5f\",\"arrowhead\":0,\"arrowwidth\":1},\"autotypenumbers\":\"strict\",\"coloraxis\":{\"colorbar\":{\"outlinewidth\":0,\"ticks\":\"\"}},\"colorscale\":{\"diverging\":[[0,\"#8e0152\"],[0.1,\"#c51b7d\"],[0.2,\"#de77ae\"],[0.3,\"#f1b6da\"],[0.4,\"#fde0ef\"],[0.5,\"#f7f7f7\"],[0.6,\"#e6f5d0\"],[0.7,\"#b8e186\"],[0.8,\"#7fbc41\"],[0.9,\"#4d9221\"],[1,\"#276419\"]],\"sequential\":[[0.0,\"#0d0887\"],[0.1111111111111111,\"#46039f\"],[0.2222222222222222,\"#7201a8\"],[0.3333333333333333,\"#9c179e\"],[0.4444444444444444,\"#bd3786\"],[0.5555555555555556,\"#d8576b\"],[0.6666666666666666,\"#ed7953\"],[0.7777777777777778,\"#fb9f3a\"],[0.8888888888888888,\"#fdca26\"],[1.0,\"#f0f921\"]],\"sequentialminus\":[[0.0,\"#0d0887\"],[0.1111111111111111,\"#46039f\"],[0.2222222222222222,\"#7201a8\"],[0.3333333333333333,\"#9c179e\"],[0.4444444444444444,\"#bd3786\"],[0.5555555555555556,\"#d8576b\"],[0.6666666666666666,\"#ed7953\"],[0.7777777777777778,\"#fb9f3a\"],[0.8888888888888888,\"#fdca26\"],[1.0,\"#f0f921\"]]},\"colorway\":[\"#636efa\",\"#EF553B\",\"#00cc96\",\"#ab63fa\",\"#FFA15A\",\"#19d3f3\",\"#FF6692\",\"#B6E880\",\"#FF97FF\",\"#FECB52\"],\"font\":{\"color\":\"#2a3f5f\"},\"geo\":{\"bgcolor\":\"white\",\"lakecolor\":\"white\",\"landcolor\":\"#E5ECF6\",\"showlakes\":true,\"showland\":true,\"subunitcolor\":\"white\"},\"hoverlabel\":{\"align\":\"left\"},\"hovermode\":\"closest\",\"mapbox\":{\"style\":\"light\"},\"paper_bgcolor\":\"white\",\"plot_bgcolor\":\"#E5ECF6\",\"polar\":{\"angularaxis\":{\"gridcolor\":\"white\",\"linecolor\":\"white\",\"ticks\":\"\"},\"bgcolor\":\"#E5ECF6\",\"radialaxis\":{\"gridcolor\":\"white\",\"linecolor\":\"white\",\"ticks\":\"\"}},\"scene\":{\"xaxis\":{\"backgroundcolor\":\"#E5ECF6\",\"gridcolor\":\"white\",\"gridwidth\":2,\"linecolor\":\"white\",\"showbackground\":true,\"ticks\":\"\",\"zerolinecolor\":\"white\"},\"yaxis\":{\"backgroundcolor\":\"#E5ECF6\",\"gridcolor\":\"white\",\"gridwidth\":2,\"linecolor\":\"white\",\"showbackground\":true,\"ticks\":\"\",\"zerolinecolor\":\"white\"},\"zaxis\":{\"backgroundcolor\":\"#E5ECF6\",\"gridcolor\":\"white\",\"gridwidth\":2,\"linecolor\":\"white\",\"showbackground\":true,\"ticks\":\"\",\"zerolinecolor\":\"white\"}},\"shapedefaults\":{\"line\":{\"color\":\"#2a3f5f\"}},\"ternary\":{\"aaxis\":{\"gridcolor\":\"white\",\"linecolor\":\"white\",\"ticks\":\"\"},\"baxis\":{\"gridcolor\":\"white\",\"linecolor\":\"white\",\"ticks\":\"\"},\"bgcolor\":\"#E5ECF6\",\"caxis\":{\"gridcolor\":\"white\",\"linecolor\":\"white\",\"ticks\":\"\"}},\"title\":{\"x\":0.05},\"xaxis\":{\"automargin\":true,\"gridcolor\":\"white\",\"linecolor\":\"white\",\"ticks\":\"\",\"title\":{\"standoff\":15},\"zerolinecolor\":\"white\",\"zerolinewidth\":2},\"yaxis\":{\"automargin\":true,\"gridcolor\":\"white\",\"linecolor\":\"white\",\"ticks\":\"\",\"title\":{\"standoff\":15},\"zerolinecolor\":\"white\",\"zerolinewidth\":2}}},\"legend\":{\"font\":{\"size\":16},\"y\":0.5,\"traceorder\":\"reversed\"},\"title\":{\"text\":\"Training Results\"}},                        {\"responsive\": true}                    ).then(function(){\n",
       "                            \n",
       "var gd = document.getElementById('65830259-9bae-4ad5-a623-366279d6d9d8');\n",
       "var x = new MutationObserver(function (mutations, observer) {{\n",
       "        var display = window.getComputedStyle(gd).display;\n",
       "        if (!display || display === 'none') {{\n",
       "            console.log([gd, 'removed!']);\n",
       "            Plotly.purge(gd);\n",
       "            observer.disconnect();\n",
       "        }}\n",
       "}});\n",
       "\n",
       "// Listen for the removal of the full notebook cells\n",
       "var notebookContainer = gd.closest('#notebook-container');\n",
       "if (notebookContainer) {{\n",
       "    x.observe(notebookContainer, {childList: true});\n",
       "}}\n",
       "\n",
       "// Listen for the clearing of the current output cell\n",
       "var outputEl = gd.closest('.output');\n",
       "if (outputEl) {{\n",
       "    x.observe(outputEl, {childList: true});\n",
       "}}\n",
       "\n",
       "                        })                };                });            </script>        </div>"
      ]
     },
     "metadata": {},
     "output_type": "display_data"
    },
    {
     "data": {
      "application/vnd.plotly.v1+json": {
       "config": {
        "plotlyServerURL": "https://plot.ly"
       },
       "data": [
        {
         "mode": "lines+markers",
         "name": "loss",
         "type": "scatter",
         "x": [
          0,
          1,
          2,
          3,
          4,
          5,
          6,
          7,
          8,
          9,
          10,
          11,
          12,
          13,
          14,
          15,
          16,
          17,
          18,
          19,
          20,
          21,
          22,
          23,
          24,
          25,
          26,
          27,
          28,
          29,
          30,
          31,
          32,
          33,
          34,
          35,
          36,
          37,
          38,
          39,
          40,
          41,
          42,
          43,
          44,
          45,
          46,
          47,
          48,
          49
         ],
         "y": [
          0.750094473361969,
          0.5006427764892578,
          0.45720285177230835,
          0.409268319606781,
          0.36938992142677307,
          0.3479728698730469,
          0.31897687911987305,
          0.289465993642807,
          0.27845269441604614,
          0.2665281891822815,
          0.24803736805915833,
          0.21905723214149475,
          0.22034896910190582,
          0.21971622109413147,
          0.21135802567005157,
          0.19448450207710266,
          0.18180187046527863,
          0.18705561757087708,
          0.17488034069538116,
          0.16769492626190186,
          0.16779333353042603,
          0.16600866615772247,
          0.16716749966144562,
          0.1575184017419815,
          0.1529577374458313,
          0.14618921279907227,
          0.14396671950817108,
          0.1408458799123764,
          0.13830667734146118,
          0.1379833221435547,
          0.13120734691619873,
          0.12888683378696442,
          0.12639322876930237,
          0.1307106763124466,
          0.11777140200138092,
          0.11873988807201385,
          0.11869312077760696,
          0.11820323765277863,
          0.12250671535730362,
          0.1163492202758789,
          0.11568720638751984,
          0.10679049789905548,
          0.11123287677764893,
          0.10802756994962692,
          0.10459194332361221,
          0.1040448471903801,
          0.1021483838558197,
          0.10349063575267792,
          0.09978631138801575,
          0.09783138334751129
         ]
        },
        {
         "mode": "lines+markers",
         "name": "val_loss",
         "type": "scatter",
         "x": [
          0,
          1,
          2,
          3,
          4,
          5,
          6,
          7,
          8,
          9,
          10,
          11,
          12,
          13,
          14,
          15,
          16,
          17,
          18,
          19,
          20,
          21,
          22,
          23,
          24,
          25,
          26,
          27,
          28,
          29,
          30,
          31,
          32,
          33,
          34,
          35,
          36,
          37,
          38,
          39,
          40,
          41,
          42,
          43,
          44,
          45,
          46,
          47,
          48,
          49
         ],
         "y": [
          0.5370487570762634,
          0.46097123622894287,
          0.4391499161720276,
          0.3988783359527588,
          0.3852497935295105,
          0.35972777009010315,
          0.3548630475997925,
          0.33563607931137085,
          0.3739977478981018,
          0.3490748107433319,
          0.3262554705142975,
          0.3379461467266083,
          0.3201720416545868,
          0.3757323622703552,
          0.3043460547924042,
          0.3048933148384094,
          0.3104950487613678,
          0.2999643385410309,
          0.29576966166496277,
          0.29321759939193726,
          0.3359473645687103,
          0.3580169975757599,
          0.31373149156570435,
          0.2937646210193634,
          0.3047802746295929,
          0.30030378699302673,
          0.2912219762802124,
          0.2886861562728882,
          0.29250431060791016,
          0.29476627707481384,
          0.3023274540901184,
          0.290239155292511,
          0.29972389340400696,
          0.26899611949920654,
          0.28253239393234253,
          0.2701689600944519,
          0.2752430737018585,
          0.285906046628952,
          0.2659587860107422,
          0.29098284244537354,
          0.2731485962867737,
          0.2681977450847626,
          0.28888317942619324,
          0.301056444644928,
          0.28715503215789795,
          0.28679850697517395,
          0.27428728342056274,
          0.3010372519493103,
          0.27531108260154724,
          0.2796194851398468
         ]
        },
        {
         "mode": "lines+markers",
         "name": "model_tail_1_loss",
         "type": "scatter",
         "x": [
          0,
          1,
          2,
          3,
          4,
          5,
          6,
          7,
          8,
          9,
          10,
          11,
          12,
          13,
          14,
          15,
          16,
          17,
          18,
          19,
          20,
          21,
          22,
          23,
          24,
          25,
          26,
          27,
          28,
          29,
          30,
          31,
          32,
          33,
          34,
          35,
          36,
          37,
          38,
          39,
          40,
          41,
          42,
          43,
          44,
          45,
          46,
          47,
          48,
          49
         ],
         "y": [
          0.02812880650162697,
          0.012254784815013409,
          0.010418388992547989,
          0.009712787345051765,
          0.009376919828355312,
          0.009100102819502354,
          0.008927036076784134,
          0.008757302537560463,
          0.008627474308013916,
          0.00853720586746931,
          0.008423286490142345,
          0.008357951417565346,
          0.008269835263490677,
          0.008104576729238033,
          0.008009247481822968,
          0.007916809059679508,
          0.007869773544371128,
          0.00783684104681015,
          0.007740110624581575,
          0.007620284799486399,
          0.007565803825855255,
          0.007482846733182669,
          0.0074705402366817,
          0.007351265288889408,
          0.007298991084098816,
          0.007224913686513901,
          0.007165269926190376,
          0.007118348032236099,
          0.007071652915328741,
          0.007040256168693304,
          0.006957762409001589,
          0.006877226289361715,
          0.0068387361243367195,
          0.006791918538510799,
          0.006729288026690483,
          0.006642612162977457,
          0.006617841310799122,
          0.006563136819750071,
          0.006665791850537062,
          0.006685509346425533,
          0.006535771302878857,
          0.006402092985808849,
          0.006337255239486694,
          0.006332390010356903,
          0.006289276760071516,
          0.006190427578985691,
          0.006196560338139534,
          0.006180156022310257,
          0.006100091617554426,
          0.006097549572587013
         ]
        },
        {
         "mode": "lines+markers",
         "name": "val_model_tail_1_loss",
         "type": "scatter",
         "x": [
          0,
          1,
          2,
          3,
          4,
          5,
          6,
          7,
          8,
          9,
          10,
          11,
          12,
          13,
          14,
          15,
          16,
          17,
          18,
          19,
          20,
          21,
          22,
          23,
          24,
          25,
          26,
          27,
          28,
          29,
          30,
          31,
          32,
          33,
          34,
          35,
          36,
          37,
          38,
          39,
          40,
          41,
          42,
          43,
          44,
          45,
          46,
          47,
          48,
          49
         ],
         "y": [
          0.013910748064517975,
          0.011079858057200909,
          0.009815099649131298,
          0.009970461949706078,
          0.009164240211248398,
          0.009024988859891891,
          0.009095490910112858,
          0.008968156762421131,
          0.008762179873883724,
          0.008916951715946198,
          0.008762414567172527,
          0.008866822347044945,
          0.008698158897459507,
          0.008672593161463737,
          0.008744708262383938,
          0.008773787878453732,
          0.008807155303657055,
          0.008620851673185825,
          0.00870408583432436,
          0.008728740736842155,
          0.008882899768650532,
          0.00875154696404934,
          0.008744285441935062,
          0.008818608708679676,
          0.008801007643342018,
          0.008879268541932106,
          0.008806966245174408,
          0.008958930149674416,
          0.009097621776163578,
          0.00913991592824459,
          0.009074104949831963,
          0.009080224670469761,
          0.009102756157517433,
          0.00924225989729166,
          0.009207542054355145,
          0.009383773431181908,
          0.009591308422386646,
          0.00944108422845602,
          0.009693699888885021,
          0.009778340347111225,
          0.009759311564266682,
          0.00962493009865284,
          0.009775721468031406,
          0.010085111483931541,
          0.009881812147796154,
          0.009880859404802322,
          0.009855213575065136,
          0.009945813566446304,
          0.010031583718955517,
          0.01017999928444624
         ]
        },
        {
         "mode": "lines+markers",
         "name": "model_tail_2_loss",
         "type": "scatter",
         "x": [
          0,
          1,
          2,
          3,
          4,
          5,
          6,
          7,
          8,
          9,
          10,
          11,
          12,
          13,
          14,
          15,
          16,
          17,
          18,
          19,
          20,
          21,
          22,
          23,
          24,
          25,
          26,
          27,
          28,
          29,
          30,
          31,
          32,
          33,
          34,
          35,
          36,
          37,
          38,
          39,
          40,
          41,
          42,
          43,
          44,
          45,
          46,
          47,
          48,
          49
         ],
         "y": [
          0.6375793218612671,
          0.45162421464920044,
          0.4155288338661194,
          0.3704175353050232,
          0.3318825960159302,
          0.3115723431110382,
          0.28326836228370667,
          0.2544364631175995,
          0.24394240975379944,
          0.2323794662952423,
          0.21434420347213745,
          0.18562553822994232,
          0.1872698962688446,
          0.18729794025421143,
          0.1793210506439209,
          0.1628168672323227,
          0.15032269060611725,
          0.15570823848247528,
          0.14392001926898956,
          0.13721393048763275,
          0.1375301480293274,
          0.13607734441757202,
          0.13728511333465576,
          0.12811318039894104,
          0.12376175820827484,
          0.1172894611954689,
          0.11530555784702301,
          0.11237235367298126,
          0.11002016812562943,
          0.10982224345207214,
          0.10337629169225693,
          0.10137768089771271,
          0.09903832525014877,
          0.10354302078485489,
          0.09085416048765182,
          0.09216935187578201,
          0.0922217071056366,
          0.09195073693990707,
          0.09584376215934753,
          0.08960723876953125,
          0.08954407274723053,
          0.08118206262588501,
          0.08588390052318573,
          0.08269805461168289,
          0.0794348195195198,
          0.07928316295146942,
          0.07736203074455261,
          0.07877007126808167,
          0.07538595795631409,
          0.07344097644090652
         ]
        },
        {
         "mode": "lines+markers",
         "name": "val_model_tail_2_loss",
         "type": "scatter",
         "x": [
          0,
          1,
          2,
          3,
          4,
          5,
          6,
          7,
          8,
          9,
          10,
          11,
          12,
          13,
          14,
          15,
          16,
          17,
          18,
          19,
          20,
          21,
          22,
          23,
          24,
          25,
          26,
          27,
          28,
          29,
          30,
          31,
          32,
          33,
          34,
          35,
          36,
          37,
          38,
          39,
          40,
          41,
          42,
          43,
          44,
          45,
          46,
          47,
          48,
          49
         ],
         "y": [
          0.4814060628414154,
          0.41665157675743103,
          0.3998895287513733,
          0.35899603366851807,
          0.34859317541122437,
          0.32362788915634155,
          0.3184814155101776,
          0.29976359009742737,
          0.33894890546798706,
          0.31340673565864563,
          0.2912060022354126,
          0.3024789094924927,
          0.28537943959236145,
          0.34104204177856445,
          0.2693670988082886,
          0.2697983980178833,
          0.27526628971099854,
          0.2654809355735779,
          0.260953426361084,
          0.2583026885986328,
          0.30041569471359253,
          0.3230108618736267,
          0.2787545323371887,
          0.25849008560180664,
          0.26957616209983826,
          0.26478683948516846,
          0.25599393248558044,
          0.25285032391548157,
          0.25611382722854614,
          0.25820669531822205,
          0.26603108644485474,
          0.25391829013824463,
          0.2633129358291626,
          0.23202715814113617,
          0.24570222198963165,
          0.23263397812843323,
          0.23687781393527985,
          0.24814188480377197,
          0.22718392312526703,
          0.25186944007873535,
          0.23411139845848083,
          0.22969818115234375,
          0.24978020787239075,
          0.260716050863266,
          0.2476276457309723,
          0.24727477133274078,
          0.2348661869764328,
          0.2612539529800415,
          0.235184907913208,
          0.23889964818954468
         ]
        }
       ],
       "layout": {
        "legend": {
         "font": {
          "size": 16
         },
         "traceorder": "reversed",
         "y": 0.5
        },
        "template": {
         "data": {
          "bar": [
           {
            "error_x": {
             "color": "#2a3f5f"
            },
            "error_y": {
             "color": "#2a3f5f"
            },
            "marker": {
             "line": {
              "color": "#E5ECF6",
              "width": 0.5
             },
             "pattern": {
              "fillmode": "overlay",
              "size": 10,
              "solidity": 0.2
             }
            },
            "type": "bar"
           }
          ],
          "barpolar": [
           {
            "marker": {
             "line": {
              "color": "#E5ECF6",
              "width": 0.5
             },
             "pattern": {
              "fillmode": "overlay",
              "size": 10,
              "solidity": 0.2
             }
            },
            "type": "barpolar"
           }
          ],
          "carpet": [
           {
            "aaxis": {
             "endlinecolor": "#2a3f5f",
             "gridcolor": "white",
             "linecolor": "white",
             "minorgridcolor": "white",
             "startlinecolor": "#2a3f5f"
            },
            "baxis": {
             "endlinecolor": "#2a3f5f",
             "gridcolor": "white",
             "linecolor": "white",
             "minorgridcolor": "white",
             "startlinecolor": "#2a3f5f"
            },
            "type": "carpet"
           }
          ],
          "choropleth": [
           {
            "colorbar": {
             "outlinewidth": 0,
             "ticks": ""
            },
            "type": "choropleth"
           }
          ],
          "contour": [
           {
            "colorbar": {
             "outlinewidth": 0,
             "ticks": ""
            },
            "colorscale": [
             [
              0,
              "#0d0887"
             ],
             [
              0.1111111111111111,
              "#46039f"
             ],
             [
              0.2222222222222222,
              "#7201a8"
             ],
             [
              0.3333333333333333,
              "#9c179e"
             ],
             [
              0.4444444444444444,
              "#bd3786"
             ],
             [
              0.5555555555555556,
              "#d8576b"
             ],
             [
              0.6666666666666666,
              "#ed7953"
             ],
             [
              0.7777777777777778,
              "#fb9f3a"
             ],
             [
              0.8888888888888888,
              "#fdca26"
             ],
             [
              1,
              "#f0f921"
             ]
            ],
            "type": "contour"
           }
          ],
          "contourcarpet": [
           {
            "colorbar": {
             "outlinewidth": 0,
             "ticks": ""
            },
            "type": "contourcarpet"
           }
          ],
          "heatmap": [
           {
            "colorbar": {
             "outlinewidth": 0,
             "ticks": ""
            },
            "colorscale": [
             [
              0,
              "#0d0887"
             ],
             [
              0.1111111111111111,
              "#46039f"
             ],
             [
              0.2222222222222222,
              "#7201a8"
             ],
             [
              0.3333333333333333,
              "#9c179e"
             ],
             [
              0.4444444444444444,
              "#bd3786"
             ],
             [
              0.5555555555555556,
              "#d8576b"
             ],
             [
              0.6666666666666666,
              "#ed7953"
             ],
             [
              0.7777777777777778,
              "#fb9f3a"
             ],
             [
              0.8888888888888888,
              "#fdca26"
             ],
             [
              1,
              "#f0f921"
             ]
            ],
            "type": "heatmap"
           }
          ],
          "heatmapgl": [
           {
            "colorbar": {
             "outlinewidth": 0,
             "ticks": ""
            },
            "colorscale": [
             [
              0,
              "#0d0887"
             ],
             [
              0.1111111111111111,
              "#46039f"
             ],
             [
              0.2222222222222222,
              "#7201a8"
             ],
             [
              0.3333333333333333,
              "#9c179e"
             ],
             [
              0.4444444444444444,
              "#bd3786"
             ],
             [
              0.5555555555555556,
              "#d8576b"
             ],
             [
              0.6666666666666666,
              "#ed7953"
             ],
             [
              0.7777777777777778,
              "#fb9f3a"
             ],
             [
              0.8888888888888888,
              "#fdca26"
             ],
             [
              1,
              "#f0f921"
             ]
            ],
            "type": "heatmapgl"
           }
          ],
          "histogram": [
           {
            "marker": {
             "pattern": {
              "fillmode": "overlay",
              "size": 10,
              "solidity": 0.2
             }
            },
            "type": "histogram"
           }
          ],
          "histogram2d": [
           {
            "colorbar": {
             "outlinewidth": 0,
             "ticks": ""
            },
            "colorscale": [
             [
              0,
              "#0d0887"
             ],
             [
              0.1111111111111111,
              "#46039f"
             ],
             [
              0.2222222222222222,
              "#7201a8"
             ],
             [
              0.3333333333333333,
              "#9c179e"
             ],
             [
              0.4444444444444444,
              "#bd3786"
             ],
             [
              0.5555555555555556,
              "#d8576b"
             ],
             [
              0.6666666666666666,
              "#ed7953"
             ],
             [
              0.7777777777777778,
              "#fb9f3a"
             ],
             [
              0.8888888888888888,
              "#fdca26"
             ],
             [
              1,
              "#f0f921"
             ]
            ],
            "type": "histogram2d"
           }
          ],
          "histogram2dcontour": [
           {
            "colorbar": {
             "outlinewidth": 0,
             "ticks": ""
            },
            "colorscale": [
             [
              0,
              "#0d0887"
             ],
             [
              0.1111111111111111,
              "#46039f"
             ],
             [
              0.2222222222222222,
              "#7201a8"
             ],
             [
              0.3333333333333333,
              "#9c179e"
             ],
             [
              0.4444444444444444,
              "#bd3786"
             ],
             [
              0.5555555555555556,
              "#d8576b"
             ],
             [
              0.6666666666666666,
              "#ed7953"
             ],
             [
              0.7777777777777778,
              "#fb9f3a"
             ],
             [
              0.8888888888888888,
              "#fdca26"
             ],
             [
              1,
              "#f0f921"
             ]
            ],
            "type": "histogram2dcontour"
           }
          ],
          "mesh3d": [
           {
            "colorbar": {
             "outlinewidth": 0,
             "ticks": ""
            },
            "type": "mesh3d"
           }
          ],
          "parcoords": [
           {
            "line": {
             "colorbar": {
              "outlinewidth": 0,
              "ticks": ""
             }
            },
            "type": "parcoords"
           }
          ],
          "pie": [
           {
            "automargin": true,
            "type": "pie"
           }
          ],
          "scatter": [
           {
            "marker": {
             "colorbar": {
              "outlinewidth": 0,
              "ticks": ""
             }
            },
            "type": "scatter"
           }
          ],
          "scatter3d": [
           {
            "line": {
             "colorbar": {
              "outlinewidth": 0,
              "ticks": ""
             }
            },
            "marker": {
             "colorbar": {
              "outlinewidth": 0,
              "ticks": ""
             }
            },
            "type": "scatter3d"
           }
          ],
          "scattercarpet": [
           {
            "marker": {
             "colorbar": {
              "outlinewidth": 0,
              "ticks": ""
             }
            },
            "type": "scattercarpet"
           }
          ],
          "scattergeo": [
           {
            "marker": {
             "colorbar": {
              "outlinewidth": 0,
              "ticks": ""
             }
            },
            "type": "scattergeo"
           }
          ],
          "scattergl": [
           {
            "marker": {
             "colorbar": {
              "outlinewidth": 0,
              "ticks": ""
             }
            },
            "type": "scattergl"
           }
          ],
          "scattermapbox": [
           {
            "marker": {
             "colorbar": {
              "outlinewidth": 0,
              "ticks": ""
             }
            },
            "type": "scattermapbox"
           }
          ],
          "scatterpolar": [
           {
            "marker": {
             "colorbar": {
              "outlinewidth": 0,
              "ticks": ""
             }
            },
            "type": "scatterpolar"
           }
          ],
          "scatterpolargl": [
           {
            "marker": {
             "colorbar": {
              "outlinewidth": 0,
              "ticks": ""
             }
            },
            "type": "scatterpolargl"
           }
          ],
          "scatterternary": [
           {
            "marker": {
             "colorbar": {
              "outlinewidth": 0,
              "ticks": ""
             }
            },
            "type": "scatterternary"
           }
          ],
          "surface": [
           {
            "colorbar": {
             "outlinewidth": 0,
             "ticks": ""
            },
            "colorscale": [
             [
              0,
              "#0d0887"
             ],
             [
              0.1111111111111111,
              "#46039f"
             ],
             [
              0.2222222222222222,
              "#7201a8"
             ],
             [
              0.3333333333333333,
              "#9c179e"
             ],
             [
              0.4444444444444444,
              "#bd3786"
             ],
             [
              0.5555555555555556,
              "#d8576b"
             ],
             [
              0.6666666666666666,
              "#ed7953"
             ],
             [
              0.7777777777777778,
              "#fb9f3a"
             ],
             [
              0.8888888888888888,
              "#fdca26"
             ],
             [
              1,
              "#f0f921"
             ]
            ],
            "type": "surface"
           }
          ],
          "table": [
           {
            "cells": {
             "fill": {
              "color": "#EBF0F8"
             },
             "line": {
              "color": "white"
             }
            },
            "header": {
             "fill": {
              "color": "#C8D4E3"
             },
             "line": {
              "color": "white"
             }
            },
            "type": "table"
           }
          ]
         },
         "layout": {
          "annotationdefaults": {
           "arrowcolor": "#2a3f5f",
           "arrowhead": 0,
           "arrowwidth": 1
          },
          "autotypenumbers": "strict",
          "coloraxis": {
           "colorbar": {
            "outlinewidth": 0,
            "ticks": ""
           }
          },
          "colorscale": {
           "diverging": [
            [
             0,
             "#8e0152"
            ],
            [
             0.1,
             "#c51b7d"
            ],
            [
             0.2,
             "#de77ae"
            ],
            [
             0.3,
             "#f1b6da"
            ],
            [
             0.4,
             "#fde0ef"
            ],
            [
             0.5,
             "#f7f7f7"
            ],
            [
             0.6,
             "#e6f5d0"
            ],
            [
             0.7,
             "#b8e186"
            ],
            [
             0.8,
             "#7fbc41"
            ],
            [
             0.9,
             "#4d9221"
            ],
            [
             1,
             "#276419"
            ]
           ],
           "sequential": [
            [
             0,
             "#0d0887"
            ],
            [
             0.1111111111111111,
             "#46039f"
            ],
            [
             0.2222222222222222,
             "#7201a8"
            ],
            [
             0.3333333333333333,
             "#9c179e"
            ],
            [
             0.4444444444444444,
             "#bd3786"
            ],
            [
             0.5555555555555556,
             "#d8576b"
            ],
            [
             0.6666666666666666,
             "#ed7953"
            ],
            [
             0.7777777777777778,
             "#fb9f3a"
            ],
            [
             0.8888888888888888,
             "#fdca26"
            ],
            [
             1,
             "#f0f921"
            ]
           ],
           "sequentialminus": [
            [
             0,
             "#0d0887"
            ],
            [
             0.1111111111111111,
             "#46039f"
            ],
            [
             0.2222222222222222,
             "#7201a8"
            ],
            [
             0.3333333333333333,
             "#9c179e"
            ],
            [
             0.4444444444444444,
             "#bd3786"
            ],
            [
             0.5555555555555556,
             "#d8576b"
            ],
            [
             0.6666666666666666,
             "#ed7953"
            ],
            [
             0.7777777777777778,
             "#fb9f3a"
            ],
            [
             0.8888888888888888,
             "#fdca26"
            ],
            [
             1,
             "#f0f921"
            ]
           ]
          },
          "colorway": [
           "#636efa",
           "#EF553B",
           "#00cc96",
           "#ab63fa",
           "#FFA15A",
           "#19d3f3",
           "#FF6692",
           "#B6E880",
           "#FF97FF",
           "#FECB52"
          ],
          "font": {
           "color": "#2a3f5f"
          },
          "geo": {
           "bgcolor": "white",
           "lakecolor": "white",
           "landcolor": "#E5ECF6",
           "showlakes": true,
           "showland": true,
           "subunitcolor": "white"
          },
          "hoverlabel": {
           "align": "left"
          },
          "hovermode": "closest",
          "mapbox": {
           "style": "light"
          },
          "paper_bgcolor": "white",
          "plot_bgcolor": "#E5ECF6",
          "polar": {
           "angularaxis": {
            "gridcolor": "white",
            "linecolor": "white",
            "ticks": ""
           },
           "bgcolor": "#E5ECF6",
           "radialaxis": {
            "gridcolor": "white",
            "linecolor": "white",
            "ticks": ""
           }
          },
          "scene": {
           "xaxis": {
            "backgroundcolor": "#E5ECF6",
            "gridcolor": "white",
            "gridwidth": 2,
            "linecolor": "white",
            "showbackground": true,
            "ticks": "",
            "zerolinecolor": "white"
           },
           "yaxis": {
            "backgroundcolor": "#E5ECF6",
            "gridcolor": "white",
            "gridwidth": 2,
            "linecolor": "white",
            "showbackground": true,
            "ticks": "",
            "zerolinecolor": "white"
           },
           "zaxis": {
            "backgroundcolor": "#E5ECF6",
            "gridcolor": "white",
            "gridwidth": 2,
            "linecolor": "white",
            "showbackground": true,
            "ticks": "",
            "zerolinecolor": "white"
           }
          },
          "shapedefaults": {
           "line": {
            "color": "#2a3f5f"
           }
          },
          "ternary": {
           "aaxis": {
            "gridcolor": "white",
            "linecolor": "white",
            "ticks": ""
           },
           "baxis": {
            "gridcolor": "white",
            "linecolor": "white",
            "ticks": ""
           },
           "bgcolor": "#E5ECF6",
           "caxis": {
            "gridcolor": "white",
            "linecolor": "white",
            "ticks": ""
           }
          },
          "title": {
           "x": 0.05
          },
          "xaxis": {
           "automargin": true,
           "gridcolor": "white",
           "linecolor": "white",
           "ticks": "",
           "title": {
            "standoff": 15
           },
           "zerolinecolor": "white",
           "zerolinewidth": 2
          },
          "yaxis": {
           "automargin": true,
           "gridcolor": "white",
           "linecolor": "white",
           "ticks": "",
           "title": {
            "standoff": 15
           },
           "zerolinecolor": "white",
           "zerolinewidth": 2
          }
         }
        },
        "title": {
         "text": "Training Results"
        }
       }
      },
      "text/html": [
       "<div>                            <div id=\"45ca8897-25cf-4bc4-8122-c6984f59fa2d\" class=\"plotly-graph-div\" style=\"height:525px; width:100%;\"></div>            <script type=\"text/javascript\">                require([\"plotly\"], function(Plotly) {                    window.PLOTLYENV=window.PLOTLYENV || {};                                    if (document.getElementById(\"45ca8897-25cf-4bc4-8122-c6984f59fa2d\")) {                    Plotly.newPlot(                        \"45ca8897-25cf-4bc4-8122-c6984f59fa2d\",                        [{\"name\":\"loss\",\"x\":[0,1,2,3,4,5,6,7,8,9,10,11,12,13,14,15,16,17,18,19,20,21,22,23,24,25,26,27,28,29,30,31,32,33,34,35,36,37,38,39,40,41,42,43,44,45,46,47,48,49],\"y\":[0.750094473361969,0.5006427764892578,0.45720285177230835,0.409268319606781,0.36938992142677307,0.3479728698730469,0.31897687911987305,0.289465993642807,0.27845269441604614,0.2665281891822815,0.24803736805915833,0.21905723214149475,0.22034896910190582,0.21971622109413147,0.21135802567005157,0.19448450207710266,0.18180187046527863,0.18705561757087708,0.17488034069538116,0.16769492626190186,0.16779333353042603,0.16600866615772247,0.16716749966144562,0.1575184017419815,0.1529577374458313,0.14618921279907227,0.14396671950817108,0.1408458799123764,0.13830667734146118,0.1379833221435547,0.13120734691619873,0.12888683378696442,0.12639322876930237,0.1307106763124466,0.11777140200138092,0.11873988807201385,0.11869312077760696,0.11820323765277863,0.12250671535730362,0.1163492202758789,0.11568720638751984,0.10679049789905548,0.11123287677764893,0.10802756994962692,0.10459194332361221,0.1040448471903801,0.1021483838558197,0.10349063575267792,0.09978631138801575,0.09783138334751129],\"type\":\"scatter\",\"mode\":\"lines+markers\"},{\"name\":\"val_loss\",\"x\":[0,1,2,3,4,5,6,7,8,9,10,11,12,13,14,15,16,17,18,19,20,21,22,23,24,25,26,27,28,29,30,31,32,33,34,35,36,37,38,39,40,41,42,43,44,45,46,47,48,49],\"y\":[0.5370487570762634,0.46097123622894287,0.4391499161720276,0.3988783359527588,0.3852497935295105,0.35972777009010315,0.3548630475997925,0.33563607931137085,0.3739977478981018,0.3490748107433319,0.3262554705142975,0.3379461467266083,0.3201720416545868,0.3757323622703552,0.3043460547924042,0.3048933148384094,0.3104950487613678,0.2999643385410309,0.29576966166496277,0.29321759939193726,0.3359473645687103,0.3580169975757599,0.31373149156570435,0.2937646210193634,0.3047802746295929,0.30030378699302673,0.2912219762802124,0.2886861562728882,0.29250431060791016,0.29476627707481384,0.3023274540901184,0.290239155292511,0.29972389340400696,0.26899611949920654,0.28253239393234253,0.2701689600944519,0.2752430737018585,0.285906046628952,0.2659587860107422,0.29098284244537354,0.2731485962867737,0.2681977450847626,0.28888317942619324,0.301056444644928,0.28715503215789795,0.28679850697517395,0.27428728342056274,0.3010372519493103,0.27531108260154724,0.2796194851398468],\"type\":\"scatter\",\"mode\":\"lines+markers\"},{\"name\":\"model_tail_1_loss\",\"x\":[0,1,2,3,4,5,6,7,8,9,10,11,12,13,14,15,16,17,18,19,20,21,22,23,24,25,26,27,28,29,30,31,32,33,34,35,36,37,38,39,40,41,42,43,44,45,46,47,48,49],\"y\":[0.02812880650162697,0.012254784815013409,0.010418388992547989,0.009712787345051765,0.009376919828355312,0.009100102819502354,0.008927036076784134,0.008757302537560463,0.008627474308013916,0.00853720586746931,0.008423286490142345,0.008357951417565346,0.008269835263490677,0.008104576729238033,0.008009247481822968,0.007916809059679508,0.007869773544371128,0.00783684104681015,0.007740110624581575,0.007620284799486399,0.007565803825855255,0.007482846733182669,0.0074705402366817,0.007351265288889408,0.007298991084098816,0.007224913686513901,0.007165269926190376,0.007118348032236099,0.007071652915328741,0.007040256168693304,0.006957762409001589,0.006877226289361715,0.0068387361243367195,0.006791918538510799,0.006729288026690483,0.006642612162977457,0.006617841310799122,0.006563136819750071,0.006665791850537062,0.006685509346425533,0.006535771302878857,0.006402092985808849,0.006337255239486694,0.006332390010356903,0.006289276760071516,0.006190427578985691,0.006196560338139534,0.006180156022310257,0.006100091617554426,0.006097549572587013],\"type\":\"scatter\",\"mode\":\"lines+markers\"},{\"name\":\"val_model_tail_1_loss\",\"x\":[0,1,2,3,4,5,6,7,8,9,10,11,12,13,14,15,16,17,18,19,20,21,22,23,24,25,26,27,28,29,30,31,32,33,34,35,36,37,38,39,40,41,42,43,44,45,46,47,48,49],\"y\":[0.013910748064517975,0.011079858057200909,0.009815099649131298,0.009970461949706078,0.009164240211248398,0.009024988859891891,0.009095490910112858,0.008968156762421131,0.008762179873883724,0.008916951715946198,0.008762414567172527,0.008866822347044945,0.008698158897459507,0.008672593161463737,0.008744708262383938,0.008773787878453732,0.008807155303657055,0.008620851673185825,0.00870408583432436,0.008728740736842155,0.008882899768650532,0.00875154696404934,0.008744285441935062,0.008818608708679676,0.008801007643342018,0.008879268541932106,0.008806966245174408,0.008958930149674416,0.009097621776163578,0.00913991592824459,0.009074104949831963,0.009080224670469761,0.009102756157517433,0.00924225989729166,0.009207542054355145,0.009383773431181908,0.009591308422386646,0.00944108422845602,0.009693699888885021,0.009778340347111225,0.009759311564266682,0.00962493009865284,0.009775721468031406,0.010085111483931541,0.009881812147796154,0.009880859404802322,0.009855213575065136,0.009945813566446304,0.010031583718955517,0.01017999928444624],\"type\":\"scatter\",\"mode\":\"lines+markers\"},{\"name\":\"model_tail_2_loss\",\"x\":[0,1,2,3,4,5,6,7,8,9,10,11,12,13,14,15,16,17,18,19,20,21,22,23,24,25,26,27,28,29,30,31,32,33,34,35,36,37,38,39,40,41,42,43,44,45,46,47,48,49],\"y\":[0.6375793218612671,0.45162421464920044,0.4155288338661194,0.3704175353050232,0.3318825960159302,0.3115723431110382,0.28326836228370667,0.2544364631175995,0.24394240975379944,0.2323794662952423,0.21434420347213745,0.18562553822994232,0.1872698962688446,0.18729794025421143,0.1793210506439209,0.1628168672323227,0.15032269060611725,0.15570823848247528,0.14392001926898956,0.13721393048763275,0.1375301480293274,0.13607734441757202,0.13728511333465576,0.12811318039894104,0.12376175820827484,0.1172894611954689,0.11530555784702301,0.11237235367298126,0.11002016812562943,0.10982224345207214,0.10337629169225693,0.10137768089771271,0.09903832525014877,0.10354302078485489,0.09085416048765182,0.09216935187578201,0.0922217071056366,0.09195073693990707,0.09584376215934753,0.08960723876953125,0.08954407274723053,0.08118206262588501,0.08588390052318573,0.08269805461168289,0.0794348195195198,0.07928316295146942,0.07736203074455261,0.07877007126808167,0.07538595795631409,0.07344097644090652],\"type\":\"scatter\",\"mode\":\"lines+markers\"},{\"name\":\"val_model_tail_2_loss\",\"x\":[0,1,2,3,4,5,6,7,8,9,10,11,12,13,14,15,16,17,18,19,20,21,22,23,24,25,26,27,28,29,30,31,32,33,34,35,36,37,38,39,40,41,42,43,44,45,46,47,48,49],\"y\":[0.4814060628414154,0.41665157675743103,0.3998895287513733,0.35899603366851807,0.34859317541122437,0.32362788915634155,0.3184814155101776,0.29976359009742737,0.33894890546798706,0.31340673565864563,0.2912060022354126,0.3024789094924927,0.28537943959236145,0.34104204177856445,0.2693670988082886,0.2697983980178833,0.27526628971099854,0.2654809355735779,0.260953426361084,0.2583026885986328,0.30041569471359253,0.3230108618736267,0.2787545323371887,0.25849008560180664,0.26957616209983826,0.26478683948516846,0.25599393248558044,0.25285032391548157,0.25611382722854614,0.25820669531822205,0.26603108644485474,0.25391829013824463,0.2633129358291626,0.23202715814113617,0.24570222198963165,0.23263397812843323,0.23687781393527985,0.24814188480377197,0.22718392312526703,0.25186944007873535,0.23411139845848083,0.22969818115234375,0.24978020787239075,0.260716050863266,0.2476276457309723,0.24727477133274078,0.2348661869764328,0.2612539529800415,0.235184907913208,0.23889964818954468],\"type\":\"scatter\",\"mode\":\"lines+markers\"}],                        {\"template\":{\"data\":{\"bar\":[{\"error_x\":{\"color\":\"#2a3f5f\"},\"error_y\":{\"color\":\"#2a3f5f\"},\"marker\":{\"line\":{\"color\":\"#E5ECF6\",\"width\":0.5},\"pattern\":{\"fillmode\":\"overlay\",\"size\":10,\"solidity\":0.2}},\"type\":\"bar\"}],\"barpolar\":[{\"marker\":{\"line\":{\"color\":\"#E5ECF6\",\"width\":0.5},\"pattern\":{\"fillmode\":\"overlay\",\"size\":10,\"solidity\":0.2}},\"type\":\"barpolar\"}],\"carpet\":[{\"aaxis\":{\"endlinecolor\":\"#2a3f5f\",\"gridcolor\":\"white\",\"linecolor\":\"white\",\"minorgridcolor\":\"white\",\"startlinecolor\":\"#2a3f5f\"},\"baxis\":{\"endlinecolor\":\"#2a3f5f\",\"gridcolor\":\"white\",\"linecolor\":\"white\",\"minorgridcolor\":\"white\",\"startlinecolor\":\"#2a3f5f\"},\"type\":\"carpet\"}],\"choropleth\":[{\"colorbar\":{\"outlinewidth\":0,\"ticks\":\"\"},\"type\":\"choropleth\"}],\"contour\":[{\"colorbar\":{\"outlinewidth\":0,\"ticks\":\"\"},\"colorscale\":[[0.0,\"#0d0887\"],[0.1111111111111111,\"#46039f\"],[0.2222222222222222,\"#7201a8\"],[0.3333333333333333,\"#9c179e\"],[0.4444444444444444,\"#bd3786\"],[0.5555555555555556,\"#d8576b\"],[0.6666666666666666,\"#ed7953\"],[0.7777777777777778,\"#fb9f3a\"],[0.8888888888888888,\"#fdca26\"],[1.0,\"#f0f921\"]],\"type\":\"contour\"}],\"contourcarpet\":[{\"colorbar\":{\"outlinewidth\":0,\"ticks\":\"\"},\"type\":\"contourcarpet\"}],\"heatmap\":[{\"colorbar\":{\"outlinewidth\":0,\"ticks\":\"\"},\"colorscale\":[[0.0,\"#0d0887\"],[0.1111111111111111,\"#46039f\"],[0.2222222222222222,\"#7201a8\"],[0.3333333333333333,\"#9c179e\"],[0.4444444444444444,\"#bd3786\"],[0.5555555555555556,\"#d8576b\"],[0.6666666666666666,\"#ed7953\"],[0.7777777777777778,\"#fb9f3a\"],[0.8888888888888888,\"#fdca26\"],[1.0,\"#f0f921\"]],\"type\":\"heatmap\"}],\"heatmapgl\":[{\"colorbar\":{\"outlinewidth\":0,\"ticks\":\"\"},\"colorscale\":[[0.0,\"#0d0887\"],[0.1111111111111111,\"#46039f\"],[0.2222222222222222,\"#7201a8\"],[0.3333333333333333,\"#9c179e\"],[0.4444444444444444,\"#bd3786\"],[0.5555555555555556,\"#d8576b\"],[0.6666666666666666,\"#ed7953\"],[0.7777777777777778,\"#fb9f3a\"],[0.8888888888888888,\"#fdca26\"],[1.0,\"#f0f921\"]],\"type\":\"heatmapgl\"}],\"histogram\":[{\"marker\":{\"pattern\":{\"fillmode\":\"overlay\",\"size\":10,\"solidity\":0.2}},\"type\":\"histogram\"}],\"histogram2d\":[{\"colorbar\":{\"outlinewidth\":0,\"ticks\":\"\"},\"colorscale\":[[0.0,\"#0d0887\"],[0.1111111111111111,\"#46039f\"],[0.2222222222222222,\"#7201a8\"],[0.3333333333333333,\"#9c179e\"],[0.4444444444444444,\"#bd3786\"],[0.5555555555555556,\"#d8576b\"],[0.6666666666666666,\"#ed7953\"],[0.7777777777777778,\"#fb9f3a\"],[0.8888888888888888,\"#fdca26\"],[1.0,\"#f0f921\"]],\"type\":\"histogram2d\"}],\"histogram2dcontour\":[{\"colorbar\":{\"outlinewidth\":0,\"ticks\":\"\"},\"colorscale\":[[0.0,\"#0d0887\"],[0.1111111111111111,\"#46039f\"],[0.2222222222222222,\"#7201a8\"],[0.3333333333333333,\"#9c179e\"],[0.4444444444444444,\"#bd3786\"],[0.5555555555555556,\"#d8576b\"],[0.6666666666666666,\"#ed7953\"],[0.7777777777777778,\"#fb9f3a\"],[0.8888888888888888,\"#fdca26\"],[1.0,\"#f0f921\"]],\"type\":\"histogram2dcontour\"}],\"mesh3d\":[{\"colorbar\":{\"outlinewidth\":0,\"ticks\":\"\"},\"type\":\"mesh3d\"}],\"parcoords\":[{\"line\":{\"colorbar\":{\"outlinewidth\":0,\"ticks\":\"\"}},\"type\":\"parcoords\"}],\"pie\":[{\"automargin\":true,\"type\":\"pie\"}],\"scatter\":[{\"marker\":{\"colorbar\":{\"outlinewidth\":0,\"ticks\":\"\"}},\"type\":\"scatter\"}],\"scatter3d\":[{\"line\":{\"colorbar\":{\"outlinewidth\":0,\"ticks\":\"\"}},\"marker\":{\"colorbar\":{\"outlinewidth\":0,\"ticks\":\"\"}},\"type\":\"scatter3d\"}],\"scattercarpet\":[{\"marker\":{\"colorbar\":{\"outlinewidth\":0,\"ticks\":\"\"}},\"type\":\"scattercarpet\"}],\"scattergeo\":[{\"marker\":{\"colorbar\":{\"outlinewidth\":0,\"ticks\":\"\"}},\"type\":\"scattergeo\"}],\"scattergl\":[{\"marker\":{\"colorbar\":{\"outlinewidth\":0,\"ticks\":\"\"}},\"type\":\"scattergl\"}],\"scattermapbox\":[{\"marker\":{\"colorbar\":{\"outlinewidth\":0,\"ticks\":\"\"}},\"type\":\"scattermapbox\"}],\"scatterpolar\":[{\"marker\":{\"colorbar\":{\"outlinewidth\":0,\"ticks\":\"\"}},\"type\":\"scatterpolar\"}],\"scatterpolargl\":[{\"marker\":{\"colorbar\":{\"outlinewidth\":0,\"ticks\":\"\"}},\"type\":\"scatterpolargl\"}],\"scatterternary\":[{\"marker\":{\"colorbar\":{\"outlinewidth\":0,\"ticks\":\"\"}},\"type\":\"scatterternary\"}],\"surface\":[{\"colorbar\":{\"outlinewidth\":0,\"ticks\":\"\"},\"colorscale\":[[0.0,\"#0d0887\"],[0.1111111111111111,\"#46039f\"],[0.2222222222222222,\"#7201a8\"],[0.3333333333333333,\"#9c179e\"],[0.4444444444444444,\"#bd3786\"],[0.5555555555555556,\"#d8576b\"],[0.6666666666666666,\"#ed7953\"],[0.7777777777777778,\"#fb9f3a\"],[0.8888888888888888,\"#fdca26\"],[1.0,\"#f0f921\"]],\"type\":\"surface\"}],\"table\":[{\"cells\":{\"fill\":{\"color\":\"#EBF0F8\"},\"line\":{\"color\":\"white\"}},\"header\":{\"fill\":{\"color\":\"#C8D4E3\"},\"line\":{\"color\":\"white\"}},\"type\":\"table\"}]},\"layout\":{\"annotationdefaults\":{\"arrowcolor\":\"#2a3f5f\",\"arrowhead\":0,\"arrowwidth\":1},\"autotypenumbers\":\"strict\",\"coloraxis\":{\"colorbar\":{\"outlinewidth\":0,\"ticks\":\"\"}},\"colorscale\":{\"diverging\":[[0,\"#8e0152\"],[0.1,\"#c51b7d\"],[0.2,\"#de77ae\"],[0.3,\"#f1b6da\"],[0.4,\"#fde0ef\"],[0.5,\"#f7f7f7\"],[0.6,\"#e6f5d0\"],[0.7,\"#b8e186\"],[0.8,\"#7fbc41\"],[0.9,\"#4d9221\"],[1,\"#276419\"]],\"sequential\":[[0.0,\"#0d0887\"],[0.1111111111111111,\"#46039f\"],[0.2222222222222222,\"#7201a8\"],[0.3333333333333333,\"#9c179e\"],[0.4444444444444444,\"#bd3786\"],[0.5555555555555556,\"#d8576b\"],[0.6666666666666666,\"#ed7953\"],[0.7777777777777778,\"#fb9f3a\"],[0.8888888888888888,\"#fdca26\"],[1.0,\"#f0f921\"]],\"sequentialminus\":[[0.0,\"#0d0887\"],[0.1111111111111111,\"#46039f\"],[0.2222222222222222,\"#7201a8\"],[0.3333333333333333,\"#9c179e\"],[0.4444444444444444,\"#bd3786\"],[0.5555555555555556,\"#d8576b\"],[0.6666666666666666,\"#ed7953\"],[0.7777777777777778,\"#fb9f3a\"],[0.8888888888888888,\"#fdca26\"],[1.0,\"#f0f921\"]]},\"colorway\":[\"#636efa\",\"#EF553B\",\"#00cc96\",\"#ab63fa\",\"#FFA15A\",\"#19d3f3\",\"#FF6692\",\"#B6E880\",\"#FF97FF\",\"#FECB52\"],\"font\":{\"color\":\"#2a3f5f\"},\"geo\":{\"bgcolor\":\"white\",\"lakecolor\":\"white\",\"landcolor\":\"#E5ECF6\",\"showlakes\":true,\"showland\":true,\"subunitcolor\":\"white\"},\"hoverlabel\":{\"align\":\"left\"},\"hovermode\":\"closest\",\"mapbox\":{\"style\":\"light\"},\"paper_bgcolor\":\"white\",\"plot_bgcolor\":\"#E5ECF6\",\"polar\":{\"angularaxis\":{\"gridcolor\":\"white\",\"linecolor\":\"white\",\"ticks\":\"\"},\"bgcolor\":\"#E5ECF6\",\"radialaxis\":{\"gridcolor\":\"white\",\"linecolor\":\"white\",\"ticks\":\"\"}},\"scene\":{\"xaxis\":{\"backgroundcolor\":\"#E5ECF6\",\"gridcolor\":\"white\",\"gridwidth\":2,\"linecolor\":\"white\",\"showbackground\":true,\"ticks\":\"\",\"zerolinecolor\":\"white\"},\"yaxis\":{\"backgroundcolor\":\"#E5ECF6\",\"gridcolor\":\"white\",\"gridwidth\":2,\"linecolor\":\"white\",\"showbackground\":true,\"ticks\":\"\",\"zerolinecolor\":\"white\"},\"zaxis\":{\"backgroundcolor\":\"#E5ECF6\",\"gridcolor\":\"white\",\"gridwidth\":2,\"linecolor\":\"white\",\"showbackground\":true,\"ticks\":\"\",\"zerolinecolor\":\"white\"}},\"shapedefaults\":{\"line\":{\"color\":\"#2a3f5f\"}},\"ternary\":{\"aaxis\":{\"gridcolor\":\"white\",\"linecolor\":\"white\",\"ticks\":\"\"},\"baxis\":{\"gridcolor\":\"white\",\"linecolor\":\"white\",\"ticks\":\"\"},\"bgcolor\":\"#E5ECF6\",\"caxis\":{\"gridcolor\":\"white\",\"linecolor\":\"white\",\"ticks\":\"\"}},\"title\":{\"x\":0.05},\"xaxis\":{\"automargin\":true,\"gridcolor\":\"white\",\"linecolor\":\"white\",\"ticks\":\"\",\"title\":{\"standoff\":15},\"zerolinecolor\":\"white\",\"zerolinewidth\":2},\"yaxis\":{\"automargin\":true,\"gridcolor\":\"white\",\"linecolor\":\"white\",\"ticks\":\"\",\"title\":{\"standoff\":15},\"zerolinecolor\":\"white\",\"zerolinewidth\":2}}},\"legend\":{\"font\":{\"size\":16},\"y\":0.5,\"traceorder\":\"reversed\"},\"title\":{\"text\":\"Training Results\"}},                        {\"responsive\": true}                    ).then(function(){\n",
       "                            \n",
       "var gd = document.getElementById('45ca8897-25cf-4bc4-8122-c6984f59fa2d');\n",
       "var x = new MutationObserver(function (mutations, observer) {{\n",
       "        var display = window.getComputedStyle(gd).display;\n",
       "        if (!display || display === 'none') {{\n",
       "            console.log([gd, 'removed!']);\n",
       "            Plotly.purge(gd);\n",
       "            observer.disconnect();\n",
       "        }}\n",
       "}});\n",
       "\n",
       "// Listen for the removal of the full notebook cells\n",
       "var notebookContainer = gd.closest('#notebook-container');\n",
       "if (notebookContainer) {{\n",
       "    x.observe(notebookContainer, {childList: true});\n",
       "}}\n",
       "\n",
       "// Listen for the clearing of the current output cell\n",
       "var outputEl = gd.closest('.output');\n",
       "if (outputEl) {{\n",
       "    x.observe(outputEl, {childList: true});\n",
       "}}\n",
       "\n",
       "                        })                };                });            </script>        </div>"
      ]
     },
     "metadata": {},
     "output_type": "display_data"
    },
    {
     "data": {
      "application/vnd.plotly.v1+json": {
       "config": {
        "plotlyServerURL": "https://plot.ly"
       },
       "data": [
        {
         "mode": "lines+markers",
         "name": "model_tail_1_name_percent_part_correct",
         "type": "scatter",
         "x": [
          0,
          1,
          2,
          3,
          4,
          5,
          6,
          7,
          8,
          9,
          10,
          11,
          12,
          13,
          14,
          15,
          16,
          17,
          18,
          19,
          20,
          21,
          22,
          23,
          24,
          25,
          26,
          27,
          28,
          29,
          30,
          31,
          32,
          33,
          34,
          35,
          36,
          37,
          38,
          39,
          40,
          41,
          42,
          43,
          44,
          45,
          46,
          47,
          48,
          49
         ],
         "y": [
          0.7821165919303894,
          0.9820117950439453,
          0.9894096255302429,
          0.9915747046470642,
          0.9921838045120239,
          0.9928223490715027,
          0.9930718541145325,
          0.9934365153312683,
          0.9938278198242188,
          0.9937837719917297,
          0.9941580295562744,
          0.9939966201782227,
          0.9940530061721802,
          0.9946644306182861,
          0.9947892427444458,
          0.9947158098220825,
          0.9950534105300903,
          0.9949359893798828,
          0.9950364828109741,
          0.9951318502426147,
          0.9953616857528687,
          0.9954423904418945,
          0.995413601398468,
          0.9956258535385132,
          0.9957579970359802,
          0.9958510994911194,
          0.9958240389823914,
          0.9960588812828064,
          0.9961836338043213,
          0.9962276816368103,
          0.9960001707077026,
          0.9965285658836365,
          0.9964258670806885,
          0.9962643980979919,
          0.9965726137161255,
          0.9965212345123291,
          0.9963891506195068,
          0.9966510534286499,
          0.9964331984519958,
          0.9962987899780273,
          0.9962570667266846,
          0.9967047572135925,
          0.9969006180763245,
          0.9967854619026184,
          0.9967927932739258,
          0.9970056414604187,
          0.9967194199562073,
          0.9967560768127441,
          0.9968661665916443,
          0.9971230626106262
         ]
        },
        {
         "mode": "lines+markers",
         "name": "val_model_tail_1_name_percent_part_correct",
         "type": "scatter",
         "x": [
          0,
          1,
          2,
          3,
          4,
          5,
          6,
          7,
          8,
          9,
          10,
          11,
          12,
          13,
          14,
          15,
          16,
          17,
          18,
          19,
          20,
          21,
          22,
          23,
          24,
          25,
          26,
          27,
          28,
          29,
          30,
          31,
          32,
          33,
          34,
          35,
          36,
          37,
          38,
          39,
          40,
          41,
          42,
          43,
          44,
          45,
          46,
          47,
          48,
          49
         ],
         "y": [
          0.9683125615119934,
          0.9852544665336609,
          0.9895930886268616,
          0.9923487305641174,
          0.9930523037910461,
          0.9928470849990845,
          0.992935061454773,
          0.9927005171775818,
          0.9929057359695435,
          0.9923780560493469,
          0.9922314882278442,
          0.9925832748413086,
          0.9936093091964722,
          0.9931695461273193,
          0.9930816292762756,
          0.9922021627426147,
          0.9934040904045105,
          0.9930229783058167,
          0.9927884340286255,
          0.9937265515327454,
          0.993931770324707,
          0.9936972260475159,
          0.9934040904045105,
          0.9938144683837891,
          0.9934040904045105,
          0.9924073815345764,
          0.9941076636314392,
          0.9923194050788879,
          0.9932868480682373,
          0.9934920072555542,
          0.9939610958099365,
          0.9932575225830078,
          0.993374764919281,
          0.9924367070198059,
          0.9930816292762756,
          0.9927005171775818,
          0.9924367070198059,
          0.9928470849990845,
          0.9920849204063416,
          0.9925246238708496,
          0.992876410484314,
          0.9927884340286255,
          0.9926125407218933,
          0.9925246238708496,
          0.9924952983856201,
          0.9923194050788879,
          0.9925832748413086,
          0.9921141862869263,
          0.9922314882278442,
          0.9919090270996094
         ]
        }
       ],
       "layout": {
        "legend": {
         "font": {
          "size": 16
         },
         "traceorder": "reversed",
         "y": 0.5
        },
        "template": {
         "data": {
          "bar": [
           {
            "error_x": {
             "color": "#2a3f5f"
            },
            "error_y": {
             "color": "#2a3f5f"
            },
            "marker": {
             "line": {
              "color": "#E5ECF6",
              "width": 0.5
             },
             "pattern": {
              "fillmode": "overlay",
              "size": 10,
              "solidity": 0.2
             }
            },
            "type": "bar"
           }
          ],
          "barpolar": [
           {
            "marker": {
             "line": {
              "color": "#E5ECF6",
              "width": 0.5
             },
             "pattern": {
              "fillmode": "overlay",
              "size": 10,
              "solidity": 0.2
             }
            },
            "type": "barpolar"
           }
          ],
          "carpet": [
           {
            "aaxis": {
             "endlinecolor": "#2a3f5f",
             "gridcolor": "white",
             "linecolor": "white",
             "minorgridcolor": "white",
             "startlinecolor": "#2a3f5f"
            },
            "baxis": {
             "endlinecolor": "#2a3f5f",
             "gridcolor": "white",
             "linecolor": "white",
             "minorgridcolor": "white",
             "startlinecolor": "#2a3f5f"
            },
            "type": "carpet"
           }
          ],
          "choropleth": [
           {
            "colorbar": {
             "outlinewidth": 0,
             "ticks": ""
            },
            "type": "choropleth"
           }
          ],
          "contour": [
           {
            "colorbar": {
             "outlinewidth": 0,
             "ticks": ""
            },
            "colorscale": [
             [
              0,
              "#0d0887"
             ],
             [
              0.1111111111111111,
              "#46039f"
             ],
             [
              0.2222222222222222,
              "#7201a8"
             ],
             [
              0.3333333333333333,
              "#9c179e"
             ],
             [
              0.4444444444444444,
              "#bd3786"
             ],
             [
              0.5555555555555556,
              "#d8576b"
             ],
             [
              0.6666666666666666,
              "#ed7953"
             ],
             [
              0.7777777777777778,
              "#fb9f3a"
             ],
             [
              0.8888888888888888,
              "#fdca26"
             ],
             [
              1,
              "#f0f921"
             ]
            ],
            "type": "contour"
           }
          ],
          "contourcarpet": [
           {
            "colorbar": {
             "outlinewidth": 0,
             "ticks": ""
            },
            "type": "contourcarpet"
           }
          ],
          "heatmap": [
           {
            "colorbar": {
             "outlinewidth": 0,
             "ticks": ""
            },
            "colorscale": [
             [
              0,
              "#0d0887"
             ],
             [
              0.1111111111111111,
              "#46039f"
             ],
             [
              0.2222222222222222,
              "#7201a8"
             ],
             [
              0.3333333333333333,
              "#9c179e"
             ],
             [
              0.4444444444444444,
              "#bd3786"
             ],
             [
              0.5555555555555556,
              "#d8576b"
             ],
             [
              0.6666666666666666,
              "#ed7953"
             ],
             [
              0.7777777777777778,
              "#fb9f3a"
             ],
             [
              0.8888888888888888,
              "#fdca26"
             ],
             [
              1,
              "#f0f921"
             ]
            ],
            "type": "heatmap"
           }
          ],
          "heatmapgl": [
           {
            "colorbar": {
             "outlinewidth": 0,
             "ticks": ""
            },
            "colorscale": [
             [
              0,
              "#0d0887"
             ],
             [
              0.1111111111111111,
              "#46039f"
             ],
             [
              0.2222222222222222,
              "#7201a8"
             ],
             [
              0.3333333333333333,
              "#9c179e"
             ],
             [
              0.4444444444444444,
              "#bd3786"
             ],
             [
              0.5555555555555556,
              "#d8576b"
             ],
             [
              0.6666666666666666,
              "#ed7953"
             ],
             [
              0.7777777777777778,
              "#fb9f3a"
             ],
             [
              0.8888888888888888,
              "#fdca26"
             ],
             [
              1,
              "#f0f921"
             ]
            ],
            "type": "heatmapgl"
           }
          ],
          "histogram": [
           {
            "marker": {
             "pattern": {
              "fillmode": "overlay",
              "size": 10,
              "solidity": 0.2
             }
            },
            "type": "histogram"
           }
          ],
          "histogram2d": [
           {
            "colorbar": {
             "outlinewidth": 0,
             "ticks": ""
            },
            "colorscale": [
             [
              0,
              "#0d0887"
             ],
             [
              0.1111111111111111,
              "#46039f"
             ],
             [
              0.2222222222222222,
              "#7201a8"
             ],
             [
              0.3333333333333333,
              "#9c179e"
             ],
             [
              0.4444444444444444,
              "#bd3786"
             ],
             [
              0.5555555555555556,
              "#d8576b"
             ],
             [
              0.6666666666666666,
              "#ed7953"
             ],
             [
              0.7777777777777778,
              "#fb9f3a"
             ],
             [
              0.8888888888888888,
              "#fdca26"
             ],
             [
              1,
              "#f0f921"
             ]
            ],
            "type": "histogram2d"
           }
          ],
          "histogram2dcontour": [
           {
            "colorbar": {
             "outlinewidth": 0,
             "ticks": ""
            },
            "colorscale": [
             [
              0,
              "#0d0887"
             ],
             [
              0.1111111111111111,
              "#46039f"
             ],
             [
              0.2222222222222222,
              "#7201a8"
             ],
             [
              0.3333333333333333,
              "#9c179e"
             ],
             [
              0.4444444444444444,
              "#bd3786"
             ],
             [
              0.5555555555555556,
              "#d8576b"
             ],
             [
              0.6666666666666666,
              "#ed7953"
             ],
             [
              0.7777777777777778,
              "#fb9f3a"
             ],
             [
              0.8888888888888888,
              "#fdca26"
             ],
             [
              1,
              "#f0f921"
             ]
            ],
            "type": "histogram2dcontour"
           }
          ],
          "mesh3d": [
           {
            "colorbar": {
             "outlinewidth": 0,
             "ticks": ""
            },
            "type": "mesh3d"
           }
          ],
          "parcoords": [
           {
            "line": {
             "colorbar": {
              "outlinewidth": 0,
              "ticks": ""
             }
            },
            "type": "parcoords"
           }
          ],
          "pie": [
           {
            "automargin": true,
            "type": "pie"
           }
          ],
          "scatter": [
           {
            "marker": {
             "colorbar": {
              "outlinewidth": 0,
              "ticks": ""
             }
            },
            "type": "scatter"
           }
          ],
          "scatter3d": [
           {
            "line": {
             "colorbar": {
              "outlinewidth": 0,
              "ticks": ""
             }
            },
            "marker": {
             "colorbar": {
              "outlinewidth": 0,
              "ticks": ""
             }
            },
            "type": "scatter3d"
           }
          ],
          "scattercarpet": [
           {
            "marker": {
             "colorbar": {
              "outlinewidth": 0,
              "ticks": ""
             }
            },
            "type": "scattercarpet"
           }
          ],
          "scattergeo": [
           {
            "marker": {
             "colorbar": {
              "outlinewidth": 0,
              "ticks": ""
             }
            },
            "type": "scattergeo"
           }
          ],
          "scattergl": [
           {
            "marker": {
             "colorbar": {
              "outlinewidth": 0,
              "ticks": ""
             }
            },
            "type": "scattergl"
           }
          ],
          "scattermapbox": [
           {
            "marker": {
             "colorbar": {
              "outlinewidth": 0,
              "ticks": ""
             }
            },
            "type": "scattermapbox"
           }
          ],
          "scatterpolar": [
           {
            "marker": {
             "colorbar": {
              "outlinewidth": 0,
              "ticks": ""
             }
            },
            "type": "scatterpolar"
           }
          ],
          "scatterpolargl": [
           {
            "marker": {
             "colorbar": {
              "outlinewidth": 0,
              "ticks": ""
             }
            },
            "type": "scatterpolargl"
           }
          ],
          "scatterternary": [
           {
            "marker": {
             "colorbar": {
              "outlinewidth": 0,
              "ticks": ""
             }
            },
            "type": "scatterternary"
           }
          ],
          "surface": [
           {
            "colorbar": {
             "outlinewidth": 0,
             "ticks": ""
            },
            "colorscale": [
             [
              0,
              "#0d0887"
             ],
             [
              0.1111111111111111,
              "#46039f"
             ],
             [
              0.2222222222222222,
              "#7201a8"
             ],
             [
              0.3333333333333333,
              "#9c179e"
             ],
             [
              0.4444444444444444,
              "#bd3786"
             ],
             [
              0.5555555555555556,
              "#d8576b"
             ],
             [
              0.6666666666666666,
              "#ed7953"
             ],
             [
              0.7777777777777778,
              "#fb9f3a"
             ],
             [
              0.8888888888888888,
              "#fdca26"
             ],
             [
              1,
              "#f0f921"
             ]
            ],
            "type": "surface"
           }
          ],
          "table": [
           {
            "cells": {
             "fill": {
              "color": "#EBF0F8"
             },
             "line": {
              "color": "white"
             }
            },
            "header": {
             "fill": {
              "color": "#C8D4E3"
             },
             "line": {
              "color": "white"
             }
            },
            "type": "table"
           }
          ]
         },
         "layout": {
          "annotationdefaults": {
           "arrowcolor": "#2a3f5f",
           "arrowhead": 0,
           "arrowwidth": 1
          },
          "autotypenumbers": "strict",
          "coloraxis": {
           "colorbar": {
            "outlinewidth": 0,
            "ticks": ""
           }
          },
          "colorscale": {
           "diverging": [
            [
             0,
             "#8e0152"
            ],
            [
             0.1,
             "#c51b7d"
            ],
            [
             0.2,
             "#de77ae"
            ],
            [
             0.3,
             "#f1b6da"
            ],
            [
             0.4,
             "#fde0ef"
            ],
            [
             0.5,
             "#f7f7f7"
            ],
            [
             0.6,
             "#e6f5d0"
            ],
            [
             0.7,
             "#b8e186"
            ],
            [
             0.8,
             "#7fbc41"
            ],
            [
             0.9,
             "#4d9221"
            ],
            [
             1,
             "#276419"
            ]
           ],
           "sequential": [
            [
             0,
             "#0d0887"
            ],
            [
             0.1111111111111111,
             "#46039f"
            ],
            [
             0.2222222222222222,
             "#7201a8"
            ],
            [
             0.3333333333333333,
             "#9c179e"
            ],
            [
             0.4444444444444444,
             "#bd3786"
            ],
            [
             0.5555555555555556,
             "#d8576b"
            ],
            [
             0.6666666666666666,
             "#ed7953"
            ],
            [
             0.7777777777777778,
             "#fb9f3a"
            ],
            [
             0.8888888888888888,
             "#fdca26"
            ],
            [
             1,
             "#f0f921"
            ]
           ],
           "sequentialminus": [
            [
             0,
             "#0d0887"
            ],
            [
             0.1111111111111111,
             "#46039f"
            ],
            [
             0.2222222222222222,
             "#7201a8"
            ],
            [
             0.3333333333333333,
             "#9c179e"
            ],
            [
             0.4444444444444444,
             "#bd3786"
            ],
            [
             0.5555555555555556,
             "#d8576b"
            ],
            [
             0.6666666666666666,
             "#ed7953"
            ],
            [
             0.7777777777777778,
             "#fb9f3a"
            ],
            [
             0.8888888888888888,
             "#fdca26"
            ],
            [
             1,
             "#f0f921"
            ]
           ]
          },
          "colorway": [
           "#636efa",
           "#EF553B",
           "#00cc96",
           "#ab63fa",
           "#FFA15A",
           "#19d3f3",
           "#FF6692",
           "#B6E880",
           "#FF97FF",
           "#FECB52"
          ],
          "font": {
           "color": "#2a3f5f"
          },
          "geo": {
           "bgcolor": "white",
           "lakecolor": "white",
           "landcolor": "#E5ECF6",
           "showlakes": true,
           "showland": true,
           "subunitcolor": "white"
          },
          "hoverlabel": {
           "align": "left"
          },
          "hovermode": "closest",
          "mapbox": {
           "style": "light"
          },
          "paper_bgcolor": "white",
          "plot_bgcolor": "#E5ECF6",
          "polar": {
           "angularaxis": {
            "gridcolor": "white",
            "linecolor": "white",
            "ticks": ""
           },
           "bgcolor": "#E5ECF6",
           "radialaxis": {
            "gridcolor": "white",
            "linecolor": "white",
            "ticks": ""
           }
          },
          "scene": {
           "xaxis": {
            "backgroundcolor": "#E5ECF6",
            "gridcolor": "white",
            "gridwidth": 2,
            "linecolor": "white",
            "showbackground": true,
            "ticks": "",
            "zerolinecolor": "white"
           },
           "yaxis": {
            "backgroundcolor": "#E5ECF6",
            "gridcolor": "white",
            "gridwidth": 2,
            "linecolor": "white",
            "showbackground": true,
            "ticks": "",
            "zerolinecolor": "white"
           },
           "zaxis": {
            "backgroundcolor": "#E5ECF6",
            "gridcolor": "white",
            "gridwidth": 2,
            "linecolor": "white",
            "showbackground": true,
            "ticks": "",
            "zerolinecolor": "white"
           }
          },
          "shapedefaults": {
           "line": {
            "color": "#2a3f5f"
           }
          },
          "ternary": {
           "aaxis": {
            "gridcolor": "white",
            "linecolor": "white",
            "ticks": ""
           },
           "baxis": {
            "gridcolor": "white",
            "linecolor": "white",
            "ticks": ""
           },
           "bgcolor": "#E5ECF6",
           "caxis": {
            "gridcolor": "white",
            "linecolor": "white",
            "ticks": ""
           }
          },
          "title": {
           "x": 0.05
          },
          "xaxis": {
           "automargin": true,
           "gridcolor": "white",
           "linecolor": "white",
           "ticks": "",
           "title": {
            "standoff": 15
           },
           "zerolinecolor": "white",
           "zerolinewidth": 2
          },
          "yaxis": {
           "automargin": true,
           "gridcolor": "white",
           "linecolor": "white",
           "ticks": "",
           "title": {
            "standoff": 15
           },
           "zerolinecolor": "white",
           "zerolinewidth": 2
          }
         }
        },
        "title": {
         "text": "Training Results"
        }
       }
      },
      "text/html": [
       "<div>                            <div id=\"83927100-e9df-439d-b932-a404ba9c891c\" class=\"plotly-graph-div\" style=\"height:525px; width:100%;\"></div>            <script type=\"text/javascript\">                require([\"plotly\"], function(Plotly) {                    window.PLOTLYENV=window.PLOTLYENV || {};                                    if (document.getElementById(\"83927100-e9df-439d-b932-a404ba9c891c\")) {                    Plotly.newPlot(                        \"83927100-e9df-439d-b932-a404ba9c891c\",                        [{\"name\":\"model_tail_1_name_percent_part_correct\",\"x\":[0,1,2,3,4,5,6,7,8,9,10,11,12,13,14,15,16,17,18,19,20,21,22,23,24,25,26,27,28,29,30,31,32,33,34,35,36,37,38,39,40,41,42,43,44,45,46,47,48,49],\"y\":[0.7821165919303894,0.9820117950439453,0.9894096255302429,0.9915747046470642,0.9921838045120239,0.9928223490715027,0.9930718541145325,0.9934365153312683,0.9938278198242188,0.9937837719917297,0.9941580295562744,0.9939966201782227,0.9940530061721802,0.9946644306182861,0.9947892427444458,0.9947158098220825,0.9950534105300903,0.9949359893798828,0.9950364828109741,0.9951318502426147,0.9953616857528687,0.9954423904418945,0.995413601398468,0.9956258535385132,0.9957579970359802,0.9958510994911194,0.9958240389823914,0.9960588812828064,0.9961836338043213,0.9962276816368103,0.9960001707077026,0.9965285658836365,0.9964258670806885,0.9962643980979919,0.9965726137161255,0.9965212345123291,0.9963891506195068,0.9966510534286499,0.9964331984519958,0.9962987899780273,0.9962570667266846,0.9967047572135925,0.9969006180763245,0.9967854619026184,0.9967927932739258,0.9970056414604187,0.9967194199562073,0.9967560768127441,0.9968661665916443,0.9971230626106262],\"type\":\"scatter\",\"mode\":\"lines+markers\"},{\"name\":\"val_model_tail_1_name_percent_part_correct\",\"x\":[0,1,2,3,4,5,6,7,8,9,10,11,12,13,14,15,16,17,18,19,20,21,22,23,24,25,26,27,28,29,30,31,32,33,34,35,36,37,38,39,40,41,42,43,44,45,46,47,48,49],\"y\":[0.9683125615119934,0.9852544665336609,0.9895930886268616,0.9923487305641174,0.9930523037910461,0.9928470849990845,0.992935061454773,0.9927005171775818,0.9929057359695435,0.9923780560493469,0.9922314882278442,0.9925832748413086,0.9936093091964722,0.9931695461273193,0.9930816292762756,0.9922021627426147,0.9934040904045105,0.9930229783058167,0.9927884340286255,0.9937265515327454,0.993931770324707,0.9936972260475159,0.9934040904045105,0.9938144683837891,0.9934040904045105,0.9924073815345764,0.9941076636314392,0.9923194050788879,0.9932868480682373,0.9934920072555542,0.9939610958099365,0.9932575225830078,0.993374764919281,0.9924367070198059,0.9930816292762756,0.9927005171775818,0.9924367070198059,0.9928470849990845,0.9920849204063416,0.9925246238708496,0.992876410484314,0.9927884340286255,0.9926125407218933,0.9925246238708496,0.9924952983856201,0.9923194050788879,0.9925832748413086,0.9921141862869263,0.9922314882278442,0.9919090270996094],\"type\":\"scatter\",\"mode\":\"lines+markers\"}],                        {\"template\":{\"data\":{\"bar\":[{\"error_x\":{\"color\":\"#2a3f5f\"},\"error_y\":{\"color\":\"#2a3f5f\"},\"marker\":{\"line\":{\"color\":\"#E5ECF6\",\"width\":0.5},\"pattern\":{\"fillmode\":\"overlay\",\"size\":10,\"solidity\":0.2}},\"type\":\"bar\"}],\"barpolar\":[{\"marker\":{\"line\":{\"color\":\"#E5ECF6\",\"width\":0.5},\"pattern\":{\"fillmode\":\"overlay\",\"size\":10,\"solidity\":0.2}},\"type\":\"barpolar\"}],\"carpet\":[{\"aaxis\":{\"endlinecolor\":\"#2a3f5f\",\"gridcolor\":\"white\",\"linecolor\":\"white\",\"minorgridcolor\":\"white\",\"startlinecolor\":\"#2a3f5f\"},\"baxis\":{\"endlinecolor\":\"#2a3f5f\",\"gridcolor\":\"white\",\"linecolor\":\"white\",\"minorgridcolor\":\"white\",\"startlinecolor\":\"#2a3f5f\"},\"type\":\"carpet\"}],\"choropleth\":[{\"colorbar\":{\"outlinewidth\":0,\"ticks\":\"\"},\"type\":\"choropleth\"}],\"contour\":[{\"colorbar\":{\"outlinewidth\":0,\"ticks\":\"\"},\"colorscale\":[[0.0,\"#0d0887\"],[0.1111111111111111,\"#46039f\"],[0.2222222222222222,\"#7201a8\"],[0.3333333333333333,\"#9c179e\"],[0.4444444444444444,\"#bd3786\"],[0.5555555555555556,\"#d8576b\"],[0.6666666666666666,\"#ed7953\"],[0.7777777777777778,\"#fb9f3a\"],[0.8888888888888888,\"#fdca26\"],[1.0,\"#f0f921\"]],\"type\":\"contour\"}],\"contourcarpet\":[{\"colorbar\":{\"outlinewidth\":0,\"ticks\":\"\"},\"type\":\"contourcarpet\"}],\"heatmap\":[{\"colorbar\":{\"outlinewidth\":0,\"ticks\":\"\"},\"colorscale\":[[0.0,\"#0d0887\"],[0.1111111111111111,\"#46039f\"],[0.2222222222222222,\"#7201a8\"],[0.3333333333333333,\"#9c179e\"],[0.4444444444444444,\"#bd3786\"],[0.5555555555555556,\"#d8576b\"],[0.6666666666666666,\"#ed7953\"],[0.7777777777777778,\"#fb9f3a\"],[0.8888888888888888,\"#fdca26\"],[1.0,\"#f0f921\"]],\"type\":\"heatmap\"}],\"heatmapgl\":[{\"colorbar\":{\"outlinewidth\":0,\"ticks\":\"\"},\"colorscale\":[[0.0,\"#0d0887\"],[0.1111111111111111,\"#46039f\"],[0.2222222222222222,\"#7201a8\"],[0.3333333333333333,\"#9c179e\"],[0.4444444444444444,\"#bd3786\"],[0.5555555555555556,\"#d8576b\"],[0.6666666666666666,\"#ed7953\"],[0.7777777777777778,\"#fb9f3a\"],[0.8888888888888888,\"#fdca26\"],[1.0,\"#f0f921\"]],\"type\":\"heatmapgl\"}],\"histogram\":[{\"marker\":{\"pattern\":{\"fillmode\":\"overlay\",\"size\":10,\"solidity\":0.2}},\"type\":\"histogram\"}],\"histogram2d\":[{\"colorbar\":{\"outlinewidth\":0,\"ticks\":\"\"},\"colorscale\":[[0.0,\"#0d0887\"],[0.1111111111111111,\"#46039f\"],[0.2222222222222222,\"#7201a8\"],[0.3333333333333333,\"#9c179e\"],[0.4444444444444444,\"#bd3786\"],[0.5555555555555556,\"#d8576b\"],[0.6666666666666666,\"#ed7953\"],[0.7777777777777778,\"#fb9f3a\"],[0.8888888888888888,\"#fdca26\"],[1.0,\"#f0f921\"]],\"type\":\"histogram2d\"}],\"histogram2dcontour\":[{\"colorbar\":{\"outlinewidth\":0,\"ticks\":\"\"},\"colorscale\":[[0.0,\"#0d0887\"],[0.1111111111111111,\"#46039f\"],[0.2222222222222222,\"#7201a8\"],[0.3333333333333333,\"#9c179e\"],[0.4444444444444444,\"#bd3786\"],[0.5555555555555556,\"#d8576b\"],[0.6666666666666666,\"#ed7953\"],[0.7777777777777778,\"#fb9f3a\"],[0.8888888888888888,\"#fdca26\"],[1.0,\"#f0f921\"]],\"type\":\"histogram2dcontour\"}],\"mesh3d\":[{\"colorbar\":{\"outlinewidth\":0,\"ticks\":\"\"},\"type\":\"mesh3d\"}],\"parcoords\":[{\"line\":{\"colorbar\":{\"outlinewidth\":0,\"ticks\":\"\"}},\"type\":\"parcoords\"}],\"pie\":[{\"automargin\":true,\"type\":\"pie\"}],\"scatter\":[{\"marker\":{\"colorbar\":{\"outlinewidth\":0,\"ticks\":\"\"}},\"type\":\"scatter\"}],\"scatter3d\":[{\"line\":{\"colorbar\":{\"outlinewidth\":0,\"ticks\":\"\"}},\"marker\":{\"colorbar\":{\"outlinewidth\":0,\"ticks\":\"\"}},\"type\":\"scatter3d\"}],\"scattercarpet\":[{\"marker\":{\"colorbar\":{\"outlinewidth\":0,\"ticks\":\"\"}},\"type\":\"scattercarpet\"}],\"scattergeo\":[{\"marker\":{\"colorbar\":{\"outlinewidth\":0,\"ticks\":\"\"}},\"type\":\"scattergeo\"}],\"scattergl\":[{\"marker\":{\"colorbar\":{\"outlinewidth\":0,\"ticks\":\"\"}},\"type\":\"scattergl\"}],\"scattermapbox\":[{\"marker\":{\"colorbar\":{\"outlinewidth\":0,\"ticks\":\"\"}},\"type\":\"scattermapbox\"}],\"scatterpolar\":[{\"marker\":{\"colorbar\":{\"outlinewidth\":0,\"ticks\":\"\"}},\"type\":\"scatterpolar\"}],\"scatterpolargl\":[{\"marker\":{\"colorbar\":{\"outlinewidth\":0,\"ticks\":\"\"}},\"type\":\"scatterpolargl\"}],\"scatterternary\":[{\"marker\":{\"colorbar\":{\"outlinewidth\":0,\"ticks\":\"\"}},\"type\":\"scatterternary\"}],\"surface\":[{\"colorbar\":{\"outlinewidth\":0,\"ticks\":\"\"},\"colorscale\":[[0.0,\"#0d0887\"],[0.1111111111111111,\"#46039f\"],[0.2222222222222222,\"#7201a8\"],[0.3333333333333333,\"#9c179e\"],[0.4444444444444444,\"#bd3786\"],[0.5555555555555556,\"#d8576b\"],[0.6666666666666666,\"#ed7953\"],[0.7777777777777778,\"#fb9f3a\"],[0.8888888888888888,\"#fdca26\"],[1.0,\"#f0f921\"]],\"type\":\"surface\"}],\"table\":[{\"cells\":{\"fill\":{\"color\":\"#EBF0F8\"},\"line\":{\"color\":\"white\"}},\"header\":{\"fill\":{\"color\":\"#C8D4E3\"},\"line\":{\"color\":\"white\"}},\"type\":\"table\"}]},\"layout\":{\"annotationdefaults\":{\"arrowcolor\":\"#2a3f5f\",\"arrowhead\":0,\"arrowwidth\":1},\"autotypenumbers\":\"strict\",\"coloraxis\":{\"colorbar\":{\"outlinewidth\":0,\"ticks\":\"\"}},\"colorscale\":{\"diverging\":[[0,\"#8e0152\"],[0.1,\"#c51b7d\"],[0.2,\"#de77ae\"],[0.3,\"#f1b6da\"],[0.4,\"#fde0ef\"],[0.5,\"#f7f7f7\"],[0.6,\"#e6f5d0\"],[0.7,\"#b8e186\"],[0.8,\"#7fbc41\"],[0.9,\"#4d9221\"],[1,\"#276419\"]],\"sequential\":[[0.0,\"#0d0887\"],[0.1111111111111111,\"#46039f\"],[0.2222222222222222,\"#7201a8\"],[0.3333333333333333,\"#9c179e\"],[0.4444444444444444,\"#bd3786\"],[0.5555555555555556,\"#d8576b\"],[0.6666666666666666,\"#ed7953\"],[0.7777777777777778,\"#fb9f3a\"],[0.8888888888888888,\"#fdca26\"],[1.0,\"#f0f921\"]],\"sequentialminus\":[[0.0,\"#0d0887\"],[0.1111111111111111,\"#46039f\"],[0.2222222222222222,\"#7201a8\"],[0.3333333333333333,\"#9c179e\"],[0.4444444444444444,\"#bd3786\"],[0.5555555555555556,\"#d8576b\"],[0.6666666666666666,\"#ed7953\"],[0.7777777777777778,\"#fb9f3a\"],[0.8888888888888888,\"#fdca26\"],[1.0,\"#f0f921\"]]},\"colorway\":[\"#636efa\",\"#EF553B\",\"#00cc96\",\"#ab63fa\",\"#FFA15A\",\"#19d3f3\",\"#FF6692\",\"#B6E880\",\"#FF97FF\",\"#FECB52\"],\"font\":{\"color\":\"#2a3f5f\"},\"geo\":{\"bgcolor\":\"white\",\"lakecolor\":\"white\",\"landcolor\":\"#E5ECF6\",\"showlakes\":true,\"showland\":true,\"subunitcolor\":\"white\"},\"hoverlabel\":{\"align\":\"left\"},\"hovermode\":\"closest\",\"mapbox\":{\"style\":\"light\"},\"paper_bgcolor\":\"white\",\"plot_bgcolor\":\"#E5ECF6\",\"polar\":{\"angularaxis\":{\"gridcolor\":\"white\",\"linecolor\":\"white\",\"ticks\":\"\"},\"bgcolor\":\"#E5ECF6\",\"radialaxis\":{\"gridcolor\":\"white\",\"linecolor\":\"white\",\"ticks\":\"\"}},\"scene\":{\"xaxis\":{\"backgroundcolor\":\"#E5ECF6\",\"gridcolor\":\"white\",\"gridwidth\":2,\"linecolor\":\"white\",\"showbackground\":true,\"ticks\":\"\",\"zerolinecolor\":\"white\"},\"yaxis\":{\"backgroundcolor\":\"#E5ECF6\",\"gridcolor\":\"white\",\"gridwidth\":2,\"linecolor\":\"white\",\"showbackground\":true,\"ticks\":\"\",\"zerolinecolor\":\"white\"},\"zaxis\":{\"backgroundcolor\":\"#E5ECF6\",\"gridcolor\":\"white\",\"gridwidth\":2,\"linecolor\":\"white\",\"showbackground\":true,\"ticks\":\"\",\"zerolinecolor\":\"white\"}},\"shapedefaults\":{\"line\":{\"color\":\"#2a3f5f\"}},\"ternary\":{\"aaxis\":{\"gridcolor\":\"white\",\"linecolor\":\"white\",\"ticks\":\"\"},\"baxis\":{\"gridcolor\":\"white\",\"linecolor\":\"white\",\"ticks\":\"\"},\"bgcolor\":\"#E5ECF6\",\"caxis\":{\"gridcolor\":\"white\",\"linecolor\":\"white\",\"ticks\":\"\"}},\"title\":{\"x\":0.05},\"xaxis\":{\"automargin\":true,\"gridcolor\":\"white\",\"linecolor\":\"white\",\"ticks\":\"\",\"title\":{\"standoff\":15},\"zerolinecolor\":\"white\",\"zerolinewidth\":2},\"yaxis\":{\"automargin\":true,\"gridcolor\":\"white\",\"linecolor\":\"white\",\"ticks\":\"\",\"title\":{\"standoff\":15},\"zerolinecolor\":\"white\",\"zerolinewidth\":2}}},\"legend\":{\"font\":{\"size\":16},\"y\":0.5,\"traceorder\":\"reversed\"},\"title\":{\"text\":\"Training Results\"}},                        {\"responsive\": true}                    ).then(function(){\n",
       "                            \n",
       "var gd = document.getElementById('83927100-e9df-439d-b932-a404ba9c891c');\n",
       "var x = new MutationObserver(function (mutations, observer) {{\n",
       "        var display = window.getComputedStyle(gd).display;\n",
       "        if (!display || display === 'none') {{\n",
       "            console.log([gd, 'removed!']);\n",
       "            Plotly.purge(gd);\n",
       "            observer.disconnect();\n",
       "        }}\n",
       "}});\n",
       "\n",
       "// Listen for the removal of the full notebook cells\n",
       "var notebookContainer = gd.closest('#notebook-container');\n",
       "if (notebookContainer) {{\n",
       "    x.observe(notebookContainer, {childList: true});\n",
       "}}\n",
       "\n",
       "// Listen for the clearing of the current output cell\n",
       "var outputEl = gd.closest('.output');\n",
       "if (outputEl) {{\n",
       "    x.observe(outputEl, {childList: true});\n",
       "}}\n",
       "\n",
       "                        })                };                });            </script>        </div>"
      ]
     },
     "metadata": {},
     "output_type": "display_data"
    },
    {
     "ename": "KeyError",
     "evalue": "'model_tail_2_qty_mse'",
     "output_type": "error",
     "traceback": [
      "\u001b[0;31m---------------------------------------------------------------------------\u001b[0m",
      "\u001b[0;31mKeyError\u001b[0m                                  Traceback (most recent call last)",
      "\u001b[0;32m/var/folders/8v/d50_nc2n7kj916nj0mct09f40000gn/T/ipykernel_6069/1283597556.py\u001b[0m in \u001b[0;36m<module>\u001b[0;34m\u001b[0m\n\u001b[1;32m     17\u001b[0m \u001b[0mplot_graphs\u001b[0m\u001b[0;34m(\u001b[0m\u001b[0mmodel\u001b[0m\u001b[0;34m.\u001b[0m\u001b[0mhistory\u001b[0m\u001b[0;34m,\u001b[0m \u001b[0;34m[\u001b[0m\u001b[0;34m\"loss\"\u001b[0m\u001b[0;34m,\u001b[0m \u001b[0;34m\"model_tail_1_loss\"\u001b[0m\u001b[0;34m,\u001b[0m \u001b[0;34m\"model_tail_2_loss\"\u001b[0m\u001b[0;34m]\u001b[0m\u001b[0;34m)\u001b[0m\u001b[0;34m\u001b[0m\u001b[0;34m\u001b[0m\u001b[0m\n\u001b[1;32m     18\u001b[0m \u001b[0mplot_graphs\u001b[0m\u001b[0;34m(\u001b[0m\u001b[0mmodel\u001b[0m\u001b[0;34m.\u001b[0m\u001b[0mhistory\u001b[0m\u001b[0;34m,\u001b[0m \u001b[0;34m[\u001b[0m\u001b[0;34m'model_tail_1_name_percent_part_correct'\u001b[0m\u001b[0;34m]\u001b[0m\u001b[0;34m)\u001b[0m\u001b[0;34m\u001b[0m\u001b[0;34m\u001b[0m\u001b[0m\n\u001b[0;32m---> 19\u001b[0;31m \u001b[0mplot_graphs\u001b[0m\u001b[0;34m(\u001b[0m\u001b[0mmodel\u001b[0m\u001b[0;34m.\u001b[0m\u001b[0mhistory\u001b[0m\u001b[0;34m,\u001b[0m \u001b[0;34m[\u001b[0m\u001b[0;34m'model_tail_2_qty_mse'\u001b[0m\u001b[0;34m,\u001b[0m \u001b[0;34m'model_tail_2_range_mse'\u001b[0m\u001b[0;34m]\u001b[0m\u001b[0;34m)\u001b[0m\u001b[0;34m\u001b[0m\u001b[0;34m\u001b[0m\u001b[0m\n\u001b[0m",
      "\u001b[0;32m/var/folders/8v/d50_nc2n7kj916nj0mct09f40000gn/T/ipykernel_6069/1283597556.py\u001b[0m in \u001b[0;36mplot_graphs\u001b[0;34m(history, strings)\u001b[0m\n\u001b[1;32m      5\u001b[0m     \u001b[0mx\u001b[0m \u001b[0;34m=\u001b[0m \u001b[0mlist\u001b[0m\u001b[0;34m(\u001b[0m\u001b[0mrange\u001b[0m\u001b[0;34m(\u001b[0m\u001b[0mNUM_EPOCHS\u001b[0m\u001b[0;34m)\u001b[0m\u001b[0;34m)\u001b[0m\u001b[0;34m\u001b[0m\u001b[0;34m\u001b[0m\u001b[0m\n\u001b[1;32m      6\u001b[0m     \u001b[0;32mfor\u001b[0m \u001b[0mstring\u001b[0m \u001b[0;32min\u001b[0m \u001b[0mstrings\u001b[0m\u001b[0;34m:\u001b[0m\u001b[0;34m\u001b[0m\u001b[0;34m\u001b[0m\u001b[0m\n\u001b[0;32m----> 7\u001b[0;31m         fig.add_scatter(x=x, y=history.history[string],\n\u001b[0m\u001b[1;32m      8\u001b[0m                         name=string)\n\u001b[1;32m      9\u001b[0m         fig.add_scatter(x=x, y=history.history['val_'+string],\n",
      "\u001b[0;31mKeyError\u001b[0m: 'model_tail_2_qty_mse'"
     ]
    }
   ],
   "source": [
    "import plotly.graph_objects as go\n",
    "\n",
    "def plot_graphs(history, strings):\n",
    "    fig = go.Figure()\n",
    "    x = list(range(NUM_EPOCHS))\n",
    "    for string in strings:\n",
    "        fig.add_scatter(x=x, y=history.history[string],\n",
    "                        name=string)\n",
    "        fig.add_scatter(x=x, y=history.history['val_'+string],\n",
    "                        name='val_'+string)\n",
    "    fig.update_traces(mode='lines+markers')# hoverinfo='text+name+y', \n",
    "    fig.update_layout(legend=dict(y=0.5, traceorder='reversed', font_size=16), \n",
    "                    title=\"Training Results\")\n",
    "    fig.show()\n",
    "\n",
    "plot_graphs(model.history, [\"model_tail_1_name_f1_score\", \"model_tail_1_unit_f1_score\"])\n",
    "plot_graphs(model.history, [\"loss\", \"model_tail_1_loss\", \"model_tail_2_loss\"])\n",
    "plot_graphs(model.history, ['model_tail_1_name_percent_part_correct'])\n",
    "plot_graphs(model.history, ['model_tail_2_qty_mse'])\n"
   ]
  },
  {
   "cell_type": "markdown",
   "metadata": {},
   "source": [
    "The above loss graph can be used to adjust the weights on each of the contributing losses based on when each tail starts to overfit, ideally they will all start to overfit at the same time.\n",
    "\n",
    "The below code can be used to select the epoch number to use as the final model. It will then load in those weights before saving the tensorflow lite model."
   ]
  },
  {
   "cell_type": "code",
   "execution_count": 28,
   "metadata": {},
   "outputs": [
    {
     "data": {
      "text/plain": [
       "<tensorflow.python.training.tracking.util.CheckpointLoadStatus at 0x179d0ee50>"
      ]
     },
     "execution_count": 28,
     "metadata": {},
     "output_type": "execute_result"
    }
   ],
   "source": [
    "epoch_num = 41\n",
    "\n",
    "weights_file = f'./models/model{str(epoch_num).zfill(8)}.ckpt'\n",
    "\n",
    "model.load_weights(weights_file)\n"
   ]
  },
  {
   "cell_type": "markdown",
   "metadata": {},
   "source": [
    "## Save Model as TF Lite"
   ]
  },
  {
   "cell_type": "code",
   "execution_count": 44,
   "metadata": {},
   "outputs": [
    {
     "name": "stderr",
     "output_type": "stream",
     "text": [
      "WARNING:absl:Found untraced functions such as lstm_cell_1_layer_call_fn, lstm_cell_1_layer_call_and_return_conditional_losses, lstm_cell_2_layer_call_fn, lstm_cell_2_layer_call_and_return_conditional_losses, lstm_cell_4_layer_call_fn while saving (showing 5 of 8). These functions will not be directly callable after loading.\n"
     ]
    },
    {
     "name": "stdout",
     "output_type": "stream",
     "text": [
      "INFO:tensorflow:Assets written to: /var/folders/8v/d50_nc2n7kj916nj0mct09f40000gn/T/tmprz1eblx6/assets\n"
     ]
    },
    {
     "name": "stderr",
     "output_type": "stream",
     "text": [
      "INFO:tensorflow:Assets written to: /var/folders/8v/d50_nc2n7kj916nj0mct09f40000gn/T/tmprz1eblx6/assets\n",
      "2022-03-22 08:14:47.482968: W tensorflow/compiler/mlir/lite/python/tf_tfl_flatbuffer_helpers.cc:357] Ignored output_format.\n",
      "2022-03-22 08:14:47.483035: W tensorflow/compiler/mlir/lite/python/tf_tfl_flatbuffer_helpers.cc:360] Ignored drop_control_dependency.\n",
      "2022-03-22 08:14:47.485117: I tensorflow/cc/saved_model/reader.cc:43] Reading SavedModel from: /var/folders/8v/d50_nc2n7kj916nj0mct09f40000gn/T/tmprz1eblx6\n",
      "2022-03-22 08:14:47.570431: I tensorflow/cc/saved_model/reader.cc:78] Reading meta graph with tags { serve }\n",
      "2022-03-22 08:14:47.570458: I tensorflow/cc/saved_model/reader.cc:119] Reading SavedModel debug info (if present) from: /var/folders/8v/d50_nc2n7kj916nj0mct09f40000gn/T/tmprz1eblx6\n",
      "2022-03-22 08:14:47.940360: I tensorflow/cc/saved_model/loader.cc:228] Restoring SavedModel bundle.\n",
      "2022-03-22 08:14:48.516280: I tensorflow/cc/saved_model/loader.cc:212] Running initialization op on SavedModel bundle at path: /var/folders/8v/d50_nc2n7kj916nj0mct09f40000gn/T/tmprz1eblx6\n",
      "2022-03-22 08:14:48.972480: I tensorflow/cc/saved_model/loader.cc:301] SavedModel load for tags { serve }; Status: success: OK. Took 1487391 microseconds.\n",
      "2022-03-22 08:14:51.073162: W tensorflow/compiler/mlir/lite/flatbuffer_export.cc:1892] TFLite interpreter needs to link Flex delegate in order to run the model since it contains the following Select TFop(s):\n",
      "Flex ops: FlexTensorListFromTensor, FlexTensorListGetItem, FlexTensorListReserve, FlexTensorListSetItem, FlexTensorListStack\n",
      "Details:\n",
      "\ttf.TensorListFromTensor(tensor<60x?x100xf32>, tensor<2xi32>) -> (tensor<!tf_type.variant<tensor<?x100xf32>>>) : {device = \"\"}\n",
      "\ttf.TensorListFromTensor(tensor<?x?x128xf32>, tensor<2xi32>) -> (tensor<!tf_type.variant<tensor<?x128xf32>>>) : {device = \"\"}\n",
      "\ttf.TensorListGetItem(tensor<!tf_type.variant<tensor<?x100xf32>>>, tensor<i32>, tensor<2xi32>) -> (tensor<?x100xf32>) : {device = \"\"}\n",
      "\ttf.TensorListGetItem(tensor<!tf_type.variant<tensor<?x128xf32>>>, tensor<i32>, tensor<2xi32>) -> (tensor<?x128xf32>) : {device = \"\"}\n",
      "\ttf.TensorListReserve(tensor<2xi32>, tensor<i32>) -> (tensor<!tf_type.variant<tensor<?x64xf32>>>) : {device = \"\"}\n",
      "\ttf.TensorListSetItem(tensor<!tf_type.variant<tensor<?x64xf32>>>, tensor<i32>, tensor<?x64xf32>) -> (tensor<!tf_type.variant<tensor<?xWARNING:absl:Buffer deduplication procedure will be skipped when flatbuffer library is not properly loaded\n",
      "64xf32>>>) : {device = \"\"}\n",
      "\ttf.TensorListStack(tensor<!tf_type.variant<tensor<?x64xf32>>>, tensor<2xi32>) -> (tensor<?x?x64xf32>) : {device = \"\", num_elements = -1 : i64}\n",
      "See instructions: https://www.tensorflow.org/lite/guide/ops_select\n"
     ]
    }
   ],
   "source": [
    "# Convert the model.\n",
    "converter = tf.lite.TFLiteConverter.from_keras_model(model)\n",
    "converter.target_spec.supported_ops = [tf.lite.OpsSet.TFLITE_BUILTINS, tf.lite.OpsSet.SELECT_TF_OPS]\n",
    "converter._experimental_lower_tensor_list_ops = False\n",
    "tflite_model = converter.convert()\n",
    "\n",
    "# Save the model.\n",
    "with open('models/output_model.tflite', 'wb') as f:\n",
    "    f.write(tflite_model)"
   ]
  },
  {
   "cell_type": "markdown",
   "metadata": {},
   "source": [
    "## Analyse Success and Failure Cases"
   ]
  },
  {
   "cell_type": "code",
   "execution_count": 30,
   "metadata": {
    "scrolled": true
   },
   "outputs": [
    {
     "name": "stdout",
     "output_type": "stream",
     "text": [
      "Sentence: 3 / 4 cup canola oil\n",
      "\n",
      "y_name: canola oil\n",
      "pred_name: canola oil\n",
      "\n",
      "y_unit: cup\n",
      "pred_unit: cup\n",
      "\n",
      "y_qty: [0.75]\n",
      "pred_qty: [0.73862684]\n",
      "\n",
      "Sentence: 1 teaspoon dijon mustard\n",
      "\n",
      "y_name: dijon mustard\n",
      "pred_name: dijon mustard\n",
      "\n",
      "y_unit: teaspoon\n",
      "pred_unit: teaspoon\n",
      "\n",
      "y_qty: [1.]\n",
      "pred_qty: [1.0166024]\n",
      "\n",
      "Sentence: 1 1 / 2 tablespoons fresh lemon juice\n",
      "\n",
      "y_name: lemon juice\n",
      "pred_name: lemon juice\n",
      "\n",
      "y_unit: tablespoons\n",
      "pred_unit: tablespoons\n",
      "\n",
      "y_qty: [1.5]\n",
      "pred_qty: [1.5255483]\n",
      "\n",
      "Sentence: 1 egg\n",
      "\n",
      "y_name: egg\n",
      "pred_name: egg\n",
      "\n",
      "y_unit: \n",
      "pred_unit: \n",
      "\n",
      "y_qty: [1.]\n",
      "pred_qty: [1.0326877]\n",
      "\n",
      "Sentence: 1 / 4 cup plus 1 tablespoon finely sliced chives\n",
      "\n",
      "y_name: chives\n",
      "pred_name: \n",
      "\n",
      "y_unit: tablespoon\n",
      "pred_unit: tablespoon\n",
      "\n",
      "y_qty: [5.]\n",
      "pred_qty: [6.272671]\n",
      "\n",
      "Sentence: 1 cup warm water\n",
      "\n",
      "y_name: water\n",
      "pred_name: water\n",
      "\n",
      "y_unit: cup\n",
      "pred_unit: cup\n",
      "\n",
      "y_qty: [1.]\n",
      "pred_qty: [1.0006813]\n",
      "\n",
      "Sentence: 1 tablespoon garlic infused olive oil\n",
      "\n",
      "y_name: olive oil\n",
      "pred_name: olive oil\n",
      "\n",
      "y_unit: tablespoon\n",
      "pred_unit: tablespoon\n",
      "\n",
      "y_qty: [1.]\n",
      "pred_qty: [1.0169048]\n",
      "\n",
      "Sentence: 1 teaspoon freshly ground pepper\n",
      "\n",
      "y_name: pepper\n",
      "pred_name: pepper\n",
      "\n",
      "y_unit: teaspoon\n",
      "pred_unit: teaspoon\n",
      "\n",
      "y_qty: [1.]\n",
      "pred_qty: [1.0379417]\n",
      "\n",
      "Sentence: 2 teaspoons kosher salt\n",
      "\n",
      "y_name: salt\n",
      "pred_name: salt\n",
      "\n",
      "y_unit: teaspoons\n",
      "pred_unit: teaspoons\n",
      "\n",
      "y_qty: [2.]\n",
      "pred_qty: [2.0160556]\n",
      "\n",
      "Sentence: 1 teaspoon grated lemon zest\n",
      "\n",
      "y_name: lemon\n",
      "pred_name: lemon\n",
      "\n",
      "y_unit: teaspoon\n",
      "pred_unit: teaspoon\n",
      "\n",
      "y_qty: [1.]\n",
      "pred_qty: [1.0071634]\n",
      "\n",
      "Sentence: 2 teaspoons chopped fresh thyme\n",
      "\n",
      "y_name: thyme\n",
      "pred_name: thyme\n",
      "\n",
      "y_unit: teaspoons\n",
      "pred_unit: teaspoons\n",
      "\n",
      "y_qty: [2.]\n",
      "pred_qty: [2.0161178]\n",
      "\n",
      "Sentence: 2 1 / 2 to 3 cups all purpose flour\n",
      "\n",
      "y_name: all purpose flour\n",
      "pred_name: all purpose flour\n",
      "\n",
      "y_unit: cups\n",
      "pred_unit: cups\n",
      "\n",
      "y_qty: [2.5]\n",
      "pred_qty: [2.4782333]\n",
      "\n",
      "Sentence: 3 tablespoons olive oil , plus oil for greasing the bowl and baking sheet\n",
      "\n",
      "y_name: olive oil\n",
      "pred_name: olive oil\n",
      "\n",
      "y_unit: tablespoons\n",
      "pred_unit: tablespoons\n",
      "\n",
      "y_qty: [3.]\n",
      "pred_qty: [2.9330044]\n",
      "\n",
      "Sentence: 1 package 1 / 4 ounce active dry yeast\n",
      "\n",
      "y_name: dry yeast\n",
      "pred_name: active dry yeast\n",
      "\n",
      "y_unit: package\n",
      "pred_unit: package\n",
      "\n",
      "y_qty: [1.]\n",
      "pred_qty: [1.030319]\n",
      "\n",
      "Sentence: juice and finely grated zest of 1 lemon\n",
      "\n",
      "y_name: lemon\n",
      "pred_name: lemon\n",
      "\n",
      "y_unit: \n",
      "pred_unit: \n",
      "\n",
      "y_qty: [1.]\n",
      "pred_qty: [1.034936]\n",
      "\n",
      "Sentence: 4 ounces sugar snap peas\n",
      "\n",
      "y_name: sugar snap peas\n",
      "pred_name: sugar snap peas\n",
      "\n",
      "y_unit: ounces\n",
      "pred_unit: ounces\n",
      "\n",
      "y_qty: [4.]\n",
      "pred_qty: [4.0518303]\n",
      "\n",
      "Sentence: 1 pound uncooked orzo pasta\n",
      "\n",
      "y_name: orzo pasta\n",
      "pred_name: orzo pasta\n",
      "\n",
      "y_unit: pound\n",
      "pred_unit: pound\n",
      "\n",
      "y_qty: [1.]\n",
      "pred_qty: [1.0165081]\n",
      "\n",
      "Sentence: 2 tablespoons extra virgin olive oil\n",
      "\n",
      "y_name: olive oil\n",
      "pred_name: extra virgin olive oil\n",
      "\n",
      "y_unit: tablespoons\n",
      "pred_unit: tablespoons\n",
      "\n",
      "y_qty: [2.]\n",
      "pred_qty: [2.056775]\n",
      "\n",
      "Sentence: 1 tablespoon olive oil not extra virgin\n",
      "\n",
      "y_name: olive oil\n",
      "pred_name: olive oil\n",
      "\n",
      "y_unit: tablespoon\n",
      "pred_unit: tablespoon\n",
      "\n",
      "y_qty: [1.]\n",
      "pred_qty: [0.98798496]\n",
      "\n",
      "Sentence: 1 tablespoon superfine sugar\n",
      "\n",
      "y_name: sugar\n",
      "pred_name: sugar\n",
      "\n",
      "y_unit: tablespoon\n",
      "pred_unit: tablespoon\n",
      "\n",
      "y_qty: [1.]\n",
      "pred_qty: [1.0149376]\n",
      "\n",
      "Sentence: 2 tablespoons chopped fresh tarragon leaves\n",
      "\n",
      "y_name: tarragon leaves\n",
      "pred_name: tarragon leaves\n",
      "\n",
      "y_unit: tablespoons\n",
      "pred_unit: tablespoons\n",
      "\n",
      "y_qty: [2.]\n",
      "pred_qty: [2.0303307]\n",
      "\n",
      "Sentence: 1 pound fresh fava beans in the pods\n",
      "\n",
      "y_name: fava beans\n",
      "pred_name: fava beans\n",
      "\n",
      "y_unit: pound\n",
      "pred_unit: pound\n",
      "\n",
      "y_qty: [1.]\n",
      "pred_qty: [1.022444]\n",
      "\n",
      "Sentence: 1 pound fresh peas in the pods\n",
      "\n",
      "y_name: peas\n",
      "pred_name: peas pods\n",
      "\n",
      "y_unit: pound\n",
      "pred_unit: pound\n",
      "\n",
      "y_qty: [1.]\n",
      "pred_qty: [1.010131]\n",
      "\n",
      "Sentence: 1 pound thin asparagus spears\n",
      "\n",
      "y_name: asparagus spears\n",
      "pred_name: asparagus spears\n",
      "\n",
      "y_unit: pound\n",
      "pred_unit: pound\n",
      "\n",
      "y_qty: [1.]\n",
      "pred_qty: [1.0178418]\n",
      "\n",
      "Sentence: 4 ounces haricots verts , trimmed\n",
      "\n",
      "y_name: haricots verts\n",
      "pred_name: haricots verts\n",
      "\n",
      "y_unit: ounces\n",
      "pred_unit: ounces\n",
      "\n",
      "y_qty: [4.]\n",
      "pred_qty: [4.050331]\n",
      "\n",
      "Sentence: 1 / 2 teaspoon dijon mustard\n",
      "\n",
      "y_name: dijon mustard\n",
      "pred_name: dijon mustard\n",
      "\n",
      "y_unit: teaspoon\n",
      "pred_unit: teaspoon\n",
      "\n",
      "y_qty: [0.5]\n",
      "pred_qty: [0.49091312]\n",
      "\n",
      "Sentence: 1 large egg\n",
      "\n",
      "y_name: egg\n",
      "pred_name: egg\n",
      "\n",
      "y_unit: \n",
      "pred_unit: \n",
      "\n",
      "y_qty: [1.]\n",
      "pred_qty: [1.0364203]\n",
      "\n",
      "Sentence: 1 / 4 cup tarragon vinegar\n",
      "\n",
      "y_name: tarragon vinegar\n",
      "pred_name: tarragon vinegar\n",
      "\n",
      "y_unit: cup\n",
      "pred_unit: cup\n",
      "\n",
      "y_qty: [0.25]\n",
      "pred_qty: [0.2487151]\n",
      "\n",
      "Sentence: 1 cup whole milk\n",
      "\n",
      "y_name: milk\n",
      "pred_name: milk\n",
      "\n",
      "y_unit: cup\n",
      "pred_unit: cup\n",
      "\n",
      "y_qty: [1.]\n",
      "pred_qty: [1.0074759]\n",
      "\n",
      "Sentence: 1 1 / 2 tablespoons all purpose flour\n",
      "\n",
      "y_name: all purpose flour\n",
      "pred_name: all purpose flour\n",
      "\n",
      "y_unit: tablespoons\n",
      "pred_unit: tablespoons\n",
      "\n",
      "y_qty: [1.5]\n",
      "pred_qty: [1.4436085]\n",
      "\n",
      "Sentence: 1 / 4 cup fresh tarragon leaves\n",
      "\n",
      "y_name: tarragon leaves\n",
      "pred_name: tarragon leaves\n",
      "\n",
      "y_unit: cup\n",
      "pred_unit: cup\n",
      "\n",
      "y_qty: [0.25]\n",
      "pred_qty: [0.23551065]\n",
      "\n",
      "Sentence: 1 5 1 / 2 pound rolled turkey breast , tied at intervals to shape it like a sausage ask your butcher to do this\n",
      "\n",
      "y_name: turkey breast\n",
      "pred_name: turkey breast\n",
      "\n",
      "y_unit: pound\n",
      "pred_unit: pound\n",
      "\n",
      "y_qty: [5.5]\n",
      "pred_qty: [2.7305849]\n",
      "\n",
      "Sentence: 1 / 4 cup olive oil\n",
      "\n",
      "y_name: olive oil\n",
      "pred_name: olive oil\n",
      "\n",
      "y_unit: cup\n",
      "pred_unit: cup\n",
      "\n",
      "y_qty: [0.25]\n",
      "pred_qty: [0.25981355]\n",
      "\n",
      "Sentence: 1 lemon , cut into 1 / 4 inch slices\n",
      "\n",
      "y_name: lemon\n",
      "pred_name: lemon\n",
      "\n",
      "y_unit: \n",
      "pred_unit: \n",
      "\n",
      "y_qty: [1.]\n",
      "pred_qty: [1.0155878]\n",
      "\n",
      "Sentence: 1 large or two small garlic cloves , bruised and peeled\n",
      "\n",
      "y_name: garlic\n",
      "pred_name: garlic\n",
      "\n",
      "y_unit: cloves\n",
      "pred_unit: cloves\n",
      "\n",
      "y_qty: [1.]\n",
      "pred_qty: [1.113279]\n",
      "\n",
      "Sentence: 1 onion , peeled and quartered\n",
      "\n",
      "y_name: onion\n",
      "pred_name: onion\n",
      "\n",
      "y_unit: \n",
      "pred_unit: \n",
      "\n",
      "y_qty: [1.]\n",
      "pred_qty: [1.0321158]\n",
      "\n",
      "Sentence: 1 / 2 cup packed dark brown sugar\n",
      "\n",
      "y_name: dark brown sugar\n",
      "pred_name: dark brown sugar\n",
      "\n",
      "y_unit: cup\n",
      "pred_unit: cup\n",
      "\n",
      "y_qty: [0.5]\n",
      "pred_qty: [0.49355546]\n",
      "\n",
      "Sentence: 2 tablespoons black peppercorns\n",
      "\n",
      "y_name: black peppercorns\n",
      "pred_name: black peppercorns\n",
      "\n",
      "y_unit: tablespoons\n",
      "pred_unit: tablespoons\n",
      "\n",
      "y_qty: [2.]\n",
      "pred_qty: [1.996155]\n",
      "\n",
      "Sentence: 1 / 2 cup salt\n",
      "\n",
      "y_name: salt\n",
      "pred_name: salt\n",
      "\n",
      "y_unit: cup\n",
      "pred_unit: cup\n",
      "\n",
      "y_qty: [0.5]\n",
      "pred_qty: [0.5024652]\n",
      "\n",
      "Sentence: 6 tablespoons dried tarragon\n",
      "\n",
      "y_name: tarragon\n",
      "pred_name: tarragon\n",
      "\n",
      "y_unit: tablespoons\n",
      "pred_unit: tablespoons\n",
      "\n",
      "y_qty: [6.]\n",
      "pred_qty: [6.0741243]\n",
      "\n",
      "Sentence: 1 / 3 cup thinly sliced scallions\n",
      "\n",
      "y_name: scallions\n",
      "pred_name: scallions\n",
      "\n",
      "y_unit: cup\n",
      "pred_unit: cup\n",
      "\n",
      "y_qty: [0.33]\n",
      "pred_qty: [0.33881828]\n",
      "\n",
      "Sentence: 1 / 2 cup honey\n",
      "\n",
      "y_name: honey\n",
      "pred_name: honey\n",
      "\n",
      "y_unit: cup\n",
      "pred_unit: cup\n",
      "\n",
      "y_qty: [0.5]\n",
      "pred_qty: [0.5241003]\n",
      "\n",
      "Sentence: 1 / 2 cup tarragon vinegar\n",
      "\n",
      "y_name: tarragon vinegar\n",
      "pred_name: tarragon vinegar\n",
      "\n",
      "y_unit: cup\n",
      "pred_unit: cup\n",
      "\n",
      "y_qty: [0.5]\n",
      "pred_qty: [0.48369563]\n",
      "\n",
      "Sentence: 1 / 2 cup frozen green peas , defrosted\n",
      "\n",
      "y_name: green peas\n",
      "pred_name: green peas\n",
      "\n",
      "y_unit: cup\n",
      "pred_unit: cup\n",
      "\n",
      "y_qty: [0.5]\n",
      "pred_qty: [0.5240954]\n",
      "\n",
      "Sentence: 1 / 2 teaspoon oyster sauce or soy sauce\n",
      "\n",
      "y_name: oyster sauce\n",
      "pred_name: oyster sauce\n",
      "\n",
      "y_unit: teaspoon\n",
      "pred_unit: teaspoon\n",
      "\n",
      "y_qty: [0.5]\n",
      "pred_qty: [0.5118545]\n",
      "\n",
      "Sentence: 1 1 / 4 teaspoons salt\n",
      "\n",
      "y_name: salt\n",
      "pred_name: salt\n",
      "\n",
      "y_unit: teaspoons\n",
      "pred_unit: teaspoons\n",
      "\n",
      "y_qty: [1.25]\n",
      "pred_qty: [1.3373168]\n",
      "\n",
      "Sentence: 1 / 4 teaspoon white pepper\n",
      "\n",
      "y_name: white pepper\n",
      "pred_name: white pepper\n",
      "\n",
      "y_unit: teaspoon\n",
      "pred_unit: teaspoon\n",
      "\n",
      "y_qty: [0.25]\n",
      "pred_qty: [0.24329579]\n",
      "\n",
      "Sentence: 3 cups cooked rice\n",
      "\n",
      "y_name: cooked rice\n",
      "pred_name: rice\n",
      "\n",
      "y_unit: cups\n",
      "pred_unit: cups\n",
      "\n",
      "y_qty: [3.]\n",
      "pred_qty: [3.048102]\n",
      "\n",
      "Sentence: 1 / 2 cup chopped yellow onions\n",
      "\n",
      "y_name: yellow onions\n",
      "pred_name: yellow onions\n",
      "\n",
      "y_unit: cup\n",
      "pred_unit: cup\n",
      "\n",
      "y_qty: [0.5]\n",
      "pred_qty: [0.524068]\n",
      "\n",
      "Sentence: 1 / 4 cup olive oil\n",
      "\n",
      "y_name: olive oil\n",
      "pred_name: olive oil\n",
      "\n",
      "y_unit: cup\n",
      "pred_unit: cup\n",
      "\n",
      "y_qty: [0.25]\n",
      "pred_qty: [0.25981355]\n",
      "\n",
      "Sentence: 1 1 / 2 teaspoons minced ginger\n",
      "\n",
      "y_name: ginger\n",
      "pred_name: ginger\n",
      "\n",
      "y_unit: teaspoons\n",
      "pred_unit: teaspoons\n",
      "\n",
      "y_qty: [1.5]\n",
      "pred_qty: [1.4883428]\n",
      "\n",
      "Sentence: 1 / 2 cup pureed tomatoes fresh or canned\n",
      "\n",
      "y_name: tomatoes\n",
      "pred_name: tomatoes\n",
      "\n",
      "y_unit: cup\n",
      "pred_unit: cup\n",
      "\n",
      "y_qty: [0.5]\n",
      "pred_qty: [0.48197418]\n",
      "\n",
      "Sentence: small pinch saffron\n",
      "\n",
      "y_name: saffron\n",
      "pred_name: saffron\n",
      "\n",
      "y_unit: pinch\n",
      "pred_unit: pinch\n",
      "\n",
      "y_qty: [1.]\n",
      "pred_qty: [0.8945913]\n",
      "\n",
      "Sentence: 1 egg beaten with 1 teaspoon of water\n",
      "\n",
      "y_name: egg\n",
      "pred_name: egg water\n",
      "\n",
      "y_unit: \n",
      "pred_unit: \n",
      "\n",
      "y_qty: [1.]\n",
      "pred_qty: [1.0398304]\n",
      "\n",
      "Sentence: lemon slices for garni\n",
      "\n",
      "y_name: lemon\n",
      "pred_name: lemon\n",
      "\n",
      "y_unit: \n",
      "pred_unit: \n",
      "\n",
      "y_qty: [0.]\n",
      "pred_qty: [0.]\n",
      "\n",
      "Sentence: 3 scallion stalks , trimmed\n",
      "\n",
      "y_name: scallion stalks\n",
      "pred_name: scallion\n",
      "\n",
      "y_unit: \n",
      "pred_unit: stalks\n",
      "\n",
      "y_qty: [3.]\n",
      "pred_qty: [3.0682278]\n",
      "\n",
      "Sentence: 1 / 2 cup fresh cilantro , lightly packed\n",
      "\n",
      "y_name: cilantro\n",
      "pred_name: cilantro\n",
      "\n",
      "y_unit: cup\n",
      "pred_unit: cup\n",
      "\n",
      "y_qty: [0.5]\n",
      "pred_qty: [0.5191601]\n",
      "\n",
      "Sentence: 1 1 / 2 teaspoons salt\n",
      "\n",
      "y_name: salt\n",
      "pred_name: salt\n",
      "\n",
      "y_unit: teaspoons\n",
      "pred_unit: teaspoons\n",
      "\n",
      "y_qty: [1.5]\n",
      "pred_qty: [1.5395892]\n",
      "\n",
      "Sentence: 4 large cloves garlic\n",
      "\n",
      "y_name: garlic\n",
      "pred_name: garlic\n",
      "\n",
      "y_unit: cloves\n",
      "pred_unit: cloves\n",
      "\n",
      "y_qty: [4.]\n",
      "pred_qty: [4.0964584]\n",
      "\n",
      "Sentence: 12 hot green chilies , or 2 tablespoons shredded hot peppers\n",
      "\n",
      "y_name: green chilies\n",
      "pred_name: green chilies peppers\n",
      "\n",
      "y_unit: \n",
      "pred_unit: tablespoons\n",
      "\n",
      "y_qty: [12.]\n",
      "pred_qty: [12.245]\n",
      "\n",
      "Sentence: 1 / 2 cup olive oil\n",
      "\n",
      "y_name: olive oil\n",
      "pred_name: olive oil\n",
      "\n",
      "y_unit: cup\n",
      "pred_unit: cup\n",
      "\n",
      "y_qty: [0.5]\n",
      "pred_qty: [0.5173541]\n",
      "\n",
      "Sentence: 6 fresh hot green chilies , sliced , or 1 tablespoon shredded hot peppers\n",
      "\n",
      "y_name: green chilies\n",
      "pred_name: green chilies\n",
      "\n",
      "y_unit: \n",
      "pred_unit: \n",
      "\n",
      "y_qty: [6.]\n",
      "pred_qty: [6.1650944]\n",
      "\n",
      "Sentence: 2 pounds jumbo shrimp 8 to 10 per pound , shell on\n",
      "\n",
      "y_name: shrimp\n",
      "pred_name: shrimp\n",
      "\n",
      "y_unit: pounds pound\n",
      "pred_unit: pounds pound\n",
      "\n",
      "y_qty: [2.]\n",
      "pred_qty: [1.8791351]\n",
      "\n",
      "Sentence: 3 tablespoons red wine vinegar\n",
      "\n",
      "y_name: red wine vinegar\n",
      "pred_name: red wine vinegar\n",
      "\n",
      "y_unit: tablespoons\n",
      "pred_unit: tablespoons\n",
      "\n",
      "y_qty: [3.]\n",
      "pred_qty: [2.984807]\n",
      "\n",
      "Sentence: 1 medium sized sweet red pepper , cored and chopped\n",
      "\n",
      "y_name: red pepper\n",
      "pred_name: red pepper\n",
      "\n",
      "y_unit: \n",
      "pred_unit: \n",
      "\n",
      "y_qty: [1.]\n",
      "pred_qty: [0.9916706]\n",
      "\n",
      "Sentence: 1 medium sized green pepper , cored and chopped\n",
      "\n",
      "y_name: green pepper\n",
      "pred_name: green pepper\n",
      "\n",
      "y_unit: \n",
      "pred_unit: \n",
      "\n",
      "y_qty: [1.]\n",
      "pred_qty: [0.99277663]\n",
      "\n",
      "Sentence: 2 tablespoons julienned fresh ginger\n",
      "\n",
      "y_name: ginger\n",
      "pred_name: ginger\n",
      "\n",
      "y_unit: tablespoons\n",
      "pred_unit: tablespoons\n",
      "\n",
      "y_qty: [2.]\n",
      "pred_qty: [2.0071797]\n",
      "\n",
      "Sentence: 2 teaspoons salt\n",
      "\n",
      "y_name: salt\n",
      "pred_name: salt\n",
      "\n",
      "y_unit: teaspoons\n",
      "pred_unit: teaspoons\n",
      "\n",
      "y_qty: [2.]\n",
      "pred_qty: [2.0334425]\n",
      "\n",
      "Sentence: 2 tablespoons minced lemon grass , or 1 teaspoon lemon zest\n",
      "\n",
      "y_name: lemon grass\n",
      "pred_name: lemon grass\n",
      "\n",
      "y_unit: tablespoons\n",
      "pred_unit: tablespoons teaspoon\n",
      "\n",
      "y_qty: [2.]\n",
      "pred_qty: [1.9419701]\n",
      "\n",
      "Sentence: 1 teaspoon black pepper\n",
      "\n",
      "y_name: black pepper\n",
      "pred_name: black pepper\n",
      "\n",
      "y_unit: teaspoon\n",
      "pred_unit: teaspoon\n",
      "\n",
      "y_qty: [1.]\n",
      "pred_qty: [1.0150315]\n",
      "\n",
      "Sentence: 2 teaspoons paprika\n",
      "\n",
      "y_name: paprika\n",
      "pred_name: paprika\n",
      "\n",
      "y_unit: teaspoons\n",
      "pred_unit: teaspoons\n",
      "\n",
      "y_qty: [2.]\n",
      "pred_qty: [2.0195532]\n",
      "\n",
      "Sentence: 1 / 3 cup coconut milk or water\n",
      "\n",
      "y_name: coconut milk\n",
      "pred_name: coconut milk\n",
      "\n",
      "y_unit: cup\n",
      "pred_unit: cup\n",
      "\n",
      "y_qty: [0.33]\n",
      "pred_qty: [0.28999835]\n",
      "\n",
      "Sentence: 2 teaspoons tamarind paste or minced sour prunes\n",
      "\n",
      "y_name: tamarind paste\n",
      "pred_name: tamarind paste\n",
      "\n",
      "y_unit: teaspoons\n",
      "pred_unit: teaspoons\n",
      "\n",
      "y_qty: [2.]\n",
      "pred_qty: [2.0278738]\n",
      "\n",
      "Sentence: 1 teaspoon turmeric\n",
      "\n",
      "y_name: turmeric\n",
      "pred_name: turmeric\n",
      "\n",
      "y_unit: teaspoon\n",
      "pred_unit: teaspoon\n",
      "\n",
      "y_qty: [1.]\n",
      "pred_qty: [1.0240997]\n",
      "\n",
      "Sentence: 12 dry red peppers , crumbled\n",
      "\n",
      "y_name: dry red peppers\n",
      "pred_name: dry red peppers\n",
      "\n",
      "y_unit: \n",
      "pred_unit: \n",
      "\n",
      "y_qty: [12.]\n",
      "pred_qty: [11.970208]\n",
      "\n",
      "Sentence: 1 medium sized tomato , finely chopped\n",
      "\n",
      "y_name: tomato\n",
      "pred_name: tomato\n",
      "\n",
      "y_unit: \n",
      "pred_unit: \n",
      "\n",
      "y_qty: [1.]\n",
      "pred_qty: [1.0483357]\n",
      "\n",
      "Sentence: 1 / 4 cup minced shallots\n",
      "\n",
      "y_name: shallots\n",
      "pred_name: shallots\n",
      "\n",
      "y_unit: cup\n",
      "pred_unit: cup\n",
      "\n",
      "y_qty: [0.25]\n",
      "pred_qty: [0.25883782]\n",
      "\n",
      "Sentence: 2 teaspoons minced garlic\n",
      "\n",
      "y_name: garlic\n",
      "pred_name: garlic\n",
      "\n",
      "y_unit: teaspoons\n",
      "pred_unit: teaspoons\n",
      "\n",
      "y_qty: [2.]\n",
      "pred_qty: [1.9953384]\n",
      "\n",
      "Sentence: oil for deep frying\n",
      "\n",
      "y_name: oil\n",
      "pred_name: oil\n",
      "\n",
      "y_unit: \n",
      "pred_unit: \n",
      "\n",
      "y_qty: [0.]\n",
      "pred_qty: [0.]\n",
      "\n",
      "Sentence: 4 tablespoons vegetable oil\n",
      "\n",
      "y_name: vegetable oil\n",
      "pred_name: vegetable oil\n",
      "\n",
      "y_unit: tablespoons\n",
      "pred_unit: tablespoons\n",
      "\n",
      "y_qty: [4.]\n",
      "pred_qty: [3.9981916]\n",
      "\n",
      "Sentence: 1 3 to 3 1 / 2 pound chicken , cut up into 8 to 10 pieces\n",
      "\n",
      "y_name: chicken\n",
      "pred_name: chicken\n",
      "\n",
      "y_unit: pound\n",
      "pred_unit: pound\n",
      "\n",
      "y_qty: [3.]\n",
      "pred_qty: [2.7322302]\n",
      "\n",
      "Sentence: 1 cup , plus 2 tablespoons , dry white wine or water\n",
      "\n",
      "y_name: dry white wine\n",
      "pred_name: dry white wine\n",
      "\n",
      "y_unit: tablespoons\n",
      "pred_unit: tablespoons\n",
      "\n",
      "y_qty: [18.]\n",
      "pred_qty: [17.65829]\n",
      "\n",
      "Sentence: 2 tablespoons vegetable oil\n",
      "\n",
      "y_name: vegetable oil\n",
      "pred_name: vegetable oil\n",
      "\n",
      "y_unit: tablespoons\n",
      "pred_unit: tablespoons\n",
      "\n",
      "y_qty: [2.]\n",
      "pred_qty: [2.0102177]\n",
      "\n",
      "Sentence: 4 eggs , separated\n",
      "\n",
      "y_name: eggs\n",
      "pred_name: eggs\n",
      "\n",
      "y_unit: \n",
      "pred_unit: \n",
      "\n",
      "y_qty: [4.]\n",
      "pred_qty: [4.0422654]\n",
      "\n",
      "Sentence: 1 / 2 teaspoon baking powder\n",
      "\n",
      "y_name: baking powder\n",
      "pred_name: baking powder\n",
      "\n",
      "y_unit: teaspoon\n",
      "pred_unit: teaspoon\n",
      "\n",
      "y_qty: [0.5]\n",
      "pred_qty: [0.504997]\n",
      "\n",
      "Sentence: 1 teaspoon salt\n",
      "\n",
      "y_name: salt\n",
      "pred_name: salt\n",
      "\n",
      "y_unit: teaspoon\n",
      "pred_unit: teaspoon\n",
      "\n",
      "y_qty: [1.]\n",
      "pred_qty: [1.0313631]\n",
      "\n",
      "Sentence: 4 cups all purpose flour\n",
      "\n",
      "y_name: all purpose flour\n",
      "pred_name: all purpose flour\n",
      "\n",
      "y_unit: cups\n",
      "pred_unit: cups\n",
      "\n",
      "y_qty: [4.]\n",
      "pred_qty: [3.9974678]\n",
      "\n",
      "Sentence: 2 teaspoons cayenne pepper\n",
      "\n",
      "y_name: cayenne pepper\n",
      "pred_name: cayenne pepper\n",
      "\n",
      "y_unit: teaspoons\n",
      "pred_unit: teaspoons\n",
      "\n",
      "y_qty: [2.]\n",
      "pred_qty: [1.99126]\n",
      "\n",
      "Sentence: 1 tablespoon lemon juice\n",
      "\n",
      "y_name: lemon juice\n",
      "pred_name: lemon juice\n",
      "\n",
      "y_unit: tablespoon\n",
      "pred_unit: tablespoon\n",
      "\n",
      "y_qty: [1.]\n",
      "pred_qty: [1.0196185]\n",
      "\n",
      "Sentence: 1 teaspoon lemon zest\n",
      "\n",
      "y_name: lemon\n",
      "pred_name: lemon zest\n",
      "\n",
      "y_unit: teaspoon\n",
      "pred_unit: teaspoon\n",
      "\n",
      "y_qty: [1.]\n",
      "pred_qty: [1.0197756]\n",
      "\n",
      "Sentence: 2 pounds smallest possible squid , cleaned\n",
      "\n",
      "y_name: squid\n",
      "pred_name: squid\n",
      "\n",
      "y_unit: pounds\n",
      "pred_unit: pounds\n",
      "\n",
      "y_qty: [2.]\n",
      "pred_qty: [2.0799801]\n",
      "\n",
      "Sentence: 2 teaspoons minced garlic\n",
      "\n",
      "y_name: garlic\n",
      "pred_name: garlic\n",
      "\n",
      "y_unit: teaspoons\n",
      "pred_unit: teaspoons\n",
      "\n",
      "y_qty: [2.]\n",
      "pred_qty: [1.9953384]\n",
      "\n",
      "Sentence: 1 teaspoon lemon juice\n",
      "\n",
      "y_name: lemon juice\n",
      "pred_name: lemon juice\n",
      "\n",
      "y_unit: teaspoon\n",
      "pred_unit: teaspoon\n",
      "\n",
      "y_qty: [1.]\n",
      "pred_qty: [1.0024077]\n",
      "\n",
      "Sentence: 1 teaspoon cornstarch , dissolved in 1 tablespoon water\n",
      "\n",
      "y_name: cornstarch\n",
      "pred_name: cornstarch\n",
      "\n",
      "y_unit: teaspoon\n",
      "pred_unit: teaspoon\n",
      "\n",
      "y_qty: [1.]\n",
      "pred_qty: [1.0684911]\n",
      "\n",
      "Sentence: 2 tablespoons ghee clarified butter\n",
      "\n",
      "y_name: ghee\n",
      "pred_name: ghee\n",
      "\n",
      "y_unit: tablespoons\n",
      "pred_unit: tablespoons\n",
      "\n",
      "y_qty: [2.]\n",
      "pred_qty: [2.0278945]\n",
      "\n",
      "Sentence: 2 1 / 2 tablespoons unsulfured molasses\n",
      "\n",
      "y_name: molasses\n",
      "pred_name: unsulfured molasses\n",
      "\n",
      "y_unit: tablespoons\n",
      "pred_unit: tablespoons\n",
      "\n",
      "y_qty: [2.5]\n",
      "pred_qty: [2.4370449]\n",
      "\n",
      "Sentence: 1 3 pound boneless pork loin roast , tied at 1 inch intervals\n",
      "\n",
      "y_name: pork loin\n",
      "pred_name: pork roast\n",
      "\n",
      "y_unit: pound\n",
      "pred_unit: pound\n",
      "\n",
      "y_qty: [3.]\n",
      "pred_qty: [3.1590102]\n",
      "\n",
      "Sentence: 2 teaspoons salt\n",
      "\n",
      "y_name: salt\n",
      "pred_name: salt\n",
      "\n",
      "y_unit: teaspoons\n",
      "pred_unit: teaspoons\n",
      "\n",
      "y_qty: [2.]\n",
      "pred_qty: [2.0334425]\n",
      "\n",
      "Sentence: 2 tablespoons red wine vinegar\n",
      "\n",
      "y_name: red wine vinegar\n",
      "pred_name: red wine vinegar\n",
      "\n",
      "y_unit: tablespoons\n",
      "pred_unit: tablespoons\n",
      "\n",
      "y_qty: [2.]\n",
      "pred_qty: [1.9981685]\n",
      "\n",
      "Sentence: 1 / 2 teaspoon black pepper\n",
      "\n",
      "y_name: black pepper\n",
      "pred_name: black pepper\n",
      "\n",
      "y_unit: teaspoon\n",
      "pred_unit: teaspoon\n",
      "\n",
      "y_qty: [0.5]\n",
      "pred_qty: [0.4908508]\n",
      "\n"
     ]
    }
   ],
   "source": [
    "def test_combined_model(n_samples, qty_failure=False):\n",
    "    start_index = 100000\n",
    "    subset_size = 10000\n",
    "    X_sentences = ing_df_labelled.loc[ing_df_labelled.index[start_index:start_index+subset_size], \"input_parsed\"].values\n",
    "    X_input = X[start_index:start_index+subset_size]\n",
    "\n",
    "    y_name_subset = y_name[start_index:start_index+subset_size]\n",
    "    y_unit_subset = y_unit[start_index:start_index+subset_size]\n",
    "    y_qty_subset  = y_qty[start_index:start_index+subset_size]\n",
    "    #y_range_subset = y_range[start_index:start_index+subset_size]\n",
    "    pred_y_subset = model.predict(X[start_index:start_index+subset_size])\n",
    "    \n",
    "\n",
    "    pred_y_name = pred_y_subset[0][:, 0, :]\n",
    "    pred_y_unit = pred_y_subset[0][:, 1, :]\n",
    "    pred_y_qty  = pred_y_subset[1]\n",
    "    #pred_y_range = pred_y_subset[2]\n",
    "        \n",
    "    rounded_yp_name = np.rint(np.asarray(pred_y_name))\n",
    "    rounded_yp_unit = np.rint(np.asarray(pred_y_unit))\n",
    "\n",
    "    for i in range(n_samples):\n",
    "        if qty_failure:\n",
    "            if np.abs(pred_y_qty[i] - y_qty_subset[i]) > 3:\n",
    "                pass\n",
    "            else:\n",
    "                continue\n",
    "            \n",
    "        print(f\"Sentence: {X_sentences[i]}\")\n",
    "        print()\n",
    "        print(f\"y_name: {binary_mask_to_words(y_name_subset[i], X_sentences[i])}\")\n",
    "        print(f\"pred_name: {binary_mask_to_words(rounded_yp_name[i], X_sentences[i])}\")\n",
    "        print()\n",
    "        print(f\"y_unit: {binary_mask_to_words(y_unit_subset[i], X_sentences[i])}\")\n",
    "        print(f\"pred_unit: {binary_mask_to_words(rounded_yp_unit[i], X_sentences[i])}\")\n",
    "        print()\n",
    "        print(f\"y_qty: {y_qty_subset[i]}\")\n",
    "        print(f\"pred_qty: {pred_y_qty[i]}\")\n",
    "        print()\n",
    "\n",
    "# Applies a binary mask to a sentence and returns the strings. Used for calculating the \n",
    "def binary_mask_to_words(binary_mask, sentence):\n",
    "    split_sentence = sentence.split(\" \")\n",
    "    idxs = np.where(binary_mask > 0.5)\n",
    "    y_words = \" \".join([split_sentence[int(idx)] for idx in idxs[0]])\n",
    "    return y_words\n",
    "    \n",
    "test_combined_model(100)\n",
    "\n"
   ]
  },
  {
   "cell_type": "markdown",
   "metadata": {},
   "source": [
    "One interesting failure (or maybe a success?):\n",
    "\n",
    "3 / 4 cup plus 2 tablespoons sugar -> Model: 9.98 Tablespoons sugar Label: 3/4 cup sugar\n",
    "\n",
    "3/4 cups is actually 10 tablespoons, so the model answer is just as good as the true answer. If only it were able to add the additional 2 teaspoons as well!\n",
    "\n"
   ]
  },
  {
   "cell_type": "markdown",
   "metadata": {},
   "source": [
    "## Identify fail cases\n",
    "\n",
    "Because the data I have used has had the labels converted and because it is text data (I find it complicated and havent used it before), I want to see where the model has failed. This will helo to refine the preprocesing and dta filtering. It might be errors from the differences between what different labelers consider to be the ingredient."
   ]
  },
  {
   "cell_type": "code",
   "execution_count": 35,
   "metadata": {},
   "outputs": [],
   "source": [
    "def print_examples(fail_pass: str, part_correct: bool, name_unit: str, limit: int):\n",
    "    start_index = 120000\n",
    "    subset_size = 1000\n",
    "    X_sentences = ing_df_labelled.loc[ing_df_labelled.index[start_index:start_index+subset_size], \"input_parsed\"].values\n",
    "    X_input = X[start_index:start_index+subset_size]\n",
    "    if name_unit == \"name\":\n",
    "        y_subset = y_name[start_index:start_index+subset_size]\n",
    "    else:\n",
    "        y_subset = y_unit[start_index:start_index+subset_size]\n",
    "        \n",
    "    pred_y_subset = model.predict(X[start_index:start_index+subset_size])\n",
    "    \n",
    "    if name_unit == \"name\":\n",
    "        pred_y_subset = pred_y_subset[0][:, 0, :]\n",
    "    else:\n",
    "        pred_y_subset = pred_y_subset[0][:, 1, :]\n",
    "        \n",
    "    rounded_y_pred = np.rint(np.asarray(pred_y_subset))\n",
    "    \n",
    "    printed = 0\n",
    "    # Print any errors\n",
    "    for i in range(subset_size):\n",
    "        if printed > limit - 1:\n",
    "            return\n",
    "        if fail_pass == \"fail\":\n",
    "            if part_correct:\n",
    "                # Checks that there is at least one matching positive and then checks that there is not a perfect match.\n",
    "                if (np.asarray(y_subset[i]) & rounded_y_pred[i].astype(int)).any() and not (np.asarray(y_subset[i]) == rounded_y_pred[i]).all():\n",
    "                    print(f\"Sentence: {X_sentences[i]}\")\n",
    "                    print(f\"y: {binary_mask_to_words(y_subset[i], X_sentences[i])}\")\n",
    "                    print(f\"pred_y: {binary_mask_to_words(rounded_y_pred[i], X_sentences[i])}\")\n",
    "                    print()\n",
    "                    printed += 1\n",
    "            else:\n",
    "                # Checks that there is at least one word that is a name or unit\n",
    "                # Then finds out where the overlap is between the y_true and the y_pred, bthen combines it with the y_pred array using and \n",
    "                # to remove the matches where both are 0\n",
    "                # Then checks that there are no 1's in this array, meaning a compelte error\n",
    "                if np.any(np.asarray(y_subset[i])):\n",
    "                    mask = (np.asarray(y_subset[i]) == rounded_y_pred[i]) & np.asarray(y_subset[i])\n",
    "                    if not mask.any():\n",
    "                        print(f\"Sentence: {X_sentences[i]}\")\n",
    "                        print(f\"y: {binary_mask_to_words(y_subset[i], X_sentences[i])}\")\n",
    "                        print(f\"pred_y: {binary_mask_to_words(rounded_y_pred[i], X_sentences[i])}\")\n",
    "                        print()\n",
    "                        printed += 1\n",
    "\n",
    "        if fail_pass == \"pass\":\n",
    "            if (np.asarray(y_subset[i]) == rounded_y_pred[i]).all():\n",
    "                print(f\"Sentence: {X_sentences[i]}\")\n",
    "                print()\n",
    "                printed += 1\n",
    "\n",
    "\n"
   ]
  },
  {
   "cell_type": "markdown",
   "metadata": {},
   "source": [
    "## Failed Name cases"
   ]
  },
  {
   "cell_type": "code",
   "execution_count": 37,
   "metadata": {},
   "outputs": [
    {
     "name": "stdout",
     "output_type": "stream",
     "text": [
      "Sentence: 3 tablespoons mild or sweet miso , like yellow or white\n",
      "y: mild or sweet miso\n",
      "pred_y: miso\n",
      "\n",
      "Sentence: 1 egg yolk\n",
      "y: egg yolk\n",
      "pred_y: egg\n",
      "\n",
      "Sentence: 1 tablespoon meyer lemon or lemon juice\n",
      "y: meyer lemon or lemon juice\n",
      "pred_y: meyer lemon\n",
      "\n",
      "Sentence: sour cream or yogurt , for serving\n",
      "y: sour cream or yogurt\n",
      "pred_y: sour cream\n",
      "\n",
      "Sentence: 2 tablespoons vegetable or canola oil\n",
      "y: vegetable or canola oil\n",
      "pred_y: oil\n",
      "\n",
      "Sentence: 5 to 6 cups cooked and cooled basmati or long grain rice\n",
      "y: basmati or long grain rice\n"
     ]
    },
    {
     "ename": "IndexError",
     "evalue": "list index out of range",
     "output_type": "error",
     "traceback": [
      "\u001b[0;31m---------------------------------------------------------------------------\u001b[0m",
      "\u001b[0;31mIndexError\u001b[0m                                Traceback (most recent call last)",
      "\u001b[0;32m/var/folders/8v/d50_nc2n7kj916nj0mct09f40000gn/T/ipykernel_6069/1295055386.py\u001b[0m in \u001b[0;36m<module>\u001b[0;34m\u001b[0m\n\u001b[0;32m----> 1\u001b[0;31m \u001b[0mprint_examples\u001b[0m\u001b[0;34m(\u001b[0m\u001b[0;34m\"fail\"\u001b[0m\u001b[0;34m,\u001b[0m \u001b[0;32mTrue\u001b[0m\u001b[0;34m,\u001b[0m \u001b[0;34m\"name\"\u001b[0m\u001b[0;34m,\u001b[0m \u001b[0;36m20\u001b[0m\u001b[0;34m)\u001b[0m\u001b[0;34m\u001b[0m\u001b[0;34m\u001b[0m\u001b[0m\n\u001b[0m",
      "\u001b[0;32m/var/folders/8v/d50_nc2n7kj916nj0mct09f40000gn/T/ipykernel_6069/1163988638.py\u001b[0m in \u001b[0;36mprint_examples\u001b[0;34m(fail_pass, part_correct, name_unit, limit)\u001b[0m\n\u001b[1;32m     29\u001b[0m                     \u001b[0mprint\u001b[0m\u001b[0;34m(\u001b[0m\u001b[0;34mf\"Sentence: {X_sentences[i]}\"\u001b[0m\u001b[0;34m)\u001b[0m\u001b[0;34m\u001b[0m\u001b[0;34m\u001b[0m\u001b[0m\n\u001b[1;32m     30\u001b[0m                     \u001b[0mprint\u001b[0m\u001b[0;34m(\u001b[0m\u001b[0;34mf\"y: {binary_mask_to_words(y_subset[i], X_sentences[i])}\"\u001b[0m\u001b[0;34m)\u001b[0m\u001b[0;34m\u001b[0m\u001b[0;34m\u001b[0m\u001b[0m\n\u001b[0;32m---> 31\u001b[0;31m                     \u001b[0mprint\u001b[0m\u001b[0;34m(\u001b[0m\u001b[0;34mf\"pred_y: {binary_mask_to_words(rounded_y_pred[i], X_sentences[i])}\"\u001b[0m\u001b[0;34m)\u001b[0m\u001b[0;34m\u001b[0m\u001b[0;34m\u001b[0m\u001b[0m\n\u001b[0m\u001b[1;32m     32\u001b[0m                     \u001b[0mprint\u001b[0m\u001b[0;34m(\u001b[0m\u001b[0;34m)\u001b[0m\u001b[0;34m\u001b[0m\u001b[0;34m\u001b[0m\u001b[0m\n\u001b[1;32m     33\u001b[0m                     \u001b[0mprinted\u001b[0m \u001b[0;34m+=\u001b[0m \u001b[0;36m1\u001b[0m\u001b[0;34m\u001b[0m\u001b[0;34m\u001b[0m\u001b[0m\n",
      "\u001b[0;32m/var/folders/8v/d50_nc2n7kj916nj0mct09f40000gn/T/ipykernel_6069/3486015045.py\u001b[0m in \u001b[0;36mbinary_mask_to_words\u001b[0;34m(binary_mask, sentence)\u001b[0m\n\u001b[1;32m     43\u001b[0m     \u001b[0msplit_sentence\u001b[0m \u001b[0;34m=\u001b[0m \u001b[0msentence\u001b[0m\u001b[0;34m.\u001b[0m\u001b[0msplit\u001b[0m\u001b[0;34m(\u001b[0m\u001b[0;34m\" \"\u001b[0m\u001b[0;34m)\u001b[0m\u001b[0;34m\u001b[0m\u001b[0;34m\u001b[0m\u001b[0m\n\u001b[1;32m     44\u001b[0m     \u001b[0midxs\u001b[0m \u001b[0;34m=\u001b[0m \u001b[0mnp\u001b[0m\u001b[0;34m.\u001b[0m\u001b[0mwhere\u001b[0m\u001b[0;34m(\u001b[0m\u001b[0mbinary_mask\u001b[0m \u001b[0;34m>\u001b[0m \u001b[0;36m0.5\u001b[0m\u001b[0;34m)\u001b[0m\u001b[0;34m\u001b[0m\u001b[0;34m\u001b[0m\u001b[0m\n\u001b[0;32m---> 45\u001b[0;31m     \u001b[0my_words\u001b[0m \u001b[0;34m=\u001b[0m \u001b[0;34m\" \"\u001b[0m\u001b[0;34m.\u001b[0m\u001b[0mjoin\u001b[0m\u001b[0;34m(\u001b[0m\u001b[0;34m[\u001b[0m\u001b[0msplit_sentence\u001b[0m\u001b[0;34m[\u001b[0m\u001b[0mint\u001b[0m\u001b[0;34m(\u001b[0m\u001b[0midx\u001b[0m\u001b[0;34m)\u001b[0m\u001b[0;34m]\u001b[0m \u001b[0;32mfor\u001b[0m \u001b[0midx\u001b[0m \u001b[0;32min\u001b[0m \u001b[0midxs\u001b[0m\u001b[0;34m[\u001b[0m\u001b[0;36m0\u001b[0m\u001b[0;34m]\u001b[0m\u001b[0;34m]\u001b[0m\u001b[0;34m)\u001b[0m\u001b[0;34m\u001b[0m\u001b[0;34m\u001b[0m\u001b[0m\n\u001b[0m\u001b[1;32m     46\u001b[0m     \u001b[0;32mreturn\u001b[0m \u001b[0my_words\u001b[0m\u001b[0;34m\u001b[0m\u001b[0;34m\u001b[0m\u001b[0m\n\u001b[1;32m     47\u001b[0m \u001b[0;34m\u001b[0m\u001b[0m\n",
      "\u001b[0;32m/var/folders/8v/d50_nc2n7kj916nj0mct09f40000gn/T/ipykernel_6069/3486015045.py\u001b[0m in \u001b[0;36m<listcomp>\u001b[0;34m(.0)\u001b[0m\n\u001b[1;32m     43\u001b[0m     \u001b[0msplit_sentence\u001b[0m \u001b[0;34m=\u001b[0m \u001b[0msentence\u001b[0m\u001b[0;34m.\u001b[0m\u001b[0msplit\u001b[0m\u001b[0;34m(\u001b[0m\u001b[0;34m\" \"\u001b[0m\u001b[0;34m)\u001b[0m\u001b[0;34m\u001b[0m\u001b[0;34m\u001b[0m\u001b[0m\n\u001b[1;32m     44\u001b[0m     \u001b[0midxs\u001b[0m \u001b[0;34m=\u001b[0m \u001b[0mnp\u001b[0m\u001b[0;34m.\u001b[0m\u001b[0mwhere\u001b[0m\u001b[0;34m(\u001b[0m\u001b[0mbinary_mask\u001b[0m \u001b[0;34m>\u001b[0m \u001b[0;36m0.5\u001b[0m\u001b[0;34m)\u001b[0m\u001b[0;34m\u001b[0m\u001b[0;34m\u001b[0m\u001b[0m\n\u001b[0;32m---> 45\u001b[0;31m     \u001b[0my_words\u001b[0m \u001b[0;34m=\u001b[0m \u001b[0;34m\" \"\u001b[0m\u001b[0;34m.\u001b[0m\u001b[0mjoin\u001b[0m\u001b[0;34m(\u001b[0m\u001b[0;34m[\u001b[0m\u001b[0msplit_sentence\u001b[0m\u001b[0;34m[\u001b[0m\u001b[0mint\u001b[0m\u001b[0;34m(\u001b[0m\u001b[0midx\u001b[0m\u001b[0;34m)\u001b[0m\u001b[0;34m]\u001b[0m \u001b[0;32mfor\u001b[0m \u001b[0midx\u001b[0m \u001b[0;32min\u001b[0m \u001b[0midxs\u001b[0m\u001b[0;34m[\u001b[0m\u001b[0;36m0\u001b[0m\u001b[0;34m]\u001b[0m\u001b[0;34m]\u001b[0m\u001b[0;34m)\u001b[0m\u001b[0;34m\u001b[0m\u001b[0;34m\u001b[0m\u001b[0m\n\u001b[0m\u001b[1;32m     46\u001b[0m     \u001b[0;32mreturn\u001b[0m \u001b[0my_words\u001b[0m\u001b[0;34m\u001b[0m\u001b[0;34m\u001b[0m\u001b[0m\n\u001b[1;32m     47\u001b[0m \u001b[0;34m\u001b[0m\u001b[0m\n",
      "\u001b[0;31mIndexError\u001b[0m: list index out of range"
     ]
    }
   ],
   "source": [
    "print_examples(\"fail\", True, \"name\", 20)"
   ]
  },
  {
   "cell_type": "markdown",
   "metadata": {},
   "source": [
    "It appears that there are two kind of errors. Errors where the model has clearly gotten it wrong:\n",
    "\n",
    "1 pinch sea salt or fleur de sel -> Model Output: \"Sea Salt Or\"\n",
    "\n",
    "And others which are open to interpretation or where the labeller has gotten it wrong:\n",
    "\n",
    "1 red grapefruit , peeled and segmented , optional -> Model Output: \"red grapefruit\" Label: \"grapefruit\"\n",
    "\n",
    "1 / 4 cup vadouvan exotique spice mix -> Model Output: \"vadouvan exotique spice mix\" Label: \"spice mix\"\n",
    "\n",
    "2 teaspoons aged balsamic vinegar -> Model Output: \"balsamic vinegar\" Label: \"vinegar\"\n",
    "\n",
    "I cannot think of any straightforward ways to seperate these mistakes, however, I can create a metric that includes the above examples as successful predictions and then have a look at the ones that are not these type of errors. This would be useful as a better predictor of model performance I believe.\n",
    "\n",
    "This metric would include any prediction with an overlap with the Label a successful prediction and then give a percentage of the data set that fall into this category."
   ]
  },
  {
   "cell_type": "code",
   "execution_count": 39,
   "metadata": {},
   "outputs": [
    {
     "name": "stdout",
     "output_type": "stream",
     "text": [
      "Sentence: 1 garlic clove , finely minced or pureed with a little salt in a mortar and pestle\n",
      "y: garlic\n",
      "pred_y: in and\n",
      "\n",
      "Sentence: crackers or sliced cucumber , for serving\n",
      "y: cucumber\n",
      "pred_y: crackers\n",
      "\n"
     ]
    }
   ],
   "source": [
    "print_examples(\"fail\", False, \"name\", 5)"
   ]
  },
  {
   "cell_type": "markdown",
   "metadata": {},
   "source": [
    "From the aboe example of errors, it looks like the algorithm is actually better than the human labeller in this instance.\n",
    "\n",
    "crackers or sliced cucumber , for serving -> Model: crackers, Label: cucumber\n",
    "1 / 2 cup soaking water from the apricots , as needed - > Model: water Label: apricots"
   ]
  },
  {
   "cell_type": "markdown",
   "metadata": {},
   "source": [
    "## Failed Unit Cases"
   ]
  },
  {
   "cell_type": "code",
   "execution_count": 40,
   "metadata": {},
   "outputs": [
    {
     "name": "stdout",
     "output_type": "stream",
     "text": [
      "Successful Predictions\n",
      "Sentence: 1 / 2 cup plain yogurt , preferably whole milk\n",
      "\n",
      "Sentence: 1 / 2 cup olive oil , or less\n",
      "\n",
      "Sentence: 1 / 2 cup chopped fresh mint\n",
      "\n",
      "Sentence: zest and juice of 1 lemon\n",
      "\n",
      "Sentence: salt\n",
      "\n",
      "Sentence: freshly ground black pepper\n",
      "\n",
      "Sentence: 1 / 4 cup peanut oil or neutral oil , like grapeseed or corn\n",
      "\n",
      "Sentence: 1 / 4 cup rice vinegar\n",
      "\n",
      "Sentence: 1 tablespoon dark sesame oil\n",
      "\n",
      "Sentence: 2 medium carrots , roughly chopped\n",
      "\n"
     ]
    }
   ],
   "source": [
    "print(\"Successful Predictions\")\n",
    "print_examples(\"pass\", False, \"unit\", 10)"
   ]
  },
  {
   "cell_type": "code",
   "execution_count": 41,
   "metadata": {},
   "outputs": [
    {
     "name": "stdout",
     "output_type": "stream",
     "text": [
      "Unsuccessful Predictions\n",
      "Sentence: 3 / 4 cup plus 2 tablespoons sugar\n",
      "y: cup\n",
      "pred_y: tablespoons\n",
      "\n",
      "Sentence: 10 large or 20 small precooked canned or vacuum packed beets\n",
      "y: large\n",
      "pred_y: \n",
      "\n",
      "Sentence: 1 large onion , chopped\n",
      "y: large\n",
      "pred_y: \n",
      "\n",
      "Sentence: 1 large cucumber , peeled , seeded and coarsely chopped\n",
      "y: large\n",
      "pred_y: \n",
      "\n",
      "Sentence: 20 to 30 fresh basil leaves\n",
      "y: leaves\n",
      "pred_y: \n",
      "\n"
     ]
    }
   ],
   "source": [
    "print(\"Unsuccessful Predictions\")\n",
    "print_examples(\"fail\", False, \"unit\", 5)"
   ]
  },
  {
   "cell_type": "code",
   "execution_count": 42,
   "metadata": {},
   "outputs": [
    {
     "name": "stdout",
     "output_type": "stream",
     "text": [
      "Unsuccessful predictions where part of the prediction is correct\n",
      "Sentence: 1 large bunch chamomile or 2 chamomile tea bags\n",
      "y: large bunch\n",
      "pred_y: bunch\n",
      "\n",
      "Sentence: 2 / 3 cup pitted oil cured black olives , halved , or 1 / 2 cup pitted green olives , chopped , or 3 tablespoons capers optional\n",
      "y: cup cup\n",
      "pred_y: cup\n",
      "\n",
      "Sentence: 1 large bunch swiss chard , ribs removed , leaves torn into pieces\n",
      "y: large bunch\n",
      "pred_y: bunch\n",
      "\n",
      "Sentence: 1 inchlong piece of ginger , peeled\n",
      "y: inchlong piece\n",
      "pred_y: piece\n",
      "\n",
      "Sentence: 2 8 ounce packages cream cheese , at room temperature\n",
      "y: 8 ounce packages\n",
      "pred_y: packages\n",
      "\n",
      "Sentence: 1 inch long piece fresh ginger , peeled and slivered\n",
      "y: inch long piece\n",
      "pred_y: piece\n",
      "\n"
     ]
    }
   ],
   "source": [
    "print(\"Unsuccessful predictions where part of the prediction is correct\")\n",
    "print_examples(\"fail\", True, \"unit\", 100)"
   ]
  },
  {
   "cell_type": "code",
   "execution_count": null,
   "metadata": {},
   "outputs": [],
   "source": []
  }
 ],
 "metadata": {
  "kernelspec": {
   "display_name": "Python 3 (ipykernel)",
   "language": "python",
   "name": "python3"
  },
  "language_info": {
   "codemirror_mode": {
    "name": "ipython",
    "version": 3
   },
   "file_extension": ".py",
   "mimetype": "text/x-python",
   "name": "python",
   "nbconvert_exporter": "python",
   "pygments_lexer": "ipython3",
   "version": "3.7.4"
  }
 },
 "nbformat": 4,
 "nbformat_minor": 1
}
